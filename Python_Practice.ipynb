{
  "cells": [
    {
      "cell_type": "code",
      "execution_count": null,
      "metadata": {
        "colab": {
          "base_uri": "https://localhost:8080/"
        },
        "id": "IMEpOZ40CZUk",
        "outputId": "7f78066d-02d4-4515-fc5d-f2d50b3e16ba"
      },
      "outputs": [
        {
          "name": "stdout",
          "output_type": "stream",
          "text": [
            "3\n",
            "0\n",
            "1\n",
            "4\n"
          ]
        }
      ],
      "source": [
        "n = int(input())\n",
        "\n",
        "for i in range(n):\n",
        "    ans = i**2\n",
        "    print(ans)"
      ]
    },
    {
      "cell_type": "code",
      "execution_count": null,
      "metadata": {
        "colab": {
          "base_uri": "https://localhost:8080/"
        },
        "id": "ZIWDr7NgCowb",
        "outputId": "0f11edaf-4178-43d0-e553-b5fc5feb1ba7"
      },
      "outputs": [
        {
          "name": "stdout",
          "output_type": "stream",
          "text": [
            "5\n",
            "2 3 6 6 5\n",
            "2\n"
          ]
        }
      ],
      "source": [
        "from array import array\n",
        "n = int(input())\n",
        "arr = list(map(int, input().split()))\n",
        "\n",
        "\n",
        "unique_score = list(set(arr))\n",
        "unique_score.sort(reverse=True)\n",
        "print(arr[0])"
      ]
    },
    {
      "cell_type": "code",
      "execution_count": null,
      "metadata": {
        "colab": {
          "base_uri": "https://localhost:8080/"
        },
        "id": "ECZQLWY-rTRk",
        "outputId": "16f72227-b899-4e9b-cb39-9668f8efcb3f"
      },
      "outputs": [
        {
          "name": "stdout",
          "output_type": "stream",
          "text": [
            "Enter the number of elements: 5\n",
            "Enter the elements separated by space: 23665\n",
            "Error: The number of elements in the list is less than the specified index.\n"
          ]
        }
      ],
      "source": [
        "n = int(input(\"Enter the number of elements: \"))\n",
        "arr = list(map(int, input(\"Enter the elements separated by space: \").split()))\n",
        "\n",
        "if len(arr) < n:\n",
        "    print(\"Error: The number of elements in the list is less than the specified index.\")\n",
        "else:\n",
        "    arr.sort()\n",
        "    print(arr[n-2])"
      ]
    },
    {
      "cell_type": "code",
      "execution_count": null,
      "metadata": {
        "colab": {
          "base_uri": "https://localhost:8080/"
        },
        "id": "OFkjtgOssm3l",
        "outputId": "0855bb7c-22b9-4cca-8d05-b982767ab552"
      },
      "outputs": [
        {
          "name": "stdout",
          "output_type": "stream",
          "text": [
            "5\n",
            "23665\n",
            "No runner-up score available.\n"
          ]
        }
      ],
      "source": [
        "# Read input\n",
        "n = int(input())\n",
        "scores = list(map(int, input().split()))\n",
        "\n",
        "# Find the unique scores and sort them in descending order\n",
        "unique_scores = list(set(scores))\n",
        "unique_scores.sort(reverse=True)\n",
        "\n",
        "# The runner-up score is the second highest unique score\n",
        "if len(unique_scores) < 2:\n",
        "    print(\"No runner-up score available.\")\n",
        "else:\n",
        "    print(unique_scores[1])\n"
      ]
    },
    {
      "cell_type": "code",
      "execution_count": null,
      "metadata": {
        "id": "YfppvxgxtECf"
      },
      "outputs": [],
      "source": [
        "# Step 1: Read the number of students\n",
        "n = int(input(\"Enter the number of students: \"))\n",
        "\n",
        "# Step 2: Store each student's name and grade in a nested list\n",
        "students = []\n",
        "for _ in range(n):\n",
        "    name = input()\n",
        "    grade = float(input())\n",
        "    students.append([name, grade])\n",
        "\n",
        "# Step 3: Find the second lowest grade\n",
        "grades = sorted(set(student[1] for student in students))\n",
        "second_lowest_grade = grades[1]\n",
        "\n",
        "# Step 4: Extract the names of students with the second lowest grade\n",
        "second_lowest_students = [student[0] for student in students if student[1] == second_lowest_grade]\n",
        "\n",
        "# Step 5: Sort the names alphabetically and print them\n",
        "for name in sorted(second_lowest_students):\n",
        "    print(name)\n",
        "\n",
        "\n",
        "\n",
        "# 5\n",
        "# # Harry\n",
        "# # 37.21\n",
        "# # Berry\n",
        "# # 37.21\n",
        "# # Tina\n",
        "# # 37.2\n",
        "# # Akriti\n",
        "# # 41\n",
        "# # Harsh\n",
        "# # 39\n",
        "\n"
      ]
    },
    {
      "cell_type": "code",
      "execution_count": null,
      "metadata": {
        "id": "z-g_HmZZypo4"
      },
      "outputs": [],
      "source": [
        "if __name__ == '__main__':\n",
        "    n = int(input())\n",
        "    student_marks = {}\n",
        "\n",
        "    # Reading student data\n",
        "    for _ in range(n):\n",
        "        name, *line = input().split()\n",
        "        scores = list(map(float, line))\n",
        "        student_marks[name] = scores\n",
        "\n",
        "    query_name = input()\n",
        "\n",
        "    # Calculating the average marks for the queried student\n",
        "    query_scores = student_marks[query_name]\n",
        "    average_marks = sum(query_scores) / len(query_scores)\n",
        "\n",
        "    # Printing the average marks formatted to 2 decimal places\n",
        "    print(f\"{average_marks:.2f}\")\n",
        "\n",
        "\n",
        "\n",
        "# 3\n",
        "# Krishna 67 68 69\n",
        "# Arjun 70 98 63\n",
        "# Malika 52 56 60\n",
        "# Malika\n"
      ]
    },
    {
      "cell_type": "code",
      "execution_count": null,
      "metadata": {
        "colab": {
          "base_uri": "https://localhost:8080/"
        },
        "id": "dDXpzXNVy8G7",
        "outputId": "dc5b5a83-752d-4088-cd50-a39246e16597"
      },
      "outputs": [
        {
          "name": "stdout",
          "output_type": "stream",
          "text": [
            "2\n",
            "1 2\n",
            "-3550055125485641917\n"
          ]
        }
      ],
      "source": [
        "if __name__ == '__main__':\n",
        "    n = int(input())\n",
        "    integer_list = tuple(map(int, input().split()))\n",
        "\n",
        "    ans = hash(integer_list)\n",
        "    print(ans)"
      ]
    },
    {
      "cell_type": "code",
      "execution_count": null,
      "metadata": {
        "colab": {
          "base_uri": "https://localhost:8080/",
          "height": 211
        },
        "id": "lLJJRk-D82si",
        "outputId": "6bcdba80-7c15-45fa-c32f-7a4f8960d563"
      },
      "outputs": [
        {
          "name": "stdout",
          "output_type": "stream",
          "text": [
            "AlmaBetter\n"
          ]
        },
        {
          "ename": "KeyError",
          "evalue": "'a'",
          "output_type": "error",
          "traceback": [
            "\u001b[0;31m---------------------------------------------------------------------------\u001b[0m",
            "\u001b[0;31mKeyError\u001b[0m                                  Traceback (most recent call last)",
            "\u001b[0;32m<ipython-input-16-db2dc185f32d>\u001b[0m in \u001b[0;36m<cell line: 4>\u001b[0;34m()\u001b[0m\n\u001b[1;32m      4\u001b[0m \u001b[0;32mfor\u001b[0m \u001b[0mword\u001b[0m \u001b[0;32min\u001b[0m \u001b[0mstrng\u001b[0m\u001b[0;34m:\u001b[0m\u001b[0;34m\u001b[0m\u001b[0;34m\u001b[0m\u001b[0m\n\u001b[1;32m      5\u001b[0m     \u001b[0mword\u001b[0m\u001b[0;34m.\u001b[0m\u001b[0mcount\u001b[0m\u001b[0;34m(\u001b[0m\u001b[0mword\u001b[0m\u001b[0;34m)\u001b[0m\u001b[0;34m\u001b[0m\u001b[0;34m\u001b[0m\u001b[0m\n\u001b[0;32m----> 6\u001b[0;31m     \u001b[0mmy_dict\u001b[0m\u001b[0;34m[\u001b[0m\u001b[0mword\u001b[0m\u001b[0;34m]\u001b[0m\u001b[0;34m==\u001b[0m\u001b[0mmy_dict\u001b[0m\u001b[0;34m.\u001b[0m\u001b[0mget\u001b[0m\u001b[0;34m(\u001b[0m\u001b[0mword\u001b[0m\u001b[0;34m,\u001b[0m\u001b[0;36m0\u001b[0m\u001b[0;34m)\u001b[0m\u001b[0;34m+\u001b[0m\u001b[0;36m1\u001b[0m\u001b[0;34m\u001b[0m\u001b[0;34m\u001b[0m\u001b[0m\n\u001b[0m\u001b[1;32m      7\u001b[0m \u001b[0mprint\u001b[0m\u001b[0;34m(\u001b[0m\u001b[0mmy_dict\u001b[0m\u001b[0;34m)\u001b[0m\u001b[0;34m\u001b[0m\u001b[0;34m\u001b[0m\u001b[0m\n",
            "\u001b[0;31mKeyError\u001b[0m: 'a'"
          ]
        }
      ],
      "source": [
        "strng = input()\n",
        "my_dict={}\n",
        "strng = strng.lower()\n",
        "for word in strng:\n",
        "    word.count(word)\n",
        "    my_dict[word]==my_dict.get(word,0)+1\n",
        "print(my_dict)"
      ]
    },
    {
      "cell_type": "code",
      "execution_count": null,
      "metadata": {
        "colab": {
          "base_uri": "https://localhost:8080/"
        },
        "id": "tD-1xjtVHJ52",
        "outputId": "e74864e2-623a-4bf3-9c53-32c7f14aa03f"
      },
      "outputs": [
        {
          "name": "stdout",
          "output_type": "stream",
          "text": [
            "The quick brown fox jumps over the lazy dog.\n",
            "The quick brown fox jumps the\n"
          ]
        }
      ],
      "source": [
        "def is_prime(n):\n",
        "    count = 0\n",
        "    i = 1\n",
        "    while(i<=n):\n",
        "        if n%i==0:\n",
        "            count+=1\n",
        "        i = i+1\n",
        "    if count==2:\n",
        "        return True\n",
        "    else:\n",
        "        return False\n",
        "\n",
        "\n",
        "def prime_importance(sentence):\n",
        "    words = sentence.split()\n",
        "    prime_words = [word for word in words if is_prime(len(word))]\n",
        "\n",
        "    return \" \".join (prime_words)\n",
        "\n",
        "sentence = input()\n",
        "print(prime_importance(sentence))"
      ]
    },
    {
      "cell_type": "markdown",
      "metadata": {
        "id": "DmcHxt3R2B_N"
      },
      "source": [
        "# Write a python program to demonstrare different number data types."
      ]
    },
    {
      "cell_type": "code",
      "execution_count": null,
      "metadata": {
        "colab": {
          "base_uri": "https://localhost:8080/"
        },
        "id": "_vz9XynogSEc",
        "outputId": "92190838-2666-40a7-9ab8-c2a5a345f2e7"
      },
      "outputs": [
        {
          "name": "stdout",
          "output_type": "stream",
          "text": [
            "<class 'int'>\n",
            "<class 'float'>\n",
            "<class 'complex'>\n"
          ]
        }
      ],
      "source": [
        "a = 34\n",
        "b = 8.9\n",
        "c = 34j\n",
        "\n",
        "print(type(a))\n",
        "print(type(b))\n",
        "print(type(c))"
      ]
    },
    {
      "cell_type": "markdown",
      "metadata": {
        "id": "_EMAd5F22lAB"
      },
      "source": [
        "# Write a program to demonstrate different arithmetic operations on numbers in python ."
      ]
    },
    {
      "cell_type": "code",
      "execution_count": null,
      "metadata": {
        "colab": {
          "base_uri": "https://localhost:8080/"
        },
        "id": "kjF3bYpQ2g3R",
        "outputId": "2abe1551-63e1-408b-87ca-f26a47b17dff"
      },
      "outputs": [
        {
          "name": "stdout",
          "output_type": "stream",
          "text": [
            "110\n",
            "-20\n",
            "2925\n",
            "0.6923076923076923\n",
            "0\n",
            "45\n"
          ]
        }
      ],
      "source": [
        "a = 45+65\n",
        "b = 45-65\n",
        "c = 45*65\n",
        "d = 45/65\n",
        "e = 45//65\n",
        "f = 45%65\n",
        "\n",
        "print(a)\n",
        "print(b)\n",
        "print(c)\n",
        "print(d)\n",
        "print(e)\n",
        "print(f)"
      ]
    },
    {
      "cell_type": "markdown",
      "metadata": {
        "id": "JytYb-Mx3Cay"
      },
      "source": [
        "# Write a apython program to create, concatenate and accessing the substring and also print the string"
      ]
    },
    {
      "cell_type": "code",
      "execution_count": null,
      "metadata": {
        "colab": {
          "base_uri": "https://localhost:8080/"
        },
        "id": "TS7ky-kJ26Rt",
        "outputId": "03f7180b-d803-45cf-df50-dabaa9944d8b"
      },
      "outputs": [
        {
          "name": "stdout",
          "output_type": "stream",
          "text": [
            "Siddharh Deshpande\n",
            "Sid\n"
          ]
        }
      ],
      "source": [
        "fname= 'Siddharh'\n",
        "\n",
        "lname = 'Deshpande'\n",
        "\n",
        "full_name = fname + ' ' + lname\n",
        "\n",
        "print(full_name)\n",
        "\n",
        "sub_string = full_name[0:3]\n",
        "print(sub_string)"
      ]
    },
    {
      "cell_type": "code",
      "execution_count": null,
      "metadata": {
        "colab": {
          "base_uri": "https://localhost:8080/"
        },
        "id": "UuALGMAt3uNN",
        "outputId": "2cbb0cbe-bd10-4fa1-9850-80b6598ba1b3"
      },
      "outputs": [
        {
          "name": "stdout",
          "output_type": "stream",
          "text": [
            "5\n",
            " \n",
            "*  \n",
            "* *  \n",
            "* * *  \n",
            "* * * *  \n",
            "* * * * *  \n",
            "* * * *  \n",
            "* * *  \n",
            "* *  \n",
            "*  \n"
          ]
        }
      ],
      "source": [
        "n = int(input())\n",
        "\n",
        "for i in range(n):\n",
        "  for j in range(i):\n",
        "    print(\"* \",end =\"\")\n",
        "\n",
        "  print(\" \")\n",
        "\n",
        "for i in range(n,0,-1):\n",
        "  for j in range(i):\n",
        "    print(\"* \",end =\"\")\n",
        "  print(\" \")"
      ]
    },
    {
      "cell_type": "markdown",
      "metadata": {
        "id": "shXrLJ7-5o3y"
      },
      "source": [
        "# Prime numbers between specified range"
      ]
    },
    {
      "cell_type": "code",
      "execution_count": null,
      "metadata": {
        "colab": {
          "base_uri": "https://localhost:8080/"
        },
        "id": "TTHqVpFu5ZkT",
        "outputId": "f3c9a12d-633f-4bc2-8b07-db43de194f00"
      },
      "outputs": [
        {
          "name": "stdout",
          "output_type": "stream",
          "text": [
            "Enter the lower range: 10\n",
            "Enter the upper range: 100\n",
            "11\n",
            "13\n",
            "17\n",
            "19\n",
            "23\n",
            "29\n",
            "31\n",
            "37\n",
            "41\n",
            "43\n",
            "47\n",
            "53\n",
            "59\n",
            "61\n",
            "67\n",
            "71\n",
            "73\n",
            "79\n",
            "83\n",
            "89\n",
            "97\n"
          ]
        }
      ],
      "source": [
        "lower_range = int(input(\"Enter the lower range: \"))\n",
        "upper_range = int(input(\"Enter the upper range: \"))\n",
        "\n",
        "for num in range(lower_range, upper_range + 1):\n",
        "    if num > 1:\n",
        "        for i in range(2, num):\n",
        "            if (num % i) == 0:\n",
        "                break\n",
        "        else:\n",
        "            print(num)"
      ]
    },
    {
      "cell_type": "markdown",
      "metadata": {
        "id": "SYdFI_Uz9khH"
      },
      "source": [
        "# given an un sorted integers list of numbers,\n",
        "# return the first missing positive integers\n",
        "# i/p [1,3,-5,0,2,-1]\n",
        "# o/p 4"
      ]
    },
    {
      "cell_type": "code",
      "execution_count": null,
      "metadata": {
        "colab": {
          "base_uri": "https://localhost:8080/"
        },
        "id": "VmYV2GZD5_re",
        "outputId": "3930061c-2e39-4623-f87d-7c469dc8d00c"
      },
      "outputs": [
        {
          "name": "stdout",
          "output_type": "stream",
          "text": [
            "4\n"
          ]
        }
      ],
      "source": [
        "def first_missing_positive(nums):\n",
        "    n = len(nums)\n",
        "\n",
        "    for i in range(n):\n",
        "        while 1 <= nums[i] <= n and nums[nums[i] - 1] != nums[i]:\n",
        "            nums[nums[i] - 1], nums[i] = nums[i], nums[nums[i] - 1]\n",
        "\n",
        "    for i in range(n):\n",
        "        if nums[i] != i + 1:\n",
        "            return i + 1\n",
        "\n",
        "    return n + 1\n",
        "\n",
        "# Example usage\n",
        "nums = [1, 3, -5, 0, 2, -1]\n",
        "print(first_missing_positive(nums))"
      ]
    },
    {
      "cell_type": "code",
      "execution_count": null,
      "metadata": {
        "colab": {
          "base_uri": "https://localhost:8080/"
        },
        "id": "5UDQEodv9xn-",
        "outputId": "fe0e1f79-0537-4a0a-b738-580219140e9c"
      },
      "outputs": [
        {
          "name": "stdout",
          "output_type": "stream",
          "text": [
            "1\n"
          ]
        }
      ],
      "source": [
        "strng = 'The quick brown fox jumps over the lazy dog'\n",
        "final = strng.count('the')\n",
        "print(final)"
      ]
    },
    {
      "cell_type": "code",
      "execution_count": null,
      "metadata": {
        "colab": {
          "base_uri": "https://localhost:8080/"
        },
        "id": "ga7FNUN-m_NE",
        "outputId": "38a357b1-9845-46d1-8289-12b61383df3c"
      },
      "outputs": [
        {
          "name": "stdout",
          "output_type": "stream",
          "text": [
            "2\n"
          ]
        }
      ],
      "source": [
        "strng = 'The quick brown fox jumps over the lazy dog'\n",
        "final = strng.lower().count('the')\n",
        "print(final)"
      ]
    },
    {
      "cell_type": "code",
      "execution_count": null,
      "metadata": {
        "colab": {
          "base_uri": "https://localhost:8080/"
        },
        "id": "JmqZxULCnTpD",
        "outputId": "6445ca49-8d34-4728-f5b4-18d34ad2d386"
      },
      "outputs": [
        {
          "name": "stdout",
          "output_type": "stream",
          "text": [
            "2\n"
          ]
        }
      ],
      "source": [
        "strng = 'The quick brown fox jumps over the lazy dog'\n",
        "strng = strng.lower()  # Convert to lowercase to match case insensitively\n",
        "\n",
        "words = strng.split()  # Split the string into words\n",
        "\n",
        "count = 0\n",
        "for word in words:\n",
        "    if word == 'the':\n",
        "        count += 1\n",
        "\n",
        "print(count)\n"
      ]
    },
    {
      "cell_type": "code",
      "execution_count": null,
      "metadata": {
        "colab": {
          "base_uri": "https://localhost:8080/",
          "height": 300
        },
        "id": "UuXE9DyklUQI",
        "outputId": "844abcb8-f4fb-4288-ece8-f235a8100d00"
      },
      "outputs": [
        {
          "data": {
            "application/vnd.google.colaboratory.intrinsic+json": {
              "summary": "{\n  \"name\": \"df\",\n  \"rows\": 8,\n  \"fields\": [\n    {\n      \"column\": \"a\",\n      \"properties\": {\n        \"dtype\": \"number\",\n        \"std\": 0,\n        \"min\": 1,\n        \"max\": 4,\n        \"num_unique_values\": 4,\n        \"samples\": [\n          2,\n          4,\n          1\n        ],\n        \"semantic_type\": \"\",\n        \"description\": \"\"\n      }\n    },\n    {\n      \"column\": \"b\",\n      \"properties\": {\n        \"dtype\": \"number\",\n        \"std\": 1.9407902170679516,\n        \"min\": 3.0,\n        \"max\": 8.0,\n        \"num_unique_values\": 5,\n        \"samples\": [\n          6.0,\n          4.0,\n          8.0\n        ],\n        \"semantic_type\": \"\",\n        \"description\": \"\"\n      }\n    }\n  ]\n}",
              "type": "dataframe",
              "variable_name": "df"
            },
            "text/html": [
              "\n",
              "  <div id=\"df-1e567046-6e36-4679-8868-5193e274eb83\" class=\"colab-df-container\">\n",
              "    <div>\n",
              "<style scoped>\n",
              "    .dataframe tbody tr th:only-of-type {\n",
              "        vertical-align: middle;\n",
              "    }\n",
              "\n",
              "    .dataframe tbody tr th {\n",
              "        vertical-align: top;\n",
              "    }\n",
              "\n",
              "    .dataframe thead th {\n",
              "        text-align: right;\n",
              "    }\n",
              "</style>\n",
              "<table border=\"1\" class=\"dataframe\">\n",
              "  <thead>\n",
              "    <tr style=\"text-align: right;\">\n",
              "      <th></th>\n",
              "      <th>a</th>\n",
              "      <th>b</th>\n",
              "    </tr>\n",
              "  </thead>\n",
              "  <tbody>\n",
              "    <tr>\n",
              "      <th>0</th>\n",
              "      <td>1</td>\n",
              "      <td>5.0</td>\n",
              "    </tr>\n",
              "    <tr>\n",
              "      <th>1</th>\n",
              "      <td>2</td>\n",
              "      <td>6.0</td>\n",
              "    </tr>\n",
              "    <tr>\n",
              "      <th>2</th>\n",
              "      <td>2</td>\n",
              "      <td>NaN</td>\n",
              "    </tr>\n",
              "    <tr>\n",
              "      <th>3</th>\n",
              "      <td>2</td>\n",
              "      <td>8.0</td>\n",
              "    </tr>\n",
              "    <tr>\n",
              "      <th>4</th>\n",
              "      <td>3</td>\n",
              "      <td>3.0</td>\n",
              "    </tr>\n",
              "    <tr>\n",
              "      <th>5</th>\n",
              "      <td>3</td>\n",
              "      <td>3.0</td>\n",
              "    </tr>\n",
              "    <tr>\n",
              "      <th>6</th>\n",
              "      <td>3</td>\n",
              "      <td>NaN</td>\n",
              "    </tr>\n",
              "    <tr>\n",
              "      <th>7</th>\n",
              "      <td>4</td>\n",
              "      <td>4.0</td>\n",
              "    </tr>\n",
              "  </tbody>\n",
              "</table>\n",
              "</div>\n",
              "    <div class=\"colab-df-buttons\">\n",
              "\n",
              "  <div class=\"colab-df-container\">\n",
              "    <button class=\"colab-df-convert\" onclick=\"convertToInteractive('df-1e567046-6e36-4679-8868-5193e274eb83')\"\n",
              "            title=\"Convert this dataframe to an interactive table.\"\n",
              "            style=\"display:none;\">\n",
              "\n",
              "  <svg xmlns=\"http://www.w3.org/2000/svg\" height=\"24px\" viewBox=\"0 -960 960 960\">\n",
              "    <path d=\"M120-120v-720h720v720H120Zm60-500h600v-160H180v160Zm220 220h160v-160H400v160Zm0 220h160v-160H400v160ZM180-400h160v-160H180v160Zm440 0h160v-160H620v160ZM180-180h160v-160H180v160Zm440 0h160v-160H620v160Z\"/>\n",
              "  </svg>\n",
              "    </button>\n",
              "\n",
              "  <style>\n",
              "    .colab-df-container {\n",
              "      display:flex;\n",
              "      gap: 12px;\n",
              "    }\n",
              "\n",
              "    .colab-df-convert {\n",
              "      background-color: #E8F0FE;\n",
              "      border: none;\n",
              "      border-radius: 50%;\n",
              "      cursor: pointer;\n",
              "      display: none;\n",
              "      fill: #1967D2;\n",
              "      height: 32px;\n",
              "      padding: 0 0 0 0;\n",
              "      width: 32px;\n",
              "    }\n",
              "\n",
              "    .colab-df-convert:hover {\n",
              "      background-color: #E2EBFA;\n",
              "      box-shadow: 0px 1px 2px rgba(60, 64, 67, 0.3), 0px 1px 3px 1px rgba(60, 64, 67, 0.15);\n",
              "      fill: #174EA6;\n",
              "    }\n",
              "\n",
              "    .colab-df-buttons div {\n",
              "      margin-bottom: 4px;\n",
              "    }\n",
              "\n",
              "    [theme=dark] .colab-df-convert {\n",
              "      background-color: #3B4455;\n",
              "      fill: #D2E3FC;\n",
              "    }\n",
              "\n",
              "    [theme=dark] .colab-df-convert:hover {\n",
              "      background-color: #434B5C;\n",
              "      box-shadow: 0px 1px 3px 1px rgba(0, 0, 0, 0.15);\n",
              "      filter: drop-shadow(0px 1px 2px rgba(0, 0, 0, 0.3));\n",
              "      fill: #FFFFFF;\n",
              "    }\n",
              "  </style>\n",
              "\n",
              "    <script>\n",
              "      const buttonEl =\n",
              "        document.querySelector('#df-1e567046-6e36-4679-8868-5193e274eb83 button.colab-df-convert');\n",
              "      buttonEl.style.display =\n",
              "        google.colab.kernel.accessAllowed ? 'block' : 'none';\n",
              "\n",
              "      async function convertToInteractive(key) {\n",
              "        const element = document.querySelector('#df-1e567046-6e36-4679-8868-5193e274eb83');\n",
              "        const dataTable =\n",
              "          await google.colab.kernel.invokeFunction('convertToInteractive',\n",
              "                                                    [key], {});\n",
              "        if (!dataTable) return;\n",
              "\n",
              "        const docLinkHtml = 'Like what you see? Visit the ' +\n",
              "          '<a target=\"_blank\" href=https://colab.research.google.com/notebooks/data_table.ipynb>data table notebook</a>'\n",
              "          + ' to learn more about interactive tables.';\n",
              "        element.innerHTML = '';\n",
              "        dataTable['output_type'] = 'display_data';\n",
              "        await google.colab.output.renderOutput(dataTable, element);\n",
              "        const docLink = document.createElement('div');\n",
              "        docLink.innerHTML = docLinkHtml;\n",
              "        element.appendChild(docLink);\n",
              "      }\n",
              "    </script>\n",
              "  </div>\n",
              "\n",
              "\n",
              "<div id=\"df-898bba82-c7f4-48ca-9f97-13ac0373fe3e\">\n",
              "  <button class=\"colab-df-quickchart\" onclick=\"quickchart('df-898bba82-c7f4-48ca-9f97-13ac0373fe3e')\"\n",
              "            title=\"Suggest charts\"\n",
              "            style=\"display:none;\">\n",
              "\n",
              "<svg xmlns=\"http://www.w3.org/2000/svg\" height=\"24px\"viewBox=\"0 0 24 24\"\n",
              "     width=\"24px\">\n",
              "    <g>\n",
              "        <path d=\"M19 3H5c-1.1 0-2 .9-2 2v14c0 1.1.9 2 2 2h14c1.1 0 2-.9 2-2V5c0-1.1-.9-2-2-2zM9 17H7v-7h2v7zm4 0h-2V7h2v10zm4 0h-2v-4h2v4z\"/>\n",
              "    </g>\n",
              "</svg>\n",
              "  </button>\n",
              "\n",
              "<style>\n",
              "  .colab-df-quickchart {\n",
              "      --bg-color: #E8F0FE;\n",
              "      --fill-color: #1967D2;\n",
              "      --hover-bg-color: #E2EBFA;\n",
              "      --hover-fill-color: #174EA6;\n",
              "      --disabled-fill-color: #AAA;\n",
              "      --disabled-bg-color: #DDD;\n",
              "  }\n",
              "\n",
              "  [theme=dark] .colab-df-quickchart {\n",
              "      --bg-color: #3B4455;\n",
              "      --fill-color: #D2E3FC;\n",
              "      --hover-bg-color: #434B5C;\n",
              "      --hover-fill-color: #FFFFFF;\n",
              "      --disabled-bg-color: #3B4455;\n",
              "      --disabled-fill-color: #666;\n",
              "  }\n",
              "\n",
              "  .colab-df-quickchart {\n",
              "    background-color: var(--bg-color);\n",
              "    border: none;\n",
              "    border-radius: 50%;\n",
              "    cursor: pointer;\n",
              "    display: none;\n",
              "    fill: var(--fill-color);\n",
              "    height: 32px;\n",
              "    padding: 0;\n",
              "    width: 32px;\n",
              "  }\n",
              "\n",
              "  .colab-df-quickchart:hover {\n",
              "    background-color: var(--hover-bg-color);\n",
              "    box-shadow: 0 1px 2px rgba(60, 64, 67, 0.3), 0 1px 3px 1px rgba(60, 64, 67, 0.15);\n",
              "    fill: var(--button-hover-fill-color);\n",
              "  }\n",
              "\n",
              "  .colab-df-quickchart-complete:disabled,\n",
              "  .colab-df-quickchart-complete:disabled:hover {\n",
              "    background-color: var(--disabled-bg-color);\n",
              "    fill: var(--disabled-fill-color);\n",
              "    box-shadow: none;\n",
              "  }\n",
              "\n",
              "  .colab-df-spinner {\n",
              "    border: 2px solid var(--fill-color);\n",
              "    border-color: transparent;\n",
              "    border-bottom-color: var(--fill-color);\n",
              "    animation:\n",
              "      spin 1s steps(1) infinite;\n",
              "  }\n",
              "\n",
              "  @keyframes spin {\n",
              "    0% {\n",
              "      border-color: transparent;\n",
              "      border-bottom-color: var(--fill-color);\n",
              "      border-left-color: var(--fill-color);\n",
              "    }\n",
              "    20% {\n",
              "      border-color: transparent;\n",
              "      border-left-color: var(--fill-color);\n",
              "      border-top-color: var(--fill-color);\n",
              "    }\n",
              "    30% {\n",
              "      border-color: transparent;\n",
              "      border-left-color: var(--fill-color);\n",
              "      border-top-color: var(--fill-color);\n",
              "      border-right-color: var(--fill-color);\n",
              "    }\n",
              "    40% {\n",
              "      border-color: transparent;\n",
              "      border-right-color: var(--fill-color);\n",
              "      border-top-color: var(--fill-color);\n",
              "    }\n",
              "    60% {\n",
              "      border-color: transparent;\n",
              "      border-right-color: var(--fill-color);\n",
              "    }\n",
              "    80% {\n",
              "      border-color: transparent;\n",
              "      border-right-color: var(--fill-color);\n",
              "      border-bottom-color: var(--fill-color);\n",
              "    }\n",
              "    90% {\n",
              "      border-color: transparent;\n",
              "      border-bottom-color: var(--fill-color);\n",
              "    }\n",
              "  }\n",
              "</style>\n",
              "\n",
              "  <script>\n",
              "    async function quickchart(key) {\n",
              "      const quickchartButtonEl =\n",
              "        document.querySelector('#' + key + ' button');\n",
              "      quickchartButtonEl.disabled = true;  // To prevent multiple clicks.\n",
              "      quickchartButtonEl.classList.add('colab-df-spinner');\n",
              "      try {\n",
              "        const charts = await google.colab.kernel.invokeFunction(\n",
              "            'suggestCharts', [key], {});\n",
              "      } catch (error) {\n",
              "        console.error('Error during call to suggestCharts:', error);\n",
              "      }\n",
              "      quickchartButtonEl.classList.remove('colab-df-spinner');\n",
              "      quickchartButtonEl.classList.add('colab-df-quickchart-complete');\n",
              "    }\n",
              "    (() => {\n",
              "      let quickchartButtonEl =\n",
              "        document.querySelector('#df-898bba82-c7f4-48ca-9f97-13ac0373fe3e button');\n",
              "      quickchartButtonEl.style.display =\n",
              "        google.colab.kernel.accessAllowed ? 'block' : 'none';\n",
              "    })();\n",
              "  </script>\n",
              "</div>\n",
              "\n",
              "  <div id=\"id_663002d2-23b6-42fb-b89f-12a9b375b954\">\n",
              "    <style>\n",
              "      .colab-df-generate {\n",
              "        background-color: #E8F0FE;\n",
              "        border: none;\n",
              "        border-radius: 50%;\n",
              "        cursor: pointer;\n",
              "        display: none;\n",
              "        fill: #1967D2;\n",
              "        height: 32px;\n",
              "        padding: 0 0 0 0;\n",
              "        width: 32px;\n",
              "      }\n",
              "\n",
              "      .colab-df-generate:hover {\n",
              "        background-color: #E2EBFA;\n",
              "        box-shadow: 0px 1px 2px rgba(60, 64, 67, 0.3), 0px 1px 3px 1px rgba(60, 64, 67, 0.15);\n",
              "        fill: #174EA6;\n",
              "      }\n",
              "\n",
              "      [theme=dark] .colab-df-generate {\n",
              "        background-color: #3B4455;\n",
              "        fill: #D2E3FC;\n",
              "      }\n",
              "\n",
              "      [theme=dark] .colab-df-generate:hover {\n",
              "        background-color: #434B5C;\n",
              "        box-shadow: 0px 1px 3px 1px rgba(0, 0, 0, 0.15);\n",
              "        filter: drop-shadow(0px 1px 2px rgba(0, 0, 0, 0.3));\n",
              "        fill: #FFFFFF;\n",
              "      }\n",
              "    </style>\n",
              "    <button class=\"colab-df-generate\" onclick=\"generateWithVariable('df')\"\n",
              "            title=\"Generate code using this dataframe.\"\n",
              "            style=\"display:none;\">\n",
              "\n",
              "  <svg xmlns=\"http://www.w3.org/2000/svg\" height=\"24px\"viewBox=\"0 0 24 24\"\n",
              "       width=\"24px\">\n",
              "    <path d=\"M7,19H8.4L18.45,9,17,7.55,7,17.6ZM5,21V16.75L18.45,3.32a2,2,0,0,1,2.83,0l1.4,1.43a1.91,1.91,0,0,1,.58,1.4,1.91,1.91,0,0,1-.58,1.4L9.25,21ZM18.45,9,17,7.55Zm-12,3A5.31,5.31,0,0,0,4.9,8.1,5.31,5.31,0,0,0,1,6.5,5.31,5.31,0,0,0,4.9,4.9,5.31,5.31,0,0,0,6.5,1,5.31,5.31,0,0,0,8.1,4.9,5.31,5.31,0,0,0,12,6.5,5.46,5.46,0,0,0,6.5,12Z\"/>\n",
              "  </svg>\n",
              "    </button>\n",
              "    <script>\n",
              "      (() => {\n",
              "      const buttonEl =\n",
              "        document.querySelector('#id_663002d2-23b6-42fb-b89f-12a9b375b954 button.colab-df-generate');\n",
              "      buttonEl.style.display =\n",
              "        google.colab.kernel.accessAllowed ? 'block' : 'none';\n",
              "\n",
              "      buttonEl.onclick = () => {\n",
              "        google.colab.notebook.generateWithVariable('df');\n",
              "      }\n",
              "      })();\n",
              "    </script>\n",
              "  </div>\n",
              "\n",
              "    </div>\n",
              "  </div>\n"
            ],
            "text/plain": [
              "   a    b\n",
              "0  1  5.0\n",
              "1  2  6.0\n",
              "2  2  NaN\n",
              "3  2  8.0\n",
              "4  3  3.0\n",
              "5  3  3.0\n",
              "6  3  NaN\n",
              "7  4  4.0"
            ]
          },
          "execution_count": 5,
          "metadata": {},
          "output_type": "execute_result"
        }
      ],
      "source": [
        "import pandas as pd\n",
        "import numpy as np\n",
        "\n",
        "# Creating the DataFrame\n",
        "data = {\n",
        "    'a': [1, 2, 2, 2, 3, 3, 3, 4],\n",
        "    'b': [5.0, 6.0, np.nan, 8.0, 3.0, 3.0, np.nan, 4.0]\n",
        "}\n",
        "df = pd.DataFrame(data)\n",
        "df"
      ]
    },
    {
      "cell_type": "code",
      "execution_count": null,
      "metadata": {
        "colab": {
          "base_uri": "https://localhost:8080/"
        },
        "id": "W9PGlewopAyo",
        "outputId": "5150ce4e-ba03-4f83-f840-9283f25c6bea"
      },
      "outputs": [
        {
          "name": "stdout",
          "output_type": "stream",
          "text": [
            "   a    b\n",
            "0  1  5.0\n",
            "1  2  6.0\n",
            "2  2  7.0\n",
            "3  2  8.0\n",
            "4  3  3.0\n",
            "5  3  3.0\n",
            "6  3  3.0\n",
            "7  4  4.0\n"
          ]
        }
      ],
      "source": [
        "\n",
        "# Function to fill NaN values with the mean of corresponding 'a' values\n",
        "def fill_nan_with_mean(df):\n",
        "    # Iterate over each unique value in column 'a'\n",
        "    for value in df['a'].unique():\n",
        "        # Calculate the mean of 'b' for the current 'a' value, ignoring NaNs\n",
        "        mean_value = df.loc[df['a'] == value, 'b'].mean()\n",
        "        # Fill NaNs in 'b' where 'a' is the current value with the calculated mean\n",
        "        df.loc[(df['a'] == value) & (df['b'].isna()), 'b'] = mean_value\n",
        "    return df\n",
        "\n",
        "# Applying the function to the DataFrame\n",
        "df = fill_nan_with_mean(df)\n",
        "\n",
        "# Displaying the updated DataFrame\n",
        "print(df)"
      ]
    },
    {
      "cell_type": "code",
      "execution_count": null,
      "metadata": {
        "colab": {
          "base_uri": "https://localhost:8080/"
        },
        "id": "4w6wbJRpi0Ip",
        "outputId": "df90ee32-1527-455a-d035-fb5c8b14561d"
      },
      "outputs": [
        {
          "name": "stdout",
          "output_type": "stream",
          "text": [
            "   a    b\n",
            "0  1  5.0\n",
            "1  2  6.0\n",
            "2  2  7.0\n",
            "3  2  8.0\n",
            "4  3  3.0\n",
            "5  3  3.0\n",
            "6  3  3.0\n",
            "7  4  4.0\n"
          ]
        }
      ],
      "source": [
        "# Group by 'a' and transform 'b' to fill NaN values with the mean of the group\n",
        "df['b'] = df.groupby('a')['b'].transform(lambda x: x.fillna(x.mean()))\n",
        "\n",
        "# Display the updated DataFrame\n",
        "print(df)"
      ]
    },
    {
      "cell_type": "code",
      "execution_count": null,
      "metadata": {
        "colab": {
          "base_uri": "https://localhost:8080/"
        },
        "id": "BVlx6FXcl0Ob",
        "outputId": "c449aedf-b98c-4b6c-ede0-edb3647b8fbe"
      },
      "outputs": [
        {
          "data": {
            "text/plain": [
              "{'a': 1, 'b': 2, 'c': 1}"
            ]
          },
          "execution_count": 2,
          "metadata": {},
          "output_type": "execute_result"
        }
      ],
      "source": [
        "my_dict = {'a':1,'b':2,'c':1}\n",
        "my_dict"
      ]
    },
    {
      "cell_type": "code",
      "execution_count": null,
      "metadata": {
        "id": "RmpRMs8gfUQD"
      },
      "outputs": [],
      "source": [
        "new_dict = {}\n",
        "for key,value in my_dict.items():\n",
        "    if value not in new_dict:\n",
        "        new_dict[value] = [key]\n",
        "    else:\n",
        "        new_dict[value].append(key)"
      ]
    },
    {
      "cell_type": "code",
      "execution_count": null,
      "metadata": {
        "colab": {
          "base_uri": "https://localhost:8080/"
        },
        "id": "EVSozrEPfhoB",
        "outputId": "30685c5c-792e-4b0b-b08b-ee8210895395"
      },
      "outputs": [
        {
          "data": {
            "text/plain": [
              "{1: ['a', 'c'], 2: ['b']}"
            ]
          },
          "execution_count": 4,
          "metadata": {},
          "output_type": "execute_result"
        }
      ],
      "source": [
        "new_dict"
      ]
    },
    {
      "cell_type": "code",
      "execution_count": null,
      "metadata": {
        "colab": {
          "base_uri": "https://localhost:8080/"
        },
        "id": "oDG13MiVfjLc",
        "outputId": "e206a069-ff0e-411a-f521-a2de0775256a"
      },
      "outputs": [
        {
          "name": "stdout",
          "output_type": "stream",
          "text": [
            "False\n"
          ]
        }
      ],
      "source": [
        "print(min(max(False, -3, -4), 2,7))"
      ]
    },
    {
      "cell_type": "markdown",
      "metadata": {
        "id": "H-OpDVfdC7ES"
      },
      "source": [
        "1. Replace all occurrences of 'xy' with 'yyx' untill there is not a single occurrence of 'xy' throughout the string.\n",
        "2. Create a numpy array of 5 elements for expenses for 5 years. Create another numpy array to store 5 revenues for 5 years. Calculate and store the profit (revenue - expense) in the final numpy array and display the array.\n",
        "3. Write a python program to print all Armstrong numbers within a given inputted range. See Google to know what is an Armstrong number.\n",
        "4. Write a python program to print the substring of length 2 characters, which has the highest number of occurring frequency in the string.\n",
        "5. Input a string from user. Input a substring from user. Find how many times the substring is present in the string.\n",
        "\n",
        "SQL :\n",
        "1. Inner, left, right, outer joins.\n",
        "2. Date and time functions.\n",
        "3. Round function and float formatting.\n",
        "4. Aggregate function and window functions.\n",
        "5. Imp : Group by clause, like clause, regexp clause.\n",
        "6. Understand queries with aggregate function and group by in same query."
      ]
    },
    {
      "cell_type": "code",
      "execution_count": null,
      "metadata": {
        "colab": {
          "base_uri": "https://localhost:8080/"
        },
        "id": "5nCCIY2VHlCl",
        "outputId": "8af95865-7277-471b-e3f5-08e6866740dc"
      },
      "outputs": [
        {
          "name": "stdout",
          "output_type": "stream",
          "text": [
            "xyyxyxxy\n",
            "yyxyyyxxyyx\n",
            "yyyyxyyxyyxyx\n",
            "yyyyyyxyyyxyyyxx\n",
            "yyyyyyyyxyyyyxyyxx\n",
            "yyyyyyyyyyxyyyyyxyxx\n",
            "yyyyyyyyyyyyxyyyyyyxxx\n",
            "yyyyyyyyyyyyyyxyyyyyxxx\n",
            "yyyyyyyyyyyyyyyyxyyyyxxx\n",
            "yyyyyyyyyyyyyyyyyyxyyyxxx\n",
            "yyyyyyyyyyyyyyyyyyyyxyyxxx\n",
            "yyyyyyyyyyyyyyyyyyyyyyxyxxx\n",
            "yyyyyyyyyyyyyyyyyyyyyyyyxxxx\n"
          ]
        }
      ],
      "source": [
        "#1\n",
        "strng = input()\n",
        "while 'xy' in strng:\n",
        "    strng = strng.replace('xy','yyx')\n",
        "    print(strng)"
      ]
    },
    {
      "cell_type": "code",
      "execution_count": null,
      "metadata": {
        "colab": {
          "base_uri": "https://localhost:8080/"
        },
        "id": "b1E4o1gjDfw1",
        "outputId": "289c8f00-efe4-40f6-a2b8-797a4dec99f0"
      },
      "outputs": [
        {
          "name": "stdout",
          "output_type": "stream",
          "text": [
            "[ 4322  9000 10000  9112  2403]\n"
          ]
        }
      ],
      "source": [
        "#2.\n",
        "import numpy as np\n",
        "expenses = np.array([5678,6000,10000,8888,9819])\n",
        "revenue = np.array([10000,15000,20000,18000,12222])\n",
        "final = revenue-expenses\n",
        "print(final)"
      ]
    },
    {
      "cell_type": "code",
      "execution_count": null,
      "metadata": {
        "colab": {
          "base_uri": "https://localhost:8080/"
        },
        "id": "E_-KDKX0GFDU",
        "outputId": "9e6fdeb0-1b65-491e-b649-5ffd5f5ffea1"
      },
      "outputs": [
        {
          "name": "stdout",
          "output_type": "stream",
          "text": [
            "200\n",
            "600\n",
            "370\n",
            "371\n",
            "407\n"
          ]
        }
      ],
      "source": [
        "#3\n",
        "\n",
        "def is_armstrong(num):\n",
        "    sum = 0\n",
        "    temp = num\n",
        "    while temp > 0:\n",
        "        digit = temp % 10\n",
        "        sum += digit ** 3\n",
        "        temp //= 10\n",
        "    return sum == num\n",
        "\n",
        "a = int(input())\n",
        "b = int(input())\n",
        "\n",
        "for num in range(a, b + 1):\n",
        "    if is_armstrong(num):\n",
        "        print(num)"
      ]
    },
    {
      "cell_type": "code",
      "execution_count": null,
      "metadata": {
        "colab": {
          "base_uri": "https://localhost:8080/"
        },
        "id": "MQvQUeOSJs4J",
        "outputId": "34b87800-f387-44a8-fae8-9bc494ba877f"
      },
      "outputs": [
        {
          "name": "stdout",
          "output_type": "stream",
          "text": [
            "The substring of length 2 with the highest frequency is 'ab' with a frequency of 3\n"
          ]
        }
      ],
      "source": [
        "#4\n",
        "def most_frequent_substring(s):\n",
        "    # Generate all possible substrings of length 2\n",
        "    n = len(s)\n",
        "    max_count = 0\n",
        "    most_frequent = ''\n",
        "\n",
        "    # Iterate through each possible substring of length 2\n",
        "    for i in range(n - 1):\n",
        "        current_substring = s[i:i+2]\n",
        "        count = 0\n",
        "\n",
        "        # Count occurrences of the current substring\n",
        "        for j in range(n - 1):\n",
        "            if s[j:j+2] == current_substring:\n",
        "                count += 1\n",
        "\n",
        "        # Update most frequent substring if necessary\n",
        "        if count > max_count:\n",
        "            max_count = count\n",
        "            most_frequent = current_substring\n",
        "\n",
        "    return most_frequent, max_count\n",
        "\n",
        "# Example usage\n",
        "string = \"ababcbabc\"\n",
        "result = most_frequent_substring(string)\n",
        "print(f\"The substring of length 2 with the highest frequency is '{result[0]}' with a frequency of {result[1]}\")\n"
      ]
    },
    {
      "cell_type": "code",
      "execution_count": null,
      "metadata": {
        "colab": {
          "base_uri": "https://localhost:8080/"
        },
        "id": "5VSOtlV6dJ0B",
        "outputId": "1d22f0d7-bafa-498f-e24e-9002d5115d3e"
      },
      "outputs": [
        {
          "name": "stdout",
          "output_type": "stream",
          "text": [
            "abcbacabcbbbab\n",
            "ab\n",
            "3\n"
          ]
        }
      ],
      "source": [
        "#5\n",
        "string = input()\n",
        "substring = input()\n",
        "count = string.count(substring)\n",
        "print(count)"
      ]
    },
    {
      "cell_type": "code",
      "execution_count": null,
      "metadata": {
        "colab": {
          "base_uri": "https://localhost:8080/"
        },
        "id": "lRFHZbXFp0wC",
        "outputId": "1e952bf3-9c94-4994-8091-084f783b7286"
      },
      "outputs": [
        {
          "name": "stdout",
          "output_type": "stream",
          "text": [
            "Enter a string: siddharth deshpande\n",
            "String after removing duplicates: sidhart epn\n"
          ]
        }
      ],
      "source": [
        "def remove_duplicates(s):\n",
        "    seen = set()\n",
        "    result = []\n",
        "\n",
        "    for char in s:\n",
        "        if char not in seen:\n",
        "            seen.add(char)\n",
        "            result.append(char)\n",
        "\n",
        "    return ''.join(result)\n",
        "\n",
        "# Example usage\n",
        "input_string = input(\"Enter a string: \")\n",
        "output_string = remove_duplicates(input_string)\n",
        "print(\"String after removing duplicates:\", output_string)"
      ]
    },
    {
      "cell_type": "markdown",
      "metadata": {
        "id": "TTEevqHlOJWD"
      },
      "source": [
        "# Write a python progrm to return common letters bewtwwn 2 strings"
      ]
    },
    {
      "cell_type": "code",
      "execution_count": null,
      "metadata": {
        "colab": {
          "base_uri": "https://localhost:8080/"
        },
        "id": "F2Mi6vmL3W5d",
        "outputId": "fc06a930-53a8-4ef1-db66-472c0c6cde02"
      },
      "outputs": [
        {
          "name": "stdout",
          "output_type": "stream",
          "text": [
            "Parth\n",
            "Siddharth\n",
            "{'r', 't', 'a', 'h'}\n"
          ]
        }
      ],
      "source": [
        "strng1 = input()\n",
        "strng2 = input()\n",
        "\n",
        "strng1 = strng1.lower()\n",
        "strng2 = strng2.lower()\n",
        "\n",
        "new_str = set(strng1)\n",
        "new_str2 = set(strng2)\n",
        "\n",
        "final_output = new_str.intersection(new_str2)\n",
        "print(final_output)"
      ]
    },
    {
      "cell_type": "markdown",
      "metadata": {
        "id": "dqiWkgwvPpE5"
      },
      "source": [
        "# count frequency of words in a string"
      ]
    },
    {
      "cell_type": "code",
      "execution_count": null,
      "metadata": {
        "colab": {
          "base_uri": "https://localhost:8080/"
        },
        "id": "WROnPwFpOqGj",
        "outputId": "a8547882-6089-4de1-f4aa-c1de0a5295ad"
      },
      "outputs": [
        {
          "name": "stdout",
          "output_type": "stream",
          "text": [
            "Sheena loves apple and mango but her sister loves guava and apple\n",
            "{'Sheena': 1, 'loves': 2, 'apple': 2, 'and': 2, 'mango': 1, 'but': 1, 'her': 1, 'sister': 1, 'guava': 1}\n"
          ]
        }
      ],
      "source": [
        "strng = input()\n",
        "li = strng.split()\n",
        "my_dict = {}\n",
        "for word in li:\n",
        "  if word not in my_dict.keys():\n",
        "    my_dict[word] = 0\n",
        "  my_dict[word] += 1\n",
        "print(my_dict)"
      ]
    },
    {
      "cell_type": "markdown",
      "metadata": {
        "id": "2xh7-KnQSZxx"
      },
      "source": [
        "# convert 2 list into dictionary]"
      ]
    },
    {
      "cell_type": "code",
      "execution_count": null,
      "metadata": {
        "colab": {
          "base_uri": "https://localhost:8080/"
        },
        "id": "P4vP8ZMaQvc2",
        "outputId": "b4e961b7-b076-4415-c2b7-ee40dd36dfca"
      },
      "outputs": [
        {
          "name": "stdout",
          "output_type": "stream",
          "text": [
            "['sid','ukku','parth']\n",
            "[124,567,999]\n",
            "{'sid': 124, 'ukku': 567, 'parth': 999}\n"
          ]
        }
      ],
      "source": [
        "keys = eval(input())\n",
        "values = eval(input())\n",
        "result = dict(zip(keys,values))\n",
        "print(result)"
      ]
    },
    {
      "cell_type": "markdown",
      "metadata": {
        "id": "bI9YGYLMXhhN"
      },
      "source": [
        "# Find missing number from array"
      ]
    },
    {
      "cell_type": "code",
      "execution_count": null,
      "metadata": {
        "colab": {
          "base_uri": "https://localhost:8080/"
        },
        "id": "B0Ip7WvgTZSY",
        "outputId": "4508788a-5f57-4c83-947f-14de6971ed08"
      },
      "outputs": [
        {
          "name": "stdout",
          "output_type": "stream",
          "text": [
            "3.0\n"
          ]
        }
      ],
      "source": [
        "import numpy as np\n",
        "arr = np.array([1,2,4,5,6,7,8,9,10])\n",
        "n = arr[-1]\n",
        "sum1 = 0\n",
        "total = n*(n+1)/2\n",
        "for i in arr:\n",
        "  sum1 = sum1+i\n",
        "print(total-sum1)"
      ]
    },
    {
      "cell_type": "markdown",
      "metadata": {
        "id": "IIR8bdHdhyLO"
      },
      "source": [
        "# Find out the pairs with given sum values of an array"
      ]
    },
    {
      "cell_type": "code",
      "execution_count": null,
      "metadata": {
        "colab": {
          "base_uri": "https://localhost:8080/"
        },
        "id": "snN__jQwYBgI",
        "outputId": "28519427-2e0a-45ea-f852-e5cb72cb5c0b"
      },
      "outputs": [
        {
          "name": "stdout",
          "output_type": "stream",
          "text": [
            "1 16\n",
            "3 14\n",
            "8 9\n",
            "None\n"
          ]
        }
      ],
      "source": [
        "import numpy as np\n",
        "def two_sum(arr,sum):\n",
        "  arr.sort()\n",
        "  left = 0\n",
        "  right = len(arr)-1\n",
        "  while(left<=right):\n",
        "    if arr[left] + arr[right] < sum:\n",
        "      left+=1\n",
        "    elif arr[left] + arr[right] > sum:\n",
        "      right-=1\n",
        "    else:\n",
        "      print(arr[left],arr[right])\n",
        "      left+=1\n",
        "      right-=1\n",
        "\n",
        "arr = np.array([8,9,5,0,1,16,14,3])\n",
        "sum = 17\n",
        "print(two_sum(arr,sum))"
      ]
    },
    {
      "cell_type": "markdown",
      "metadata": {
        "id": "34YR0fVYk4rb"
      },
      "source": [
        "# Minimum difference element from the array\n",
        "\n",
        "# Same as the code for maximum difference from the array\n",
        "# but here we have to use > sign and instead of +infinite we use -infinite\n"
      ]
    },
    {
      "cell_type": "code",
      "execution_count": null,
      "metadata": {
        "colab": {
          "base_uri": "https://localhost:8080/"
        },
        "id": "tlmxfSuYi4Gd",
        "outputId": "ec4f5041-14c5-4d9e-c57a-f1d9186a395a"
      },
      "outputs": [
        {
          "name": "stdout",
          "output_type": "stream",
          "text": [
            "1\n"
          ]
        }
      ],
      "source": [
        "def min_diff_element(arr):\n",
        "  arr.sort()\n",
        "  n = len(arr)-1\n",
        "  min_diff = 9999*999\n",
        "  for i in range(n):\n",
        "    if arr[i+1]-arr[i]< min_diff:\n",
        "      min_diff = arr[i+1] - arr[i]\n",
        "    return min_diff\n",
        "\n",
        "arr = [1,3,15,11,2]\n",
        "print(min_diff_element(arr))\n"
      ]
    },
    {
      "cell_type": "markdown",
      "metadata": {
        "id": "UvPy5HAVqujw"
      },
      "source": [
        "# Rotated String"
      ]
    },
    {
      "cell_type": "code",
      "execution_count": null,
      "metadata": {
        "colab": {
          "base_uri": "https://localhost:8080/"
        },
        "id": "ODUqhXxaqw9h",
        "outputId": "682a7be3-29d5-4d4c-d8e0-bfc68dd29309"
      },
      "outputs": [
        {
          "name": "stdout",
          "output_type": "stream",
          "text": [
            "sid\n",
            "ids\n",
            "dsi\n"
          ]
        }
      ],
      "source": [
        "def rotated_strng(name):\n",
        "  n = len(name)\n",
        "  temp = name + name\n",
        "  for i in range(n):\n",
        "    for j in range(n):\n",
        "      print(temp[i+j],end = \"\")\n",
        "    print()\n",
        "\n",
        "name = 'sid'\n",
        "rotated_strng(name)"
      ]
    },
    {
      "cell_type": "markdown",
      "metadata": {
        "id": "6dS3J5sTqrgz"
      },
      "source": [
        "# Reverse words in string"
      ]
    },
    {
      "cell_type": "code",
      "execution_count": null,
      "metadata": {
        "colab": {
          "base_uri": "https://localhost:8080/"
        },
        "id": "9G2o5tzbtZ0N",
        "outputId": "30521048-85f1-413d-a6a3-9792695a032b"
      },
      "outputs": [
        {
          "name": "stdout",
          "output_type": "stream",
          "text": [
            "dis ednaphsed\n"
          ]
        }
      ],
      "source": [
        "def rev_words_strng(strng):\n",
        "    if len(strng) == 1:\n",
        "        return strng\n",
        "\n",
        "    strng1 = strng.split(\" \")\n",
        "    rev_all = \"\"\n",
        "\n",
        "    for word in strng1:\n",
        "        rev = ''.join(reversed(word))\n",
        "        rev_all += rev + \" \"\n",
        "\n",
        "    return rev_all.strip()\n",
        "\n",
        "strng = 'sid deshpande'\n",
        "print(rev_words_strng(strng))\n"
      ]
    },
    {
      "cell_type": "markdown",
      "metadata": {
        "id": "7B70cioT1eWP"
      },
      "source": [
        "# First non repeating character"
      ]
    },
    {
      "cell_type": "code",
      "execution_count": null,
      "metadata": {
        "colab": {
          "base_uri": "https://localhost:8080/"
        },
        "id": "HTfQoPzJtxrI",
        "outputId": "92b2ca7d-071b-4615-d919-42534f76d175"
      },
      "outputs": [
        {
          "name": "stdout",
          "output_type": "stream",
          "text": [
            "{'s': 4, 'i': 1, 'd': 4, 'e': 3, 'h': 1, 'p': 1, 'a': 1, 'n': 1}\n",
            "i\n"
          ]
        }
      ],
      "source": [
        "def first_non_repeating_char(strng):\n",
        "    my_dict = {}\n",
        "    size = len(strng)\n",
        "    for i in range(size):\n",
        "      key = strng[i]\n",
        "      if key not in my_dict.keys():\n",
        "        my_dict[key] = 1\n",
        "      else:\n",
        "        my_dict[key] += 1\n",
        "    print(my_dict)\n",
        "\n",
        "\n",
        "    for key,value in my_dict.items():\n",
        "      if value == 1:\n",
        "        print(key)\n",
        "        break\n",
        "\n",
        "\n",
        "strng = 'siddeshpandesdes'\n",
        "first_non_repeating_char(strng)"
      ]
    },
    {
      "cell_type": "markdown",
      "metadata": {
        "id": "VULXk7SP3OD0"
      },
      "source": []
    },
    {
      "cell_type": "code",
      "execution_count": null,
      "metadata": {
        "colab": {
          "base_uri": "https://localhost:8080/"
        },
        "id": "SSrLVLeO27dt",
        "outputId": "ec94ec62-4187-4279-cbb4-a402b2ddc67a"
      },
      "outputs": [
        {
          "name": "stdout",
          "output_type": "stream",
          "text": [
            "1\n",
            "2\n",
            "3\n",
            "4\n",
            "5\n",
            "5\n"
          ]
        }
      ],
      "source": [
        "a = [1,2,3,4,5,6]\n",
        "\n",
        "for a[-1] in a:\n",
        "  print(a[-1])"
      ]
    },
    {
      "cell_type": "code",
      "execution_count": null,
      "metadata": {
        "colab": {
          "base_uri": "https://localhost:8080/"
        },
        "id": "oArsqvreFa_1",
        "outputId": "f1cecdab-46b2-4c69-a9b3-e3398a64156f"
      },
      "outputs": [
        {
          "name": "stdout",
          "output_type": "stream",
          "text": [
            "[1, 2, 3, 4, 5, 1]\n",
            "[1, 2, 3, 4, 5, 2]\n",
            "[1, 2, 3, 4, 5, 3]\n",
            "[1, 2, 3, 4, 5, 4]\n",
            "[1, 2, 3, 4, 5, 5]\n",
            "[1, 2, 3, 4, 5, 5]\n"
          ]
        }
      ],
      "source": [
        "a = [1,2,3,4,5,6]\n",
        "\n",
        "for a[-1] in a:\n",
        "  print(a)"
      ]
    },
    {
      "cell_type": "markdown",
      "metadata": {
        "id": "J7ek7OGpTKkK"
      },
      "source": [
        "STING SWAP"
      ]
    },
    {
      "cell_type": "code",
      "execution_count": null,
      "metadata": {
        "colab": {
          "base_uri": "https://localhost:8080/"
        },
        "id": "Y41jzvzWGXAP",
        "outputId": "348ab3f7-0ef6-47e1-8554-8a78b8682613"
      },
      "outputs": [
        {
          "name": "stdout",
          "output_type": "stream",
          "text": [
            "Python Exercise\n",
            "pYTHON eXERCISE\n"
          ]
        }
      ],
      "source": [
        "# i/p Python Exercise\n",
        "# o/p pYTHON eXERCISE\n",
        "\n",
        "strng = input()\n",
        "res_str = \"\"\n",
        "for item in strng:\n",
        "  if item.isupper():\n",
        "    res_str +=item.lower()\n",
        "  else:\n",
        "    res_str +=item.upper()\n",
        "print(res_str)"
      ]
    },
    {
      "cell_type": "code",
      "execution_count": null,
      "metadata": {
        "colab": {
          "base_uri": "https://localhost:8080/"
        },
        "id": "DlEILHbPJ2mQ",
        "outputId": "4b325623-b2ea-42de-edb1-ee5c804be866"
      },
      "outputs": [
        {
          "output_type": "stream",
          "name": "stdout",
          "text": [
            "[1, 2, 3, 4, 5, 0, 0]\n",
            "1,2,3,4,5,0,0\n"
          ]
        }
      ],
      "source": [
        "lst = [1,2,3,0,4,5,0]\n",
        "result = []\n",
        "for num in lst:\n",
        "  if num!=0:\n",
        "    result.append(num)\n",
        "\n",
        "for num in lst:\n",
        "  if num == 0:\n",
        "    result.append(num)\n",
        "print(result)\n",
        "\n",
        "# Convert the list to a string\n",
        "result_string = ','.join(map(str, result))\n",
        "\n",
        "print(result_string)"
      ]
    },
    {
      "cell_type": "code",
      "execution_count": null,
      "metadata": {
        "colab": {
          "base_uri": "https://localhost:8080/"
        },
        "id": "-kMpiW1OLLlF",
        "outputId": "1197fbac-067e-43d2-9d47-d439955da4bb"
      },
      "outputs": [
        {
          "name": "stdout",
          "output_type": "stream",
          "text": [
            "['𝐌𝐨𝐧', ' 𝐓𝐮𝐞', ' 𝐖𝐞𝐝', ' 𝐓𝐡𝐮', ' 𝐅𝐫𝐢', ' 𝐒𝐚𝐭', ' 𝐒𝐮𝐧']\n",
            "['𝐌𝐨𝐧', ' 𝐒𝐚𝐭']\n"
          ]
        }
      ],
      "source": [
        "lst = [\"𝐌𝐨𝐧, 𝐓𝐮𝐞, 𝐖𝐞𝐝, 𝐓𝐡𝐮, 𝐅𝐫𝐢, 𝐒𝐚𝐭, 𝐒𝐮𝐧\"]\n",
        "lst = lst[0].split(',')\n",
        "print(lst)\n",
        "print(lst[::5])"
      ]
    },
    {
      "cell_type": "markdown",
      "metadata": {
        "id": "wjE0cDoEvtOA"
      },
      "source": [
        "# Write a Python program to find the frequency of a given item(string or int) in a tuple.\n",
        "\n",
        "Sample Output\n",
        "\n",
        "(2, 4, 5, 6, 2, 3, 4, 4, 7)\n",
        "\n",
        "4\n",
        "\n",
        "Output- 3\n",
        "\n",
        "Example 1:\n",
        "Input:\n",
        "w,3,r,e,s,o,u,r,c,e,s s\n",
        "\n",
        "Output:\n",
        "2"
      ]
    },
    {
      "cell_type": "code",
      "execution_count": null,
      "metadata": {
        "colab": {
          "base_uri": "https://localhost:8080/"
        },
        "id": "cm9SXYHLMV_A",
        "outputId": "99673db9-5872-4de5-c94a-04dcc2de7fb8"
      },
      "outputs": [
        {
          "name": "stdout",
          "output_type": "stream",
          "text": [
            "(1,2,1,1,1,1,1,1,1,2,5,6,7,8,9)\n",
            "1\n",
            "8\n"
          ]
        }
      ],
      "source": [
        "integer = eval(input())\n",
        "a = int(input())\n",
        "count = 0\n",
        "\n",
        "for num in integer:\n",
        "  if a ==  num:\n",
        "    count+=1\n",
        "print(count)"
      ]
    },
    {
      "cell_type": "code",
      "execution_count": null,
      "metadata": {
        "colab": {
          "base_uri": "https://localhost:8080/"
        },
        "id": "JJyv_UfUvy-W",
        "outputId": "401a19af-2120-423a-9770-d270966b46fb"
      },
      "outputs": [
        {
          "name": "stdout",
          "output_type": "stream",
          "text": [
            "python\n",
            "p\n",
            "True\n"
          ]
        }
      ],
      "source": [
        "s = input()\n",
        "ch = input()\n",
        "\n",
        "if s[0]==ch:\n",
        "  print(\"True\")\n",
        "else:\n",
        "  print(\"False\")"
      ]
    },
    {
      "cell_type": "code",
      "execution_count": null,
      "metadata": {
        "colab": {
          "base_uri": "https://localhost:8080/"
        },
        "id": "HEsJQrYv1eAS",
        "outputId": "0cd6da7c-8d78-487c-beeb-a41df9486d00"
      },
      "outputs": [
        {
          "name": "stdout",
          "output_type": "stream",
          "text": [
            "Python\n",
            "P\n",
            "True\n"
          ]
        }
      ],
      "source": [
        "s = input()\n",
        "ch = input()\n",
        "\n",
        "if s.startswith(ch):\n",
        "  print(\"True\")\n",
        "else:\n",
        "  print(\"False\")"
      ]
    },
    {
      "cell_type": "markdown",
      "metadata": {
        "id": "7bIa5iAj3xig"
      },
      "source": [
        "Armstrong number"
      ]
    },
    {
      "cell_type": "code",
      "execution_count": null,
      "metadata": {
        "colab": {
          "base_uri": "https://localhost:8080/"
        },
        "id": "WspWN0Af3vSE",
        "outputId": "64fcfcef-6ce8-4108-b05b-a216fc063744"
      },
      "outputs": [
        {
          "name": "stdout",
          "output_type": "stream",
          "text": [
            "153\n",
            "Armstrong\n"
          ]
        }
      ],
      "source": [
        "n = int(input())\n",
        "\n",
        "sum = 0\n",
        "temp = n\n",
        "\n",
        "while temp>0:\n",
        "  digit = temp%10\n",
        "  sum = sum+digit**3\n",
        "  temp = temp//10\n",
        "\n",
        "if sum == n:\n",
        "  print(\"Armstrong\")\n",
        "else:\n",
        "  print(\"Not Armstrong\")\n"
      ]
    },
    {
      "cell_type": "markdown",
      "metadata": {
        "id": "dbId57vn3uCh"
      },
      "source": [
        "Harmonic sum"
      ]
    },
    {
      "cell_type": "code",
      "execution_count": null,
      "metadata": {
        "colab": {
          "base_uri": "https://localhost:8080/"
        },
        "id": "QCioefiA2itj",
        "outputId": "c7323ce5-7081-49af-84b2-0a6e94464eeb"
      },
      "outputs": [
        {
          "name": "stdout",
          "output_type": "stream",
          "text": [
            "7\n",
            "2.5928571428571425\n"
          ]
        }
      ],
      "source": [
        "n = int(input())\n",
        "sum = 0\n",
        "for i in range(1,n+1):\n",
        "  sum = sum + 1/i\n",
        "print(sum)"
      ]
    },
    {
      "cell_type": "markdown",
      "metadata": {
        "id": "2c4qWm1A98pa"
      },
      "source": [
        "# Mingle to single\n",
        "\n",
        "# def digital_root(n):\n",
        "    if n == 0:\n",
        "        return 0\n",
        "    return 1 + (n - 1) % 9\n",
        "\n",
        "    This is also a great logic of getting the sum\n"
      ]
    },
    {
      "cell_type": "code",
      "execution_count": null,
      "metadata": {
        "colab": {
          "base_uri": "https://localhost:8080/"
        },
        "id": "LjMh-_8o7jUR",
        "outputId": "2c79172d-9bb2-4f65-da3f-69f521754edc"
      },
      "outputs": [
        {
          "name": "stdout",
          "output_type": "stream",
          "text": [
            "88\n",
            "Step 1 Sum: 16\n",
            "Step 2 Sum: 7\n"
          ]
        }
      ],
      "source": [
        "n = int(input())\n",
        "sum = 0\n",
        "temp = n\n",
        "\n",
        "while temp>0:\n",
        "  digit = temp%10\n",
        "  sum+=digit\n",
        "  temp//=10\n",
        "print(\"Step 1 Sum:\",sum)\n",
        "\n",
        "while sum > 9 :\n",
        "  temp = sum\n",
        "  sum = 0\n",
        "  while temp>0:\n",
        "    digit = temp%10\n",
        "    sum+=digit\n",
        "    temp//=10\n",
        "print(\"Step 2 Sum:\",sum)\n"
      ]
    },
    {
      "cell_type": "markdown",
      "metadata": {
        "id": "6OErcVLvAOXc"
      },
      "source": [
        "# Words of prime importance"
      ]
    },
    {
      "cell_type": "code",
      "execution_count": null,
      "metadata": {
        "colab": {
          "base_uri": "https://localhost:8080/"
        },
        "id": "GjYZyKrs-WNO",
        "outputId": "9198b609-0aae-4841-c281-bba7d1f6c06e"
      },
      "outputs": [
        {
          "name": "stdout",
          "output_type": "stream",
          "text": [
            "I am Siddharth Deshpande Father of vedant gupta \n",
            "am of gupta\n"
          ]
        }
      ],
      "source": [
        "def is_prime(n):\n",
        "  count = 0\n",
        "  i = 1\n",
        "  while i<=n:\n",
        "    if n%i == 0:\n",
        "      count+=1\n",
        "    i+=1\n",
        "  if count == 2:\n",
        "    return True\n",
        "  else:\n",
        "    return False\n",
        "\n",
        "def importance_of_words(s):\n",
        "  words = s.split()\n",
        "  prime_word = [word for word in words if is_prime(len(word))]\n",
        "  return \" \".join(prime_word)\n",
        "\n",
        "s = input()\n",
        "print(importance_of_words(s))"
      ]
    },
    {
      "cell_type": "markdown",
      "metadata": {
        "id": "BJiz-wmSFL2_"
      },
      "source": [
        "# Closest Palindrome"
      ]
    },
    {
      "cell_type": "code",
      "execution_count": null,
      "metadata": {
        "colab": {
          "base_uri": "https://localhost:8080/"
        },
        "id": "r1WSF7tOCD5r",
        "outputId": "a8aa8c5d-865c-4efe-dac2-c3006a79f055"
      },
      "outputs": [
        {
          "name": "stdout",
          "output_type": "stream",
          "text": [
            "madan\n",
            "madam\n"
          ]
        }
      ],
      "source": [
        "s = input()\n",
        "mid = len(s)//2\n",
        "r = s[:mid]\n",
        "r+=s[mid::-1]\n",
        "print(r)"
      ]
    },
    {
      "cell_type": "markdown",
      "metadata": {
        "id": "e3qEi4G0LiOb"
      },
      "source": [
        "# is_pangram"
      ]
    },
    {
      "cell_type": "code",
      "execution_count": null,
      "metadata": {
        "colab": {
          "base_uri": "https://localhost:8080/"
        },
        "id": "FOmK5Ha6Fzfo",
        "outputId": "76f9d363-d686-4d45-a656-bd7c7778729b"
      },
      "outputs": [
        {
          "name": "stdout",
          "output_type": "stream",
          "text": [
            "The quick brown fox jumps over a lazy dog \n",
            "True\n"
          ]
        }
      ],
      "source": [
        "strng = input()\n",
        "strng = strng.lower().split()\n",
        "strng = ''.join(strng)\n",
        "\n",
        "unique_char  = set(strng)\n",
        "is_pangram = len(unique_char) == 26 and all(char in unique_char for char in 'abcdefghijklmnopqrstuvwxyz')\n",
        "print(is_pangram)"
      ]
    },
    {
      "cell_type": "markdown",
      "metadata": {
        "id": "R9Xk66KGZEuT"
      },
      "source": [
        "# Return the indices of list"
      ]
    },
    {
      "cell_type": "code",
      "execution_count": null,
      "metadata": {
        "colab": {
          "base_uri": "https://localhost:8080/"
        },
        "id": "pNDaAK_ENbm6",
        "outputId": "70c7bb9c-c675-4f3b-ff4a-ab8a2954cbae"
      },
      "outputs": [
        {
          "output_type": "stream",
          "name": "stdout",
          "text": [
            "[45,78,65,100,1000,2000]\n",
            "2000\n",
            "[0, 1, 2, 3, 4]\n"
          ]
        }
      ],
      "source": [
        "lst = eval(input())\n",
        "n = int(input())\n",
        "lst1 = []\n",
        "\n",
        "for i in lst:\n",
        "    if i<n:\n",
        "        lst1.append(lst.index(i))\n",
        "print(lst1)"
      ]
    },
    {
      "cell_type": "code",
      "execution_count": null,
      "metadata": {
        "colab": {
          "base_uri": "https://localhost:8080/"
        },
        "id": "aSsRRFL1ZIYq",
        "outputId": "a6d2f9a3-39fd-4257-b545-c0faf74b8e00"
      },
      "outputs": [
        {
          "name": "stdout",
          "output_type": "stream",
          "text": [
            "[12, 0, None, 23, None, -55, 234, 89, None, 0, 6, -12]\n",
            "[]\n"
          ]
        }
      ],
      "source": [
        "lst = eval(input())\n",
        "res = [i for i in lst if i is not None]\n",
        "print(res)"
      ]
    },
    {
      "cell_type": "code",
      "execution_count": null,
      "metadata": {
        "colab": {
          "base_uri": "https://localhost:8080/"
        },
        "id": "T9GGCoXKa7m8",
        "outputId": "39dd16eb-f9bf-43d6-e2ed-e1dcfa82bf6e"
      },
      "outputs": [
        {
          "name": "stdout",
          "output_type": "stream",
          "text": [
            "[[1, None, 5, 4,None, 0, None, None]]\n",
            "[]\n"
          ]
        }
      ],
      "source": [
        "lst = eval(input())\n",
        "lst\n",
        "res = [x.index(lst) for x in lst if x is None ]\n",
        "print(res)"
      ]
    },
    {
      "cell_type": "code",
      "execution_count": null,
      "metadata": {
        "colab": {
          "base_uri": "https://localhost:8080/"
        },
        "id": "wLVO0RWhcGaH",
        "outputId": "ae464ed2-5753-419c-bbf6-fd718430a6cb"
      },
      "outputs": [
        {
          "name": "stdout",
          "output_type": "stream",
          "text": [
            "[None,4,None]\n",
            "[0, 2]\n"
          ]
        }
      ],
      "source": [
        "lst = eval(input())  # Input should be a list, e.g., [1, None, 5, 4, None, 0, None, None]\n",
        "indices = []\n",
        "\n",
        "for index, value in enumerate(lst):\n",
        "    if value is None:\n",
        "        indices.append(index)\n",
        "\n",
        "print(indices)"
      ]
    },
    {
      "cell_type": "code",
      "execution_count": null,
      "metadata": {
        "colab": {
          "base_uri": "https://localhost:8080/"
        },
        "id": "0-w9Xx55eDA1",
        "outputId": "5e312a4d-abb0-472a-c753-f9b290565ae9"
      },
      "outputs": [
        {
          "name": "stdout",
          "output_type": "stream",
          "text": [
            "['red', 'green', 'blue', 'white', 'black', 'orange']\n",
            "['green', 'orange'] \n",
            "['red', 'blue', 'white', 'black']\n"
          ]
        }
      ],
      "source": [
        "word = eval(input())\n",
        "remove_word = eval(input())\n",
        "result = [word for word in word if word not in remove_word]\n",
        "print(result)\n",
        "# ['red', 'green', 'blue', 'white', 'black', 'orange']\n",
        "# ['green', 'orange']"
      ]
    },
    {
      "cell_type": "markdown",
      "metadata": {
        "id": "g6LxdU1Y1NG0"
      },
      "source": [
        "# Count the Characters\n",
        "\n",
        "# AlmaBetter\n",
        "# o/p should be {a:2,b:1......}"
      ]
    },
    {
      "cell_type": "code",
      "execution_count": null,
      "metadata": {
        "colab": {
          "base_uri": "https://localhost:8080/"
        },
        "id": "VIXw9JvSeHMC",
        "outputId": "1e60a054-22c5-4eb1-ce5e-713d3bc37196"
      },
      "outputs": [
        {
          "name": "stdout",
          "output_type": "stream",
          "text": [
            "Almabetter\n",
            "{'a': 2, 'l': 1, 'm': 1, 'b': 1, 'e': 2, 't': 2, 'r': 1}\n"
          ]
        }
      ],
      "source": [
        "strng = input()\n",
        "my_dict = {}\n",
        "strng = strng.lower()\n",
        "for char in strng:\n",
        "  if char in my_dict:\n",
        "    my_dict[char]+=1\n",
        "  else:\n",
        "    my_dict[char] = 1\n",
        "print(my_dict)"
      ]
    },
    {
      "cell_type": "code",
      "execution_count": null,
      "metadata": {
        "colab": {
          "base_uri": "https://localhost:8080/"
        },
        "id": "DOadAmMk2F8E",
        "outputId": "e4053a78-3a66-4853-c120-c69d29ba3d76"
      },
      "outputs": [
        {
          "name": "stdout",
          "output_type": "stream",
          "text": [
            "Enter a positive integer: 987654\n",
            "The single-digit result is: 3\n"
          ]
        }
      ],
      "source": [
        "def digital_root(n):\n",
        "    if n == 0:\n",
        "        return 0\n",
        "    return 1 + (n - 1) % 9\n",
        "\n",
        "# Example usage\n",
        "n = int(input(\"Enter a positive integer: \"))\n",
        "if n <= 0:\n",
        "    print(\"The number must be a positive integer.\")\n",
        "else:\n",
        "    result = digital_root(n)\n",
        "    print(\"The single-digit result is:\", result)"
      ]
    },
    {
      "cell_type": "markdown",
      "metadata": {
        "id": "bU1RZuaGRUbx"
      },
      "source": [
        "# Print Space between characters"
      ]
    },
    {
      "cell_type": "code",
      "execution_count": null,
      "metadata": {
        "colab": {
          "base_uri": "https://localhost:8080/"
        },
        "id": "MAWI0TFN4ky4",
        "outputId": "bdadb353-85cf-470a-aa7d-4c21cc4b9aa1"
      },
      "outputs": [
        {
          "name": "stdout",
          "output_type": "stream",
          "text": [
            "{\"f\":1,\"o\":2}\n",
            "f o o\n"
          ]
        }
      ],
      "source": [
        "n = eval(input())\n",
        "output = []\n",
        "\n",
        "for char,count in n.items():\n",
        "  output.extend([char]*count)\n",
        "print(\" \".join(output))"
      ]
    },
    {
      "cell_type": "markdown",
      "metadata": {
        "id": "FixjAuVHTxnk"
      },
      "source": [
        "# Strange Sort list\n",
        "\n",
        "i/p-[1,3,4,5,11]\n",
        "\n",
        "o/p-[1,11,3,5,4]\n",
        "\n",
        "first smallest then largest and carry forward this"
      ]
    },
    {
      "cell_type": "code",
      "execution_count": null,
      "metadata": {
        "colab": {
          "base_uri": "https://localhost:8080/"
        },
        "id": "11Zb2XviR5Uk",
        "outputId": "ba70a6c6-b808-4361-8f6f-c565ac2289b0"
      },
      "outputs": [
        {
          "name": "stdout",
          "output_type": "stream",
          "text": [
            "[2,8,7,15,6]\n",
            "[2, 15, 6, 8, 7]\n"
          ]
        }
      ],
      "source": [
        "# Safely parse the input\n",
        "numbers = eval(input())\n",
        "result = []\n",
        "\n",
        "while numbers:\n",
        "    # Find and remove the minimum element\n",
        "    minimum = min(numbers)\n",
        "    result.append(minimum)\n",
        "    numbers.remove(minimum)\n",
        "\n",
        "    if numbers:\n",
        "        # Find and remove the maximum element\n",
        "        maximum = max(numbers)\n",
        "        result.append(maximum)\n",
        "        numbers.remove(maximum)\n",
        "\n",
        "print(result)\n"
      ]
    },
    {
      "cell_type": "markdown",
      "metadata": {
        "id": "oJjVIHtZc64Q"
      },
      "source": [
        "# Pascal Triangle"
      ]
    },
    {
      "cell_type": "code",
      "execution_count": null,
      "metadata": {
        "colab": {
          "base_uri": "https://localhost:8080/"
        },
        "id": "Opc4zQIuUu8h",
        "outputId": "4d7d1a2f-97a7-4332-a1a1-72743cf8be41"
      },
      "outputs": [
        {
          "name": "stdout",
          "output_type": "stream",
          "text": [
            "4\n",
            "   1.0  \n",
            "  1.0 1.0  \n",
            " 1.0 2.0 1.0  \n",
            "1.0 3.0 3.0 1.0  \n"
          ]
        }
      ],
      "source": [
        "from math import factorial\n",
        "rows = int(input())\n",
        "\n",
        "for n in range(rows):\n",
        "  for space in range(1,rows-n):\n",
        "    print(end=\" \")\n",
        "  for r in range(n+1):\n",
        "    ncr = factorial(n)/(factorial(r)*factorial(n-r))\n",
        "    print(ncr,end=\" \")\n",
        "  print(\" \")"
      ]
    },
    {
      "cell_type": "markdown",
      "metadata": {
        "id": "iCK_NKcLgMMb"
      },
      "source": [
        "# Logic of Palindrome"
      ]
    },
    {
      "cell_type": "code",
      "execution_count": null,
      "metadata": {
        "colab": {
          "base_uri": "https://localhost:8080/"
        },
        "id": "b-DMm-MFelM_",
        "outputId": "d908e71c-98df-43a3-aed1-5ae3a79fefdd"
      },
      "outputs": [
        {
          "name": "stdout",
          "output_type": "stream",
          "text": [
            "1331\n",
            "Palindrome\n"
          ]
        }
      ],
      "source": [
        "n = int(input())\n",
        "\n",
        "temp = n\n",
        "rev = 0\n",
        "\n",
        "while(temp>0):\n",
        "  digit = temp%10\n",
        "  rev = rev*10 + digit\n",
        "  temp//=10\n",
        "\n",
        "if rev == n:\n",
        "  print(\"Palindrome\")\n",
        "else:\n",
        "  print(\"Not Palindrome\")"
      ]
    },
    {
      "cell_type": "markdown",
      "metadata": {
        "id": "28VdQR7eg5pV"
      },
      "source": [
        "# Logic Of Palindrome in string format"
      ]
    },
    {
      "cell_type": "code",
      "execution_count": null,
      "metadata": {
        "colab": {
          "base_uri": "https://localhost:8080/"
        },
        "id": "Qc8HAbNNg0Gl",
        "outputId": "01639240-bfab-4b57-e061-bcec2e298877"
      },
      "outputs": [
        {
          "name": "stdout",
          "output_type": "stream",
          "text": [
            "Nayan\n",
            "Palindrome\n"
          ]
        }
      ],
      "source": [
        "strng = input()\n",
        "strng = strng.lower()\n",
        "if strng == strng[::-1]:\n",
        "  print(\"Palindrome\")\n",
        "else:\n",
        "  print(\"Not Palindrome\")"
      ]
    },
    {
      "cell_type": "markdown",
      "metadata": {
        "id": "PEuBWBrhwYTa"
      },
      "source": [
        "# Get next_date"
      ]
    },
    {
      "cell_type": "code",
      "execution_count": null,
      "metadata": {
        "colab": {
          "base_uri": "https://localhost:8080/"
        },
        "id": "Ro2QIn3hhOix",
        "outputId": "d12df5a3-2447-47b3-e9fa-17f524a3b4c7"
      },
      "outputs": [
        {
          "name": "stdout",
          "output_type": "stream",
          "text": [
            "2024\n",
            "10\n",
            "10\n",
            "The next date is [yyyy-mm-dd] (2024, 10, 11).\n"
          ]
        }
      ],
      "source": [
        "def is_leap_year(year):\n",
        "  if year%4==0:\n",
        "    if year%100==0:\n",
        "      if year%400==0:\n",
        "        return True\n",
        "      else:\n",
        "        return False\n",
        "    else:\n",
        "      return True\n",
        "  else:\n",
        "    return False\n",
        "\n",
        "def is_days_in_month(month,year):\n",
        "  if month in (1,3,5,7,8,10,12):\n",
        "    return 31\n",
        "  elif month in (4,6,9,11):\n",
        "    return 30\n",
        "  elif month == 2:\n",
        "    if is_leap_year(year):\n",
        "      return 29\n",
        "    else:\n",
        "      return 28\n",
        "\n",
        "def get_next_date(year,month,day):\n",
        "  next_day=day+1\n",
        "  next_month = month\n",
        "  next_year = year\n",
        "\n",
        "  if next_day > is_days_in_month(next_month,next_year):\n",
        "    next_day = 1\n",
        "    next_month+=1\n",
        "\n",
        "  if next_month>12:\n",
        "    next_month = 1\n",
        "    next_year+=1\n",
        "\n",
        "  return next_year,next_month,next_day\n",
        "\n",
        "\n",
        "year = int(input())\n",
        "month = int(input())\n",
        "day = int(input())\n",
        "\n",
        "next_date = get_next_date(year,month,day)\n",
        "print(f\"The next date is [yyyy-mm-dd] {next_date}.\")"
      ]
    },
    {
      "cell_type": "code",
      "execution_count": null,
      "metadata": {
        "colab": {
          "base_uri": "https://localhost:8080/"
        },
        "id": "DR_S_Ce-yr7z",
        "outputId": "83750509-616f-460a-c79d-8c6a1042f2d7"
      },
      "outputs": [
        {
          "name": "stdout",
          "output_type": "stream",
          "text": [
            "15\n",
            "45\n",
            "9\n",
            "99\n",
            "100\n",
            "0\n",
            "Average and Sum of the above numbers are: 53.6 268\n"
          ]
        }
      ],
      "source": [
        "sum = 0\n",
        "count = 0\n",
        "number = 1\n",
        "\n",
        "while number!=0:\n",
        "    number = int(input())\n",
        "    sum = sum+number\n",
        "    count+=1\n",
        "\n",
        "if count==0:\n",
        "    print(\"Input some number\")\n",
        "else:\n",
        "    print(\"Average and Sum of the above numbers are:\",sum/(count-1),sum )"
      ]
    },
    {
      "cell_type": "code",
      "execution_count": null,
      "metadata": {
        "colab": {
          "base_uri": "https://localhost:8080/"
        },
        "id": "jqVyY15D4Lwv",
        "outputId": "38e06f21-ef83-4d4f-a70d-338ae1295857"
      },
      "outputs": [
        {
          "name": "stdout",
          "output_type": "stream",
          "text": [
            "[10, 20, 30, 40, 50, 60, 7]\n",
            "[10, 30, 60, 100, 150, 210, 217]\n"
          ]
        }
      ],
      "source": [
        "lst = eval(input())\n",
        "lst1 = []\n",
        "sum = 0\n",
        "for i in lst:\n",
        "  sum+=i\n",
        "  lst1.append(sum)\n",
        "print(lst1)"
      ]
    },
    {
      "cell_type": "code",
      "execution_count": null,
      "metadata": {
        "colab": {
          "base_uri": "https://localhost:8080/"
        },
        "id": "AoSNcGyisEwI",
        "outputId": "a5dfde00-55fb-4eba-d5a1-b502b08a454d"
      },
      "outputs": [
        {
          "name": "stdout",
          "output_type": "stream",
          "text": [
            "[1,2,3,4,5,6,7]\n",
            "[4,5,6,7]\n",
            "[1, 2, 3]\n"
          ]
        }
      ],
      "source": [
        "list1 = eval(input())\n",
        "list2= eval(input())\n",
        "\n",
        "list1 = set(list1)\n",
        "list2 = set(list2)\n",
        "\n",
        "ans = list1.difference(list2)\n",
        "ans = list(ans)\n",
        "print(ans)"
      ]
    },
    {
      "cell_type": "markdown",
      "metadata": {
        "id": "YJRYvpJWD4GY"
      },
      "source": [
        "# Logic of LCM"
      ]
    },
    {
      "cell_type": "code",
      "execution_count": null,
      "metadata": {
        "colab": {
          "base_uri": "https://localhost:8080/"
        },
        "id": "q83mMHYHEQGA",
        "outputId": "43d70656-b6a1-4eb5-d93f-afec7dd8cf8d"
      },
      "outputs": [
        {
          "name": "stdout",
          "output_type": "stream",
          "text": [
            "6\n",
            "8\n",
            "24\n"
          ]
        }
      ],
      "source": [
        "a = int(input())\n",
        "b = int(input())\n",
        "\n",
        "MaxNum = max(a,b)\n",
        "\n",
        "while True:\n",
        "  if MaxNum%a==0 and MaxNum%b==0:\n",
        "    break\n",
        "  MaxNum+=1\n",
        "print(MaxNum)"
      ]
    },
    {
      "cell_type": "markdown",
      "metadata": {
        "id": "aT70v_lwFcB1"
      },
      "source": [
        "# Logic of HCF"
      ]
    },
    {
      "cell_type": "code",
      "execution_count": null,
      "metadata": {
        "colab": {
          "base_uri": "https://localhost:8080/"
        },
        "id": "of9inpd-FM1E",
        "outputId": "611637ae-f88e-428c-eb38-797b7008c410"
      },
      "outputs": [
        {
          "name": "stdout",
          "output_type": "stream",
          "text": [
            "10\n",
            "20\n",
            "10\n"
          ]
        }
      ],
      "source": [
        "a = int(input())\n",
        "b = int(input())\n",
        "\n",
        "MinNum = min(a,b)\n",
        "HCF = 1\n",
        "\n",
        "for i in range(1,MinNum+1):\n",
        "  if a%i==0 and b%i==0:\n",
        "    HCF = i\n",
        "print(HCF)"
      ]
    },
    {
      "cell_type": "markdown",
      "metadata": {
        "id": "P-Q2fZodSWAU"
      },
      "source": [
        "# Number to english words"
      ]
    },
    {
      "cell_type": "code",
      "execution_count": null,
      "metadata": {
        "colab": {
          "base_uri": "https://localhost:8080/"
        },
        "id": "1wpfXhQjFlR3",
        "outputId": "49685366-bba5-475d-a606-70cb571713fd"
      },
      "outputs": [
        {
          "name": "stdout",
          "output_type": "stream",
          "text": [
            "[1,3,5,7,9]\n",
            "['One', 'Three', 'Five', 'Seven', 'Nine']\n"
          ]
        }
      ],
      "source": [
        "digit_to_word = {\n",
        "    '0':'Zero',\n",
        "    '1':'One',\n",
        "    '2':'Two',\n",
        "    '3':'Three',\n",
        "    '4':'Four',\n",
        "    '5':'Five',\n",
        "    '6':'Six',\n",
        "    '7':'Seven',\n",
        "    '8':'Eight',\n",
        "    '9':'Nine',\n",
        "}\n",
        "\n",
        "def singe_digit_to_words(nums):\n",
        "  single_digit = []\n",
        "\n",
        "  for num in nums:\n",
        "    if 0<num<10:\n",
        "      single_digit.append(digit_to_word[str(num)])\n",
        "  return single_digit\n",
        "\n",
        "nums = eval(input())\n",
        "print(singe_digit_to_words(nums))"
      ]
    },
    {
      "cell_type": "markdown",
      "metadata": {
        "id": "FsRCbf-JULKk"
      },
      "source": [
        "# Count digit and letter in string"
      ]
    },
    {
      "cell_type": "code",
      "execution_count": null,
      "metadata": {
        "colab": {
          "base_uri": "https://localhost:8080/"
        },
        "id": "gsntigEWSmvl",
        "outputId": "d7ddd17c-0a8c-4eb9-c1bb-790a190bcd21"
      },
      "outputs": [
        {
          "name": "stdout",
          "output_type": "stream",
          "text": [
            "\"1234getonthedancefloor\"\n",
            "4\n",
            "20\n"
          ]
        }
      ],
      "source": [
        "s = input()\n",
        "\n",
        "count_digit = 0\n",
        "count_char = 0\n",
        "\n",
        "for char in s:\n",
        "  if char.isdigit():\n",
        "    count_digit+=1\n",
        "  else:\n",
        "    count_char+=1\n",
        "\n",
        "print(count_digit)\n",
        "print(count_char)"
      ]
    },
    {
      "cell_type": "code",
      "execution_count": null,
      "metadata": {
        "colab": {
          "background_save": true
        },
        "id": "hmcYkAL8XdU5",
        "outputId": "24d7e486-87b2-418b-fad0-9e799568a73c"
      },
      "outputs": [
        {
          "ename": "TypeError",
          "evalue": "object of type 'int' has no len()",
          "output_type": "error",
          "traceback": [
            "\u001b[0;31m---------------------------------------------------------------------------\u001b[0m",
            "\u001b[0;31mTypeError\u001b[0m                                 Traceback (most recent call last)",
            "\u001b[0;32m<ipython-input-12-bb3ff98e9d34>\u001b[0m in \u001b[0;36m<cell line: 4>\u001b[0;34m()\u001b[0m\n\u001b[1;32m      2\u001b[0m \u001b[0mk\u001b[0m \u001b[0;34m=\u001b[0m \u001b[0mint\u001b[0m\u001b[0;34m(\u001b[0m\u001b[0minput\u001b[0m\u001b[0;34m(\u001b[0m\u001b[0;34m\"Enter an index: \"\u001b[0m\u001b[0;34m)\u001b[0m\u001b[0;34m)\u001b[0m\u001b[0;34m\u001b[0m\u001b[0;34m\u001b[0m\u001b[0m\n\u001b[1;32m      3\u001b[0m \u001b[0;34m\u001b[0m\u001b[0m\n\u001b[0;32m----> 4\u001b[0;31m \u001b[0;32mif\u001b[0m \u001b[0;32mnot\u001b[0m \u001b[0mlst\u001b[0m \u001b[0;32mor\u001b[0m \u001b[0mk\u001b[0m \u001b[0;34m<\u001b[0m \u001b[0;36m0\u001b[0m \u001b[0;32mor\u001b[0m \u001b[0mk\u001b[0m \u001b[0;34m>=\u001b[0m \u001b[0mlen\u001b[0m\u001b[0;34m(\u001b[0m\u001b[0mlst\u001b[0m\u001b[0;34m[\u001b[0m\u001b[0;36m0\u001b[0m\u001b[0;34m]\u001b[0m\u001b[0;34m)\u001b[0m\u001b[0;34m:\u001b[0m\u001b[0;34m\u001b[0m\u001b[0;34m\u001b[0m\u001b[0m\n\u001b[0m\u001b[1;32m      5\u001b[0m     \u001b[0mprint\u001b[0m\u001b[0;34m(\u001b[0m\u001b[0;34m\"Invalid\"\u001b[0m\u001b[0;34m)\u001b[0m\u001b[0;34m\u001b[0m\u001b[0;34m\u001b[0m\u001b[0m\n\u001b[1;32m      6\u001b[0m \u001b[0;32melse\u001b[0m\u001b[0;34m:\u001b[0m\u001b[0;34m\u001b[0m\u001b[0;34m\u001b[0m\u001b[0m\n",
            "\u001b[0;31mTypeError\u001b[0m: object of type 'int' has no len()"
          ]
        }
      ],
      "source": [
        "lst = eval(input(\"Enter a list of lists: \"))\n",
        "k = int(input(\"Enter an index: \"))\n",
        "\n",
        "if not lst or k < 0 or k >= len(lst[0]):\n",
        "    print(\"Invalid\")\n",
        "else:\n",
        "    answer = [row[k] for row in lst if len(row) > k]\n",
        "    print(answer)"
      ]
    },
    {
      "cell_type": "markdown",
      "source": [
        "# Adding the string"
      ],
      "metadata": {
        "id": "PxSIu5PJUcHA"
      }
    },
    {
      "cell_type": "code",
      "execution_count": null,
      "metadata": {
        "id": "MX7dqZCZYNxN",
        "colab": {
          "base_uri": "https://localhost:8080/"
        },
        "outputId": "2c7ec055-5717-4f5b-efb2-913767cb0f4b"
      },
      "outputs": [
        {
          "output_type": "stream",
          "name": "stdout",
          "text": [
            "[1,2,3,4]\n",
            "emp\n",
            "['emp1', 'emp2', 'emp3', 'emp4']\n"
          ]
        }
      ],
      "source": [
        "def concatenate_strng(lst,n):\n",
        "  result = []\n",
        "  for i in lst:\n",
        "    result.append(n+str(i))\n",
        "  return result\n",
        "\n",
        "lst = eval(input())\n",
        "n = input()\n",
        "print(concatenate_strng(lst,n))"
      ]
    },
    {
      "cell_type": "markdown",
      "source": [
        "# Star Patteern logic"
      ],
      "metadata": {
        "id": "BGv3vw5eVfJE"
      }
    },
    {
      "cell_type": "code",
      "source": [
        "n = int(input())\n",
        "\n",
        "for i in range(0,n):\n",
        "  for j in range(i):\n",
        "    print(\"#\",end=\"\")\n",
        "  print(\" \")"
      ],
      "metadata": {
        "colab": {
          "base_uri": "https://localhost:8080/"
        },
        "id": "QqkCuCLwU99k",
        "outputId": "9572061c-554c-4104-d969-ebcdae7887e3"
      },
      "execution_count": null,
      "outputs": [
        {
          "output_type": "stream",
          "name": "stdout",
          "text": [
            "6\n",
            " \n",
            "# \n",
            "## \n",
            "### \n",
            "#### \n",
            "##### \n"
          ]
        }
      ]
    },
    {
      "cell_type": "code",
      "source": [
        "n = int(input())\n",
        "\n",
        "for i in range(0,n):\n",
        "  for space in range(0,n-i):\n",
        "    print(\" \",end = \"\")\n",
        "  for j in range(i):\n",
        "    print(\"&\",end = \"\")\n",
        "  print(\" \")\n"
      ],
      "metadata": {
        "colab": {
          "base_uri": "https://localhost:8080/"
        },
        "id": "143MeTlmV4I3",
        "outputId": "6f3ed358-46eb-432d-d7a4-14fa88df4747"
      },
      "execution_count": null,
      "outputs": [
        {
          "output_type": "stream",
          "name": "stdout",
          "text": [
            "6\n",
            "       \n",
            "     & \n",
            "    && \n",
            "   &&& \n",
            "  &&&& \n",
            " &&&&& \n"
          ]
        }
      ]
    },
    {
      "cell_type": "code",
      "source": [
        "n = int(input())\n",
        "\n",
        "for i in range(0,n):\n",
        "  for space in range(0,n-i):\n",
        "    print(\" \",end = \"\")\n",
        "  for j in range(0,(2*i)-1):\n",
        "    print(\"*\",end = \"\")\n",
        "  print(\" \")"
      ],
      "metadata": {
        "colab": {
          "base_uri": "https://localhost:8080/"
        },
        "id": "9KOhoDS-WjGU",
        "outputId": "eecbab1b-ab12-4eb3-d33d-1b736aa12efa"
      },
      "execution_count": null,
      "outputs": [
        {
          "output_type": "stream",
          "name": "stdout",
          "text": [
            "7\n",
            "        \n",
            "      * \n",
            "     *** \n",
            "    ***** \n",
            "   ******* \n",
            "  ********* \n",
            " *********** \n"
          ]
        }
      ]
    },
    {
      "cell_type": "markdown",
      "source": [
        "# Fibonacci"
      ],
      "metadata": {
        "id": "lASTrUqMZECI"
      }
    },
    {
      "cell_type": "code",
      "source": [
        "def fibonacci(num):\n",
        "  x,y = 0,1\n",
        "  for i in range(num):\n",
        "    print(x,end=\" \")\n",
        "    x,y = y,x+y\n",
        "\n",
        "num = int(input())\n",
        "fibonacci(num)"
      ],
      "metadata": {
        "colab": {
          "base_uri": "https://localhost:8080/"
        },
        "id": "eVhkyoQ-XOik",
        "outputId": "23a0164f-6a61-4b8a-81ce-51787090913c"
      },
      "execution_count": null,
      "outputs": [
        {
          "output_type": "stream",
          "name": "stdout",
          "text": [
            "10\n",
            "0 1 1 2 3 5 8 13 21 34 "
          ]
        }
      ]
    },
    {
      "cell_type": "code",
      "source": [
        "n = int(input())\n",
        "\n",
        "num = 1\n",
        "\n",
        "for i in range(0,n):\n",
        "  for j in range(0,i):\n",
        "    print(num, end=\" \")\n",
        "    num+=1\n",
        "  print(\" \")"
      ],
      "metadata": {
        "colab": {
          "base_uri": "https://localhost:8080/"
        },
        "id": "wZPSrJYjZaMw",
        "outputId": "15946d3c-16f5-4fcc-d6df-3e3c0b862704"
      },
      "execution_count": null,
      "outputs": [
        {
          "output_type": "stream",
          "name": "stdout",
          "text": [
            "6\n",
            " \n",
            "1  \n",
            "2 3  \n",
            "4 5 6  \n",
            "7 8 9 10  \n",
            "11 12 13 14 15  \n"
          ]
        }
      ]
    },
    {
      "cell_type": "markdown",
      "source": [
        "# Given 2 integers a and b, task is to determine the sum of cubes of all numbers in the range from a to b"
      ],
      "metadata": {
        "id": "RRsySYUmmzP-"
      }
    },
    {
      "cell_type": "code",
      "source": [
        "a = int(input())\n",
        "b = int(input())\n",
        "\n",
        "sum = 0\n",
        "\n",
        "for i in range(a,b+1):\n",
        "  sum = sum+i**3\n",
        "print(sum)\n"
      ],
      "metadata": {
        "colab": {
          "base_uri": "https://localhost:8080/"
        },
        "id": "bW2zGpYEes6u",
        "outputId": "8d15300e-9a02-4f7c-98ca-7c87a3253308"
      },
      "execution_count": null,
      "outputs": [
        {
          "output_type": "stream",
          "name": "stdout",
          "text": [
            "4\n",
            "9\n",
            "1989\n"
          ]
        }
      ]
    },
    {
      "cell_type": "markdown",
      "source": [
        "# Given an integer N, Task is to calculate the sum of first 10 Multiples of N and print the result"
      ],
      "metadata": {
        "id": "eBbZlKMBnnIV"
      }
    },
    {
      "cell_type": "code",
      "source": [
        "n = int(input())\n",
        "sum = 0\n",
        "for i in range(1,11):\n",
        "  mult = i*n\n",
        "  sum+=mult\n",
        "print(sum)\n"
      ],
      "metadata": {
        "colab": {
          "base_uri": "https://localhost:8080/"
        },
        "id": "MP0Jd0OCnN3p",
        "outputId": "08631804-945c-4569-9a79-7096b76d1aba"
      },
      "execution_count": null,
      "outputs": [
        {
          "output_type": "stream",
          "name": "stdout",
          "text": [
            "10\n",
            "550\n"
          ]
        }
      ]
    },
    {
      "cell_type": "markdown",
      "source": [
        "# You are given a grocery list of items, where each item is represented by its name,price per unit,and quantity sold. Your task is to:\n",
        "\n",
        "  1. Identify the item with highest total selling price.\n",
        "  2. Calculate the total selling price of all items.\n",
        "  3. Calculate average selling price of all items."
      ],
      "metadata": {
        "id": "YpZG-b9LpMtk"
      }
    },
    {
      "cell_type": "code",
      "source": [
        "lst = [[\"apple\", 1, 5], [\"orange\", 10, 5], [\"apple\", 10, 5]]\n",
        "\n",
        "# Identify the item with the highest total selling price\n",
        "ans = max(lst, key=lambda x: x[1] * x[2])\n",
        "\n",
        "# Calculate the total selling price of all items\n",
        "sum = 0\n",
        "for item in lst:\n",
        "  sum+=item[1]*item[2]\n",
        "ans1 = sum\n",
        "\n",
        "# Calculate the average selling price of all items\n",
        "ans2 = ans1 / len(lst)\n",
        "\n",
        "# Print the results\n",
        "print(f\"Item with the highest total selling price: {ans}\")\n",
        "print(f\"Total selling price of all items: {ans1}\")\n",
        "print(f\"Average selling price of all items: {ans2}\")\n"
      ],
      "metadata": {
        "colab": {
          "base_uri": "https://localhost:8080/"
        },
        "id": "zkElhKrRoxnP",
        "outputId": "35b9ca26-6187-4eba-9326-722054d66f8e"
      },
      "execution_count": null,
      "outputs": [
        {
          "output_type": "stream",
          "name": "stdout",
          "text": [
            "Item with the highest total selling price: ['orange', 10, 5]\n",
            "Total selling price of all items: 105\n",
            "Average selling price of all items: 35.0\n"
          ]
        }
      ]
    },
    {
      "cell_type": "code",
      "source": [
        "import numpy as np\n",
        "\n",
        "arr = np.array([7,10,4,3,20,15])\n",
        "n = int(input())\n",
        "\n",
        "ans = np.sort(arr)\n",
        "print(ans[n-1])"
      ],
      "metadata": {
        "id": "X4TPK3DwBTzW",
        "colab": {
          "base_uri": "https://localhost:8080/"
        },
        "outputId": "32598720-4f71-491c-c275-0df8ad3bab4e"
      },
      "execution_count": null,
      "outputs": [
        {
          "output_type": "stream",
          "name": "stdout",
          "text": [
            "3\n",
            "7\n"
          ]
        }
      ]
    },
    {
      "cell_type": "markdown",
      "source": [
        "# If input is string then output should be rtsng"
      ],
      "metadata": {
        "id": "4qKiRP1kFbx-"
      }
    },
    {
      "cell_type": "code",
      "source": [
        "def process_string(input_str):\n",
        "    result = []\n",
        "    temp = []\n",
        "\n",
        "    for char in input_str:\n",
        "        if char == 'i':\n",
        "            # Reverse the collected characters and add them to the result\n",
        "            result.extend(reversed(temp))\n",
        "            # Clear the temporary list\n",
        "            temp = []\n",
        "        else:\n",
        "            # Add characters to the temporary list\n",
        "            temp.append(char)\n",
        "\n",
        "    # Append any remaining characters after the last 'i'\n",
        "    result.extend(temp)\n",
        "\n",
        "    # Convert the list back to a string\n",
        "    return ''.join(result)\n",
        "\n",
        "# Example usage:\n",
        "input_str = input()\n",
        "output_str = process_string(input_str)\n",
        "print(output_str)  # Output will be \"rtsng\"\n"
      ],
      "metadata": {
        "colab": {
          "base_uri": "https://localhost:8080/"
        },
        "id": "JVWVv1lAaX5y",
        "outputId": "419010b3-a61c-4508-82d9-a700b3b4626b"
      },
      "execution_count": null,
      "outputs": [
        {
          "output_type": "stream",
          "name": "stdout",
          "text": [
            "print\n",
            "rpnt\n"
          ]
        }
      ]
    },
    {
      "cell_type": "code",
      "source": [
        "def reverse_before_i(s):\n",
        "    if 'i' in s:\n",
        "        index_i = s.index('i')\n",
        "        return s[:index_i][::-1] + s[index_i + 1:]\n",
        "    return s\n",
        "\n",
        "input_string = input()\n",
        "output_string = reverse_before_i(input_string)\n",
        "print(output_string)  # Output: rtsng"
      ],
      "metadata": {
        "colab": {
          "base_uri": "https://localhost:8080/"
        },
        "id": "KF7JHoAhTgUR",
        "outputId": "f7abfcb8-4c72-4252-bb19-cb4e2e99b65e"
      },
      "execution_count": null,
      "outputs": [
        {
          "output_type": "stream",
          "name": "stdout",
          "text": [
            "Vidhi\n",
            "Vdhi\n"
          ]
        }
      ]
    },
    {
      "cell_type": "markdown",
      "source": [
        "# Input :\n",
        "\n",
        "8  – Value of N\n",
        "\n",
        "[4,5,0,1,9,0,5,0] – Element of arr[O] to arr[N-1],While input each element is separated by newline\n",
        "\n",
        "Output:\n",
        "\n",
        "4 5 1 9 5 0 0 0"
      ],
      "metadata": {
        "id": "WWoGpG9hBsMY"
      }
    },
    {
      "cell_type": "code",
      "source": [
        "lst = eval(input())\n",
        "\n",
        "lst1 = []\n",
        "result = []\n",
        "\n",
        "for i in lst:\n",
        "  if i==0:\n",
        "    lst1.append(0)\n",
        "  else:\n",
        "    result.append(i)\n",
        "\n",
        "result.extend(lst1)\n",
        "print(result)"
      ],
      "metadata": {
        "colab": {
          "base_uri": "https://localhost:8080/"
        },
        "id": "qrsNK4KOZEFe",
        "outputId": "87bc0a42-ad4f-441f-dd7a-7f88bc72c519"
      },
      "execution_count": null,
      "outputs": [
        {
          "output_type": "stream",
          "name": "stdout",
          "text": [
            "[4,5,0,1,9,0,5,0]\n",
            "[4, 5, 1, 9, 5, 0, 0, 0]\n"
          ]
        }
      ]
    },
    {
      "cell_type": "markdown",
      "source": [
        "# Joseph is learning digital logic subject which will be for his next semester. He usually tries to solve unit assignment problems before the lecture. Today he got one tricky question. The problem statement is “A positive integer has been given as an input. Convert decimal value to binary representation. Toggle all bits of it after the most significant bit including the most significant bit. Print the positive integer value after toggling all bits”.\n",
        "\n",
        "Constrains-\n",
        "\n",
        "1<=N<=100\n",
        "\n",
        "Example 1:\n",
        "\n",
        "Input :\n",
        "\n",
        "10  -> Integer\n",
        "\n",
        "Output :\n",
        "\n",
        "5    -> result- Integer\n",
        "\n",
        "Explanation:\n",
        "\n",
        "Binary representation of 10 is 1010. After toggling the bits(1010), will get 0101 which represents “5”. Hence output will print “5”."
      ],
      "metadata": {
        "id": "BtSH6i2TDcG0"
      }
    },
    {
      "cell_type": "code",
      "source": [
        "def toggle_bits(n):\n",
        "    # Convert the number to its binary representation (excluding the '0b' prefix)\n",
        "    binary_rep = bin(n)[2:]\n",
        "\n",
        "    # Toggle all bits in the binary representation\n",
        "    toggled_binary = ''.join('1' if bit == '0' else '0' for bit in binary_rep)\n",
        "\n",
        "    # Convert the toggled binary string back to a decimal number\n",
        "    toggled_number = int(toggled_binary, 2)\n",
        "\n",
        "    return toggled_number\n",
        "\n",
        "# Input\n",
        "n = int(input(\"Enter a positive integer: \"))\n",
        "\n",
        "# Output\n",
        "print(toggle_bits(n))"
      ],
      "metadata": {
        "colab": {
          "base_uri": "https://localhost:8080/"
        },
        "id": "p96SaXl8CqID",
        "outputId": "80a703d3-7e12-4dd5-9fc7-f7551f69703b"
      },
      "execution_count": null,
      "outputs": [
        {
          "output_type": "stream",
          "name": "stdout",
          "text": [
            "Enter a positive integer: 8\n",
            "7\n"
          ]
        }
      ]
    },
    {
      "cell_type": "markdown",
      "source": [
        "# Given an integer array Arr of size N the task is to find the count of elements whose value is greater than all of its prior elements.\n",
        "\n",
        "Note : 1st element of the array should be considered in the count of the result.\n",
        "\n",
        "For example,\n",
        "\n",
        "Arr[]={7,4,8,2,9}\n",
        "\n",
        "As 7 is the first element, it will consider in the result.\n",
        "\n",
        "8 and 9 are also the elements that are greater than all of its previous elements.\n",
        "\n",
        "Since total of  3 elements is present in the array that meets the condition.\n",
        "\n",
        "Hence the output = 3."
      ],
      "metadata": {
        "id": "n6jbjJMmiiHz"
      }
    },
    {
      "cell_type": "code",
      "source": [
        "lst = eval(input())\n",
        "\n",
        "count = 1\n",
        "for i in range(1,len(lst)):\n",
        "  if lst[i]>lst[i-1]:\n",
        "    count+=1\n",
        "print(count)"
      ],
      "metadata": {
        "colab": {
          "base_uri": "https://localhost:8080/"
        },
        "id": "S78upT90En_z",
        "outputId": "9cf65393-ed83-4831-b987-63a1d79a5fc7"
      },
      "execution_count": null,
      "outputs": [
        {
          "output_type": "stream",
          "name": "stdout",
          "text": [
            "[3,4,5,8,9]\n",
            "5\n"
          ]
        }
      ]
    },
    {
      "cell_type": "markdown",
      "source": [
        "# A supermarket maintains a pricing format for all its products. A value N is printed on each product. When the scanner reads the value N on the item, the product of all the digits in the value N is the price of the item. The task here is to design the software such that given the code of any item N the product (multiplication) of all the digits of value should be computed(price).\n",
        "\n",
        "Example 1:\n",
        "\n",
        "Input :\n",
        "\n",
        "5244 -> Value of N\n",
        "\n",
        "Output :\n",
        "160 -> Price\n",
        "\n",
        "Explanation:\n",
        "\n",
        "From the input above\n",
        "\n",
        "Product of the digits 5,2,4,4\n",
        "\n",
        "5*2*4*4= 160\n",
        "\n",
        "Hence, output is 160."
      ],
      "metadata": {
        "id": "Pb-_yGvWlvvv"
      }
    },
    {
      "cell_type": "code",
      "source": [
        "n = int(input())\n",
        "product = 1\n",
        "\n",
        "while n>0:\n",
        "  digit = n%10\n",
        "  product*=digit\n",
        "  n = n//10\n",
        "\n",
        "print(product)"
      ],
      "metadata": {
        "colab": {
          "base_uri": "https://localhost:8080/"
        },
        "id": "6WpfTqfDkKVV",
        "outputId": "9ad300cc-e5c4-4e0d-da85-3ca8bc03af23"
      },
      "execution_count": null,
      "outputs": [
        {
          "output_type": "stream",
          "name": "stdout",
          "text": [
            "5244\n",
            "160\n"
          ]
        }
      ]
    },
    {
      "cell_type": "markdown",
      "source": [
        "# A furnishing company is manufacturing a new collection of curtains. The curtains are of two colors aqua(a) and black (b). The curtains color is represented as a string(str) consisting of a’s and b’s of length N. Then, they are packed (substring) into L number of curtains in each box. The box with the maximum number of ‘aqua’ (a) color curtains is labeled. The task here is to find the number of ‘aqua’ color curtains in the labeled box.\n",
        "\n",
        "Note :\n",
        "\n",
        "If ‘L’ is not a multiple of N, the remaining number of curtains should be considered as a substring too. In simple words, after dividing the curtains in sets of ‘L’, any curtains left will be another set(refer example 1)\n",
        "\n",
        "Example 1:\n",
        "\n",
        "Input :\n",
        "\n",
        "bbbaaababa -> Value of str\n",
        "\n",
        "3    -> Value of L\n",
        "\n",
        "Output:\n",
        "\n",
        "3   -> Maximum number of a’s\n",
        "\n",
        "Explanation:\n",
        "\n",
        "From the input given above.\n",
        "\n",
        "Dividing the string into sets of 3 characters each\n",
        "\n",
        "Set 1: {b,b,b}\n",
        "\n",
        "Set 2: {a,a,a}\n",
        "\n",
        "Set 3: {b,a,b}\n",
        "\n",
        "Set 4: {a} -> leftover characters also as taken as another set\n",
        "\n",
        "Among all the sets, Set 2 has more number of a’s. The number of a’s in set 2 is 3.\n",
        "\n",
        "Hence, the output is 3."
      ],
      "metadata": {
        "id": "mLl3nlo8tPEH"
      }
    },
    {
      "cell_type": "code",
      "source": [
        "def max_aqua_curtains(s: str, L: int) -> int:\n",
        "    max_a_count = 0\n",
        "    N = len(s)\n",
        "\n",
        "    # Traverse the string in chunks of size L\n",
        "    for i in range(0, N, L):\n",
        "        # Extract the substring\n",
        "        substring = s[i:i+L]\n",
        "\n",
        "        # Count the number of 'a's in the substring\n",
        "        a_count = substring.count('a')\n",
        "\n",
        "        # Update the maximum number of 'a's\n",
        "        max_a_count = max(max_a_count, a_count)\n",
        "\n",
        "    return max_a_count\n",
        "\n",
        "# Example Usage\n",
        "str_input = input()\n",
        "L = int(input())\n",
        "result = max_aqua_curtains(str_input, L)\n",
        "print(result)\n"
      ],
      "metadata": {
        "colab": {
          "base_uri": "https://localhost:8080/"
        },
        "id": "esLaiJLZmWbO",
        "outputId": "9f290b98-33cd-4fe9-a098-3bee9e1293b4"
      },
      "execution_count": null,
      "outputs": [
        {
          "output_type": "stream",
          "name": "stdout",
          "text": [
            "\"ababababaabbabab\"\n",
            "4\n",
            "2\n"
          ]
        }
      ]
    },
    {
      "cell_type": "markdown",
      "source": [
        "# An international round table conference will be held in india. Presidents from all over the world representing their respective countries will be attending the conference. The task is to find the possible number of ways(P) to make the N members sit around the circular table such that.\n",
        "\n",
        "The president and prime minister of India will always sit next to each other.\n",
        "\n",
        "Example 1:\n",
        "\n",
        "Input :\n",
        "\n",
        "4   -> Value of N(No. of members)\n",
        "\n",
        "Output :\n",
        "\n",
        "12  -> Possible ways of seating the members\n",
        "\n",
        "Explanation:\n",
        "\n",
        "2  members should always be next to each other.\n",
        "\n",
        "So, 2 members can be in 2!ways\n",
        "\n",
        "Rest of the members can be arranged in (4-1)! ways.(1 is subtracted because the previously selected two members will be considered as single members now).\n",
        "\n",
        "So total possible ways 4 members can be seated around the circular table 2*6= 12.\n",
        "\n",
        "Hence, output is 12.\n",
        "\n",
        "Example 2:\n",
        "\n",
        "Input:\n",
        "\n",
        "10  -> Value of N(No. of members)\n",
        "\n",
        "Output :\n",
        "\n",
        "725760 -> Possible ways of seating the members\n",
        "\n",
        "Explanation:\n",
        "\n",
        "2 members should always be next to each other.\n",
        "\n",
        "So, 2 members can be in 2! ways\n",
        "\n",
        "Rest of the members can be arranged in (10-1)! Ways. (1 is subtracted because the previously selected two members will be considered as a single member now).\n",
        "\n",
        "So, total possible ways 10 members can be seated around a round table is\n",
        "\n",
        "2*362880 = 725760 ways.\n",
        "\n",
        "Hence, output is 725760."
      ],
      "metadata": {
        "id": "MwULkvYDuSHA"
      }
    },
    {
      "cell_type": "code",
      "source": [
        "def factorial(n):\n",
        "    if n == 0:\n",
        "      return 1\n",
        "    else:\n",
        "      return n * factorial(n-1)\n",
        "\n",
        "n = int(input())\n",
        "result = factorial(n-1) * 2\n",
        "print(result)"
      ],
      "metadata": {
        "colab": {
          "base_uri": "https://localhost:8080/"
        },
        "id": "gdHeibNcseyS",
        "outputId": "89ae09b6-cbf2-4767-c0bd-10b6852ba7a8"
      },
      "execution_count": null,
      "outputs": [
        {
          "output_type": "stream",
          "name": "stdout",
          "text": [
            "10\n",
            "725760\n"
          ]
        }
      ]
    },
    {
      "cell_type": "markdown",
      "source": [
        "# An intelligence agency has received reports about some threats. The reports consist of numbers in a mysterious method. There is a number “N” and another number “R”. Those numbers are studied thoroughly and it is concluded that all digits of the number ‘N’ are summed up and this action is performed ‘R’ number of times. The resultant is also a single digit that is yet to be deciphered. The task here is to find the single-digit sum of the given number ‘N’ by repeating the action ‘R’ number of times.\n",
        "\n",
        "If the value of ‘R’ is 0, print the output as ‘0’.\n",
        "\n",
        "Example 1:\n",
        "\n",
        "Input :\n",
        "\n",
        "99 -> Value of N\n",
        "\n",
        "3  -> Value of R\n",
        "\n",
        "Output :\n",
        "\n",
        "9  -> Possible ways to fill the cistern.\n",
        "\n",
        "Explanation:\n",
        "\n",
        "Here, the number N=99\n",
        "\n",
        "Sum of the digits N: 9+9 = 18\n",
        "Repeat step 2 ‘R’ times i.e. 3 tims  (9+9)+(9+9)+(9+9) = 18+18+18 =54\n",
        "Add digits of 54 as we need a single digit 5+4\n",
        "Hence , the output is 9."
      ],
      "metadata": {
        "id": "-B-QI3Y27CUJ"
      }
    },
    {
      "cell_type": "code",
      "source": [
        "n = int(input())\n",
        "r = int(input())\n",
        "\n",
        "sum = 0\n",
        "\n",
        "while r > 0:\n",
        "  while n > 0:\n",
        "    digit = n % 10\n",
        "    sum += digit\n",
        "    n = n // 10\n",
        "  r -= 1\n",
        "\n",
        "  n = sum\n",
        "  sum = 0\n",
        "\n",
        "while n > 0:\n",
        "  digit = n % 10\n",
        "  sum += digit\n",
        "  n = n // 10\n",
        "print(sum)"
      ],
      "metadata": {
        "colab": {
          "base_uri": "https://localhost:8080/"
        },
        "id": "lNfFFevO5fqS",
        "outputId": "bb6142d2-7702-4633-cabf-32bf495e9b85"
      },
      "execution_count": null,
      "outputs": [
        {
          "output_type": "stream",
          "name": "stdout",
          "text": [
            "1234\n",
            "2\n",
            "1\n"
          ]
        }
      ]
    },
    {
      "cell_type": "markdown",
      "source": [
        "# Particulate matters are the biggest contributors to Delhi pollution. The main reason behind the increase in the concentration of PMs include vehicle emission by applying Odd Even concept for all types of vehicles. The vehicles with the odd last digit in the registration number will be allowed on roads on odd dates and those with even last digit will on even dates.\n",
        "\n",
        "Given an integer array a[], contains the last digit of the registration number of N vehicles traveling on date D(a positive integer). The task is to calculate the total fine collected by the traffic police department from the vehicles violating the rules.\n",
        "\n",
        "Note : For violating the rule, vehicles would be fined as X Rs.\n",
        "\n",
        "Example 1:\n",
        "\n",
        "Input :\n",
        "\n",
        "4 -> Value of N\n",
        "\n",
        "{5,2,3,7} -> a[], Elements a[0] to a[N-1], during input each element is separated by a new line\n",
        "\n",
        "12 -> Value of D, i.e. date\n",
        "\n",
        "200 -> Value of x i.e. fine"
      ],
      "metadata": {
        "id": "ykdxpg6cLobt"
      }
    },
    {
      "cell_type": "code",
      "source": [
        "n = int(input())            # Number of vehicles\n",
        "d = int(input())            # Date\n",
        "x = int(input())            # Fine amount\n",
        "lst = eval(input())         # List of last digits of the registration numbers\n",
        "\n",
        "count = 0\n",
        "\n",
        "# Check each last digit in the list\n",
        "for i in lst:\n",
        "    if d % 2 == 0:          # Check if the date is even\n",
        "        if i % 2 != 0:      # If date is even, fine vehicles with an odd last digit\n",
        "            count += 1\n",
        "    else:                   # If the date is odd\n",
        "        if i % 2 == 0:      # Fine vehicles with an even last digit\n",
        "            count += 1\n",
        "\n",
        "# Calculate the total fine\n",
        "ans = count * x\n",
        "\n",
        "# Print the total fine\n",
        "print(ans)"
      ],
      "metadata": {
        "colab": {
          "base_uri": "https://localhost:8080/"
        },
        "id": "Fa-i9fpi-P4D",
        "outputId": "722e8e26-9393-45ec-eafe-7798a5f491c6"
      },
      "execution_count": null,
      "outputs": [
        {
          "output_type": "stream",
          "name": "stdout",
          "text": [
            "5\n",
            "3\n",
            "300\n",
            "[2,5,1,6,8]\n",
            "900\n"
          ]
        }
      ]
    },
    {
      "cell_type": "markdown",
      "source": [
        "# Smallest element in the array"
      ],
      "metadata": {
        "id": "_7KyaYk2Tedn"
      }
    },
    {
      "cell_type": "code",
      "source": [
        "import numpy as np\n",
        "\n",
        "# lst = eval(input())\n",
        "\n",
        "# print(min(lst))\n",
        "\n",
        "# lst = eval(input())\n",
        "\n",
        "# min = lst[0]\n",
        "\n",
        "# for i in range(1,len(lst)):\n",
        "#   if lst[i]<min:\n",
        "#     min = lst[i]\n",
        "\n",
        "# print(min)\n",
        "\n",
        "lst = eval(input())\n",
        "\n",
        "ans = sorted(lst)\n",
        "print(ans[0])\n"
      ],
      "metadata": {
        "colab": {
          "base_uri": "https://localhost:8080/"
        },
        "id": "wmeQnpk9NIM3",
        "outputId": "a1be5681-0f2e-49bd-8e78-9b470c31093e"
      },
      "execution_count": null,
      "outputs": [
        {
          "output_type": "stream",
          "name": "stdout",
          "text": [
            "1,2,3,4,0\n",
            "0\n"
          ]
        }
      ]
    },
    {
      "cell_type": "markdown",
      "source": [
        "# Second cmallest or second largest"
      ],
      "metadata": {
        "id": "NUc7GR0cYxbV"
      }
    },
    {
      "cell_type": "code",
      "source": [
        "lst = eval(input())\n",
        "ans = sorted(lst)\n",
        "print(ans[1])"
      ],
      "metadata": {
        "colab": {
          "base_uri": "https://localhost:8080/"
        },
        "id": "vnqliaQ3Udy3",
        "outputId": "4095d96e-4c05-4bd1-9932-8ef4b0dc79c8"
      },
      "execution_count": null,
      "outputs": [
        {
          "output_type": "stream",
          "name": "stdout",
          "text": [
            "[1,2,3,4,5,6]\n",
            "2\n"
          ]
        }
      ]
    },
    {
      "cell_type": "markdown",
      "source": [
        "# The function accepts two positive integers ‘r’ and ‘unit’ and a positive integer array ‘arr’ of size ‘n’ as its argument ‘r’ represents the number of rats present in an area, ‘unit’ is the amount of food each rat consumes and each ith element of array ‘arr’ represents the amount of food present in ‘i+1’ house number, where 0 <= i\n",
        "\n",
        "Note:\n",
        "\n",
        "Return -1 if the array is null\n",
        "Return 0 if the total amount of food from all houses is not sufficient for all the rats.\n",
        "Computed values lie within the integer range.\n",
        "Example:\n",
        "\n",
        "Input:\n",
        "\n",
        "r: 7\n",
        "unit: 2\n",
        "n: 8\n",
        "arr: 2 8 3 5 7 4 1 2"
      ],
      "metadata": {
        "id": "50JeMv_-pt4W"
      }
    },
    {
      "cell_type": "code",
      "source": [
        "# Input the number of rats and the amount of food each rat consumes\n",
        "r = int(input(\"Enter the number of rats: \"))\n",
        "unit = int(input(\"Enter the amount of food each rat consumes: \"))\n",
        "lst = eval(input(\"Enter the list of food quantities in each house: \"))\n",
        "\n",
        "# Check if the list is empty\n",
        "if not lst:\n",
        "    print(-1)  # Return -1 if the array is null\n",
        "else:\n",
        "    total_required_food = r * unit  # Total food required for all rats\n",
        "    total_available_food = 0  # Initialize total available food to 0\n",
        "\n",
        "    # Calculate total available food in all houses\n",
        "    for food in lst:\n",
        "        total_available_food += food\n",
        "\n",
        "    # Check if the total available food is less than the required food\n",
        "    if total_available_food < total_required_food:\n",
        "        print(0)  # Not enough food for all rats\n",
        "    else:\n",
        "        accumulated_food = 0  # Initialize accumulated food to 0\n",
        "        houses_needed = 0  # Initialize the count of houses needed\n",
        "\n",
        "        # Loop through the list to count how many houses are needed\n",
        "        for food in lst:\n",
        "            accumulated_food += food\n",
        "            houses_needed += 1\n",
        "            if accumulated_food >= total_required_food:\n",
        "                break  # Stop when enough food is collected\n",
        "\n",
        "        print(houses_needed)  # Output the number of houses needed\n"
      ],
      "metadata": {
        "colab": {
          "base_uri": "https://localhost:8080/"
        },
        "id": "gnFaSC8oulZz",
        "outputId": "cb9de0bb-fd89-4be4-e9a0-d1c008e12204"
      },
      "execution_count": null,
      "outputs": [
        {
          "output_type": "stream",
          "name": "stdout",
          "text": [
            "Enter the number of rats: 7\n",
            "Enter the amount of food each rat consumes: 2\n",
            "Enter the list of food quantities in each house: [2,8,3,5,7,4,1,2]\n",
            "4\n"
          ]
        }
      ]
    },
    {
      "cell_type": "markdown",
      "source": [
        "# The function accepts an integer array ‘arr’, its length and two integer variables ‘num’ and ‘diff’. Implement this function to find and return the number of elements of ‘arr’ having an absolute difference of less than or equal to ‘diff’ with ‘num’.\n",
        "Note: In case there is no element in ‘arr’ whose absolute difference with ‘num’ is less than or equal to ‘diff’, return -1.\n",
        "\n",
        "Example:\n",
        "Input:\n",
        "\n",
        "arr: 12 3 14 56 77 13\n",
        "num: 13\n",
        "diff: 2\n",
        "Output:\n",
        "3\n",
        "\n",
        "Explanation:\n",
        "Elements of ‘arr’ having absolute difference of less than or equal to ‘diff’ i.e. 2 with ‘num’ i.e. 13 are 12, 13 and 14."
      ],
      "metadata": {
        "id": "_2LmmAQu1WZO"
      }
    },
    {
      "cell_type": "code",
      "source": [
        "lst  = eval(input())\n",
        "num = int(input())\n",
        "diff = int(input())\n",
        "\n",
        "count = 0\n",
        "\n",
        "for i in lst:\n",
        "  if abs(i-num)<=diff:\n",
        "    count+=1\n",
        "\n",
        "if count==0:\n",
        "  print(-1)\n",
        "else:\n",
        "  print(count)"
      ],
      "metadata": {
        "colab": {
          "base_uri": "https://localhost:8080/"
        },
        "id": "KI2RprlDu-Sl",
        "outputId": "0c769dd5-cb50-42dd-8cfd-91fb34d0351c"
      },
      "execution_count": null,
      "outputs": [
        {
          "output_type": "stream",
          "name": "stdout",
          "text": [
            "[12,3,14,56,77,13]\n",
            "13\n",
            "2\n",
            "3\n"
          ]
        }
      ]
    },
    {
      "cell_type": "markdown",
      "source": [
        "# The function accepts two integers n, m as arguments Find the sum of all numbers in range from 1 to m(both inclusive) that are not divisible by n. Return difference between sum of integers not divisible by n with sum of numbers divisible by n.\n",
        "\n",
        "Assumption:\n",
        "\n",
        "n>0 and m>0\n",
        "Sum lies between integral range\n",
        "Example\n",
        "\n",
        "Input\n",
        "n:4\n",
        "m:20\n",
        "Output\n",
        "90\n",
        "\n",
        "Explanation\n",
        "\n",
        "Sum of numbers divisible by 4 are 4 + 8 + 12 + 16 + 20 = 60\n",
        "Sum of numbers not divisible by 4 are 1 +2 + 3 + 5 + 6 + 7 + 9 + 10 + 11 + 13 + 14 + 15 + 17 + 18 + 19 = 150\n",
        "Difference 150 – 60 = 90"
      ],
      "metadata": {
        "id": "3644sVQREHiT"
      }
    },
    {
      "cell_type": "code",
      "source": [
        "n = int(input())\n",
        "m = int(input())\n",
        "\n",
        "sum = 0\n",
        "sum1 = 0\n",
        "\n",
        "for i in range(1,m+1):\n",
        "  if i%n==0:\n",
        "    sum+=i\n",
        "  else:\n",
        "    sum1+=i\n",
        "\n",
        "print(sum1-sum)\n"
      ],
      "metadata": {
        "colab": {
          "base_uri": "https://localhost:8080/"
        },
        "id": "fz968AOyDG8Y",
        "outputId": "f05b595a-87f6-4331-9d8f-562b9ba46f69"
      },
      "execution_count": null,
      "outputs": [
        {
          "output_type": "stream",
          "name": "stdout",
          "text": [
            "3\n",
            "10\n",
            "19\n"
          ]
        }
      ]
    },
    {
      "cell_type": "markdown",
      "source": [
        "# Method 2"
      ],
      "metadata": {
        "id": "6B_1mUaLFonf"
      }
    },
    {
      "cell_type": "code",
      "source": [
        "n = int(input(\"Enter n: \"))\n",
        "m = int(input(\"Enter m: \"))\n",
        "\n",
        "# Sum of all numbers from 1 to m\n",
        "total_sum = m * (m + 1) // 2\n",
        "\n",
        "# Largest integer p such that p * n <= m\n",
        "p = m // n\n",
        "\n",
        "# Sum of all multiples of n from 1 to m\n",
        "sum_divisible_by_n = n * p * (p + 1) // 2\n",
        "\n",
        "# Sum of numbers not divisible by n\n",
        "sum_not_divisible_by_n = total_sum - sum_divisible_by_n\n",
        "\n",
        "# Result: sum_not_divisible_by_n - sum_divisible_by_n\n",
        "result = sum_not_divisible_by_n - sum_divisible_by_n\n",
        "\n",
        "print(result)\n"
      ],
      "metadata": {
        "colab": {
          "base_uri": "https://localhost:8080/"
        },
        "id": "mlwmZZM-EwFY",
        "outputId": "cc563332-035a-4119-ba61-6fec90c4ec06"
      },
      "execution_count": null,
      "outputs": [
        {
          "output_type": "stream",
          "name": "stdout",
          "text": [
            "Enter n: 3\n",
            "Enter m: 10\n",
            "19\n"
          ]
        }
      ]
    },
    {
      "cell_type": "markdown",
      "source": [
        "# The function accepts an integers arr of size ’length’ as its arguments you are required to return the sum of second largest  element from the even positions and second smallest from the odd position of given ‘arr’\n",
        "\n",
        "Assumption:\n",
        "\n",
        "All array elements are unique\n",
        "Treat the 0th position as even\n",
        "NOTE\n",
        "\n",
        "Return 0 if array is empty\n",
        "Return 0, if array length is 3 or less than 3\n",
        "Example\n",
        "\n",
        "Input\n",
        "\n",
        "arr:3 2 1 7 5 4\n",
        "\n",
        "Output\n",
        "\n",
        "7\n",
        "\n",
        "Explanation\n",
        "\n",
        "Second largest among even position elements(1 3 5) is 3\n",
        "Second smallest among odd position element is 4\n",
        "Thus output is 3+4 = 7"
      ],
      "metadata": {
        "id": "sAjHptWZGUdL"
      }
    },
    {
      "cell_type": "code",
      "source": [
        "lst = eval(input())\n",
        "lst1 = []\n",
        "lst2 = []\n",
        "\n",
        "if not lst:\n",
        "  print(0)\n",
        "\n",
        "if len(lst)<=3:\n",
        "  print(0)\n",
        "\n",
        "for i in range(0,len(lst)):\n",
        "  if i%2==0:\n",
        "    lst1.append(lst[i])\n",
        "  else:\n",
        "    lst2.append(lst[i])\n",
        "\n",
        "ans1 = sorted(lst1)\n",
        "ans2 = sorted(lst2)\n",
        "\n",
        "print((ans1[-2]+ans2[1]))"
      ],
      "metadata": {
        "colab": {
          "base_uri": "https://localhost:8080/"
        },
        "id": "3_BE_JMvFqne",
        "outputId": "4b01b4fd-c32e-4638-940a-b8369df06f94"
      },
      "execution_count": null,
      "outputs": [
        {
          "output_type": "stream",
          "name": "stdout",
          "text": [
            "[3,2,1,7,5,4]\n",
            "7\n"
          ]
        }
      ]
    },
    {
      "cell_type": "markdown",
      "source": [
        "# The function accepts an integers sum and an integer array arr of size n. Implement the function to find the pair, (arr[j], arr[k]) where j!=k, Such that arr[j] and arr[k] are the least two elements of array (arr[j] + arr[k] <= sum) and return the product of element of this pair\n",
        "\n",
        "NOTE\n",
        "\n",
        "Return -1 if array is empty or if n<2\n",
        "Return 0, if no such pairs found\n",
        "All computed values lie within integer range\n",
        "Example\n",
        "\n",
        "Input\n",
        "\n",
        "sum:9\n",
        "\n",
        "size of Arr = 7\n",
        "\n",
        "Arr:5 2 4 3 9 7 1\n",
        "\n",
        "Output\n",
        "\n",
        "2\n",
        "\n",
        "Explanation\n",
        "\n",
        "Pair of least two element is (2, 1) 2 + 1 = 3 < 9, Product of (2, 1) 2*1 = 2. Thus, output is 2"
      ],
      "metadata": {
        "id": "-zy5u0YFMSzs"
      }
    },
    {
      "cell_type": "code",
      "source": [
        "a = int(input())\n",
        "lst = eval(input())\n",
        "\n",
        "if not lst or len(lst)<2:\n",
        "  print(0)\n",
        "\n",
        "ans = sorted(lst)\n",
        "\n",
        "if ans[0]+ans[1]<=a:\n",
        "  print(ans[0]*ans[1])\n",
        "else:\n",
        "  print(0)"
      ],
      "metadata": {
        "colab": {
          "base_uri": "https://localhost:8080/"
        },
        "id": "Iav0gydJH4LQ",
        "outputId": "95e089d2-5c65-4c89-ce2b-ab00c050a259"
      },
      "execution_count": null,
      "outputs": [
        {
          "output_type": "stream",
          "name": "stdout",
          "text": [
            "4\n",
            "[9,8,3,-7,3,9]\n",
            "-21\n"
          ]
        }
      ]
    },
    {
      "cell_type": "markdown",
      "source": [
        "# The function accept positive integer n and num Implement the function to calculate the n-base equivalent of num and return the same as a string\n",
        "\n",
        "Steps:\n",
        "\n",
        "Divide the decimal number by n,Treat the division as the integer division\n",
        "Write the the remainder (in  n-base notation)\n",
        "Divide the quotient again by n, Treat the division as integer division\n",
        "Repeat step 2 and 3 until the quotient is 0\n",
        "The n-base value is the sequence of the remainders from last to first\n",
        "Assumption:\n",
        "1 < n < = 36\n",
        "\n",
        "Example\n",
        "\n",
        "Input\n",
        "n: 12\n",
        "num: 718\n",
        "\n",
        "Output\n",
        "4BA\n",
        "\n",
        "Explanation\n",
        "\n",
        "num       Divisor           quotient              remainder\n",
        "718           12               59                 10(A)\n",
        "\n",
        "59             12               4                   11(B)\n",
        "\n",
        "4               12                0                   4(4)"
      ],
      "metadata": {
        "id": "XC3Hy1KsIgjY"
      }
    },
    {
      "cell_type": "code",
      "source": [
        "n = int(input(\"Enter the base (n): \"))\n",
        "num = int(input(\"Enter the number (num): \"))\n",
        "\n",
        "char_output = \"\"\n",
        "\n",
        "while num != 0:\n",
        "    remainder = num % n\n",
        "    quotient = num // n\n",
        "\n",
        "    # Map remainder to character (A=10, B=11, ..., Z=35)\n",
        "    if remainder >= 10:\n",
        "        char_output = chr(55 + remainder) + char_output\n",
        "    else:\n",
        "        char_output = chr(48 + remainder) + char_output  # Numbers 0-9\n",
        "\n",
        "    num = quotient\n",
        "\n",
        "print(char_output)\n",
        "\n",
        "\n",
        "\n"
      ],
      "metadata": {
        "colab": {
          "base_uri": "https://localhost:8080/"
        },
        "id": "mHnt-dZONqMQ",
        "outputId": "9bd528e8-395a-4167-8cbf-a23322d0b4c2"
      },
      "execution_count": null,
      "outputs": [
        {
          "output_type": "stream",
          "name": "stdout",
          "text": [
            "Enter the base (n): 21\n",
            "Enter the number (num): 5678\n",
            "CI8\n"
          ]
        }
      ]
    },
    {
      "cell_type": "markdown",
      "source": [
        "# The function accepts a string “str” of length ‘n’, that contains alphabets and hyphens (-). Implement the function to move all hyphens(-) in the string to the front of the given string.\n",
        "\n",
        "NOTE:- Return null if str is null.\n",
        "\n",
        "Example :-\n",
        "\n",
        "Input:\n",
        "str.Move-Hyphens-to-Front\n",
        "Output:\n",
        "—MoveHyphenstoFront\n",
        "Explanation:-\n",
        "\n",
        "The string “Move-Hyphens -to-front” has 3 hyphens (-), which are moved to the front of the string, this output is “— MoveHyphen”\n",
        "\n",
        "Sample Input\n",
        "\n",
        "Str: String-Compare\n",
        "Sample Output-\n",
        "\n",
        "-StringCompare"
      ],
      "metadata": {
        "id": "tGtIq5qgSczI"
      }
    },
    {
      "cell_type": "code",
      "source": [
        "strng = input()\n",
        "\n",
        "strng.split(\" \")\n",
        "\n",
        "for i in strng:\n",
        "  if i == \"-\":\n",
        "    strng = strng.replace(i,\"\")\n",
        "    strng = \"-\"+strng\n",
        "\n",
        "print(strng)"
      ],
      "metadata": {
        "colab": {
          "base_uri": "https://localhost:8080/"
        },
        "id": "3RPJpRMLPiog",
        "outputId": "db15f0e4-dd96-4f9a-bc04-3e183cacec6b"
      },
      "execution_count": null,
      "outputs": [
        {
          "output_type": "stream",
          "name": "stdout",
          "text": [
            "string-compare\n",
            "-stringcompare\n"
          ]
        }
      ]
    },
    {
      "cell_type": "markdown",
      "source": [
        "# he functions accepts two numbers ‘num1’ and ‘num2’ as its arguments. You are required to calculate and return  the total number of carries generated while adding digits of two numbers ‘num1’ and ‘ num2’.\n",
        "\n",
        "Assumption: num1, num2>=0\n",
        "\n",
        "Example:\n",
        "\n",
        "Input\n",
        "Num 1: 451\n",
        "Num 2: 349\n",
        "Output\n",
        "2\n",
        "Explanation:\n",
        "\n",
        "Adding ‘num 1’ and ‘num 2’ right-to-left results in 2 carries since ( 1+9) is 10. 1 is carried and (5+4=1) is 10, again 1 is carried. Hence 2 is returned."
      ],
      "metadata": {
        "id": "zWKYenaJTrYL"
      }
    },
    {
      "cell_type": "code",
      "source": [
        "num1 = int(input())\n",
        "num2 = int(input())\n",
        "\n",
        "carry = 0\n",
        "count_carry = 0\n",
        "\n",
        "while num1 > 0 or num2 > 0 or carry > 0:\n",
        "    digit1 = num1 % 10\n",
        "    digit2 = num2 % 10\n",
        "\n",
        "    # Sum the digits plus any carry from the previous step\n",
        "    sum_digits = digit1 + digit2 + carry\n",
        "\n",
        "    # If the sum is 10 or greater, a carry occurs\n",
        "    if sum_digits >= 10:\n",
        "        carry = 1\n",
        "        count_carry += 1\n",
        "    else:\n",
        "        carry = 0\n",
        "\n",
        "    # Move to the next digit\n",
        "    num1 //= 10\n",
        "    num2 //= 10\n",
        "\n",
        "print(count_carry)\n"
      ],
      "metadata": {
        "colab": {
          "base_uri": "https://localhost:8080/"
        },
        "id": "HWVJyZ77S-h8",
        "outputId": "5c335dd3-7001-40ee-e29f-817f223f2f7a"
      },
      "execution_count": null,
      "outputs": [
        {
          "output_type": "stream",
          "name": "stdout",
          "text": [
            "23\n",
            "564\n",
            "0\n"
          ]
        }
      ]
    },
    {
      "cell_type": "markdown",
      "source": [
        "# The function accepts a string  ‘ str’ of length n and two characters ‘ch1’ and ‘ch2’ as its arguments . Implement the function to modify and return the string ‘ str’ in such a way that all occurrences of ‘ch1’ in original string are replaced by ‘ch2’ and all occurrences of ‘ch2’  in original string are replaced by ‘ch1’.\n",
        "\n",
        "Assumption: String Contains only lower-case alphabetical letters.\n",
        "\n",
        "Note:\n",
        "\n",
        "Return null if string is null.\n",
        "If both characters are not present in string or both of them are same , then return the string unchanged.\n",
        "Example:\n",
        "\n",
        "Input:\n",
        "Str: apples\n",
        "ch1:a\n",
        "ch2:p\n",
        "Output:\n",
        "paales\n",
        "Explanation:\n",
        "\n",
        "‘A’ in original string is replaced with ‘p’ and ‘p’ in original string is replaced with ‘a’, thus output is paales."
      ],
      "metadata": {
        "id": "FmW09Pfhalyo"
      }
    },
    {
      "cell_type": "code",
      "source": [
        "def swap_characters(strng, ch1, ch2):\n",
        "    if not strng:\n",
        "        return None\n",
        "\n",
        "    # If both characters are the same or not in the string, return the string unchanged\n",
        "    if ch1 == ch2 or (ch1 not in strng and ch2 not in strng):\n",
        "        return strng\n",
        "\n",
        "    # Temporarily replace ch1 with a placeholder to avoid conflicts\n",
        "    placeholder = '#'\n",
        "    strng = strng.replace(ch1, placeholder)\n",
        "    strng = strng.replace(ch2, ch1)\n",
        "    strng = strng.replace(placeholder, ch2)\n",
        "\n",
        "    return strng\n",
        "\n",
        "# Example usage\n",
        "strng = input(\"Enter the string: \")\n",
        "ch1 = input(\"Enter the first character: \")\n",
        "ch2 = input(\"Enter the second character: \")\n",
        "\n",
        "result = swap_characters(strng, ch1, ch2)\n",
        "print(result)\n"
      ],
      "metadata": {
        "colab": {
          "base_uri": "https://localhost:8080/"
        },
        "id": "WZix9EVUVgdG",
        "outputId": "faafdb4f-b935-4fed-9636-28eebea220df"
      },
      "execution_count": null,
      "outputs": [
        {
          "output_type": "stream",
          "name": "stdout",
          "text": [
            "Enter the string: siddharth\n",
            "Enter the first character: d\n",
            "Enter the second character: s\n",
            "dissharth\n"
          ]
        }
      ]
    },
    {
      "cell_type": "markdown",
      "source": [
        "# The function accepts 3 positive integers ‘a’ , ‘b’ and ‘c ‘ as its arguments. Implement the function to return.\n",
        "\n",
        "( a+ b ) , if c=1\n",
        "( a – b ) , if c=2\n",
        "( a * b ) ,  if c=3\n",
        "(a / b) ,  if c =4\n",
        "Assumption : All operations will result in integer output.\n",
        "\n",
        "Example:\n",
        "\n",
        "Input\n",
        "c :1\n",
        "a:12\n",
        "b:16\n",
        "Output:\n",
        "Since ‘c’=1 , (12+16) is performed which is equal to 28 , hence 28 is returned."
      ],
      "metadata": {
        "id": "_VAxejMofGVS"
      }
    },
    {
      "cell_type": "code",
      "source": [
        "c = int(input())\n",
        "a = int(input())\n",
        "b = int(input())\n",
        "\n",
        "if c==1:\n",
        "  print(a+b)\n",
        "elif c==2:\n",
        "  print(a-b)\n",
        "elif c==3:\n",
        "  print(a*b)\n",
        "elif c==4:\n",
        "  print(a/b)\n",
        "else:\n",
        "  print(\"error\")"
      ],
      "metadata": {
        "colab": {
          "base_uri": "https://localhost:8080/"
        },
        "id": "Tq0tv8-lZMcP",
        "outputId": "aad6bd15-537b-48bc-b10f-67406fba5d4c"
      },
      "execution_count": null,
      "outputs": [
        {
          "output_type": "stream",
          "name": "stdout",
          "text": [
            "2\n",
            "6\n",
            "10\n",
            "-4\n"
          ]
        }
      ]
    },
    {
      "cell_type": "markdown",
      "source": [
        "# You have to find and return the number between ‘a’ and ‘b’ ( range inclusive on both ends) which has the maximum exponent of 2.\n",
        "\n",
        "The algorithm to find the number with maximum exponent of 2 between the given range is\n",
        "\n",
        "Loop between ‘a’ and ‘b’. Let the looping variable be ‘i’.\n",
        "Find the exponent (power) of 2 for each ‘i’ and store the number with maximum exponent of 2 so faqrd in a variable , let say ‘max’. Set ‘max’ to ‘i’ only if ‘i’ has more exponent of 2 than ‘max’.\n",
        "Return ‘max’.\n",
        "Assumption: a <b\n",
        "\n",
        "Note: If two or more numbers in the range have the same exponents of  2 , return the small number.\n",
        "\n",
        "Example\n",
        "\n",
        "Input:\n",
        "7\n",
        "12\n",
        "Output:\n",
        "8"
      ],
      "metadata": {
        "id": "Nw5qJO5qkGFl"
      }
    },
    {
      "cell_type": "code",
      "source": [
        "# a = int(input())\n",
        "# b - int(input())\n",
        "\n",
        "# for i in range(a,b+1):\n",
        "#   if 2**3 > i:\n",
        "#     max = 2**3\n",
        "\n",
        "# print(max)\n",
        "\n",
        "a = int(input())\n",
        "b = int(input())\n",
        "\n",
        "max_exponent = 0\n",
        "max_number = a\n",
        "\n",
        "for i in range(a, b + 1):\n",
        "    exponent = 0\n",
        "    num = i\n",
        "\n",
        "    while num % 2 == 0:\n",
        "        num //= 2\n",
        "        exponent += 1\n",
        "\n",
        "    if exponent > max_exponent:\n",
        "        max_exponent = exponent\n",
        "        max_number = i\n",
        "    elif exponent == max_exponent and i < max_number:\n",
        "        max_number = i\n",
        "\n",
        "print(max_number)"
      ],
      "metadata": {
        "colab": {
          "base_uri": "https://localhost:8080/"
        },
        "id": "vQRBzFfafwou",
        "outputId": "6122facf-cc53-4dd7-f5dc-40b58e95073b"
      },
      "execution_count": null,
      "outputs": [
        {
          "output_type": "stream",
          "name": "stdout",
          "text": [
            "2\n",
            "259\n",
            "256\n"
          ]
        }
      ]
    },
    {
      "cell_type": "markdown",
      "source": [
        "# The function accepts 2 positive integer ‘m’ and ‘n’ as its arguments.You are required to calculate the sum of numbers divisible both by 3 and 5, between ‘m’ and ‘n’ both inclusive and return the same.\n",
        "Note\n",
        "0 < m <= n\n",
        "\n",
        "Example\n",
        "\n",
        "Input:\n",
        "\n",
        "m : 12\n",
        "\n",
        "n : 50\n",
        "\n",
        "Output\n",
        "\n",
        "90\n",
        "\n",
        "Explanation:\n",
        "The numbers divisible by both 3 and 5, between 12 and 50 both inclusive are {15, 30, 45} and their sum is 90.\n",
        "Sample Input\n",
        "m : 100\n",
        "n : 160\n",
        "Sample Output\n",
        "510"
      ],
      "metadata": {
        "id": "yDbBTePlnTOC"
      }
    },
    {
      "cell_type": "code",
      "source": [
        "n = int(input())\n",
        "m = int(input())\n",
        "\n",
        "sum = 0\n",
        "\n",
        "for i in range(n,m+1):\n",
        "  if i%3==0 and i%5==0:\n",
        "    sum+=i\n",
        "print(sum)"
      ],
      "metadata": {
        "colab": {
          "base_uri": "https://localhost:8080/"
        },
        "id": "4leer0FQlU3P",
        "outputId": "779ba150-e2bf-4808-a187-1b3d4cf692d7"
      },
      "execution_count": null,
      "outputs": [
        {
          "output_type": "stream",
          "name": "stdout",
          "text": [
            "100\n",
            "160\n",
            "510\n"
          ]
        }
      ]
    },
    {
      "cell_type": "code",
      "source": [
        "n = int(input(\"Input the number for which u want to write the table:\"))\n",
        "sum = 0\n",
        "for i in range(1,11):\n",
        "  print(i*n)\n",
        "  sum+=i*n\n",
        "print(\" \")\n",
        "print(\"output sum =:\",sum)"
      ],
      "metadata": {
        "colab": {
          "base_uri": "https://localhost:8080/"
        },
        "id": "Z8tQMETXrRSc",
        "outputId": "7c1260b7-8205-4769-a5b4-7765826ffe48"
      },
      "execution_count": null,
      "outputs": [
        {
          "output_type": "stream",
          "name": "stdout",
          "text": [
            "Input the number for which u want to write the table10\n",
            "10\n",
            "20\n",
            "30\n",
            "40\n",
            "50\n",
            "60\n",
            "70\n",
            "80\n",
            "90\n",
            "100\n",
            " \n",
            "output sum =: 550\n"
          ]
        }
      ]
    },
    {
      "cell_type": "markdown",
      "source": [
        "# Question: Write a program in C such that it takes a lower limit and upper limit as inputs and print all the intermediate palindrome numbers.\n",
        "\n",
        "Test Cases:\n",
        "\n",
        "TestCase 1:\n",
        "Input :\n",
        "10 , 80\n",
        "Expected Result:\n",
        "11 , 22 , 33 , 44 , 55 , 66 , 77.\n",
        "\n",
        "Test Case 2:\n",
        "Input:\n",
        "100,200\n",
        "Expected Result:\n",
        "101 , 111 , 121 , 131 , 141 , 151 , 161 , 171 , 181 , 191"
      ],
      "metadata": {
        "id": "oRsZCq7CufC8"
      }
    },
    {
      "cell_type": "code",
      "source": [
        "n = int(input())\n",
        "m = int(input())\n",
        "\n",
        "for i in range(n,m+1):\n",
        "  if str(i)==str(i)[::-1]:\n",
        "    print(i,end = \" \")"
      ],
      "metadata": {
        "colab": {
          "base_uri": "https://localhost:8080/"
        },
        "id": "gjpR31xktBfe",
        "outputId": "54167f1a-1dd0-4049-d019-ba25d62a2eff"
      },
      "execution_count": null,
      "outputs": [
        {
          "output_type": "stream",
          "name": "stdout",
          "text": [
            "100\n",
            "200\n",
            "101 111 121 131 141 151 161 171 181 191 "
          ]
        }
      ]
    },
    {
      "cell_type": "markdown",
      "source": [
        "# Q1) Given an array of integers where every element appears even number of times except one element which appears odd number of times, write a program to find that odd occurring element in O(log n) time. The equal elements must appear in pairs in the array but there cannot be more than two consecutive occurrences of an element.\n",
        "\n",
        "\n",
        "5\n",
        "\n",
        "2 2 3 1 1\n",
        "\n",
        "Sample Output :\n",
        "\n",
        "3"
      ],
      "metadata": {
        "id": "zZvtJqvUlf0x"
      }
    },
    {
      "cell_type": "code",
      "source": [
        "lst = eval(input())\n",
        "\n",
        "for i in lst:\n",
        "  if lst.count(i)%2!=0:\n",
        "    print(i)\n",
        "    break"
      ],
      "metadata": {
        "colab": {
          "base_uri": "https://localhost:8080/"
        },
        "id": "jCCiQsjt1tPl",
        "outputId": "17b0b868-48e3-468f-dc56-e5d068b032a4"
      },
      "execution_count": null,
      "outputs": [
        {
          "output_type": "stream",
          "name": "stdout",
          "text": [
            "[2,2,3,1,1]\n",
            "3\n"
          ]
        }
      ]
    },
    {
      "cell_type": "code",
      "source": [
        "lst = eval(input())  # Input list\n",
        "\n",
        "result = 0\n",
        "for i in lst:\n",
        "    result ^= i\n",
        "\n",
        "print(result)\n"
      ],
      "metadata": {
        "colab": {
          "base_uri": "https://localhost:8080/"
        },
        "id": "BbJizbQUl4mw",
        "outputId": "7904f39a-0678-4775-b06a-85a31ddae10c"
      },
      "execution_count": null,
      "outputs": [
        {
          "output_type": "stream",
          "name": "stdout",
          "text": [
            "[2,2,3,1,1]\n",
            "3\n"
          ]
        }
      ]
    },
    {
      "cell_type": "code",
      "source": [
        "i = 2\n",
        "while True:\n",
        "  if i%3 == 0:\n",
        "    break\n",
        "  print(i)\n",
        "  i += 2\n",
        "\n"
      ],
      "metadata": {
        "colab": {
          "base_uri": "https://localhost:8080/"
        },
        "id": "MHM4p6Uovu2M",
        "outputId": "544b1368-afb6-4330-f124-9a59ce916e88"
      },
      "execution_count": null,
      "outputs": [
        {
          "output_type": "stream",
          "name": "stdout",
          "text": [
            "2\n",
            "4\n"
          ]
        }
      ]
    },
    {
      "cell_type": "code",
      "source": [
        "total={}\n",
        "def insert(items):\n",
        "  if items in total:\n",
        "    total[items] += 1\n",
        "  else:\n",
        "    total[items] = 1\n",
        "insert('Apple')\n",
        "insert('Ball')\n",
        "insert('Apple')\n",
        "print (len(total))"
      ],
      "metadata": {
        "colab": {
          "base_uri": "https://localhost:8080/"
        },
        "id": "kh3Y1U7VzHuh",
        "outputId": "6b58e710-3613-4f62-f378-092148d8a6e1"
      },
      "execution_count": null,
      "outputs": [
        {
          "output_type": "stream",
          "name": "stdout",
          "text": [
            "2\n"
          ]
        }
      ]
    },
    {
      "cell_type": "code",
      "source": [
        "x = \"abcdef\"\n",
        "i = \"a\"\n",
        "while i in x:\n",
        "  x = x[:-1]\n",
        "  print(i, end = \" \")"
      ],
      "metadata": {
        "colab": {
          "base_uri": "https://localhost:8080/"
        },
        "id": "rdiLw-PpzNpU",
        "outputId": "29661988-ba64-42fa-eeb6-d340a9ada806"
      },
      "execution_count": null,
      "outputs": [
        {
          "output_type": "stream",
          "name": "stdout",
          "text": [
            "a a a a a a "
          ]
        }
      ]
    },
    {
      "cell_type": "code",
      "source": [
        "def f1():\n",
        "  x=100\n",
        "  print(x)\n",
        "  x=+1\n",
        "f1()"
      ],
      "metadata": {
        "id": "NdU2DogIzgxz",
        "colab": {
          "base_uri": "https://localhost:8080/"
        },
        "outputId": "726676b1-d270-4085-e42e-874d9b3c2e7b"
      },
      "execution_count": null,
      "outputs": [
        {
          "output_type": "stream",
          "name": "stdout",
          "text": [
            "100\n"
          ]
        }
      ]
    },
    {
      "cell_type": "code",
      "source": [
        "d = {0: 'a', 1: 'b', 2: 'c'}\n",
        "for x, y in d.items():\n",
        "  print(x, y)"
      ],
      "metadata": {
        "colab": {
          "base_uri": "https://localhost:8080/"
        },
        "id": "PRhyefyKJVKm",
        "outputId": "1c2f0453-d746-4df8-911e-88a31abb058e"
      },
      "execution_count": null,
      "outputs": [
        {
          "output_type": "stream",
          "name": "stdout",
          "text": [
            "0 a\n",
            "1 b\n",
            "2 c\n"
          ]
        }
      ]
    },
    {
      "cell_type": "code",
      "source": [
        "a={1:\"A\",2:\"B\",3:\"C\"}\n",
        "print(a.get(1,4))"
      ],
      "metadata": {
        "colab": {
          "base_uri": "https://localhost:8080/"
        },
        "id": "jfOho0aGKIxB",
        "outputId": "7b9333d0-ab1f-458a-dee4-7eaaae4e5d05"
      },
      "execution_count": null,
      "outputs": [
        {
          "output_type": "stream",
          "name": "stdout",
          "text": [
            "A\n"
          ]
        }
      ]
    },
    {
      "cell_type": "markdown",
      "source": [
        "# Problem Statement – An automobile company manufactures both a two wheeler (TW) and a four wheeler (FW). A company manager wants to make the production of both types of vehicle according to the given data below:\n",
        "\n",
        "1st data, Total number of vehicle (two-wheeler + four-wheeler)=v\n",
        "2nd data, Total number of wheels = W\n",
        "The task is to find how many two-wheelers as well as four-wheelers need to manufacture as per the given data.\n",
        "Example :\n",
        "\n",
        "Input :\n",
        "200  -> Value of V\n",
        "540   -> Value of W\n",
        "\n",
        "Output :\n",
        "TW =130 FW=70\n",
        "\n",
        "Explanation:\n",
        "130+70 = 200 vehicles\n",
        "(70*4)+(130*2)= 540 wheels"
      ],
      "metadata": {
        "id": "QLUDj59aZn2Q"
      }
    },
    {
      "cell_type": "code",
      "source": [
        "v = int(input())\n",
        "w = int(input())\n",
        "\n",
        "tw = 2*v - w//2\n",
        "fw = w//2 - v\n",
        "\n",
        "print(\"tw=\",tw)\n",
        "print(\"fw=\",fw)"
      ],
      "metadata": {
        "id": "qXVmzuMZMOR6",
        "colab": {
          "base_uri": "https://localhost:8080/"
        },
        "outputId": "d9c2ee66-657c-44c0-8158-5874a98854c4"
      },
      "execution_count": null,
      "outputs": [
        {
          "output_type": "stream",
          "name": "stdout",
          "text": [
            "200\n",
            "540\n",
            "tw= 130\n",
            "fw= 70\n"
          ]
        }
      ]
    },
    {
      "cell_type": "markdown",
      "source": [
        "# Problem Statement – Given a string S(input consisting) of ‘*’ and ‘#’. The length of the string is variable. The task is to find the minimum number of ‘*’ or ‘#’ to make it a valid string. The string is considered valid if the number of ‘*’ and ‘#’ are equal. The ‘*’ and ‘#’ can be at any position in the string.\n",
        "Note : The output will be a positive or negative integer based on number of ‘*’ and ‘#’ in the input string.\n",
        "\n",
        "(*>#): positive integer\n",
        "(#>*): negative integer\n",
        "(#=*): 0\n",
        "Example 1:\n",
        "Input 1:\n",
        "\n",
        "###***   -> Value of S\n",
        "Output :\n",
        "\n",
        "0   → number of * and # are equal"
      ],
      "metadata": {
        "id": "EhEUqXczjAec"
      }
    },
    {
      "cell_type": "code",
      "source": [
        "string = input()\n",
        "\n",
        "count_star = string.count(\"*\")\n",
        "count_hash = string.count(\"#\")\n",
        "\n",
        "if count_star == count_hash:\n",
        "  print(0)\n",
        "else:\n",
        "  if count_star > count_hash:\n",
        "    print(count_star - count_hash)\n",
        "  else:\n",
        "    print(count_hash - count_star)\n"
      ],
      "metadata": {
        "colab": {
          "base_uri": "https://localhost:8080/"
        },
        "id": "l-L6eToFaLqQ",
        "outputId": "d45df384-12bc-4a59-8f0a-8bf9faaf7fec"
      },
      "execution_count": null,
      "outputs": [
        {
          "output_type": "stream",
          "name": "stdout",
          "text": [
            "hello*#*\n",
            "1\n"
          ]
        }
      ]
    },
    {
      "cell_type": "code",
      "source": [
        "s=input()\n",
        "a=0\n",
        "b=0\n",
        "for i in s:\n",
        "    if i=='*':\n",
        "        a+=1\n",
        "    elif i=='#':\n",
        "        b+=1\n",
        "print(a-b)"
      ],
      "metadata": {
        "colab": {
          "base_uri": "https://localhost:8080/"
        },
        "id": "gllAgRv9jbO3",
        "outputId": "dcbdbae0-8762-4caf-b9fe-7cf16a925769"
      },
      "execution_count": null,
      "outputs": [
        {
          "output_type": "stream",
          "name": "stdout",
          "text": [
            "***###\n",
            "0\n"
          ]
        }
      ]
    },
    {
      "cell_type": "markdown",
      "source": [
        "# A parking lot in a mall has RxC number of parking spaces. Each parking space will either be  empty(0) or full(1). The status (0/1) of a parking space is represented as the element of the matrix. The task is to find index of the prpeinzta row(R) in the parking lot that has the most of the parking spaces full(1).\n",
        "\n",
        "Note :\n",
        "RxC- Size of the matrix\n",
        "Elements of the matrix M should be only 0 or 1.\n",
        "\n",
        "Example 1:\n",
        "Input :\n",
        "3   -> Value of R(row)\n",
        "3    -> value of C(column)\n",
        "[0 1 0 1 1 0 1 1 1] -> Elements of the array M[R][C] where each element is separated by new line.\n",
        "Output :\n",
        "3  -> Row 3 has maximum number of 1’s\n",
        "\n"
      ],
      "metadata": {
        "id": "fDC8U_4fA9Ot"
      }
    },
    {
      "cell_type": "code",
      "source": [
        "r = int(input(\"Enter number of rows: \"))\n",
        "c = int(input(\"Enter number of columns: \"))\n",
        "\n",
        "max_sum = 0  # To track the maximum number of 1's in any row\n",
        "max_row_index = 0  # To track the row index with the maximum number of 1's\n",
        "\n",
        "for i in range(r):\n",
        "    row_sum = 0  # Sum of 1's in the current row\n",
        "    for j in range(c):\n",
        "        value = int(input())  # Read the value at position (i, j)\n",
        "        row_sum += value  # Accumulate the sum of 1's in the current row\n",
        "    if row_sum > max_sum:\n",
        "        max_sum = row_sum\n",
        "        max_row_index = i + 1  # Row index is 1-based\n",
        "    # No need to reset row_sum here as it is re-initialized at the start of each row\n",
        "\n",
        "print(max_row_index)\n"
      ],
      "metadata": {
        "colab": {
          "base_uri": "https://localhost:8080/"
        },
        "id": "CeMtIyvPkNgB",
        "outputId": "3776597f-dfa3-46cd-bb06-5adbde24fa52"
      },
      "execution_count": null,
      "outputs": [
        {
          "output_type": "stream",
          "name": "stdout",
          "text": [
            "Enter number of rows: 3\n",
            "Enter number of columns: 3\n",
            "1\n",
            "0\n",
            "1\n",
            "1\n",
            "1\n",
            "0\n",
            "1\n",
            "1\n",
            "1\n",
            "3\n"
          ]
        }
      ]
    },
    {
      "cell_type": "code",
      "source": [
        "n = int(input())\n",
        "\n",
        "\n",
        "for i in range(1,n+1):\n",
        "  strng = input()\n",
        "  print(len(strng))\n",
        "print(\" \")"
      ],
      "metadata": {
        "colab": {
          "base_uri": "https://localhost:8080/"
        },
        "id": "Q3NrDmX_BKhu",
        "outputId": "20866b71-5695-4c3a-81d4-0191c2600646"
      },
      "execution_count": null,
      "outputs": [
        {
          "output_type": "stream",
          "name": "stdout",
          "text": [
            "3\n",
            "one\n",
            "3\n",
            "two\n",
            "3\n",
            "three\n",
            "5\n",
            " \n"
          ]
        }
      ]
    },
    {
      "cell_type": "code",
      "source": [
        "n = int(input())\n",
        "lengths =[]\n",
        "\n",
        "for i in range(n):\n",
        "  word = input()\n",
        "  length = len(word)\n",
        "  lengths.append(length)\n",
        "\n",
        "# Output the variable to STDOUT\n",
        "for l in lengths:\n",
        "    print(l)"
      ],
      "metadata": {
        "colab": {
          "base_uri": "https://localhost:8080/"
        },
        "id": "o-JZHz2buIOy",
        "outputId": "f7df5a56-1661-41e6-a1c6-a5daf1e159e6"
      },
      "execution_count": null,
      "outputs": [
        {
          "output_type": "stream",
          "name": "stdout",
          "text": [
            "3\n",
            "six\n",
            "seven\n",
            "twenty two\n",
            "3\n",
            "5\n",
            "10\n"
          ]
        }
      ]
    },
    {
      "cell_type": "code",
      "source": [
        "n = input()\n",
        "numbers = list(map(int, n.split(',')))\n",
        "add = sum(numbers)\n",
        "\n",
        "product = 1\n",
        "\n",
        "for i in numbers:\n",
        "  product*=i\n",
        "\n",
        "print(\"SUM = \", add)\n",
        "print(\"PRODUCT =\",product)"
      ],
      "metadata": {
        "colab": {
          "base_uri": "https://localhost:8080/"
        },
        "id": "9dZk9h95wX-s",
        "outputId": "5b2ffb95-7209-4d7c-c3cf-3082f1311689"
      },
      "execution_count": null,
      "outputs": [
        {
          "output_type": "stream",
          "name": "stdout",
          "text": [
            "1,2,3,4,5\n",
            "SUM =  15\n",
            "PRODUCT = 120\n"
          ]
        }
      ]
    },
    {
      "cell_type": "code",
      "source": [
        "a = input()  # Input as a comma-separated string\n",
        "a = a.split(\",\")  # Split the string into a list\n",
        "a = list(map(int, a))  # Convert each element to an integer\n",
        "\n",
        "largest = max(a)\n",
        "smallest = min(a)\n",
        "\n",
        "print(\"LARGEST =\", largest)\n",
        "print(\"SMALLEST =\", smallest)"
      ],
      "metadata": {
        "id": "duaLen8a16c_",
        "colab": {
          "base_uri": "https://localhost:8080/"
        },
        "outputId": "ffac3b50-87f1-4514-b546-20c389227cec"
      },
      "execution_count": null,
      "outputs": [
        {
          "output_type": "stream",
          "name": "stdout",
          "text": [
            "78,81,12,54,1010\n",
            "LARGEST = 1010\n",
            "SMALLEST = 12\n"
          ]
        }
      ]
    },
    {
      "cell_type": "markdown",
      "source": [
        "# bQ13) You are given two arrays containing user IDs. array_1 has N user IDs and array_2 has all the user IDs i.e array_1 ID and an additional ID. Your task is to find out this additional ID.\n",
        "\n",
        "Sample Input\n",
        "\n",
        "1 4 7 3\n",
        "\n",
        "1 2 3 4 5 6 7\n",
        "\n",
        "Sample Output\n",
        "\n",
        "2 5 6\n",
        "\n",
        "Explanation\n",
        "\n",
        "2, 5, and 6 are not present in the array_1 ID so that means its additional ID"
      ],
      "metadata": {
        "id": "3V7PEj-V1LZL"
      }
    },
    {
      "cell_type": "code",
      "source": [
        "import numpy as np\n",
        "\n",
        "lst1 = eval(input())\n",
        "lst2 = eval(input())\n",
        "\n",
        "set1 = set(lst1)\n",
        "set2 = set(lst2)\n",
        "\n",
        "result = set2.difference(set1)\n",
        "\n",
        "new_lst1 = list(result)\n",
        "print(*new_lst1)"
      ],
      "metadata": {
        "colab": {
          "base_uri": "https://localhost:8080/"
        },
        "id": "It8VW7pmzpws",
        "outputId": "ba719448-e95b-4595-a97b-603cb7391774"
      },
      "execution_count": null,
      "outputs": [
        {
          "output_type": "stream",
          "name": "stdout",
          "text": [
            "[1,2,3]\n",
            "[1,2,3,4,5,6]\n",
            "4 5 6\n"
          ]
        }
      ]
    },
    {
      "cell_type": "code",
      "source": [
        "# Input arrays\n",
        "array_1 = list(map(int, input().split()))  # Input for array_1\n",
        "array_2 = list(map(int, input().split()))  # Input for array_2\n",
        "\n",
        "# Convert both arrays to sets\n",
        "set_1 = set(array_1)\n",
        "set_2 = set(array_2)\n",
        "\n",
        "# Find the additional IDs (elements in array_2 but not in array_1)\n",
        "additional_ids = set_2 - set_1\n",
        "\n",
        "# Print the result\n",
        "print(*additional_ids)\n"
      ],
      "metadata": {
        "colab": {
          "base_uri": "https://localhost:8080/"
        },
        "id": "p9jgBowr1n_H",
        "outputId": "0ac0e700-2ecb-4e3d-f9d8-51d520736532"
      },
      "execution_count": null,
      "outputs": [
        {
          "output_type": "stream",
          "name": "stdout",
          "text": [
            "1 4 7 3\n",
            "1 2 3 4 5 6 7\n",
            "2 5 6\n"
          ]
        }
      ]
    },
    {
      "cell_type": "markdown",
      "source": [
        "# #1. Python Program for Check if all digits of a number divide it\n",
        "\n",
        "# Input : 128\n",
        "# Output : Yes\n",
        "# 128 % 1 == 0, 128 % 2 == 0, and 128 % 8 == 0.\n",
        "\n",
        "# Input : 130\n",
        "# Output : No"
      ],
      "metadata": {
        "id": "nnhI4pscGbk4"
      }
    },
    {
      "cell_type": "code",
      "source": [
        "n = int(input())\n",
        "\n",
        "num_str = str(n)  # Convert the number to a string to iterate over digits\n",
        "\n",
        "for digit_char in num_str:\n",
        "    digit = int(digit_char)\n",
        "\n",
        "    if digit == 0 or n % digit != 0:  # Check if digit is 0 or if n is not divisible by the digit\n",
        "        print(\"No\")\n",
        "        break\n",
        "else:\n",
        "    print(\"Yes\")"
      ],
      "metadata": {
        "colab": {
          "base_uri": "https://localhost:8080/"
        },
        "id": "O9VsvM4u2_r6",
        "outputId": "f5149c7f-bd75-4f45-f5f5-592919821f3a"
      },
      "execution_count": null,
      "outputs": [
        {
          "output_type": "stream",
          "name": "stdout",
          "text": [
            "2000\n",
            "No\n"
          ]
        }
      ]
    },
    {
      "cell_type": "markdown",
      "source": [
        "# #2. Given A and B, the task is to find the number of possible values\n",
        "# that X can take such that the given modular equation (A mod X) = B holds good.\n",
        "# Here, X is also called a solution of the modular equation.\n",
        "\n",
        "# Input : A = 26, B = 2\n",
        "# Output : 6\n",
        "# Explanation\n",
        "# X can be equal to any of {3, 4, 6, 8,\n",
        "# 12, 24} as A modulus any of these values\n",
        "# equals 2 i. e., (26 mod 3) = (26 mod 4)\n",
        "# = (26 mod 6) = (26 mod 8) = Output: 2\n",
        "\n",
        "# Input : 21 5\n",
        "# Output : 2\n",
        "# Explanation\n",
        "# X can be equal to any of {8, 16} as A modulus\n",
        "# any of these values equals 5 i.e. (21 mod\n",
        "# 8) = (21 mod 16) = 5"
      ],
      "metadata": {
        "id": "4M--NZAGRQFn"
      }
    },
    {
      "cell_type": "code",
      "source": [
        "a = int(input())\n",
        "\n",
        "b = int(input())\n",
        "\n",
        "count = 0\n",
        "\n",
        "for i in range(1,a+1):\n",
        "  if a%i == b:\n",
        "    count+=1\n",
        "print(count)"
      ],
      "metadata": {
        "colab": {
          "base_uri": "https://localhost:8080/"
        },
        "id": "pVw8dFBOG6QV",
        "outputId": "eac0e7db-249a-4c70-8036-ca18c2b33f58"
      },
      "execution_count": null,
      "outputs": [
        {
          "output_type": "stream",
          "name": "stdout",
          "text": [
            "21\n",
            "5\n",
            "2\n"
          ]
        }
      ]
    },
    {
      "cell_type": "markdown",
      "source": [
        "# # 3. Given a number n, the task is to find the even factor sum of a number. Examples:\n",
        "# Input : 30\n",
        "# Output : 48\n",
        "# Even dividers sum 2 + 6 + 10 + 30 = 48\n",
        "\n",
        "# Input : 18\n",
        "# Output : 26\n",
        "# Even dividers sum 2 + 6 + 18 = 26\n"
      ],
      "metadata": {
        "id": "NPYenDvtUZxl"
      }
    },
    {
      "cell_type": "code",
      "source": [
        "n = int(input())\n",
        "\n",
        "sum = 0\n",
        "\n",
        "for i in range(1,n+1):\n",
        "  if i % 2 == 0:\n",
        "    if n % i == 0:\n",
        "      sum+=i\n",
        "print(sum)"
      ],
      "metadata": {
        "colab": {
          "base_uri": "https://localhost:8080/"
        },
        "id": "qKmXEUBfSoas",
        "outputId": "d9d1c86b-60ec-4f07-d772-d42ecf8efcd8"
      },
      "execution_count": null,
      "outputs": [
        {
          "output_type": "stream",
          "name": "stdout",
          "text": [
            "30\n",
            "48\n"
          ]
        }
      ]
    },
    {
      "cell_type": "markdown",
      "source": [
        "# # 4. Given a string, write a python program to find the most occurrence character and its number of occurrences. Examples:\n",
        "\n",
        "# Input : hello\n",
        "# Output : ('l', 2)\n",
        "\n",
        "# Input : geeksforgeeks\n",
        "# Output : ('e', 4)"
      ],
      "metadata": {
        "id": "zEoc467rXFKD"
      }
    },
    {
      "cell_type": "code",
      "source": [
        "string = input()\n",
        "count = 0\n",
        "\n",
        "lst = []\n",
        "\n",
        "for i in range(len(string)):\n",
        "  if i not in tup:\n",
        "    lst.append(lst[i])\n",
        "    tup = tuple(lst)\n",
        "print(tup)\n"
      ],
      "metadata": {
        "colab": {
          "base_uri": "https://localhost:8080/"
        },
        "id": "sCPNCAidVtWf",
        "outputId": "e5162ed0-d46c-49ef-df63-a7a0aead67df"
      },
      "execution_count": null,
      "outputs": [
        {
          "output_type": "stream",
          "name": "stdout",
          "text": [
            "hello\n",
            "(0, 1, 2, 3, 4)\n"
          ]
        }
      ]
    },
    {
      "cell_type": "code",
      "source": [
        "string = input()\n",
        "lst = str(string)\n",
        "\n",
        "freq = [lst.count(i) for i in lst]\n",
        "\n",
        "my_dict = dict(zip(lst,freq))\n",
        "print(my_dict)"
      ],
      "metadata": {
        "colab": {
          "base_uri": "https://localhost:8080/"
        },
        "id": "5WVL14KuZE1u",
        "outputId": "4fb04729-260c-4471-b1a3-4e8228788ece"
      },
      "execution_count": null,
      "outputs": [
        {
          "output_type": "stream",
          "name": "stdout",
          "text": [
            "hello siddharth how are you\n",
            "{'h': 4, 'e': 2, 'l': 2, 'o': 3, ' ': 4, 's': 1, 'i': 1, 'd': 2, 'a': 2, 'r': 2, 't': 1, 'w': 1, 'y': 1, 'u': 1}\n"
          ]
        }
      ]
    },
    {
      "cell_type": "markdown",
      "source": [
        "# # 5. Given three angles. The task is to check if it is possible to have a triangle of positive area with these angles.\n",
        "# If it is possible print “YES” else print “NO”.\n",
        "\n",
        "# Input : ang1 = 50, ang2 = 60, ang3 = 70\n",
        "# Output : YES\n",
        "\n",
        "# Input : ang1 = 50, ang2 = 65, ang3 = 80\n",
        "# Output : NO\n",
        "\n",
        "# Note:\n",
        "# The sum of the three given angles equals to 180.\n",
        "# The sum of any two angles is greater than equal to the third one.\n",
        "# None of the given angles is zero.\n"
      ],
      "metadata": {
        "id": "HFMr2HW-tM9A"
      }
    },
    {
      "cell_type": "code",
      "source": [
        "ang1 = int(input())\n",
        "ang2 = int(input())\n",
        "ang3 = int(input())\n",
        "\n",
        "if ang1 + ang2 + ang3 == 180 and (ang1+ang2>=ang3 or ang1+ang3>=ang2 or ang2+ang3>=ang1):\n",
        "  print(\"Yes\")\n",
        "else:\n",
        "  print(\"No\")"
      ],
      "metadata": {
        "colab": {
          "base_uri": "https://localhost:8080/"
        },
        "id": "KjktJr0zeOSr",
        "outputId": "ab04a4be-06a6-4251-bb50-ebcc5dab14f1"
      },
      "execution_count": null,
      "outputs": [
        {
          "output_type": "stream",
          "name": "stdout",
          "text": [
            "50\n",
            "65\n",
            "80\n",
            "No\n"
          ]
        }
      ]
    },
    {
      "cell_type": "markdown",
      "source": [
        "# # 6. Integers X and K are given. The task is to find smallest K-digit number divisible by X. Examples:\n",
        "\n",
        "# Input : X = 83, K = 5\n",
        "# Output : 10043\n",
        "# 10043 is the smallest 5 digit\n",
        "# number that is multiple of 83.\n",
        "\n",
        "# Input : X = 5, K = 2\n",
        "# Output : 10\n",
        "# Hint: Get the smallest number of K digits (10**(k-1)) and then get the remainder divided by X, then subtract it to get the number.\n"
      ],
      "metadata": {
        "id": "4hO9Tm-lvNez"
      }
    },
    {
      "cell_type": "code",
      "source": [
        "x = int(input())\n",
        "k = int(input())\n",
        "\n",
        "num = 10**(k-1)\n",
        "\n",
        "while num % x !=0:\n",
        "  num+=1\n",
        "print(num)"
      ],
      "metadata": {
        "colab": {
          "base_uri": "https://localhost:8080/"
        },
        "id": "gUjj1sLhuAif",
        "outputId": "25f451c8-4c1a-4926-c6d1-742c55ef0c84"
      },
      "execution_count": null,
      "outputs": [
        {
          "output_type": "stream",
          "name": "stdout",
          "text": [
            "5\n",
            "2\n",
            "10\n"
          ]
        }
      ]
    },
    {
      "cell_type": "markdown",
      "source": [
        "# # 7. Given a square matrix of order n*n, we need to print elements of the matrix in Z form\n",
        "\n",
        "# Examples:\n",
        "\n",
        "# Input : mat=  [[1, 2, 3],\n",
        "#                     [4, 5, 6],\n",
        "#                     [7, 8, 9]]\n",
        "# Output : 1 2 3 5 7 8 9\n",
        "# Input : mat = [[5, 19, 8, 7],\n",
        "#                    [4, 1, 14, 8],\n",
        "#                    [2, 20, 1, 9],\n",
        "#                    [1, 2, 55, 4]]\n",
        "# Output: 5 19 8 7 14 20 1 2 55 4"
      ],
      "metadata": {
        "id": "hCb_4XwlxwWt"
      }
    },
    {
      "cell_type": "code",
      "source": [
        "lst = eval(input())\n",
        "\n",
        "for i in lst:\n",
        "  print(*i)"
      ],
      "metadata": {
        "colab": {
          "base_uri": "https://localhost:8080/"
        },
        "id": "I69YQ_5bxEBn",
        "outputId": "343321e4-cb1b-41a8-d531-d929fd3b0011"
      },
      "execution_count": null,
      "outputs": [
        {
          "output_type": "stream",
          "name": "stdout",
          "text": [
            "[[5, 19, 8, 7], [4, 1, 14, 8], [2, 20, 1, 9], [1, 2, 55, 4]]\n",
            "5 19 8 7\n",
            "4 1 14 8\n",
            "2 20 1 9\n",
            "1 2 55 4\n"
          ]
        }
      ]
    },
    {
      "cell_type": "code",
      "source": [
        "lst = eval(input())\n",
        "n = len(lst)\n",
        "\n",
        "# Print the first row\n",
        "for i in range(n):\n",
        "    print(lst[0][i], end=\" \")\n",
        "\n",
        "# Print the diagonal (excluding first and last row)\n",
        "for i in range(1, n-1):\n",
        "    print(lst[i][n-i-1], end=\" \")\n",
        "\n",
        "# Print the last row (in reverse order)\n",
        "for i in range(n):\n",
        "    print(lst[-1][i], end=\" \")"
      ],
      "metadata": {
        "colab": {
          "base_uri": "https://localhost:8080/"
        },
        "id": "tw3M_fUozNGy",
        "outputId": "9e6217d0-cdad-4814-e8e5-5a4a5e3251dc"
      },
      "execution_count": null,
      "outputs": [
        {
          "output_type": "stream",
          "name": "stdout",
          "text": [
            "[[5, 19, 8, 7], [4, 1, 14, 8], [2, 20, 1, 9], [1, 2, 55, 4]]\n",
            "5 19 8 7 14 20 1 2 55 4 "
          ]
        }
      ]
    },
    {
      "cell_type": "markdown",
      "source": [
        "# # 8. Write a python program for a given long integer,\n",
        "# we need to find if the difference between sum of odd position digits and sum of even position digits is 0 or not.\n",
        "# Input: 1212112\n",
        "# Output: Yes\n",
        "# Explanation:\n",
        "# the odd position element is 2+2+1=5\n",
        "# the even position element is 1+1+1+2=5\n",
        "# the difference is 5-5=0 equal to zero .\n",
        "# So print yes.\n",
        "\n",
        "# Input:12345\n",
        "# Output: No\n",
        "# Explanation:\n",
        "# the odd position element is 1+3+5=9\n",
        "# the even position element is 2+4=6\n",
        "# the difference is 9-6=3 not equal to zero.\n",
        "# So print no."
      ],
      "metadata": {
        "id": "PVrjgQ3g3N3s"
      }
    },
    {
      "cell_type": "code",
      "source": [
        "n = int(input())\n",
        "\n",
        "num = str(n)\n",
        "\n",
        "sum_even = 0\n",
        "sum_odd = 0\n",
        "for i in range(len(num)):\n",
        "  if i % 2 == 0:\n",
        "    sum_even+=int(num[i])\n",
        "\n",
        "  else:\n",
        "    sum_odd+=int(num[i])\n",
        "\n",
        "if sum_even - sum_odd == 0:\n",
        "  print(\"Yes\")\n",
        "else:\n",
        "  print(\"No\")"
      ],
      "metadata": {
        "colab": {
          "base_uri": "https://localhost:8080/"
        },
        "id": "MD8JTqiE2JZD",
        "outputId": "7ffa097c-e290-45a3-e3b9-c0d9e6e0cd28"
      },
      "execution_count": null,
      "outputs": [
        {
          "output_type": "stream",
          "name": "stdout",
          "text": [
            "12234\n",
            "No\n"
          ]
        }
      ]
    },
    {
      "cell_type": "markdown",
      "source": [
        "# # 9. Given a number, find minimum sum of its factors.\n",
        "# Input : 12\n",
        "# Output : 7\n",
        "# Explanation:\n",
        "# Following are different ways to factorize 12 and\n",
        "# sum of factors in different ways.\n",
        "# 12 = 12 * 1 = 12 + 1 = 13\n",
        "# 12 = 2 * 6 = 2 + 6 = 8\n",
        "# 12 = 3 * 4 = 3 + 4 = 7\n",
        "# 12 = 2 * 2 * 3 = 2 + 2 + 3 = 7\n",
        "# Therefore minimum sum is 7\n",
        "# Input : 105\n",
        "# Output : 15"
      ],
      "metadata": {
        "id": "DswC8L_dPusN"
      }
    },
    {
      "cell_type": "code",
      "source": [
        "import math\n",
        "\n",
        "def min_sum_of_factors(n):\n",
        "    # Set initial min_sum as n+1 (maximum value possible sum)\n",
        "    min_sum = n + 1\n",
        "\n",
        "    # Loop through possible factors\n",
        "    for i in range(1, int(math.sqrt(n)) + 1):\n",
        "        if n % i == 0:  # Check if i is a factor\n",
        "            # i and (n // i) are factor pairs\n",
        "            factor1 = i\n",
        "            factor2 = n // i\n",
        "            # Sum the factors and check if it's the smallest\n",
        "            min_sum = min(min_sum, factor1 + factor2)\n",
        "\n",
        "    return min_sum\n",
        "\n",
        "# Input\n",
        "n = int(input(\"Enter a number: \"))\n",
        "print(min_sum_of_factors(n))"
      ],
      "metadata": {
        "colab": {
          "base_uri": "https://localhost:8080/"
        },
        "id": "QuTVBoQJ6ig6",
        "outputId": "3a3fae4a-4e35-4275-d1d6-55dc246138ea"
      },
      "execution_count": null,
      "outputs": [
        {
          "output_type": "stream",
          "name": "stdout",
          "text": [
            "Enter a number: 12\n",
            "7\n"
          ]
        }
      ]
    },
    {
      "cell_type": "markdown",
      "source": [
        "# # 10. We have N coins which need to arrange in form of a triangle, i.e. first row will have 1 coin,\n",
        "# second row will have 2 coins and so on,\n",
        "# we need to tell maximum height which we can achieve by using these N coins. Examples:\n",
        "# Input : N = 7\n",
        "# Output : 3\n",
        "# Explanation: Maximum height will be 3, putting 1, 2 and then 3 coins. It is not possible to use 1 coin left.\n",
        "\n",
        "# Input : N = 12\n",
        "# Output : 4\n",
        "# Explanation: Maximum height will be 4, putting 1, 2, 3 and 4 coins, it is not possible to make height as 5, because that will require 15 coins."
      ],
      "metadata": {
        "id": "vMP7ZgqmbjOU"
      }
    },
    {
      "cell_type": "code",
      "source": [
        "num = int(input())\n",
        "count = 0\n",
        "sum = 0\n",
        "\n",
        "for i in range(1, num + 1):\n",
        "    sum += i\n",
        "    if sum > num:\n",
        "        break\n",
        "    count += 1\n",
        "\n",
        "print(count)"
      ],
      "metadata": {
        "colab": {
          "base_uri": "https://localhost:8080/"
        },
        "id": "N1M2NxqzV9Rn",
        "outputId": "11b11680-a5bb-4a30-be88-12b0a0a81ba9"
      },
      "execution_count": null,
      "outputs": [
        {
          "output_type": "stream",
          "name": "stdout",
          "text": [
            "12\n",
            "4\n"
          ]
        }
      ]
    },
    {
      "cell_type": "markdown",
      "source": [
        "# # 11. Given an integer ‘n’, write a Python function that returns true\n",
        "# if binary representation of x is palindrome else return false. Examples:\n",
        "# Input : n = 9\n",
        "# Output : True\n",
        "# Binary representation of n=9 is 1001 which\n",
        "# is palindrome as well.\n",
        "\n",
        "# Input : n = 10\n",
        "# Output : False\n",
        "# Binary representation of n=10 is 1010 which\n",
        "# is not palindrome."
      ],
      "metadata": {
        "id": "LVZvN1QlhPdi"
      }
    },
    {
      "cell_type": "markdown",
      "source": [
        "# 11. Given an integer ‘n’, write a Python function that returns true\n",
        "# if binary representation of x is palindrome else return false. Examples:\n",
        "# Input : n = 9\n",
        "# Output : True\n",
        "# Binary representation of n=9 is 1001 which\n",
        "# is palindrome as well.\n",
        "\n",
        "# Input : n = 10\n",
        "# Output : False\n",
        "# Binary representation of n=10 is 1010 which\n",
        "# is not palindrome."
      ],
      "metadata": {
        "id": "D01tngWMy043"
      }
    },
    {
      "cell_type": "code",
      "source": [
        "n = int(input())\n",
        "\n",
        "binary_str = bin(n)[2:]\n",
        "\n",
        "if binary_str == binary_str[::-1]:\n",
        "  print(\"True\")\n",
        "else:\n",
        "  print(\"False\")"
      ],
      "metadata": {
        "colab": {
          "base_uri": "https://localhost:8080/"
        },
        "id": "JHW63s02d-3O",
        "outputId": "83e04209-1b74-44a7-ee04-0018348efd05"
      },
      "execution_count": null,
      "outputs": [
        {
          "output_type": "stream",
          "name": "stdout",
          "text": [
            "9\n",
            "True\n"
          ]
        }
      ]
    },
    {
      "cell_type": "code",
      "source": [
        "# Method 2\n",
        "def decimal_to_binary(n):\n",
        "    binary_digits = []\n",
        "\n",
        "    # Convert decimal to binary by dividing by 2\n",
        "    while n > 0:\n",
        "        binary_digits.append(n % 2)  # Store remainder (either 0 or 1)\n",
        "        n //= 2                      # Update n by dividing by 2\n",
        "\n",
        "    # The binary digits are stored in reverse order, so reverse the list\n",
        "    return binary_digits\n",
        "\n",
        "def is_palindrome_in_binary(n):\n",
        "    # Get the binary digits\n",
        "    binary_digits = decimal_to_binary(n)\n",
        "\n",
        "    # Check if the binary digits form a palindrome\n",
        "    return binary_digits == binary_digits[::-1]\n",
        "\n",
        "# Input\n",
        "n = int(input(\"Enter a number: \"))\n",
        "\n",
        "# Check if the binary representation is a palindrome\n",
        "if is_palindrome_in_binary(n):\n",
        "    print(f\"The binary representation of {n} is a palindrome.\")\n",
        "else:\n",
        "    print(f\"The binary representation of {n} is not a palindrome.\")\n",
        "\n",
        "\n",
        "\n"
      ],
      "metadata": {
        "colab": {
          "base_uri": "https://localhost:8080/"
        },
        "id": "mBwVhA1vzoMd",
        "outputId": "fb0115ce-17d5-43a2-f811-66e4b3d1e808"
      },
      "execution_count": null,
      "outputs": [
        {
          "output_type": "stream",
          "name": "stdout",
          "text": [
            "Enter a number: 9\n",
            "The binary representation of 9 is a palindrome.\n"
          ]
        }
      ]
    },
    {
      "cell_type": "markdown",
      "source": [
        "# # 12. Given a value N, if we want to make change for N cents, and we have infinite supply of each of S = { S1, S2, .. , Sm} valued coins,\n",
        "# how many ways can we make the change? The order of coins doesn\\’t matter.\n",
        "# For example, for N = 4 and S = {1,2,3}, there are four solutions: {1,1,1,1},{1,1,2},{2,2},{1,3}. So output should be 4.\n",
        "# For N = 10 and S = {2, 5, 3, 6},\n",
        "# there are five solutions: {2,2,2,2,2}, {2,2,3,3}, {2,2,6}, {2,3,5} and {5,5}. So the output should be 5.\n",
        "#note: S is the valid coins  50 paise, one, two, five, ten, and twenty rupees for example : In India S ={ 0.5,1,2,5,10,20 }"
      ],
      "metadata": {
        "id": "o95oxUwO5Pwq"
      }
    },
    {
      "cell_type": "code",
      "source": [],
      "metadata": {
        "colab": {
          "base_uri": "https://localhost:8080/"
        },
        "id": "irE7PraD377z",
        "outputId": "ce9750b3-4a84-4097-f402-f8bb25ea563b"
      },
      "execution_count": null,
      "outputs": [
        {
          "output_type": "stream",
          "name": "stdout",
          "text": [
            "4\n",
            "{2,5,3,6}\n",
            "0\n"
          ]
        }
      ]
    },
    {
      "cell_type": "markdown",
      "source": [
        "# # 13. Python Program for Find largest prime factor of a number\n",
        "# Input: 6\n",
        "# Output: 3\n",
        "# Explanation\n",
        "# Prime factor of 6 are - 2, 3\n",
        "# Largest of them is 3\n",
        "\n",
        "# Input: 15\n",
        "# Output: 5\n",
        " # Note: Input will be  > 2"
      ],
      "metadata": {
        "id": "sDzdw5s77Y8J"
      }
    },
    {
      "cell_type": "code",
      "source": [],
      "metadata": {
        "colab": {
          "base_uri": "https://localhost:8080/"
        },
        "id": "q6NQ9RB56Riv",
        "outputId": "f2f671b2-fba9-4960-ee22-95fdbb112742"
      },
      "execution_count": null,
      "outputs": [
        {
          "output_type": "stream",
          "name": "stdout",
          "text": [
            "6\n",
            "4\n"
          ]
        }
      ]
    },
    {
      "cell_type": "markdown",
      "source": [
        "# Convert the decimal into binary and add it’s bits\n",
        "\n",
        "Sample input:\n",
        "10\n",
        "\n",
        "Output:\n",
        "2\n",
        "\n",
        "Explanation:\n",
        "10 -> 1010 -> 1+0+1+0 -> 2"
      ],
      "metadata": {
        "id": "XXVwUnyrhUaK"
      }
    },
    {
      "cell_type": "code",
      "source": [
        "def decimal_to_binary(n):\n",
        "    binary_rep = \"\"  # Initialize an empty string to store binary digits\n",
        "    while n > 0:\n",
        "        binary_rep = str(n % 2) + binary_rep  # Prepend each bit to get the correct order\n",
        "        n = n // 2\n",
        "    return binary_rep\n",
        "\n",
        "n = int(input(\"Enter a number: \"))\n",
        "binary_rep = decimal_to_binary(n)\n",
        "\n",
        "sum_of_bits = 0\n",
        "\n",
        "for bit in binary_rep:\n",
        "    sum_of_bits += int(bit)\n",
        "\n",
        "print(\"Binary representation:\", binary_rep)\n",
        "print(\"Sum of bits:\", sum_of_bits)\n",
        "\n",
        "\n"
      ],
      "metadata": {
        "id": "l61KVPJP7sUz",
        "colab": {
          "base_uri": "https://localhost:8080/"
        },
        "outputId": "7116af31-75fe-41dc-d8d7-8049d2a96c1b"
      },
      "execution_count": null,
      "outputs": [
        {
          "output_type": "stream",
          "name": "stdout",
          "text": [
            "Enter a number: 10\n",
            "Binary representation: 1010\n",
            "Sum of bits: 2\n"
          ]
        }
      ]
    },
    {
      "cell_type": "markdown",
      "source": [
        "# Print the winning team of football match, the team with most goals is the winner\n",
        "\n",
        "Sample input:\n",
        "5\n",
        "\n",
        "A\n",
        "A\n",
        "B\n",
        "A\n",
        "B\n",
        "\n",
        "Output:\n",
        "A"
      ],
      "metadata": {
        "id": "8k7KYg_-mW8H"
      }
    },
    {
      "cell_type": "code",
      "source": [
        "n = int(input())\n",
        "\n",
        "count_a = 0\n",
        "count_b = 0\n",
        "\n",
        "for i in range(n):\n",
        "  team = input()\n",
        "  if team == 'A':\n",
        "    count_a+=1\n",
        "  else:\n",
        "    count_b+=1\n",
        "\n",
        "if count_a > count_b:\n",
        "  print(\"A\")\n",
        "else:\n",
        "  print(\"B\")"
      ],
      "metadata": {
        "colab": {
          "base_uri": "https://localhost:8080/"
        },
        "id": "9MiJHu06iOlV",
        "outputId": "5e580c6b-c463-4f3e-e91e-af0114efc96e"
      },
      "execution_count": null,
      "outputs": [
        {
          "output_type": "stream",
          "name": "stdout",
          "text": [
            "5\n",
            "A\n",
            "A\n",
            "B\n",
            "B\n",
            "A\n",
            "A\n"
          ]
        }
      ]
    },
    {
      "cell_type": "markdown",
      "source": [
        "# # 14. Given two matrices X and Y, the task is to compute the sum of two matrices and then print it in Python.\n",
        "\n",
        "# Input :\n",
        "#  X= [[1,2,3],\n",
        "#     [4 ,5,6],\n",
        "#     [7 ,8,9]]\n",
        "\n",
        "# Y = [[9,8,7],\n",
        "#     [6,5,4],\n",
        "#     [3,2,1]]\n",
        "\n",
        "# Output :\n",
        "#  result= [[10,10,10],\n",
        "#          [10,10,10],\n",
        "#          [10,10,10]]\n"
      ],
      "metadata": {
        "id": "RPBqUXDZosYh"
      }
    },
    {
      "cell_type": "code",
      "source": [
        "X = eval(input())\n",
        "Y = eval(input())\n",
        "\n",
        "# Initialize the result matrix with the same dimensions as X and Y\n",
        "result = [[0 for j in range(len(X[0]))] for i in range(len(X))]\n",
        "\n",
        "# Add corresponding elements of X and Y\n",
        "for i in range(len(X)):\n",
        "    for j in range(len(X[0])):\n",
        "        result[i][j] = X[i][j] + Y[i][j]\n",
        "\n",
        "# Print the entire result matrix\n",
        "for row in result:\n",
        "    print(row)"
      ],
      "metadata": {
        "colab": {
          "base_uri": "https://localhost:8080/"
        },
        "id": "0Oed6V0GngQE",
        "outputId": "23c4dc01-a07e-4d05-f9d6-7b2fa83c884f"
      },
      "execution_count": null,
      "outputs": [
        {
          "output_type": "stream",
          "name": "stdout",
          "text": [
            "[[1,2,3], [4 ,5,6], [7 ,8,9]]\n",
            "[[9,8,7], [6,5,4], [3,2,1]]\n",
            "[10, 10, 10]\n",
            "[10, 10, 10]\n",
            "[10, 10, 10]\n"
          ]
        }
      ]
    },
    {
      "cell_type": "code",
      "source": [
        "# method 2\n",
        "import numpy as np\n",
        "\n",
        "X = np.array(eval(input()))\n",
        "Y = np.array(eval(input()))\n",
        "\n",
        "print(X+Y)"
      ],
      "metadata": {
        "colab": {
          "base_uri": "https://localhost:8080/"
        },
        "id": "wYGRqu2uqS5f",
        "outputId": "71d035c1-9a13-43ae-9eb3-2501597f86c3"
      },
      "execution_count": null,
      "outputs": [
        {
          "output_type": "stream",
          "name": "stdout",
          "text": [
            "[[1,2,3], [4 ,5,6], [7 ,8,9]]\n",
            "[[9,8,7], [6,5,4], [3,2,1]]\n",
            "[[10 10 10]\n",
            " [10 10 10]\n",
            " [10 10 10]]\n",
            "[[10 10 10]\n",
            " [10 10 10]\n",
            " [10 10 10]]\n"
          ]
        }
      ]
    },
    {
      "cell_type": "markdown",
      "source": [
        "# # 15.  Python program to check whether the string is Symmetrical or Palindrome\n",
        "# Input: khokho\n",
        "\n",
        "# Output:\n",
        "# The entered string is symmetrical\n",
        "# The entered string is not palindrome\n",
        "\n",
        "# Input:amaama\n",
        "# Output:\n",
        "# The entered string is symmetrical\n",
        "# The entered string is palindrome"
      ],
      "metadata": {
        "id": "Qp1q1ightbjy"
      }
    },
    {
      "cell_type": "code",
      "source": [
        "string = input(\"Enter a string: \")\n",
        "\n",
        "n = len(string)//2\n",
        "\n",
        "# Split the string based on its length\n",
        "if len(string) % 2 == 0:\n",
        "    a = string[:n]\n",
        "    b = string[n:]\n",
        "else:\n",
        "    a = string[:n]\n",
        "    b = string[n+1:]\n",
        "\n",
        "# Check symmetry and palindrome conditions\n",
        "if a == b and string == string[::-1]:\n",
        "    print(\"The entered string is symmetrical\")\n",
        "    print(\"The entered string is palindrome\")\n",
        "elif a == b:\n",
        "    print(\"The entered string is symmetrical\")\n",
        "    print(\"The entered string is not palindrome\")\n",
        "elif string == string[::-1]:\n",
        "    print(\"The entered string is not symmetrical\")\n",
        "    print(\"The entered string is palindrome\")\n",
        "else:\n",
        "    print(\"The entered string is not symmetrical\")\n",
        "    print(\"The entered string is not palindrome\")"
      ],
      "metadata": {
        "colab": {
          "base_uri": "https://localhost:8080/"
        },
        "id": "H2nZ0BMBseoH",
        "outputId": "4f61d9b9-8b6e-46cf-e8fa-7518c8791c70"
      },
      "execution_count": null,
      "outputs": [
        {
          "output_type": "stream",
          "name": "stdout",
          "text": [
            "Enter a string: nitin\n",
            "The entered string is not symmetrical\n",
            "The entered string is palindrome\n"
          ]
        }
      ]
    },
    {
      "cell_type": "markdown",
      "source": [
        "# 16. Question:\n",
        "# Write a program that calculates and prints the value according to the given formula:\n",
        "# Q = Square root of [(2 * C * D)/H]\n",
        "# Following are the fixed values of C and H:\n",
        "# C is 50. H is 30.\n",
        "# D is the variable whose values should be input to your program in a comma-separated sequence.\n",
        "# Example\n",
        "# Let us assume the following comma separated input sequence is given to the program:\n",
        "# 100,150,180\n",
        "# The output of the program should be:\n",
        "# 18,22,24\n",
        "\n",
        "# Hints:\n",
        "# If the output received is in decimal form,\n",
        "# it should be rounded off to its nearest value (for example, if the output received is 26.0, it should be printed as 26)\n",
        "# In case of input data being supplied to the question, it should be assumed to be a console input."
      ],
      "metadata": {
        "id": "4KPPIq-z0nYk"
      }
    },
    {
      "cell_type": "code",
      "source": [
        "def calculate_values(input_sequence, C=50, H=30):\n",
        "    # Split the input sequence into a list of integers\n",
        "    values = [int(val) for val in input_sequence.split(',')]\n",
        "\n",
        "    # Calculate the values using the formula\n",
        "    result = [int(((2 * C * D) / H) ** 0.5) for D in values]\n",
        "\n",
        "    return result\n",
        "\n",
        "# Example input sequence\n",
        "input_sequence = \"100,150,180\"\n",
        "\n",
        "# Calculate and print the values\n",
        "output_result = calculate_values(input_sequence)\n",
        "print(','.join(map(str, output_result)))"
      ],
      "metadata": {
        "colab": {
          "base_uri": "https://localhost:8080/"
        },
        "id": "vGe2pi96ub1n",
        "outputId": "c0eac532-0c99-4c20-b521-8b1bd33394ef"
      },
      "execution_count": null,
      "outputs": [
        {
          "output_type": "stream",
          "name": "stdout",
          "text": [
            "18,22,24\n"
          ]
        }
      ]
    },
    {
      "cell_type": "markdown",
      "source": [
        "# # 17. Write a program that accepts a comma separated sequence of words as input and prints the words in a comma-separated sequence after sorting them alphabetically.\n",
        "# Suppose the following input is supplied to the program:\n",
        "# without,hello,bag,world\n",
        "# Then, the output should be:\n",
        "# bag,hello,without,world\n",
        "\n",
        "# Hints:\n",
        "# In case of input data being supplied to the question, it should be assumed to be a console input. Try.sort()\n"
      ],
      "metadata": {
        "id": "ZRIkkA1XNs6I"
      }
    },
    {
      "cell_type": "code",
      "source": [
        "string = input()\n",
        "\n",
        "string = string.split(',')\n",
        "\n",
        "words = sorted(string)\n",
        "\n",
        "print(','.join(words))"
      ],
      "metadata": {
        "colab": {
          "base_uri": "https://localhost:8080/"
        },
        "id": "9C_b-2li1R4H",
        "outputId": "0421d2f5-92ba-41f2-ea62-e1d7329c46d5"
      },
      "execution_count": null,
      "outputs": [
        {
          "output_type": "stream",
          "name": "stdout",
          "text": [
            "without,hello,bag,world\n",
            "bag,hello,without,world\n"
          ]
        }
      ]
    },
    {
      "cell_type": "markdown",
      "source": [
        " # 18. Write a program which accepts a sequence of comma separated 4 digit binary numbers as its input\n",
        "# and then check whether they are divisible by 5 or not. The numbers that are divisible by 5 are to be printed in a comma separated sequence.\n",
        "# Example:\n",
        "# Input : 0100,0011,1010,1001\n",
        "# Then the output should be:\n",
        "# 1010"
      ],
      "metadata": {
        "id": "mJAvpfe1Oz1U"
      }
    },
    {
      "cell_type": "code",
      "source": [
        "digit = input()\n",
        "\n",
        "binary_digit = digit.split(',')\n",
        "\n",
        "result = []\n",
        "for i in binary_digit:\n",
        "    if int(i, 2) % 5 == 0:\n",
        "        result.append(i)\n",
        "\n",
        "if result:\n",
        "    print(','.join(result))\n"
      ],
      "metadata": {
        "colab": {
          "base_uri": "https://localhost:8080/"
        },
        "id": "A9SsQ5_QOMjL",
        "outputId": "55ce34a6-3d70-4471-b3c1-ff5794ae613d"
      },
      "execution_count": null,
      "outputs": [
        {
          "output_type": "stream",
          "name": "stdout",
          "text": [
            "0100,0011,1010,1001,1111\n",
            "1010,1111\n"
          ]
        }
      ]
    },
    {
      "cell_type": "markdown",
      "source": [
        "# # 19. Write a program, which will find all such numbers between 1000 and 3000 (both included) such that each digit of the number is an even number.\n",
        "# The numbers obtained should be printed in a comma-separated sequence on a single line."
      ],
      "metadata": {
        "id": "uSJsannBYfkp"
      }
    },
    {
      "cell_type": "code",
      "source": [
        "a = int(input())\n",
        "b = int(input())\n",
        "\n",
        "for i in range(a, b+1):\n",
        "    if all(int(digit) % 2 == 0 for digit in str(i)):\n",
        "        print(i, end=',')"
      ],
      "metadata": {
        "colab": {
          "base_uri": "https://localhost:8080/"
        },
        "id": "eTwvuSNoWjF1",
        "outputId": "0457f608-42b4-49f2-fbfa-58f89b0b5e84"
      },
      "execution_count": null,
      "outputs": [
        {
          "output_type": "stream",
          "name": "stdout",
          "text": [
            "1000\n",
            "3000\n",
            "2000,2002,2004,2006,2008,2020,2022,2024,2026,2028,2040,2042,2044,2046,2048,2060,2062,2064,2066,2068,2080,2082,2084,2086,2088,2200,2202,2204,2206,2208,2220,2222,2224,2226,2228,2240,2242,2244,2246,2248,2260,2262,2264,2266,2268,2280,2282,2284,2286,2288,2400,2402,2404,2406,2408,2420,2422,2424,2426,2428,2440,2442,2444,2446,2448,2460,2462,2464,2466,2468,2480,2482,2484,2486,2488,2600,2602,2604,2606,2608,2620,2622,2624,2626,2628,2640,2642,2644,2646,2648,2660,2662,2664,2666,2668,2680,2682,2684,2686,2688,2800,2802,2804,2806,2808,2820,2822,2824,2826,2828,2840,2842,2844,2846,2848,2860,2862,2864,2866,2868,2880,2882,2884,2886,2888,"
          ]
        }
      ]
    },
    {
      "cell_type": "markdown",
      "source": [
        "# # 20. Write a program that accepts a sentence and calculate the number of letters and digits.\n",
        "# Suppose the following input is supplied to the program:\n",
        "# hello world! 123\n",
        "# Then, the output should be:\n",
        "# LETTERS 10\n",
        "# DIGITS 3\n",
        "# Hint : checkout : .isdigit() and .isalpha() method"
      ],
      "metadata": {
        "id": "pW4wM-hzZZOD"
      }
    },
    {
      "cell_type": "code",
      "source": [
        "sentence = input()\n",
        "\n",
        "letters_count = 0\n",
        "digits_count = 0\n",
        "\n",
        "for char in sentence:\n",
        "  if char.isalpha():\n",
        "    letters_count+=1\n",
        "  elif char.isdigit():\n",
        "    digits_count+=1\n",
        "\n",
        "print(\"LETTERS\", letters_count)\n",
        "print(\"DIGITS\", digits_count)\n"
      ],
      "metadata": {
        "colab": {
          "base_uri": "https://localhost:8080/"
        },
        "id": "mv9E1ILzY0wY",
        "outputId": "aa49cfd2-1036-4186-e830-7291867b338b"
      },
      "execution_count": null,
      "outputs": [
        {
          "output_type": "stream",
          "name": "stdout",
          "text": [
            "Hello World! 123\n",
            "LETTERS 10\n",
            "DIGITS 3\n"
          ]
        }
      ]
    },
    {
      "cell_type": "markdown",
      "source": [
        "# # 21. Write a program that accepts a sentence and calculate the number of upper case letters and lower case letters.\n",
        "# Suppose the following input is supplied to the program:\n",
        "# Hello world!\n",
        "# Then, the output should be:\n",
        "# UPPER CASE 1\n",
        "# LOWER CASE 9\n",
        "\n",
        "# Hint : Checkout : .isupper() and .islower() method"
      ],
      "metadata": {
        "id": "ySqehacvaQc3"
      }
    },
    {
      "cell_type": "code",
      "source": [
        "sentence = input()\n",
        "\n",
        "upper_count = 0\n",
        "lower_count = 0\n",
        "\n",
        "for char in sentence:\n",
        "  if char.isupper():\n",
        "    upper_count+=1\n",
        "  elif char.islower():\n",
        "    lower_count+=1\n",
        "\n",
        "print(\"UPPER CASE\", upper_count)\n",
        "print(\"LOWER CASE\", lower_count)"
      ],
      "metadata": {
        "colab": {
          "base_uri": "https://localhost:8080/"
        },
        "id": "EfE2K7zwaCtq",
        "outputId": "db6d42cb-8b37-4fa0-da4b-ef5331dbb94a"
      },
      "execution_count": null,
      "outputs": [
        {
          "output_type": "stream",
          "name": "stdout",
          "text": [
            "Hello World 123\n",
            "UPPER CASE 2\n",
            "LOWER CASE 8\n"
          ]
        }
      ]
    },
    {
      "cell_type": "markdown",
      "source": [
        "# 22. Write a program that computes the value of a+aa+aaa+aaaa (based on depth) with a given digit as the value of a.\n",
        "# Suppose the following input is supplied to the program:\n",
        "# depth = 4 and value of a = 9\n",
        "# Then, the output should be:\n",
        "# 11106\n"
      ],
      "metadata": {
        "id": "WKNwCRKua6cl"
      }
    },
    {
      "cell_type": "code",
      "source": [
        "depth = int(input())\n",
        "\n",
        "value = int(input())\n",
        "\n",
        "result = 0\n",
        "current_term = 0\n",
        "for i in range(1,depth+1):\n",
        "  current_term=current_term*10+value\n",
        "  result+=current_term\n",
        "\n",
        "print(result)"
      ],
      "metadata": {
        "colab": {
          "base_uri": "https://localhost:8080/"
        },
        "id": "0_NL8Abjacmf",
        "outputId": "b10cc5c6-98ab-4fb7-fd41-aee729698174"
      },
      "execution_count": null,
      "outputs": [
        {
          "output_type": "stream",
          "name": "stdout",
          "text": [
            "4\n",
            "9\n",
            "11106\n"
          ]
        }
      ]
    },
    {
      "cell_type": "markdown",
      "source": [
        "# 23. A robot moves in a plane starting from the original point (0,0). The robot can move toward UP, DOWN, LEFT and RIGHT with a given steps. The trace of robot movement is shown as the following:\n",
        "# UP 5\n",
        "# DOWN 3\n",
        "# LEFT 3\n",
        "# RIGHT 2\n",
        "#\n",
        "# The numbers after the direction are steps. Please write a program to compute the distance from current position after a sequence of movement and original point. If the distance is a float, then just print the nearest integer.\n",
        "# Example:\n",
        "# If the following tuples are given as input to the program:\n",
        "# ((UP,5),(DOWN,3),(LEFT,3),(RIGHT,2))\n",
        "# Then, the output of the program should be:\n",
        "# 2"
      ],
      "metadata": {
        "id": "qAW1z43LeUhv"
      }
    },
    {
      "cell_type": "code",
      "source": [
        "import math\n",
        "def Robot_move(movements):\n",
        "  x,y = 0,0\n",
        "\n",
        "  for direction,step in movements:\n",
        "    if direction == 'UP':\n",
        "      y+=step\n",
        "    elif direction == 'DOWN':\n",
        "      y-=step\n",
        "    elif direction == 'LEFT':\n",
        "      x-=step\n",
        "    elif direction == 'RIGHT':\n",
        "      x+=step\n",
        "\n",
        "  return math.sqrt(x**2+y**2)\n",
        "\n",
        "movements = [('UP',5),('DOWN',3),('LEFT',3),('RIGHT',2)]\n",
        "\n",
        "distance = Robot_move(movements)\n",
        "\n",
        "print(round(distance))\n",
        "\n"
      ],
      "metadata": {
        "colab": {
          "base_uri": "https://localhost:8080/"
        },
        "id": "sByfr-E3buHh",
        "outputId": "8fdfa94d-cd86-47c1-b4f9-7ef7850b9240"
      },
      "execution_count": null,
      "outputs": [
        {
          "output_type": "stream",
          "name": "stdout",
          "text": [
            "2\n"
          ]
        }
      ]
    },
    {
      "cell_type": "markdown",
      "source": [
        "# # 24. Assuming that we have some email addresses in the \"username@companyname.com\" format, please write program to print the company name of a given email address. Both user names and company names are composed of letters only.\n",
        "\n",
        "# Example:\n",
        "# If the following email address is given as input to the program:\n",
        "\n",
        "# john@google.com\n",
        "\n",
        "# Then, the output of the program should be:\n",
        "\n",
        "# google"
      ],
      "metadata": {
        "id": "s1LLxZ72QUig"
      }
    },
    {
      "cell_type": "code",
      "source": [
        "email = input()\n",
        "\n",
        "email = email.split('@')\n",
        "\n",
        "company_name = email[1].split('.')[0]\n",
        "\n",
        "print(company_name)\n"
      ],
      "metadata": {
        "colab": {
          "base_uri": "https://localhost:8080/"
        },
        "id": "UzsBr1v6QKM3",
        "outputId": "ed21ab0a-ec11-47aa-8996-c7b114faa5b6"
      },
      "execution_count": null,
      "outputs": [
        {
          "output_type": "stream",
          "name": "stdout",
          "text": [
            "john@google.com\n",
            "google\n"
          ]
        }
      ]
    },
    {
      "cell_type": "markdown",
      "source": [
        "# # 25. Write a Python program to\n",
        "# find the sum of heights of the top three buildings in descending order from n given buildings.\n",
        "# Input:\n",
        "# n = 8\n",
        "# Input the heights of eight buildings:\n",
        "# 25\n",
        "# 35\n",
        "# 15\n",
        "# 16\n",
        "# 30\n",
        "# 45\n",
        "# 37\n",
        "# 39\n",
        "# output : 121"
      ],
      "metadata": {
        "id": "e6LdbCLRSDO8"
      }
    },
    {
      "cell_type": "code",
      "source": [
        "n = int(input())\n",
        "\n",
        "heights = []\n",
        "\n",
        "for i in range(n):\n",
        "  height_inputs = int(input())\n",
        "  heights.append(height_inputs)\n",
        "\n",
        "total_height = (sorted(heights))\n",
        "top_three_height = sum(total_height[-3:])\n",
        "print(top_three_height)"
      ],
      "metadata": {
        "colab": {
          "base_uri": "https://localhost:8080/"
        },
        "id": "56xZ-rYjRDm0",
        "outputId": "f535b926-cd4d-4187-db63-bb504c4cc286"
      },
      "execution_count": null,
      "outputs": [
        {
          "output_type": "stream",
          "name": "stdout",
          "text": [
            "8\n",
            "25\n",
            "35\n",
            "15\n",
            "16\n",
            "30\n",
            "45\n",
            "37\n",
            "39\n",
            "121\n",
            "121\n"
          ]
        }
      ]
    },
    {
      "cell_type": "markdown",
      "source": [
        "# # 26. Write a Python program to check whether three given lengths (integers) of three sides form a right triangle. Print \"Yes\" if the given sides form a right triangle otherwise print \"No\".\n",
        "# Input:\n",
        "# Integers separated by a single space.\n",
        "# Input three integers(sides of a triangle)\n",
        "# 8 6 7\n",
        "# No"
      ],
      "metadata": {
        "id": "b6YqZLuXWvw2"
      }
    },
    {
      "cell_type": "code",
      "source": [
        "sides = input()\n",
        "sides = sides.split(' ')\n",
        "\n",
        "lst_sides = list(map(int,sides))\n",
        "\n",
        "a,b,c = sorted(lst_sides)\n",
        "\n",
        "if a**2 + b**2 == c**2:\n",
        "  print(\"Yes\")\n",
        "else:\n",
        "  print(\"No\")"
      ],
      "metadata": {
        "colab": {
          "base_uri": "https://localhost:8080/"
        },
        "id": "sqS2v6-mVvQx",
        "outputId": "5ffc7089-d0d2-4293-8b1e-c7c3e6839210"
      },
      "execution_count": null,
      "outputs": [
        {
          "output_type": "stream",
          "name": "stdout",
          "text": [
            "6 7 8\n",
            "No\n"
          ]
        }
      ]
    },
    {
      "cell_type": "markdown",
      "source": [
        "## 27. There are two circles C1 with radius r1, central coordinate (x1, y1) and C2 with radius r2 and central coordinate (x2, y2).\n",
        "\n",
        "# Write a Python program to test the followings -\n",
        "\n",
        "# \"C2 is in C1\" if C2 is in C1\n",
        "# \"C1 is in C2\" if C1 is in C2\n",
        "# \"Circumference of C1 and C2 intersect\" if circumference of C1 and C2 intersect\n",
        "# \"C1 and C2 do not overlap\" if C1 and C2 do not overlap and\n",
        "# \"Circumference of C1 and C2 will touch\" if C1 and C2 touch\n",
        "\n",
        "# Hint :\n",
        "# Let the distance between the two centers be  𝑑\n",
        "#  , and the radiuses be  𝑟1,𝑟2\n",
        "#   with  𝑟1≤𝑟2\n",
        "\n",
        "# If you have  𝑑<𝑟2−𝑟1\n",
        "#  , then they don’t touch, and the smaller circle is inside the larger circle.\n",
        "\n",
        "# If you have  𝑑=𝑟2−𝑟1\n",
        "#  , then they touch at one point internally.\n",
        "\n",
        "# If you have  𝑟2−𝑟1<𝑑<𝑟2+𝑟1\n",
        "#  , then they touch at two points.\n",
        "\n",
        "# If you have  𝑑=𝑟2+𝑟1\n",
        "#  , then they touch at one point externally.\n",
        "\n",
        "# If you have  𝑑>𝑟2+𝑟1\n",
        "#  , then they don’t touch, and neither is inside the other.\n",
        "\n",
        "# If you know that it is either touching internally or externally — that is, by the chart above, that  𝑑=𝑟2−𝑟1\n",
        "#   or  𝑑=𝑟2+𝑟1\n",
        "#  , then you can simplify things.\n",
        "\n",
        "# If you have  𝑑2>𝑟22,\n",
        "#   then they touch externally.\n",
        "\n",
        "# If you have  𝑑2<𝑟22\n",
        "#  , then they touch internally.\n",
        "\n",
        "# Computing  𝑑 = sqaure root of ((𝑥2−𝑥1)^2+(𝑦2−𝑦1)^2)\n",
        "#   involves a square root calculation, which is why I used  𝑑2\n",
        "#   for the “simplified” version."
      ],
      "metadata": {
        "id": "N-qExnYGYHRl"
      }
    },
    {
      "cell_type": "markdown",
      "source": [],
      "metadata": {
        "id": "NBJsv5MdYHHo"
      }
    },
    {
      "cell_type": "code",
      "source": [],
      "metadata": {
        "id": "Hw3dWozWXyBe"
      },
      "execution_count": null,
      "outputs": []
    },
    {
      "cell_type": "markdown",
      "source": [
        "# # 29. If you draw a straight line on a plane, the plane is divided into two regions.\n",
        "# For example, if you draw two straight lines in parallel, you get three areas, and if you draw vertically one to the other you get 4 areas.\n",
        "# Write a Python program to create the maximum number of regions obtained by drawing n given straight lines.\n",
        "# Input:\n",
        "# (1 <= n <= 10,000)\n",
        "# Input number of straight lines (o to exit):\n",
        "# 5\n",
        "# Number of regions:\n",
        "# 16\n",
        "# Hint : Formula to calculate number of regions  (n*n+n+2)//2"
      ],
      "metadata": {
        "id": "kQ4Rb6NvLnBc"
      }
    },
    {
      "cell_type": "code",
      "source": [
        "n = int(input())\n",
        "\n",
        "regions = (n*n+n+2)//2\n",
        "\n",
        "print(\"Number of regions:\",regions)"
      ],
      "metadata": {
        "colab": {
          "base_uri": "https://localhost:8080/"
        },
        "id": "dBIqsVRpLn97",
        "outputId": "36ef8b42-c0e7-4a70-8048-03eab318ce2f"
      },
      "execution_count": null,
      "outputs": [
        {
          "output_type": "stream",
          "name": "stdout",
          "text": [
            "5\n",
            "Number of regions: 16\n"
          ]
        }
      ]
    },
    {
      "cell_type": "markdown",
      "source": [
        "# # 31. Write a Python program to find the longest common prefix string among a given array of strings. Return false if there is no common prefix.\n",
        "# For Example, longest common prefix of \"abcdefgh\" and \"abcefgh\" is \"abc\".\n",
        "# Sample Input:\n",
        "# [\"abcdefgh\",\"abcefgh\"]\n",
        "# [\"w3r\",\"w3resource\"]\n",
        "# [\"Python\",\"PHP\", \"Perl\"]\n",
        "# [\"Python\",\"PHP\", \"Java\"]\n",
        "# Sample Output:\n",
        "# abc\n",
        "# w3r\n",
        "# P"
      ],
      "metadata": {
        "id": "MmmZKPQDMQJd"
      }
    },
    {
      "cell_type": "code",
      "source": [
        "def longest_common_prefix(strings):\n",
        "    if not strings:\n",
        "        return False\n",
        "\n",
        "    # Sort the strings to minimize the comparisons\n",
        "    strings.sort()\n",
        "\n",
        "    # The common prefix must be in the shortest string\n",
        "    prefix = strings[0]\n",
        "\n",
        "    # Compare the shortest string with the rest of the strings\n",
        "    for i in range(1, len(strings)):\n",
        "        while strings[i].find(prefix) != 0:\n",
        "            # Shorten the prefix until a common one is found\n",
        "            prefix = prefix[:-1]\n",
        "            if not prefix:\n",
        "                return False  # Return False if no common prefix found\n",
        "\n",
        "    return prefix\n",
        "\n",
        "# Test cases\n",
        "print(longest_common_prefix([\"abcdefgh\", \"abcefgh\"]))  # Output: \"abc\"\n",
        "print(longest_common_prefix([\"w3r\", \"w3resource\"]))    # Output: \"w3r\"\n",
        "print(longest_common_prefix([\"Python\", \"PHP\", \"Perl\"]))  # Output: \"P\"\n",
        "print(longest_common_prefix([\"Python\", \"PHP\", \"Java\"]))  # Output: False\n"
      ],
      "metadata": {
        "colab": {
          "base_uri": "https://localhost:8080/"
        },
        "id": "gIZu7mYjL7wN",
        "outputId": "24c95cf3-ff47-40d9-eda8-e9e2aa40e4a7"
      },
      "execution_count": null,
      "outputs": [
        {
          "output_type": "stream",
          "name": "stdout",
          "text": [
            "abc\n",
            "w3r\n",
            "P\n",
            "False\n"
          ]
        }
      ]
    },
    {
      "cell_type": "markdown",
      "source": [
        "# # 32. The price of a given stock on each day is stored in an array.\n",
        "# Write a Python program to find the maximum profit in one transaction i.e., buy one and sell one share of the stock from the given price value of the said array. You cannot sell a stock before you buy one.\n",
        "# Input (Stock price of each day): [224, 236, 247, 258, 259, 225]\n",
        "# Output: 35\n",
        "# Explanation:\n",
        "# 236 - 224 = 12\n",
        "# 247 - 224 = 23\n",
        "# 258 - 224 = 34\n",
        "# 259 - 224 = 35\n",
        "# 225 - 224 = 1\n",
        "# 247 - 236 = 11\n",
        "# 258 - 236 = 22\n",
        "# 259 - 236 = 23\n",
        "# 225 - 236 = -11\n",
        "# 258 - 247 = 11\n",
        "# 259 - 247 = 12\n",
        "# 225 - 247 = -22\n",
        "# 259 - 258 = 1\n",
        "# 225 - 258 = -33\n",
        "# 225 - 259 = -34"
      ],
      "metadata": {
        "id": "AIvm2MzGNgN4"
      }
    },
    {
      "cell_type": "code",
      "source": [
        "lst = eval(input())\n",
        "\n",
        "max = 0\n",
        "\n",
        "for i in range(len(lst)):\n",
        "\n",
        "  for j in range(i+1,len(lst)):\n",
        "\n",
        "    result = lst[j]-lst[i]\n",
        "\n",
        "    if result > max:\n",
        "      max = result\n",
        "\n",
        "print(max)"
      ],
      "metadata": {
        "id": "_AxjNAQKNQZv",
        "colab": {
          "base_uri": "https://localhost:8080/"
        },
        "outputId": "51e006ba-f65f-4a7e-b396-8c390ccab779"
      },
      "execution_count": null,
      "outputs": [
        {
          "output_type": "stream",
          "name": "stdout",
          "text": [
            "[224, 236, 247, 258, 259, 225]\n",
            "35\n"
          ]
        }
      ]
    },
    {
      "cell_type": "markdown",
      "source": [
        "# # 33. Write a Python program to compute the largest product of three integers from a given list of integers.\n",
        "# Sample Input:\n",
        "# [-10, -20, 20, 1]\n",
        "# [-1, -1, 4, 2, 1]\n",
        "# [1, 2, 3, 4, 5, 6]\n",
        "# Sample Output:\n",
        "# 4000\n",
        "# 8\n",
        "# 120\n"
      ],
      "metadata": {
        "id": "9ZOfVOaIqgz4"
      }
    },
    {
      "cell_type": "code",
      "source": [
        "lst = eval(input())\n",
        "\n",
        "lst.sort()\n",
        "\n",
        "result  = lst[-1]*lst[-2]*lst[-3]\n",
        "\n",
        "print(result)"
      ],
      "metadata": {
        "colab": {
          "base_uri": "https://localhost:8080/"
        },
        "id": "dZ2koe5DZGUn",
        "outputId": "acdf7cd1-a054-476c-a3eb-132bb8d14f5a"
      },
      "execution_count": null,
      "outputs": [
        {
          "output_type": "stream",
          "name": "stdout",
          "text": [
            "[-10, -20, 20, 1]\n",
            "-200\n"
          ]
        }
      ]
    },
    {
      "cell_type": "markdown",
      "source": [
        "# # 34. Write a Python program that accepts a list of numbers. Count the negative numbers and compute the sum of the positive numbers of the said list. Return these values through a list.\n",
        "# Original list: [1, 2, 3, 4, 5]\n",
        "# Number of negative of numbers and sum of the positive numbers of the said list: [0, 15]\n",
        "# Original list: [-1, -2, -3, -4, -5]\n",
        "# [5, 0]\n",
        "# Number of negative of numbers and sum of the positive numbers of the said list: [5, 0]\n",
        "# Original list: [1, 2, 3, -4, -5]\n",
        "# [2, 6]\n",
        "# Number of negative of numbers and sum of the positive numbers of the said list: [2, 6]\n",
        "# Original list: [1, 2, -3, -4, -5]\n",
        "# [3, 3]\n",
        "# Number of negative of numbers and sum of the positive numbers of the said list: [3, 3]"
      ],
      "metadata": {
        "id": "Qio3_r43sUij"
      }
    },
    {
      "cell_type": "code",
      "source": [
        "original_list = eval(input())\n",
        "\n",
        "negative_numbers = 0\n",
        "\n",
        "sum_positive_numbers = 0\n",
        "\n",
        "for i in original_list:\n",
        "  if i < 0:\n",
        "    negative_numbers+=1\n",
        "  else:\n",
        "    sum_positive_numbers+=i\n",
        "\n",
        "result = [negative_numbers, sum_positive_numbers]\n",
        "\n",
        "print(result)"
      ],
      "metadata": {
        "colab": {
          "base_uri": "https://localhost:8080/"
        },
        "id": "KAJsaY1Yqwk8",
        "outputId": "fa15b79f-6875-489c-eae1-b8766ad88151"
      },
      "execution_count": null,
      "outputs": [
        {
          "output_type": "stream",
          "name": "stdout",
          "text": [
            "[-1, -2, -3, -4, -5]\n",
            "[5, 0]\n"
          ]
        }
      ]
    },
    {
      "cell_type": "markdown",
      "source": [
        "# # 35. Write a Python program to check whether a sequence of numbers has an increasing trend or not.\n",
        "# Sample Input:\n",
        "# [1,2,3,4]\n",
        "# [1,2,5,3,4]\n",
        "# [-1,-2,-3,-4]\n",
        "# [-4,-3,-2,-1]\n",
        "# [1,2,3,4,0]\n",
        "# Sample Output:\n",
        "# True\n",
        "# False\n",
        "# False\n",
        "# True\n",
        "# False"
      ],
      "metadata": {
        "id": "_q5imHYwyUdc"
      }
    },
    {
      "cell_type": "code",
      "source": [
        "lst = eval(input())\n",
        "increasing_trend = True\n",
        "\n",
        "for i in range(len(lst)-1):\n",
        "  if lst[i] >= lst[i+1]:\n",
        "    increasing_trend = False\n",
        "    break\n",
        "\n",
        "print(increasing_trend)"
      ],
      "metadata": {
        "colab": {
          "base_uri": "https://localhost:8080/"
        },
        "id": "EdejM9xeurtH",
        "outputId": "858a4920-6f4f-439e-b651-20c965cef11b"
      },
      "execution_count": null,
      "outputs": [
        {
          "output_type": "stream",
          "name": "stdout",
          "text": [
            "[[-1,-2,-3,-4]]\n",
            "True\n"
          ]
        }
      ]
    },
    {
      "cell_type": "markdown",
      "source": [
        "#  30. When character are consecutive in a string , it is possible to shorten the character string by replacing the character with a certain rule.\n",
        "# For example, in the case of the character string YYYYY, if it is expressed as @ 5 Y, it is compressed by one character.\n",
        "# Write a Python program to restore the original string by entering the compressed string with this rule. However, the @ character does not appear in the restored character string.\n",
        "# Input:\n",
        "# The restored character string for each character on one line.\n",
        "# Original text: XY@6Z1@4023\n",
        "# XYZZZZZZ1000023\n",
        "# Original text: @39+1=1@30\n",
        "# 999+1=1000\n",
        "# Consider 1-9 after @"
      ],
      "metadata": {
        "id": "aD5Xpo7Nmtxh"
      }
    },
    {
      "cell_type": "code",
      "source": [
        "input_text = input()\n",
        "\n",
        "output_text = ''\n",
        "\n",
        "i = 0\n",
        "\n",
        "while i<len(input_text):\n",
        "  if input_text[i]!='@':\n",
        "    output_text+=input_text[i]\n",
        "    i = i+1\n",
        "\n",
        "  else:\n",
        "    output_text+=input_text[i+2]*int(input_text[i+1])\n",
        "    input_text = input_text[i+3:]\n",
        "    i = 0\n",
        "\n",
        "print(output_text)"
      ],
      "metadata": {
        "id": "hQ5Eqo_Ny43C",
        "colab": {
          "base_uri": "https://localhost:8080/"
        },
        "outputId": "2e9488f2-2e23-467a-dc4a-ce773db39aa1"
      },
      "execution_count": null,
      "outputs": [
        {
          "output_type": "stream",
          "name": "stdout",
          "text": [
            "@39+1=1@30\n",
            "999+1=1000\n"
          ]
        }
      ]
    },
    {
      "cell_type": "markdown",
      "source": [
        "# # 36. Write a Python program to check whether two given lines are parallel or not.\n",
        "# Note: Parallel lines are two or more lines that never intersect. Parallel Lines are like railroad tracks that never intersect.\n",
        "# The General Form of the equation of a straight line is: ax + by = c\n",
        "# The said straight line is represented in a list as [a, b, c]\n",
        "# Example of two parallel lines:\n",
        "# x + 4y = 10 and x + 4y = 14\n",
        "# Sample Input:\n",
        "# ([2,3,4], [2,3,8])\n",
        "# ([2,3,4], [4,-3,8])\n",
        "# Sample Output:\n",
        "# True\n",
        "# False"
      ],
      "metadata": {
        "id": "xCGchujs6vGh"
      }
    },
    {
      "cell_type": "code",
      "source": [
        "# For condition pf parallel lines a1.b2 = a2.b1\n",
        "def are_lines_parallel(line1, line2):\n",
        "    # Check if the coefficients are proportional\n",
        "    return line1[0] * line2[1] == line2[0] * line1[1]\n",
        "\n",
        "# Sample input\n",
        "input_lines = [\n",
        "    ([2, 3, 4], [2, 3, 8]),\n",
        "    ([2, 3, 4], [4, -3, 8])\n",
        "]\n",
        "\n",
        "# Sample output\n",
        "for lines in input_lines:\n",
        "    result = are_lines_parallel(*lines)\n",
        "    print(result)"
      ],
      "metadata": {
        "colab": {
          "base_uri": "https://localhost:8080/"
        },
        "id": "O1dPYVusn7MD",
        "outputId": "0b8aa78a-36cb-4a5e-b261-61c840d781b9"
      },
      "execution_count": null,
      "outputs": [
        {
          "output_type": "stream",
          "name": "stdout",
          "text": [
            "True\n",
            "False\n"
          ]
        }
      ]
    },
    {
      "cell_type": "markdown",
      "source": [
        "# # 37. Write a Python program to reverse all words of odd lengths.\n",
        "# Sample Input:\n",
        "# (\"The quick brown fox jumps over the lazy dog\")\n",
        "# (\"Python Exercises\")\n",
        "# Sample Output:\n",
        "# The quick brown fox jumps revo the yzal dog\n",
        "# nohtyP Exercises\n"
      ],
      "metadata": {
        "id": "UKbJ-HKk-22n"
      }
    },
    {
      "cell_type": "code",
      "source": [
        "string = input()\n",
        "string = string.split()\n",
        "\n",
        "strng = ''\n",
        "for i in range(len(string)):\n",
        "  if i%2==0:\n",
        "    strng+=string[i]\n",
        "  else:\n",
        "    strng+=string[i][::-1]\n",
        "\n",
        "print(strng)"
      ],
      "metadata": {
        "colab": {
          "base_uri": "https://localhost:8080/"
        },
        "id": "MuulvaBR8MNk",
        "outputId": "c3b5bae6-3a7c-4155-c75d-2e8640fe7a84"
      },
      "execution_count": null,
      "outputs": [
        {
          "output_type": "stream",
          "name": "stdout",
          "text": [
            "python exercide\n",
            "pythonedicrexe\n"
          ]
        }
      ]
    },
    {
      "cell_type": "code",
      "source": [
        "def reverse_odd_length_words(sentence):\n",
        "    words = sentence.split()\n",
        "    reversed_words = [word[::-1] if len(word) % 2 == 0 else word for word in words]\n",
        "    reversed_sentence = ' '.join(reversed_words)\n",
        "    return reversed_sentence\n",
        "\n",
        "# Sample input\n",
        "input_sentences = [\n",
        "    \"The quick brown fox jumps over the lazy dog\",\n",
        "    \"Python Exercises\"\n",
        "]\n",
        "\n",
        "# Sample output\n",
        "for sentence in input_sentences:\n",
        "    result = reverse_odd_length_words(sentence)\n",
        "    print(result)"
      ],
      "metadata": {
        "colab": {
          "base_uri": "https://localhost:8080/"
        },
        "id": "Q0STIKmR_gpt",
        "outputId": "04dce555-c394-4905-c2cc-bd4bd88bc297"
      },
      "execution_count": null,
      "outputs": [
        {
          "output_type": "stream",
          "name": "stdout",
          "text": [
            "The quick brown fox jumps revo the yzal dog\n",
            "nohtyP Exercises\n"
          ]
        }
      ]
    },
    {
      "cell_type": "markdown",
      "source": [
        "# 1\n",
        "# 2    1\n",
        "# 4    2    1\n",
        "# 8    4    2    1\n",
        "# 16    8    4    2    1\n",
        "# 32   16    8    4    2    1\n",
        "# 64   32   16    8    4    2    1\n",
        "# 128   64   32   16    8    4    2    1\n",
        "\n",
        "# Print the above pattern"
      ],
      "metadata": {
        "id": "8El1oEOSAnHU"
      }
    },
    {
      "cell_type": "code",
      "source": [
        "n = int(input())\n",
        "\n",
        "for i in range(1,n+1):\n",
        "  for j in range(i-1,-1,-1):\n",
        "    print(2**(j), end = \" \")\n",
        "  print()\n"
      ],
      "metadata": {
        "colab": {
          "base_uri": "https://localhost:8080/"
        },
        "id": "w3lWD_P8AGNs",
        "outputId": "f8fe34e4-10fd-453a-ce97-e2a5a0d8aba7"
      },
      "execution_count": null,
      "outputs": [
        {
          "output_type": "stream",
          "name": "stdout",
          "text": [
            "8\n",
            "1 \n",
            "2 1 \n",
            "4 2 1 \n",
            "8 4 2 1 \n",
            "16 8 4 2 1 \n",
            "32 16 8 4 2 1 \n",
            "64 32 16 8 4 2 1 \n",
            "128 64 32 16 8 4 2 1 \n"
          ]
        }
      ]
    },
    {
      "cell_type": "markdown",
      "source": [
        "# 39. Create a function that takes a string s and returns a list of two-paired characters. If the string has an odd number of characters, add an asterisk * in the final pair.\n",
        "\n",
        "# See the below examples for a better understanding:\n",
        "\n",
        "# Examples\n",
        "# string_pairs(\"mubashir\") ➞ [\"mu\", \"ba\", \"sh\", \"ir\"]\n",
        "\n",
        "# string_pairs(\"edabit\") ➞ [\"ed\", \"ab\", \"it\"]\n",
        "\n",
        "# string_pairs(\"airforces\") ➞ [\"ai\", \"rf\", \"or\", \"ce\", \"s*\"]\n",
        "# Notes\n",
        "# Return [] if the given string is empty."
      ],
      "metadata": {
        "id": "rKW-_UXFF0bO"
      }
    },
    {
      "cell_type": "code",
      "source": [
        "string = input()\n",
        "result = []\n",
        "\n",
        "for i in range(0,len(string),2):\n",
        "  if i+1 < len(string):\n",
        "    result.append(string[i:i+2])\n",
        "  else:\n",
        "    result.append(string[i]+'*')\n",
        "print(result)"
      ],
      "metadata": {
        "colab": {
          "base_uri": "https://localhost:8080/"
        },
        "id": "BGEBhya6BOWT",
        "outputId": "15b27ff2-007b-4142-a2b1-4832e4a00fc3"
      },
      "execution_count": null,
      "outputs": [
        {
          "output_type": "stream",
          "name": "stdout",
          "text": [
            "edibles\n",
            "['ed', 'ib', 'le', 's*']\n"
          ]
        }
      ]
    },
    {
      "cell_type": "markdown",
      "source": [
        "# 40. Write a function that takes a credit card number and only displays the last four characters. The rest of the card number must be replaced by ************.\n",
        "\n",
        "# Examples\n",
        "# card_hide(\"1234123456785678\") ➞ \"************5678\"\n",
        "\n",
        "# card_hide(\"8754456321113213\") ➞ \"************3213\"\n",
        "\n",
        "# card_hide(\"35123413355523\") ➞ \"**********5523\"\n",
        "# Examples\n",
        "# Ensure you return a string.\n",
        "# The length of the string must remain the same as the input."
      ],
      "metadata": {
        "id": "tvGC6FAzHMt-"
      }
    },
    {
      "cell_type": "code",
      "source": [
        "number = int(input())\n",
        "\n",
        "result = '*'*(len(str(number))-4)+str(number)[-4:]\n",
        "\n",
        "print(result)"
      ],
      "metadata": {
        "colab": {
          "base_uri": "https://localhost:8080/"
        },
        "id": "281mlSI9GaLR",
        "outputId": "476f9213-a757-4b79-a550-c5cc2f75fda8"
      },
      "execution_count": null,
      "outputs": [
        {
          "output_type": "stream",
          "name": "stdout",
          "text": [
            "1234567988881111\n",
            "************1111\n"
          ]
        }
      ]
    },
    {
      "cell_type": "markdown",
      "source": [
        "# 41. Transcribe the given DNA strand into corresponding mRNA - a type of RNA, that will be formed from it after transcription. DNA has the bases A, T, G and C, while RNA converts to U, A, C and G respectively.\n",
        "\n",
        "# Examples\n",
        "# dna_to_rna(\"ATTAGCGCGATATACGCGTAC\") ➞ \"UAAUCGCGCUAUAUGCGCAUG\"\n",
        "\n",
        "# dna_to_rna(\"CGATATA\") ➞ \"GCUAUAU\"\n",
        "\n",
        "# dna_to_rna(\"GTCATACGACGTA\") ➞ \"CAGUAUGCUGCAU\"\n",
        "# Notes\n",
        "# Transcription is the process of making complementary strand.\n",
        "# A, T, G and C in DNA converts to U, A, C and G respectively, when in mRNA."
      ],
      "metadata": {
        "id": "voHktsCkI3JW"
      }
    },
    {
      "cell_type": "code",
      "source": [
        "def dna_to_rna(string):\n",
        "  dictionary = {'A':'U','T':'A','G':'C','C':'G'}\n",
        "  result = ''\n",
        "  for i in string:\n",
        "    result+=dictionary[i]\n",
        "  return result\n",
        "string = input()\n",
        "print(dna_to_rna(string))"
      ],
      "metadata": {
        "colab": {
          "base_uri": "https://localhost:8080/"
        },
        "id": "HK_dU_LcH1VQ",
        "outputId": "33122625-53e7-4a44-b3c7-e89d4f69d9d9"
      },
      "execution_count": null,
      "outputs": [
        {
          "output_type": "stream",
          "name": "stdout",
          "text": [
            "CGATATA\n",
            "GCUAUAU\n"
          ]
        }
      ]
    },
    {
      "cell_type": "markdown",
      "source": [
        "\"Loves me, loves me not\" is a traditional game in which a person plucks off all the petals of a flower one by one, saying the phrase \"Loves me\" and \"Loves me not\" when determining whether the one that they love, loves them back.\n",
        "\n",
        "# Given a number of petals, return a string which repeats the phrases \"Loves me\" and \"Loves me not\" for every alternating petal, and return the last phrase in all caps. Remember to put a comma and space between phrases.\n",
        "\n",
        "# Examples\n",
        "# loves_me(3) ➞ \"Loves me, Loves me not, LOVES ME\"\n",
        "\n",
        "# loves_me(6) ➞ \"Loves me, Loves me not, Loves me, Loves me not, Loves me, LOVES ME NOT\"\n",
        "\n",
        "# loves_me(1) ➞ \"LOVES ME\"\n",
        "# Notes\n",
        "# Remember to return a string.\n",
        "# The first phrase is always \"Loves me\"."
      ],
      "metadata": {
        "id": "EWTdeVaedBNJ"
      }
    },
    {
      "cell_type": "code",
      "source": [
        "def loves_me(n):\n",
        "    phrases = []\n",
        "\n",
        "    # Loop through each petal\n",
        "    for i in range(0, n):\n",
        "        if i % 2 == 0:\n",
        "            phrases.append(\"Loves me\")\n",
        "        else:\n",
        "            phrases.append(\"Loves me not\")\n",
        "\n",
        "    # Capitalize the last phrase\n",
        "    phrases[-1] = phrases[-1].upper()\n",
        "\n",
        "    # Join the phrases with ', ' and return as a single string\n",
        "    return ', '.join(phrases)\n",
        "\n",
        "# Test cases\n",
        "n = int(input())\n",
        "print(loves_me(n))\n"
      ],
      "metadata": {
        "colab": {
          "base_uri": "https://localhost:8080/"
        },
        "id": "f-DC2fdaT_9b",
        "outputId": "771bd824-ca23-4e4c-8ece-0ef4a9c778a4"
      },
      "execution_count": null,
      "outputs": [
        {
          "output_type": "stream",
          "name": "stdout",
          "text": [
            "6\n",
            "Loves me, Loves me not, Loves me, Loves me not, Loves me, LOVES ME NOT\n"
          ]
        }
      ]
    },
    {
      "cell_type": "markdown",
      "source": [
        "# Consider the following Python dictionary data and Python list labels:\n",
        "\n",
        "data = {'birds': ['Cranes', 'Cranes', 'plovers', 'spoonbills', 'spoonbills', 'Cranes', 'plovers', 'Cranes', 'spoonbills', 'spoonbills'], 'age': [3.5, 4, 1.5, np.nan, 6, 3, 5.5, np.nan, 8, 4], 'visits': [2, 4, 3, 4, 3, 4, 2, 2, 3, 2], 'priority': ['yes', 'yes', 'no', 'yes', 'no', 'no', 'no', 'yes', 'no', 'no']}\n",
        "\n",
        "labels = ['a', 'b', 'c', 'd', 'e', 'f', 'g', 'h', 'i', 'j']"
      ],
      "metadata": {
        "id": "g-MsCCBA6EeN"
      }
    },
    {
      "cell_type": "code",
      "source": [
        "#1. Create a DataFrame birds from this dictionary data which has the index labels.\n",
        "import numpy as np\n",
        "import pandas as pd\n",
        "\n",
        "data = {'birds': ['Cranes', 'Cranes', 'plovers', 'spoonbills', 'spoonbills', 'Cranes', 'plovers', 'Cranes', 'spoonbills', 'spoonbills'], 'age': [3.5, 4, 1.5, np.nan, 6, 3, 5.5, np.nan, 8, 4], 'visits': [2, 4, 3, 4, 3, 4, 2, 2, 3, 2], 'priority': ['yes', 'yes', 'no', 'yes', 'no', 'no', 'no', 'yes', 'no', 'no']}\n",
        "\n",
        "labels = ['a', 'b', 'c', 'd', 'e', 'f', 'g', 'h', 'i', 'j']\n",
        "\n",
        "birds = pd.DataFrame(data, index = labels)\n",
        "birds"
      ],
      "metadata": {
        "id": "0WRR7TNBdnjn",
        "colab": {
          "base_uri": "https://localhost:8080/",
          "height": 363
        },
        "outputId": "7b94bfcd-2471-4d72-df12-275752f47f03"
      },
      "execution_count": null,
      "outputs": [
        {
          "output_type": "execute_result",
          "data": {
            "text/plain": [
              "        birds  age  visits priority\n",
              "a      Cranes  3.5       2      yes\n",
              "b      Cranes  4.0       4      yes\n",
              "c     plovers  1.5       3       no\n",
              "d  spoonbills  NaN       4      yes\n",
              "e  spoonbills  6.0       3       no\n",
              "f      Cranes  3.0       4       no\n",
              "g     plovers  5.5       2       no\n",
              "h      Cranes  NaN       2      yes\n",
              "i  spoonbills  8.0       3       no\n",
              "j  spoonbills  4.0       2       no"
            ],
            "text/html": [
              "\n",
              "  <div id=\"df-f25dc8d0-ace6-482d-8b94-ec62e05b2a76\" class=\"colab-df-container\">\n",
              "    <div>\n",
              "<style scoped>\n",
              "    .dataframe tbody tr th:only-of-type {\n",
              "        vertical-align: middle;\n",
              "    }\n",
              "\n",
              "    .dataframe tbody tr th {\n",
              "        vertical-align: top;\n",
              "    }\n",
              "\n",
              "    .dataframe thead th {\n",
              "        text-align: right;\n",
              "    }\n",
              "</style>\n",
              "<table border=\"1\" class=\"dataframe\">\n",
              "  <thead>\n",
              "    <tr style=\"text-align: right;\">\n",
              "      <th></th>\n",
              "      <th>birds</th>\n",
              "      <th>age</th>\n",
              "      <th>visits</th>\n",
              "      <th>priority</th>\n",
              "    </tr>\n",
              "  </thead>\n",
              "  <tbody>\n",
              "    <tr>\n",
              "      <th>a</th>\n",
              "      <td>Cranes</td>\n",
              "      <td>3.5</td>\n",
              "      <td>2</td>\n",
              "      <td>yes</td>\n",
              "    </tr>\n",
              "    <tr>\n",
              "      <th>b</th>\n",
              "      <td>Cranes</td>\n",
              "      <td>4.0</td>\n",
              "      <td>4</td>\n",
              "      <td>yes</td>\n",
              "    </tr>\n",
              "    <tr>\n",
              "      <th>c</th>\n",
              "      <td>plovers</td>\n",
              "      <td>1.5</td>\n",
              "      <td>3</td>\n",
              "      <td>no</td>\n",
              "    </tr>\n",
              "    <tr>\n",
              "      <th>d</th>\n",
              "      <td>spoonbills</td>\n",
              "      <td>NaN</td>\n",
              "      <td>4</td>\n",
              "      <td>yes</td>\n",
              "    </tr>\n",
              "    <tr>\n",
              "      <th>e</th>\n",
              "      <td>spoonbills</td>\n",
              "      <td>6.0</td>\n",
              "      <td>3</td>\n",
              "      <td>no</td>\n",
              "    </tr>\n",
              "    <tr>\n",
              "      <th>f</th>\n",
              "      <td>Cranes</td>\n",
              "      <td>3.0</td>\n",
              "      <td>4</td>\n",
              "      <td>no</td>\n",
              "    </tr>\n",
              "    <tr>\n",
              "      <th>g</th>\n",
              "      <td>plovers</td>\n",
              "      <td>5.5</td>\n",
              "      <td>2</td>\n",
              "      <td>no</td>\n",
              "    </tr>\n",
              "    <tr>\n",
              "      <th>h</th>\n",
              "      <td>Cranes</td>\n",
              "      <td>NaN</td>\n",
              "      <td>2</td>\n",
              "      <td>yes</td>\n",
              "    </tr>\n",
              "    <tr>\n",
              "      <th>i</th>\n",
              "      <td>spoonbills</td>\n",
              "      <td>8.0</td>\n",
              "      <td>3</td>\n",
              "      <td>no</td>\n",
              "    </tr>\n",
              "    <tr>\n",
              "      <th>j</th>\n",
              "      <td>spoonbills</td>\n",
              "      <td>4.0</td>\n",
              "      <td>2</td>\n",
              "      <td>no</td>\n",
              "    </tr>\n",
              "  </tbody>\n",
              "</table>\n",
              "</div>\n",
              "    <div class=\"colab-df-buttons\">\n",
              "\n",
              "  <div class=\"colab-df-container\">\n",
              "    <button class=\"colab-df-convert\" onclick=\"convertToInteractive('df-f25dc8d0-ace6-482d-8b94-ec62e05b2a76')\"\n",
              "            title=\"Convert this dataframe to an interactive table.\"\n",
              "            style=\"display:none;\">\n",
              "\n",
              "  <svg xmlns=\"http://www.w3.org/2000/svg\" height=\"24px\" viewBox=\"0 -960 960 960\">\n",
              "    <path d=\"M120-120v-720h720v720H120Zm60-500h600v-160H180v160Zm220 220h160v-160H400v160Zm0 220h160v-160H400v160ZM180-400h160v-160H180v160Zm440 0h160v-160H620v160ZM180-180h160v-160H180v160Zm440 0h160v-160H620v160Z\"/>\n",
              "  </svg>\n",
              "    </button>\n",
              "\n",
              "  <style>\n",
              "    .colab-df-container {\n",
              "      display:flex;\n",
              "      gap: 12px;\n",
              "    }\n",
              "\n",
              "    .colab-df-convert {\n",
              "      background-color: #E8F0FE;\n",
              "      border: none;\n",
              "      border-radius: 50%;\n",
              "      cursor: pointer;\n",
              "      display: none;\n",
              "      fill: #1967D2;\n",
              "      height: 32px;\n",
              "      padding: 0 0 0 0;\n",
              "      width: 32px;\n",
              "    }\n",
              "\n",
              "    .colab-df-convert:hover {\n",
              "      background-color: #E2EBFA;\n",
              "      box-shadow: 0px 1px 2px rgba(60, 64, 67, 0.3), 0px 1px 3px 1px rgba(60, 64, 67, 0.15);\n",
              "      fill: #174EA6;\n",
              "    }\n",
              "\n",
              "    .colab-df-buttons div {\n",
              "      margin-bottom: 4px;\n",
              "    }\n",
              "\n",
              "    [theme=dark] .colab-df-convert {\n",
              "      background-color: #3B4455;\n",
              "      fill: #D2E3FC;\n",
              "    }\n",
              "\n",
              "    [theme=dark] .colab-df-convert:hover {\n",
              "      background-color: #434B5C;\n",
              "      box-shadow: 0px 1px 3px 1px rgba(0, 0, 0, 0.15);\n",
              "      filter: drop-shadow(0px 1px 2px rgba(0, 0, 0, 0.3));\n",
              "      fill: #FFFFFF;\n",
              "    }\n",
              "  </style>\n",
              "\n",
              "    <script>\n",
              "      const buttonEl =\n",
              "        document.querySelector('#df-f25dc8d0-ace6-482d-8b94-ec62e05b2a76 button.colab-df-convert');\n",
              "      buttonEl.style.display =\n",
              "        google.colab.kernel.accessAllowed ? 'block' : 'none';\n",
              "\n",
              "      async function convertToInteractive(key) {\n",
              "        const element = document.querySelector('#df-f25dc8d0-ace6-482d-8b94-ec62e05b2a76');\n",
              "        const dataTable =\n",
              "          await google.colab.kernel.invokeFunction('convertToInteractive',\n",
              "                                                    [key], {});\n",
              "        if (!dataTable) return;\n",
              "\n",
              "        const docLinkHtml = 'Like what you see? Visit the ' +\n",
              "          '<a target=\"_blank\" href=https://colab.research.google.com/notebooks/data_table.ipynb>data table notebook</a>'\n",
              "          + ' to learn more about interactive tables.';\n",
              "        element.innerHTML = '';\n",
              "        dataTable['output_type'] = 'display_data';\n",
              "        await google.colab.output.renderOutput(dataTable, element);\n",
              "        const docLink = document.createElement('div');\n",
              "        docLink.innerHTML = docLinkHtml;\n",
              "        element.appendChild(docLink);\n",
              "      }\n",
              "    </script>\n",
              "  </div>\n",
              "\n",
              "\n",
              "<div id=\"df-95e33769-29e5-45fd-86de-07f9c2284b46\">\n",
              "  <button class=\"colab-df-quickchart\" onclick=\"quickchart('df-95e33769-29e5-45fd-86de-07f9c2284b46')\"\n",
              "            title=\"Suggest charts\"\n",
              "            style=\"display:none;\">\n",
              "\n",
              "<svg xmlns=\"http://www.w3.org/2000/svg\" height=\"24px\"viewBox=\"0 0 24 24\"\n",
              "     width=\"24px\">\n",
              "    <g>\n",
              "        <path d=\"M19 3H5c-1.1 0-2 .9-2 2v14c0 1.1.9 2 2 2h14c1.1 0 2-.9 2-2V5c0-1.1-.9-2-2-2zM9 17H7v-7h2v7zm4 0h-2V7h2v10zm4 0h-2v-4h2v4z\"/>\n",
              "    </g>\n",
              "</svg>\n",
              "  </button>\n",
              "\n",
              "<style>\n",
              "  .colab-df-quickchart {\n",
              "      --bg-color: #E8F0FE;\n",
              "      --fill-color: #1967D2;\n",
              "      --hover-bg-color: #E2EBFA;\n",
              "      --hover-fill-color: #174EA6;\n",
              "      --disabled-fill-color: #AAA;\n",
              "      --disabled-bg-color: #DDD;\n",
              "  }\n",
              "\n",
              "  [theme=dark] .colab-df-quickchart {\n",
              "      --bg-color: #3B4455;\n",
              "      --fill-color: #D2E3FC;\n",
              "      --hover-bg-color: #434B5C;\n",
              "      --hover-fill-color: #FFFFFF;\n",
              "      --disabled-bg-color: #3B4455;\n",
              "      --disabled-fill-color: #666;\n",
              "  }\n",
              "\n",
              "  .colab-df-quickchart {\n",
              "    background-color: var(--bg-color);\n",
              "    border: none;\n",
              "    border-radius: 50%;\n",
              "    cursor: pointer;\n",
              "    display: none;\n",
              "    fill: var(--fill-color);\n",
              "    height: 32px;\n",
              "    padding: 0;\n",
              "    width: 32px;\n",
              "  }\n",
              "\n",
              "  .colab-df-quickchart:hover {\n",
              "    background-color: var(--hover-bg-color);\n",
              "    box-shadow: 0 1px 2px rgba(60, 64, 67, 0.3), 0 1px 3px 1px rgba(60, 64, 67, 0.15);\n",
              "    fill: var(--button-hover-fill-color);\n",
              "  }\n",
              "\n",
              "  .colab-df-quickchart-complete:disabled,\n",
              "  .colab-df-quickchart-complete:disabled:hover {\n",
              "    background-color: var(--disabled-bg-color);\n",
              "    fill: var(--disabled-fill-color);\n",
              "    box-shadow: none;\n",
              "  }\n",
              "\n",
              "  .colab-df-spinner {\n",
              "    border: 2px solid var(--fill-color);\n",
              "    border-color: transparent;\n",
              "    border-bottom-color: var(--fill-color);\n",
              "    animation:\n",
              "      spin 1s steps(1) infinite;\n",
              "  }\n",
              "\n",
              "  @keyframes spin {\n",
              "    0% {\n",
              "      border-color: transparent;\n",
              "      border-bottom-color: var(--fill-color);\n",
              "      border-left-color: var(--fill-color);\n",
              "    }\n",
              "    20% {\n",
              "      border-color: transparent;\n",
              "      border-left-color: var(--fill-color);\n",
              "      border-top-color: var(--fill-color);\n",
              "    }\n",
              "    30% {\n",
              "      border-color: transparent;\n",
              "      border-left-color: var(--fill-color);\n",
              "      border-top-color: var(--fill-color);\n",
              "      border-right-color: var(--fill-color);\n",
              "    }\n",
              "    40% {\n",
              "      border-color: transparent;\n",
              "      border-right-color: var(--fill-color);\n",
              "      border-top-color: var(--fill-color);\n",
              "    }\n",
              "    60% {\n",
              "      border-color: transparent;\n",
              "      border-right-color: var(--fill-color);\n",
              "    }\n",
              "    80% {\n",
              "      border-color: transparent;\n",
              "      border-right-color: var(--fill-color);\n",
              "      border-bottom-color: var(--fill-color);\n",
              "    }\n",
              "    90% {\n",
              "      border-color: transparent;\n",
              "      border-bottom-color: var(--fill-color);\n",
              "    }\n",
              "  }\n",
              "</style>\n",
              "\n",
              "  <script>\n",
              "    async function quickchart(key) {\n",
              "      const quickchartButtonEl =\n",
              "        document.querySelector('#' + key + ' button');\n",
              "      quickchartButtonEl.disabled = true;  // To prevent multiple clicks.\n",
              "      quickchartButtonEl.classList.add('colab-df-spinner');\n",
              "      try {\n",
              "        const charts = await google.colab.kernel.invokeFunction(\n",
              "            'suggestCharts', [key], {});\n",
              "      } catch (error) {\n",
              "        console.error('Error during call to suggestCharts:', error);\n",
              "      }\n",
              "      quickchartButtonEl.classList.remove('colab-df-spinner');\n",
              "      quickchartButtonEl.classList.add('colab-df-quickchart-complete');\n",
              "    }\n",
              "    (() => {\n",
              "      let quickchartButtonEl =\n",
              "        document.querySelector('#df-95e33769-29e5-45fd-86de-07f9c2284b46 button');\n",
              "      quickchartButtonEl.style.display =\n",
              "        google.colab.kernel.accessAllowed ? 'block' : 'none';\n",
              "    })();\n",
              "  </script>\n",
              "</div>\n",
              "\n",
              "  <div id=\"id_b0b6991b-88ec-4cd3-a251-56db3a36b172\">\n",
              "    <style>\n",
              "      .colab-df-generate {\n",
              "        background-color: #E8F0FE;\n",
              "        border: none;\n",
              "        border-radius: 50%;\n",
              "        cursor: pointer;\n",
              "        display: none;\n",
              "        fill: #1967D2;\n",
              "        height: 32px;\n",
              "        padding: 0 0 0 0;\n",
              "        width: 32px;\n",
              "      }\n",
              "\n",
              "      .colab-df-generate:hover {\n",
              "        background-color: #E2EBFA;\n",
              "        box-shadow: 0px 1px 2px rgba(60, 64, 67, 0.3), 0px 1px 3px 1px rgba(60, 64, 67, 0.15);\n",
              "        fill: #174EA6;\n",
              "      }\n",
              "\n",
              "      [theme=dark] .colab-df-generate {\n",
              "        background-color: #3B4455;\n",
              "        fill: #D2E3FC;\n",
              "      }\n",
              "\n",
              "      [theme=dark] .colab-df-generate:hover {\n",
              "        background-color: #434B5C;\n",
              "        box-shadow: 0px 1px 3px 1px rgba(0, 0, 0, 0.15);\n",
              "        filter: drop-shadow(0px 1px 2px rgba(0, 0, 0, 0.3));\n",
              "        fill: #FFFFFF;\n",
              "      }\n",
              "    </style>\n",
              "    <button class=\"colab-df-generate\" onclick=\"generateWithVariable('birds')\"\n",
              "            title=\"Generate code using this dataframe.\"\n",
              "            style=\"display:none;\">\n",
              "\n",
              "  <svg xmlns=\"http://www.w3.org/2000/svg\" height=\"24px\"viewBox=\"0 0 24 24\"\n",
              "       width=\"24px\">\n",
              "    <path d=\"M7,19H8.4L18.45,9,17,7.55,7,17.6ZM5,21V16.75L18.45,3.32a2,2,0,0,1,2.83,0l1.4,1.43a1.91,1.91,0,0,1,.58,1.4,1.91,1.91,0,0,1-.58,1.4L9.25,21ZM18.45,9,17,7.55Zm-12,3A5.31,5.31,0,0,0,4.9,8.1,5.31,5.31,0,0,0,1,6.5,5.31,5.31,0,0,0,4.9,4.9,5.31,5.31,0,0,0,6.5,1,5.31,5.31,0,0,0,8.1,4.9,5.31,5.31,0,0,0,12,6.5,5.46,5.46,0,0,0,6.5,12Z\"/>\n",
              "  </svg>\n",
              "    </button>\n",
              "    <script>\n",
              "      (() => {\n",
              "      const buttonEl =\n",
              "        document.querySelector('#id_b0b6991b-88ec-4cd3-a251-56db3a36b172 button.colab-df-generate');\n",
              "      buttonEl.style.display =\n",
              "        google.colab.kernel.accessAllowed ? 'block' : 'none';\n",
              "\n",
              "      buttonEl.onclick = () => {\n",
              "        google.colab.notebook.generateWithVariable('birds');\n",
              "      }\n",
              "      })();\n",
              "    </script>\n",
              "  </div>\n",
              "\n",
              "    </div>\n",
              "  </div>\n"
            ],
            "application/vnd.google.colaboratory.intrinsic+json": {
              "type": "dataframe",
              "variable_name": "birds",
              "summary": "{\n  \"name\": \"birds\",\n  \"rows\": 10,\n  \"fields\": [\n    {\n      \"column\": \"birds\",\n      \"properties\": {\n        \"dtype\": \"category\",\n        \"num_unique_values\": 3,\n        \"samples\": [\n          \"Cranes\",\n          \"plovers\",\n          \"spoonbills\"\n        ],\n        \"semantic_type\": \"\",\n        \"description\": \"\"\n      }\n    },\n    {\n      \"column\": \"age\",\n      \"properties\": {\n        \"dtype\": \"number\",\n        \"std\": 2.0077973005261263,\n        \"min\": 1.5,\n        \"max\": 8.0,\n        \"num_unique_values\": 7,\n        \"samples\": [\n          3.5,\n          4.0,\n          5.5\n        ],\n        \"semantic_type\": \"\",\n        \"description\": \"\"\n      }\n    },\n    {\n      \"column\": \"visits\",\n      \"properties\": {\n        \"dtype\": \"number\",\n        \"std\": 0,\n        \"min\": 2,\n        \"max\": 4,\n        \"num_unique_values\": 3,\n        \"samples\": [\n          2,\n          4,\n          3\n        ],\n        \"semantic_type\": \"\",\n        \"description\": \"\"\n      }\n    },\n    {\n      \"column\": \"priority\",\n      \"properties\": {\n        \"dtype\": \"category\",\n        \"num_unique_values\": 2,\n        \"samples\": [\n          \"no\",\n          \"yes\"\n        ],\n        \"semantic_type\": \"\",\n        \"description\": \"\"\n      }\n    }\n  ]\n}"
            }
          },
          "metadata": {},
          "execution_count": 2
        }
      ]
    },
    {
      "cell_type": "code",
      "source": [
        "#2. Display a summary of the basic information about birds DataFrame and its data.\n",
        "birds.info()"
      ],
      "metadata": {
        "colab": {
          "base_uri": "https://localhost:8080/"
        },
        "id": "in7ilbFL6Yxo",
        "outputId": "f3b33ae1-c817-4b04-a2dc-aa68d576a33f"
      },
      "execution_count": null,
      "outputs": [
        {
          "output_type": "stream",
          "name": "stdout",
          "text": [
            "<class 'pandas.core.frame.DataFrame'>\n",
            "Index: 10 entries, a to j\n",
            "Data columns (total 4 columns):\n",
            " #   Column    Non-Null Count  Dtype  \n",
            "---  ------    --------------  -----  \n",
            " 0   birds     10 non-null     object \n",
            " 1   age       8 non-null      float64\n",
            " 2   visits    10 non-null     int64  \n",
            " 3   priority  10 non-null     object \n",
            "dtypes: float64(1), int64(1), object(2)\n",
            "memory usage: 700.0+ bytes\n"
          ]
        }
      ]
    },
    {
      "cell_type": "code",
      "source": [
        "birds.describe()"
      ],
      "metadata": {
        "colab": {
          "base_uri": "https://localhost:8080/",
          "height": 300
        },
        "id": "bVemYEBi62xd",
        "outputId": "5befeaa7-b091-4d13-fea1-b3f62a0a1f55"
      },
      "execution_count": null,
      "outputs": [
        {
          "output_type": "execute_result",
          "data": {
            "text/plain": [
              "            age     visits\n",
              "count  8.000000  10.000000\n",
              "mean   4.437500   2.900000\n",
              "std    2.007797   0.875595\n",
              "min    1.500000   2.000000\n",
              "25%    3.375000   2.000000\n",
              "50%    4.000000   3.000000\n",
              "75%    5.625000   3.750000\n",
              "max    8.000000   4.000000"
            ],
            "text/html": [
              "\n",
              "  <div id=\"df-e104aa97-00a4-4c53-9bf6-972190072c56\" class=\"colab-df-container\">\n",
              "    <div>\n",
              "<style scoped>\n",
              "    .dataframe tbody tr th:only-of-type {\n",
              "        vertical-align: middle;\n",
              "    }\n",
              "\n",
              "    .dataframe tbody tr th {\n",
              "        vertical-align: top;\n",
              "    }\n",
              "\n",
              "    .dataframe thead th {\n",
              "        text-align: right;\n",
              "    }\n",
              "</style>\n",
              "<table border=\"1\" class=\"dataframe\">\n",
              "  <thead>\n",
              "    <tr style=\"text-align: right;\">\n",
              "      <th></th>\n",
              "      <th>age</th>\n",
              "      <th>visits</th>\n",
              "    </tr>\n",
              "  </thead>\n",
              "  <tbody>\n",
              "    <tr>\n",
              "      <th>count</th>\n",
              "      <td>8.000000</td>\n",
              "      <td>10.000000</td>\n",
              "    </tr>\n",
              "    <tr>\n",
              "      <th>mean</th>\n",
              "      <td>4.437500</td>\n",
              "      <td>2.900000</td>\n",
              "    </tr>\n",
              "    <tr>\n",
              "      <th>std</th>\n",
              "      <td>2.007797</td>\n",
              "      <td>0.875595</td>\n",
              "    </tr>\n",
              "    <tr>\n",
              "      <th>min</th>\n",
              "      <td>1.500000</td>\n",
              "      <td>2.000000</td>\n",
              "    </tr>\n",
              "    <tr>\n",
              "      <th>25%</th>\n",
              "      <td>3.375000</td>\n",
              "      <td>2.000000</td>\n",
              "    </tr>\n",
              "    <tr>\n",
              "      <th>50%</th>\n",
              "      <td>4.000000</td>\n",
              "      <td>3.000000</td>\n",
              "    </tr>\n",
              "    <tr>\n",
              "      <th>75%</th>\n",
              "      <td>5.625000</td>\n",
              "      <td>3.750000</td>\n",
              "    </tr>\n",
              "    <tr>\n",
              "      <th>max</th>\n",
              "      <td>8.000000</td>\n",
              "      <td>4.000000</td>\n",
              "    </tr>\n",
              "  </tbody>\n",
              "</table>\n",
              "</div>\n",
              "    <div class=\"colab-df-buttons\">\n",
              "\n",
              "  <div class=\"colab-df-container\">\n",
              "    <button class=\"colab-df-convert\" onclick=\"convertToInteractive('df-e104aa97-00a4-4c53-9bf6-972190072c56')\"\n",
              "            title=\"Convert this dataframe to an interactive table.\"\n",
              "            style=\"display:none;\">\n",
              "\n",
              "  <svg xmlns=\"http://www.w3.org/2000/svg\" height=\"24px\" viewBox=\"0 -960 960 960\">\n",
              "    <path d=\"M120-120v-720h720v720H120Zm60-500h600v-160H180v160Zm220 220h160v-160H400v160Zm0 220h160v-160H400v160ZM180-400h160v-160H180v160Zm440 0h160v-160H620v160ZM180-180h160v-160H180v160Zm440 0h160v-160H620v160Z\"/>\n",
              "  </svg>\n",
              "    </button>\n",
              "\n",
              "  <style>\n",
              "    .colab-df-container {\n",
              "      display:flex;\n",
              "      gap: 12px;\n",
              "    }\n",
              "\n",
              "    .colab-df-convert {\n",
              "      background-color: #E8F0FE;\n",
              "      border: none;\n",
              "      border-radius: 50%;\n",
              "      cursor: pointer;\n",
              "      display: none;\n",
              "      fill: #1967D2;\n",
              "      height: 32px;\n",
              "      padding: 0 0 0 0;\n",
              "      width: 32px;\n",
              "    }\n",
              "\n",
              "    .colab-df-convert:hover {\n",
              "      background-color: #E2EBFA;\n",
              "      box-shadow: 0px 1px 2px rgba(60, 64, 67, 0.3), 0px 1px 3px 1px rgba(60, 64, 67, 0.15);\n",
              "      fill: #174EA6;\n",
              "    }\n",
              "\n",
              "    .colab-df-buttons div {\n",
              "      margin-bottom: 4px;\n",
              "    }\n",
              "\n",
              "    [theme=dark] .colab-df-convert {\n",
              "      background-color: #3B4455;\n",
              "      fill: #D2E3FC;\n",
              "    }\n",
              "\n",
              "    [theme=dark] .colab-df-convert:hover {\n",
              "      background-color: #434B5C;\n",
              "      box-shadow: 0px 1px 3px 1px rgba(0, 0, 0, 0.15);\n",
              "      filter: drop-shadow(0px 1px 2px rgba(0, 0, 0, 0.3));\n",
              "      fill: #FFFFFF;\n",
              "    }\n",
              "  </style>\n",
              "\n",
              "    <script>\n",
              "      const buttonEl =\n",
              "        document.querySelector('#df-e104aa97-00a4-4c53-9bf6-972190072c56 button.colab-df-convert');\n",
              "      buttonEl.style.display =\n",
              "        google.colab.kernel.accessAllowed ? 'block' : 'none';\n",
              "\n",
              "      async function convertToInteractive(key) {\n",
              "        const element = document.querySelector('#df-e104aa97-00a4-4c53-9bf6-972190072c56');\n",
              "        const dataTable =\n",
              "          await google.colab.kernel.invokeFunction('convertToInteractive',\n",
              "                                                    [key], {});\n",
              "        if (!dataTable) return;\n",
              "\n",
              "        const docLinkHtml = 'Like what you see? Visit the ' +\n",
              "          '<a target=\"_blank\" href=https://colab.research.google.com/notebooks/data_table.ipynb>data table notebook</a>'\n",
              "          + ' to learn more about interactive tables.';\n",
              "        element.innerHTML = '';\n",
              "        dataTable['output_type'] = 'display_data';\n",
              "        await google.colab.output.renderOutput(dataTable, element);\n",
              "        const docLink = document.createElement('div');\n",
              "        docLink.innerHTML = docLinkHtml;\n",
              "        element.appendChild(docLink);\n",
              "      }\n",
              "    </script>\n",
              "  </div>\n",
              "\n",
              "\n",
              "<div id=\"df-4112b00f-fc57-417a-877c-c2718183fc5f\">\n",
              "  <button class=\"colab-df-quickchart\" onclick=\"quickchart('df-4112b00f-fc57-417a-877c-c2718183fc5f')\"\n",
              "            title=\"Suggest charts\"\n",
              "            style=\"display:none;\">\n",
              "\n",
              "<svg xmlns=\"http://www.w3.org/2000/svg\" height=\"24px\"viewBox=\"0 0 24 24\"\n",
              "     width=\"24px\">\n",
              "    <g>\n",
              "        <path d=\"M19 3H5c-1.1 0-2 .9-2 2v14c0 1.1.9 2 2 2h14c1.1 0 2-.9 2-2V5c0-1.1-.9-2-2-2zM9 17H7v-7h2v7zm4 0h-2V7h2v10zm4 0h-2v-4h2v4z\"/>\n",
              "    </g>\n",
              "</svg>\n",
              "  </button>\n",
              "\n",
              "<style>\n",
              "  .colab-df-quickchart {\n",
              "      --bg-color: #E8F0FE;\n",
              "      --fill-color: #1967D2;\n",
              "      --hover-bg-color: #E2EBFA;\n",
              "      --hover-fill-color: #174EA6;\n",
              "      --disabled-fill-color: #AAA;\n",
              "      --disabled-bg-color: #DDD;\n",
              "  }\n",
              "\n",
              "  [theme=dark] .colab-df-quickchart {\n",
              "      --bg-color: #3B4455;\n",
              "      --fill-color: #D2E3FC;\n",
              "      --hover-bg-color: #434B5C;\n",
              "      --hover-fill-color: #FFFFFF;\n",
              "      --disabled-bg-color: #3B4455;\n",
              "      --disabled-fill-color: #666;\n",
              "  }\n",
              "\n",
              "  .colab-df-quickchart {\n",
              "    background-color: var(--bg-color);\n",
              "    border: none;\n",
              "    border-radius: 50%;\n",
              "    cursor: pointer;\n",
              "    display: none;\n",
              "    fill: var(--fill-color);\n",
              "    height: 32px;\n",
              "    padding: 0;\n",
              "    width: 32px;\n",
              "  }\n",
              "\n",
              "  .colab-df-quickchart:hover {\n",
              "    background-color: var(--hover-bg-color);\n",
              "    box-shadow: 0 1px 2px rgba(60, 64, 67, 0.3), 0 1px 3px 1px rgba(60, 64, 67, 0.15);\n",
              "    fill: var(--button-hover-fill-color);\n",
              "  }\n",
              "\n",
              "  .colab-df-quickchart-complete:disabled,\n",
              "  .colab-df-quickchart-complete:disabled:hover {\n",
              "    background-color: var(--disabled-bg-color);\n",
              "    fill: var(--disabled-fill-color);\n",
              "    box-shadow: none;\n",
              "  }\n",
              "\n",
              "  .colab-df-spinner {\n",
              "    border: 2px solid var(--fill-color);\n",
              "    border-color: transparent;\n",
              "    border-bottom-color: var(--fill-color);\n",
              "    animation:\n",
              "      spin 1s steps(1) infinite;\n",
              "  }\n",
              "\n",
              "  @keyframes spin {\n",
              "    0% {\n",
              "      border-color: transparent;\n",
              "      border-bottom-color: var(--fill-color);\n",
              "      border-left-color: var(--fill-color);\n",
              "    }\n",
              "    20% {\n",
              "      border-color: transparent;\n",
              "      border-left-color: var(--fill-color);\n",
              "      border-top-color: var(--fill-color);\n",
              "    }\n",
              "    30% {\n",
              "      border-color: transparent;\n",
              "      border-left-color: var(--fill-color);\n",
              "      border-top-color: var(--fill-color);\n",
              "      border-right-color: var(--fill-color);\n",
              "    }\n",
              "    40% {\n",
              "      border-color: transparent;\n",
              "      border-right-color: var(--fill-color);\n",
              "      border-top-color: var(--fill-color);\n",
              "    }\n",
              "    60% {\n",
              "      border-color: transparent;\n",
              "      border-right-color: var(--fill-color);\n",
              "    }\n",
              "    80% {\n",
              "      border-color: transparent;\n",
              "      border-right-color: var(--fill-color);\n",
              "      border-bottom-color: var(--fill-color);\n",
              "    }\n",
              "    90% {\n",
              "      border-color: transparent;\n",
              "      border-bottom-color: var(--fill-color);\n",
              "    }\n",
              "  }\n",
              "</style>\n",
              "\n",
              "  <script>\n",
              "    async function quickchart(key) {\n",
              "      const quickchartButtonEl =\n",
              "        document.querySelector('#' + key + ' button');\n",
              "      quickchartButtonEl.disabled = true;  // To prevent multiple clicks.\n",
              "      quickchartButtonEl.classList.add('colab-df-spinner');\n",
              "      try {\n",
              "        const charts = await google.colab.kernel.invokeFunction(\n",
              "            'suggestCharts', [key], {});\n",
              "      } catch (error) {\n",
              "        console.error('Error during call to suggestCharts:', error);\n",
              "      }\n",
              "      quickchartButtonEl.classList.remove('colab-df-spinner');\n",
              "      quickchartButtonEl.classList.add('colab-df-quickchart-complete');\n",
              "    }\n",
              "    (() => {\n",
              "      let quickchartButtonEl =\n",
              "        document.querySelector('#df-4112b00f-fc57-417a-877c-c2718183fc5f button');\n",
              "      quickchartButtonEl.style.display =\n",
              "        google.colab.kernel.accessAllowed ? 'block' : 'none';\n",
              "    })();\n",
              "  </script>\n",
              "</div>\n",
              "\n",
              "    </div>\n",
              "  </div>\n"
            ],
            "application/vnd.google.colaboratory.intrinsic+json": {
              "type": "dataframe",
              "summary": "{\n  \"name\": \"birds\",\n  \"rows\": 8,\n  \"fields\": [\n    {\n      \"column\": \"age\",\n      \"properties\": {\n        \"dtype\": \"number\",\n        \"std\": 2.4606773797927826,\n        \"min\": 1.5,\n        \"max\": 8.0,\n        \"num_unique_values\": 7,\n        \"samples\": [\n          8.0,\n          4.4375,\n          4.0\n        ],\n        \"semantic_type\": \"\",\n        \"description\": \"\"\n      }\n    },\n    {\n      \"column\": \"visits\",\n      \"properties\": {\n        \"dtype\": \"number\",\n        \"std\": 2.7909412172897334,\n        \"min\": 0.8755950357709131,\n        \"max\": 10.0,\n        \"num_unique_values\": 7,\n        \"samples\": [\n          10.0,\n          2.9,\n          3.75\n        ],\n        \"semantic_type\": \"\",\n        \"description\": \"\"\n      }\n    }\n  ]\n}"
            }
          },
          "metadata": {},
          "execution_count": 4
        }
      ]
    },
    {
      "cell_type": "code",
      "source": [
        "#3. Print the first 2 rows of the birds dataframe\n",
        "birds.head(2)"
      ],
      "metadata": {
        "colab": {
          "base_uri": "https://localhost:8080/",
          "height": 112
        },
        "id": "xwLjySk069_m",
        "outputId": "38070372-92e0-45f0-b276-627902425071"
      },
      "execution_count": null,
      "outputs": [
        {
          "output_type": "execute_result",
          "data": {
            "text/plain": [
              "    birds  age  visits priority\n",
              "a  Cranes  3.5       2      yes\n",
              "b  Cranes  4.0       4      yes"
            ],
            "text/html": [
              "\n",
              "  <div id=\"df-b9637467-d0f3-4c55-a015-bf5d43c62a97\" class=\"colab-df-container\">\n",
              "    <div>\n",
              "<style scoped>\n",
              "    .dataframe tbody tr th:only-of-type {\n",
              "        vertical-align: middle;\n",
              "    }\n",
              "\n",
              "    .dataframe tbody tr th {\n",
              "        vertical-align: top;\n",
              "    }\n",
              "\n",
              "    .dataframe thead th {\n",
              "        text-align: right;\n",
              "    }\n",
              "</style>\n",
              "<table border=\"1\" class=\"dataframe\">\n",
              "  <thead>\n",
              "    <tr style=\"text-align: right;\">\n",
              "      <th></th>\n",
              "      <th>birds</th>\n",
              "      <th>age</th>\n",
              "      <th>visits</th>\n",
              "      <th>priority</th>\n",
              "    </tr>\n",
              "  </thead>\n",
              "  <tbody>\n",
              "    <tr>\n",
              "      <th>a</th>\n",
              "      <td>Cranes</td>\n",
              "      <td>3.5</td>\n",
              "      <td>2</td>\n",
              "      <td>yes</td>\n",
              "    </tr>\n",
              "    <tr>\n",
              "      <th>b</th>\n",
              "      <td>Cranes</td>\n",
              "      <td>4.0</td>\n",
              "      <td>4</td>\n",
              "      <td>yes</td>\n",
              "    </tr>\n",
              "  </tbody>\n",
              "</table>\n",
              "</div>\n",
              "    <div class=\"colab-df-buttons\">\n",
              "\n",
              "  <div class=\"colab-df-container\">\n",
              "    <button class=\"colab-df-convert\" onclick=\"convertToInteractive('df-b9637467-d0f3-4c55-a015-bf5d43c62a97')\"\n",
              "            title=\"Convert this dataframe to an interactive table.\"\n",
              "            style=\"display:none;\">\n",
              "\n",
              "  <svg xmlns=\"http://www.w3.org/2000/svg\" height=\"24px\" viewBox=\"0 -960 960 960\">\n",
              "    <path d=\"M120-120v-720h720v720H120Zm60-500h600v-160H180v160Zm220 220h160v-160H400v160Zm0 220h160v-160H400v160ZM180-400h160v-160H180v160Zm440 0h160v-160H620v160ZM180-180h160v-160H180v160Zm440 0h160v-160H620v160Z\"/>\n",
              "  </svg>\n",
              "    </button>\n",
              "\n",
              "  <style>\n",
              "    .colab-df-container {\n",
              "      display:flex;\n",
              "      gap: 12px;\n",
              "    }\n",
              "\n",
              "    .colab-df-convert {\n",
              "      background-color: #E8F0FE;\n",
              "      border: none;\n",
              "      border-radius: 50%;\n",
              "      cursor: pointer;\n",
              "      display: none;\n",
              "      fill: #1967D2;\n",
              "      height: 32px;\n",
              "      padding: 0 0 0 0;\n",
              "      width: 32px;\n",
              "    }\n",
              "\n",
              "    .colab-df-convert:hover {\n",
              "      background-color: #E2EBFA;\n",
              "      box-shadow: 0px 1px 2px rgba(60, 64, 67, 0.3), 0px 1px 3px 1px rgba(60, 64, 67, 0.15);\n",
              "      fill: #174EA6;\n",
              "    }\n",
              "\n",
              "    .colab-df-buttons div {\n",
              "      margin-bottom: 4px;\n",
              "    }\n",
              "\n",
              "    [theme=dark] .colab-df-convert {\n",
              "      background-color: #3B4455;\n",
              "      fill: #D2E3FC;\n",
              "    }\n",
              "\n",
              "    [theme=dark] .colab-df-convert:hover {\n",
              "      background-color: #434B5C;\n",
              "      box-shadow: 0px 1px 3px 1px rgba(0, 0, 0, 0.15);\n",
              "      filter: drop-shadow(0px 1px 2px rgba(0, 0, 0, 0.3));\n",
              "      fill: #FFFFFF;\n",
              "    }\n",
              "  </style>\n",
              "\n",
              "    <script>\n",
              "      const buttonEl =\n",
              "        document.querySelector('#df-b9637467-d0f3-4c55-a015-bf5d43c62a97 button.colab-df-convert');\n",
              "      buttonEl.style.display =\n",
              "        google.colab.kernel.accessAllowed ? 'block' : 'none';\n",
              "\n",
              "      async function convertToInteractive(key) {\n",
              "        const element = document.querySelector('#df-b9637467-d0f3-4c55-a015-bf5d43c62a97');\n",
              "        const dataTable =\n",
              "          await google.colab.kernel.invokeFunction('convertToInteractive',\n",
              "                                                    [key], {});\n",
              "        if (!dataTable) return;\n",
              "\n",
              "        const docLinkHtml = 'Like what you see? Visit the ' +\n",
              "          '<a target=\"_blank\" href=https://colab.research.google.com/notebooks/data_table.ipynb>data table notebook</a>'\n",
              "          + ' to learn more about interactive tables.';\n",
              "        element.innerHTML = '';\n",
              "        dataTable['output_type'] = 'display_data';\n",
              "        await google.colab.output.renderOutput(dataTable, element);\n",
              "        const docLink = document.createElement('div');\n",
              "        docLink.innerHTML = docLinkHtml;\n",
              "        element.appendChild(docLink);\n",
              "      }\n",
              "    </script>\n",
              "  </div>\n",
              "\n",
              "\n",
              "<div id=\"df-1e52043c-2bbc-4b6a-af88-53a96f3c8ec6\">\n",
              "  <button class=\"colab-df-quickchart\" onclick=\"quickchart('df-1e52043c-2bbc-4b6a-af88-53a96f3c8ec6')\"\n",
              "            title=\"Suggest charts\"\n",
              "            style=\"display:none;\">\n",
              "\n",
              "<svg xmlns=\"http://www.w3.org/2000/svg\" height=\"24px\"viewBox=\"0 0 24 24\"\n",
              "     width=\"24px\">\n",
              "    <g>\n",
              "        <path d=\"M19 3H5c-1.1 0-2 .9-2 2v14c0 1.1.9 2 2 2h14c1.1 0 2-.9 2-2V5c0-1.1-.9-2-2-2zM9 17H7v-7h2v7zm4 0h-2V7h2v10zm4 0h-2v-4h2v4z\"/>\n",
              "    </g>\n",
              "</svg>\n",
              "  </button>\n",
              "\n",
              "<style>\n",
              "  .colab-df-quickchart {\n",
              "      --bg-color: #E8F0FE;\n",
              "      --fill-color: #1967D2;\n",
              "      --hover-bg-color: #E2EBFA;\n",
              "      --hover-fill-color: #174EA6;\n",
              "      --disabled-fill-color: #AAA;\n",
              "      --disabled-bg-color: #DDD;\n",
              "  }\n",
              "\n",
              "  [theme=dark] .colab-df-quickchart {\n",
              "      --bg-color: #3B4455;\n",
              "      --fill-color: #D2E3FC;\n",
              "      --hover-bg-color: #434B5C;\n",
              "      --hover-fill-color: #FFFFFF;\n",
              "      --disabled-bg-color: #3B4455;\n",
              "      --disabled-fill-color: #666;\n",
              "  }\n",
              "\n",
              "  .colab-df-quickchart {\n",
              "    background-color: var(--bg-color);\n",
              "    border: none;\n",
              "    border-radius: 50%;\n",
              "    cursor: pointer;\n",
              "    display: none;\n",
              "    fill: var(--fill-color);\n",
              "    height: 32px;\n",
              "    padding: 0;\n",
              "    width: 32px;\n",
              "  }\n",
              "\n",
              "  .colab-df-quickchart:hover {\n",
              "    background-color: var(--hover-bg-color);\n",
              "    box-shadow: 0 1px 2px rgba(60, 64, 67, 0.3), 0 1px 3px 1px rgba(60, 64, 67, 0.15);\n",
              "    fill: var(--button-hover-fill-color);\n",
              "  }\n",
              "\n",
              "  .colab-df-quickchart-complete:disabled,\n",
              "  .colab-df-quickchart-complete:disabled:hover {\n",
              "    background-color: var(--disabled-bg-color);\n",
              "    fill: var(--disabled-fill-color);\n",
              "    box-shadow: none;\n",
              "  }\n",
              "\n",
              "  .colab-df-spinner {\n",
              "    border: 2px solid var(--fill-color);\n",
              "    border-color: transparent;\n",
              "    border-bottom-color: var(--fill-color);\n",
              "    animation:\n",
              "      spin 1s steps(1) infinite;\n",
              "  }\n",
              "\n",
              "  @keyframes spin {\n",
              "    0% {\n",
              "      border-color: transparent;\n",
              "      border-bottom-color: var(--fill-color);\n",
              "      border-left-color: var(--fill-color);\n",
              "    }\n",
              "    20% {\n",
              "      border-color: transparent;\n",
              "      border-left-color: var(--fill-color);\n",
              "      border-top-color: var(--fill-color);\n",
              "    }\n",
              "    30% {\n",
              "      border-color: transparent;\n",
              "      border-left-color: var(--fill-color);\n",
              "      border-top-color: var(--fill-color);\n",
              "      border-right-color: var(--fill-color);\n",
              "    }\n",
              "    40% {\n",
              "      border-color: transparent;\n",
              "      border-right-color: var(--fill-color);\n",
              "      border-top-color: var(--fill-color);\n",
              "    }\n",
              "    60% {\n",
              "      border-color: transparent;\n",
              "      border-right-color: var(--fill-color);\n",
              "    }\n",
              "    80% {\n",
              "      border-color: transparent;\n",
              "      border-right-color: var(--fill-color);\n",
              "      border-bottom-color: var(--fill-color);\n",
              "    }\n",
              "    90% {\n",
              "      border-color: transparent;\n",
              "      border-bottom-color: var(--fill-color);\n",
              "    }\n",
              "  }\n",
              "</style>\n",
              "\n",
              "  <script>\n",
              "    async function quickchart(key) {\n",
              "      const quickchartButtonEl =\n",
              "        document.querySelector('#' + key + ' button');\n",
              "      quickchartButtonEl.disabled = true;  // To prevent multiple clicks.\n",
              "      quickchartButtonEl.classList.add('colab-df-spinner');\n",
              "      try {\n",
              "        const charts = await google.colab.kernel.invokeFunction(\n",
              "            'suggestCharts', [key], {});\n",
              "      } catch (error) {\n",
              "        console.error('Error during call to suggestCharts:', error);\n",
              "      }\n",
              "      quickchartButtonEl.classList.remove('colab-df-spinner');\n",
              "      quickchartButtonEl.classList.add('colab-df-quickchart-complete');\n",
              "    }\n",
              "    (() => {\n",
              "      let quickchartButtonEl =\n",
              "        document.querySelector('#df-1e52043c-2bbc-4b6a-af88-53a96f3c8ec6 button');\n",
              "      quickchartButtonEl.style.display =\n",
              "        google.colab.kernel.accessAllowed ? 'block' : 'none';\n",
              "    })();\n",
              "  </script>\n",
              "</div>\n",
              "\n",
              "    </div>\n",
              "  </div>\n"
            ],
            "application/vnd.google.colaboratory.intrinsic+json": {
              "type": "dataframe",
              "variable_name": "birds",
              "summary": "{\n  \"name\": \"birds\",\n  \"rows\": 10,\n  \"fields\": [\n    {\n      \"column\": \"birds\",\n      \"properties\": {\n        \"dtype\": \"category\",\n        \"num_unique_values\": 3,\n        \"samples\": [\n          \"Cranes\",\n          \"plovers\",\n          \"spoonbills\"\n        ],\n        \"semantic_type\": \"\",\n        \"description\": \"\"\n      }\n    },\n    {\n      \"column\": \"age\",\n      \"properties\": {\n        \"dtype\": \"number\",\n        \"std\": 2.0077973005261263,\n        \"min\": 1.5,\n        \"max\": 8.0,\n        \"num_unique_values\": 7,\n        \"samples\": [\n          3.5,\n          4.0,\n          5.5\n        ],\n        \"semantic_type\": \"\",\n        \"description\": \"\"\n      }\n    },\n    {\n      \"column\": \"visits\",\n      \"properties\": {\n        \"dtype\": \"number\",\n        \"std\": 0,\n        \"min\": 2,\n        \"max\": 4,\n        \"num_unique_values\": 3,\n        \"samples\": [\n          2,\n          4,\n          3\n        ],\n        \"semantic_type\": \"\",\n        \"description\": \"\"\n      }\n    },\n    {\n      \"column\": \"priority\",\n      \"properties\": {\n        \"dtype\": \"category\",\n        \"num_unique_values\": 2,\n        \"samples\": [\n          \"no\",\n          \"yes\"\n        ],\n        \"semantic_type\": \"\",\n        \"description\": \"\"\n      }\n    }\n  ]\n}"
            }
          },
          "metadata": {},
          "execution_count": 5
        }
      ]
    },
    {
      "cell_type": "code",
      "source": [
        "#4. Print all the rows with only 'birds' and 'age' columns from the dataframe\n",
        "birds[['birds','age']]"
      ],
      "metadata": {
        "colab": {
          "base_uri": "https://localhost:8080/",
          "height": 363
        },
        "id": "ijO_Jtrv7MzA",
        "outputId": "e6efaff2-fd02-40dd-a6d5-6dcf3917e31a"
      },
      "execution_count": null,
      "outputs": [
        {
          "output_type": "execute_result",
          "data": {
            "text/plain": [
              "        birds  age\n",
              "a      Cranes  3.5\n",
              "b      Cranes  4.0\n",
              "c     plovers  1.5\n",
              "d  spoonbills  NaN\n",
              "e  spoonbills  6.0\n",
              "f      Cranes  3.0\n",
              "g     plovers  5.5\n",
              "h      Cranes  NaN\n",
              "i  spoonbills  8.0\n",
              "j  spoonbills  4.0"
            ],
            "text/html": [
              "\n",
              "  <div id=\"df-9cb98e67-578e-4d1b-b544-c02960af6788\" class=\"colab-df-container\">\n",
              "    <div>\n",
              "<style scoped>\n",
              "    .dataframe tbody tr th:only-of-type {\n",
              "        vertical-align: middle;\n",
              "    }\n",
              "\n",
              "    .dataframe tbody tr th {\n",
              "        vertical-align: top;\n",
              "    }\n",
              "\n",
              "    .dataframe thead th {\n",
              "        text-align: right;\n",
              "    }\n",
              "</style>\n",
              "<table border=\"1\" class=\"dataframe\">\n",
              "  <thead>\n",
              "    <tr style=\"text-align: right;\">\n",
              "      <th></th>\n",
              "      <th>birds</th>\n",
              "      <th>age</th>\n",
              "    </tr>\n",
              "  </thead>\n",
              "  <tbody>\n",
              "    <tr>\n",
              "      <th>a</th>\n",
              "      <td>Cranes</td>\n",
              "      <td>3.5</td>\n",
              "    </tr>\n",
              "    <tr>\n",
              "      <th>b</th>\n",
              "      <td>Cranes</td>\n",
              "      <td>4.0</td>\n",
              "    </tr>\n",
              "    <tr>\n",
              "      <th>c</th>\n",
              "      <td>plovers</td>\n",
              "      <td>1.5</td>\n",
              "    </tr>\n",
              "    <tr>\n",
              "      <th>d</th>\n",
              "      <td>spoonbills</td>\n",
              "      <td>NaN</td>\n",
              "    </tr>\n",
              "    <tr>\n",
              "      <th>e</th>\n",
              "      <td>spoonbills</td>\n",
              "      <td>6.0</td>\n",
              "    </tr>\n",
              "    <tr>\n",
              "      <th>f</th>\n",
              "      <td>Cranes</td>\n",
              "      <td>3.0</td>\n",
              "    </tr>\n",
              "    <tr>\n",
              "      <th>g</th>\n",
              "      <td>plovers</td>\n",
              "      <td>5.5</td>\n",
              "    </tr>\n",
              "    <tr>\n",
              "      <th>h</th>\n",
              "      <td>Cranes</td>\n",
              "      <td>NaN</td>\n",
              "    </tr>\n",
              "    <tr>\n",
              "      <th>i</th>\n",
              "      <td>spoonbills</td>\n",
              "      <td>8.0</td>\n",
              "    </tr>\n",
              "    <tr>\n",
              "      <th>j</th>\n",
              "      <td>spoonbills</td>\n",
              "      <td>4.0</td>\n",
              "    </tr>\n",
              "  </tbody>\n",
              "</table>\n",
              "</div>\n",
              "    <div class=\"colab-df-buttons\">\n",
              "\n",
              "  <div class=\"colab-df-container\">\n",
              "    <button class=\"colab-df-convert\" onclick=\"convertToInteractive('df-9cb98e67-578e-4d1b-b544-c02960af6788')\"\n",
              "            title=\"Convert this dataframe to an interactive table.\"\n",
              "            style=\"display:none;\">\n",
              "\n",
              "  <svg xmlns=\"http://www.w3.org/2000/svg\" height=\"24px\" viewBox=\"0 -960 960 960\">\n",
              "    <path d=\"M120-120v-720h720v720H120Zm60-500h600v-160H180v160Zm220 220h160v-160H400v160Zm0 220h160v-160H400v160ZM180-400h160v-160H180v160Zm440 0h160v-160H620v160ZM180-180h160v-160H180v160Zm440 0h160v-160H620v160Z\"/>\n",
              "  </svg>\n",
              "    </button>\n",
              "\n",
              "  <style>\n",
              "    .colab-df-container {\n",
              "      display:flex;\n",
              "      gap: 12px;\n",
              "    }\n",
              "\n",
              "    .colab-df-convert {\n",
              "      background-color: #E8F0FE;\n",
              "      border: none;\n",
              "      border-radius: 50%;\n",
              "      cursor: pointer;\n",
              "      display: none;\n",
              "      fill: #1967D2;\n",
              "      height: 32px;\n",
              "      padding: 0 0 0 0;\n",
              "      width: 32px;\n",
              "    }\n",
              "\n",
              "    .colab-df-convert:hover {\n",
              "      background-color: #E2EBFA;\n",
              "      box-shadow: 0px 1px 2px rgba(60, 64, 67, 0.3), 0px 1px 3px 1px rgba(60, 64, 67, 0.15);\n",
              "      fill: #174EA6;\n",
              "    }\n",
              "\n",
              "    .colab-df-buttons div {\n",
              "      margin-bottom: 4px;\n",
              "    }\n",
              "\n",
              "    [theme=dark] .colab-df-convert {\n",
              "      background-color: #3B4455;\n",
              "      fill: #D2E3FC;\n",
              "    }\n",
              "\n",
              "    [theme=dark] .colab-df-convert:hover {\n",
              "      background-color: #434B5C;\n",
              "      box-shadow: 0px 1px 3px 1px rgba(0, 0, 0, 0.15);\n",
              "      filter: drop-shadow(0px 1px 2px rgba(0, 0, 0, 0.3));\n",
              "      fill: #FFFFFF;\n",
              "    }\n",
              "  </style>\n",
              "\n",
              "    <script>\n",
              "      const buttonEl =\n",
              "        document.querySelector('#df-9cb98e67-578e-4d1b-b544-c02960af6788 button.colab-df-convert');\n",
              "      buttonEl.style.display =\n",
              "        google.colab.kernel.accessAllowed ? 'block' : 'none';\n",
              "\n",
              "      async function convertToInteractive(key) {\n",
              "        const element = document.querySelector('#df-9cb98e67-578e-4d1b-b544-c02960af6788');\n",
              "        const dataTable =\n",
              "          await google.colab.kernel.invokeFunction('convertToInteractive',\n",
              "                                                    [key], {});\n",
              "        if (!dataTable) return;\n",
              "\n",
              "        const docLinkHtml = 'Like what you see? Visit the ' +\n",
              "          '<a target=\"_blank\" href=https://colab.research.google.com/notebooks/data_table.ipynb>data table notebook</a>'\n",
              "          + ' to learn more about interactive tables.';\n",
              "        element.innerHTML = '';\n",
              "        dataTable['output_type'] = 'display_data';\n",
              "        await google.colab.output.renderOutput(dataTable, element);\n",
              "        const docLink = document.createElement('div');\n",
              "        docLink.innerHTML = docLinkHtml;\n",
              "        element.appendChild(docLink);\n",
              "      }\n",
              "    </script>\n",
              "  </div>\n",
              "\n",
              "\n",
              "<div id=\"df-51b44137-bf6c-456f-9e5f-f26951486473\">\n",
              "  <button class=\"colab-df-quickchart\" onclick=\"quickchart('df-51b44137-bf6c-456f-9e5f-f26951486473')\"\n",
              "            title=\"Suggest charts\"\n",
              "            style=\"display:none;\">\n",
              "\n",
              "<svg xmlns=\"http://www.w3.org/2000/svg\" height=\"24px\"viewBox=\"0 0 24 24\"\n",
              "     width=\"24px\">\n",
              "    <g>\n",
              "        <path d=\"M19 3H5c-1.1 0-2 .9-2 2v14c0 1.1.9 2 2 2h14c1.1 0 2-.9 2-2V5c0-1.1-.9-2-2-2zM9 17H7v-7h2v7zm4 0h-2V7h2v10zm4 0h-2v-4h2v4z\"/>\n",
              "    </g>\n",
              "</svg>\n",
              "  </button>\n",
              "\n",
              "<style>\n",
              "  .colab-df-quickchart {\n",
              "      --bg-color: #E8F0FE;\n",
              "      --fill-color: #1967D2;\n",
              "      --hover-bg-color: #E2EBFA;\n",
              "      --hover-fill-color: #174EA6;\n",
              "      --disabled-fill-color: #AAA;\n",
              "      --disabled-bg-color: #DDD;\n",
              "  }\n",
              "\n",
              "  [theme=dark] .colab-df-quickchart {\n",
              "      --bg-color: #3B4455;\n",
              "      --fill-color: #D2E3FC;\n",
              "      --hover-bg-color: #434B5C;\n",
              "      --hover-fill-color: #FFFFFF;\n",
              "      --disabled-bg-color: #3B4455;\n",
              "      --disabled-fill-color: #666;\n",
              "  }\n",
              "\n",
              "  .colab-df-quickchart {\n",
              "    background-color: var(--bg-color);\n",
              "    border: none;\n",
              "    border-radius: 50%;\n",
              "    cursor: pointer;\n",
              "    display: none;\n",
              "    fill: var(--fill-color);\n",
              "    height: 32px;\n",
              "    padding: 0;\n",
              "    width: 32px;\n",
              "  }\n",
              "\n",
              "  .colab-df-quickchart:hover {\n",
              "    background-color: var(--hover-bg-color);\n",
              "    box-shadow: 0 1px 2px rgba(60, 64, 67, 0.3), 0 1px 3px 1px rgba(60, 64, 67, 0.15);\n",
              "    fill: var(--button-hover-fill-color);\n",
              "  }\n",
              "\n",
              "  .colab-df-quickchart-complete:disabled,\n",
              "  .colab-df-quickchart-complete:disabled:hover {\n",
              "    background-color: var(--disabled-bg-color);\n",
              "    fill: var(--disabled-fill-color);\n",
              "    box-shadow: none;\n",
              "  }\n",
              "\n",
              "  .colab-df-spinner {\n",
              "    border: 2px solid var(--fill-color);\n",
              "    border-color: transparent;\n",
              "    border-bottom-color: var(--fill-color);\n",
              "    animation:\n",
              "      spin 1s steps(1) infinite;\n",
              "  }\n",
              "\n",
              "  @keyframes spin {\n",
              "    0% {\n",
              "      border-color: transparent;\n",
              "      border-bottom-color: var(--fill-color);\n",
              "      border-left-color: var(--fill-color);\n",
              "    }\n",
              "    20% {\n",
              "      border-color: transparent;\n",
              "      border-left-color: var(--fill-color);\n",
              "      border-top-color: var(--fill-color);\n",
              "    }\n",
              "    30% {\n",
              "      border-color: transparent;\n",
              "      border-left-color: var(--fill-color);\n",
              "      border-top-color: var(--fill-color);\n",
              "      border-right-color: var(--fill-color);\n",
              "    }\n",
              "    40% {\n",
              "      border-color: transparent;\n",
              "      border-right-color: var(--fill-color);\n",
              "      border-top-color: var(--fill-color);\n",
              "    }\n",
              "    60% {\n",
              "      border-color: transparent;\n",
              "      border-right-color: var(--fill-color);\n",
              "    }\n",
              "    80% {\n",
              "      border-color: transparent;\n",
              "      border-right-color: var(--fill-color);\n",
              "      border-bottom-color: var(--fill-color);\n",
              "    }\n",
              "    90% {\n",
              "      border-color: transparent;\n",
              "      border-bottom-color: var(--fill-color);\n",
              "    }\n",
              "  }\n",
              "</style>\n",
              "\n",
              "  <script>\n",
              "    async function quickchart(key) {\n",
              "      const quickchartButtonEl =\n",
              "        document.querySelector('#' + key + ' button');\n",
              "      quickchartButtonEl.disabled = true;  // To prevent multiple clicks.\n",
              "      quickchartButtonEl.classList.add('colab-df-spinner');\n",
              "      try {\n",
              "        const charts = await google.colab.kernel.invokeFunction(\n",
              "            'suggestCharts', [key], {});\n",
              "      } catch (error) {\n",
              "        console.error('Error during call to suggestCharts:', error);\n",
              "      }\n",
              "      quickchartButtonEl.classList.remove('colab-df-spinner');\n",
              "      quickchartButtonEl.classList.add('colab-df-quickchart-complete');\n",
              "    }\n",
              "    (() => {\n",
              "      let quickchartButtonEl =\n",
              "        document.querySelector('#df-51b44137-bf6c-456f-9e5f-f26951486473 button');\n",
              "      quickchartButtonEl.style.display =\n",
              "        google.colab.kernel.accessAllowed ? 'block' : 'none';\n",
              "    })();\n",
              "  </script>\n",
              "</div>\n",
              "\n",
              "    </div>\n",
              "  </div>\n"
            ],
            "application/vnd.google.colaboratory.intrinsic+json": {
              "type": "dataframe",
              "summary": "{\n  \"name\": \"birds[['birds','age']]\",\n  \"rows\": 10,\n  \"fields\": [\n    {\n      \"column\": \"birds\",\n      \"properties\": {\n        \"dtype\": \"category\",\n        \"num_unique_values\": 3,\n        \"samples\": [\n          \"Cranes\",\n          \"plovers\",\n          \"spoonbills\"\n        ],\n        \"semantic_type\": \"\",\n        \"description\": \"\"\n      }\n    },\n    {\n      \"column\": \"age\",\n      \"properties\": {\n        \"dtype\": \"number\",\n        \"std\": 2.0077973005261263,\n        \"min\": 1.5,\n        \"max\": 8.0,\n        \"num_unique_values\": 7,\n        \"samples\": [\n          3.5,\n          4.0,\n          5.5\n        ],\n        \"semantic_type\": \"\",\n        \"description\": \"\"\n      }\n    }\n  ]\n}"
            }
          },
          "metadata": {},
          "execution_count": 6
        }
      ]
    },
    {
      "cell_type": "code",
      "source": [
        "#5. select [2, 3, 7] rows and in columns ['birds', 'age', 'visits']\n",
        "\n",
        "birds.iloc[[2,3,7]][['birds','age','visits']]"
      ],
      "metadata": {
        "colab": {
          "base_uri": "https://localhost:8080/",
          "height": 143
        },
        "id": "qGr8NskL7MOt",
        "outputId": "f27a7dfa-2cfc-4ac2-e92b-d4f3ccc4edba"
      },
      "execution_count": null,
      "outputs": [
        {
          "output_type": "execute_result",
          "data": {
            "text/plain": [
              "        birds  age  visits\n",
              "c     plovers  1.5       3\n",
              "d  spoonbills  NaN       4\n",
              "h      Cranes  NaN       2"
            ],
            "text/html": [
              "\n",
              "  <div id=\"df-a7f3532d-b728-4082-9381-14179f9fcc66\" class=\"colab-df-container\">\n",
              "    <div>\n",
              "<style scoped>\n",
              "    .dataframe tbody tr th:only-of-type {\n",
              "        vertical-align: middle;\n",
              "    }\n",
              "\n",
              "    .dataframe tbody tr th {\n",
              "        vertical-align: top;\n",
              "    }\n",
              "\n",
              "    .dataframe thead th {\n",
              "        text-align: right;\n",
              "    }\n",
              "</style>\n",
              "<table border=\"1\" class=\"dataframe\">\n",
              "  <thead>\n",
              "    <tr style=\"text-align: right;\">\n",
              "      <th></th>\n",
              "      <th>birds</th>\n",
              "      <th>age</th>\n",
              "      <th>visits</th>\n",
              "    </tr>\n",
              "  </thead>\n",
              "  <tbody>\n",
              "    <tr>\n",
              "      <th>c</th>\n",
              "      <td>plovers</td>\n",
              "      <td>1.5</td>\n",
              "      <td>3</td>\n",
              "    </tr>\n",
              "    <tr>\n",
              "      <th>d</th>\n",
              "      <td>spoonbills</td>\n",
              "      <td>NaN</td>\n",
              "      <td>4</td>\n",
              "    </tr>\n",
              "    <tr>\n",
              "      <th>h</th>\n",
              "      <td>Cranes</td>\n",
              "      <td>NaN</td>\n",
              "      <td>2</td>\n",
              "    </tr>\n",
              "  </tbody>\n",
              "</table>\n",
              "</div>\n",
              "    <div class=\"colab-df-buttons\">\n",
              "\n",
              "  <div class=\"colab-df-container\">\n",
              "    <button class=\"colab-df-convert\" onclick=\"convertToInteractive('df-a7f3532d-b728-4082-9381-14179f9fcc66')\"\n",
              "            title=\"Convert this dataframe to an interactive table.\"\n",
              "            style=\"display:none;\">\n",
              "\n",
              "  <svg xmlns=\"http://www.w3.org/2000/svg\" height=\"24px\" viewBox=\"0 -960 960 960\">\n",
              "    <path d=\"M120-120v-720h720v720H120Zm60-500h600v-160H180v160Zm220 220h160v-160H400v160Zm0 220h160v-160H400v160ZM180-400h160v-160H180v160Zm440 0h160v-160H620v160ZM180-180h160v-160H180v160Zm440 0h160v-160H620v160Z\"/>\n",
              "  </svg>\n",
              "    </button>\n",
              "\n",
              "  <style>\n",
              "    .colab-df-container {\n",
              "      display:flex;\n",
              "      gap: 12px;\n",
              "    }\n",
              "\n",
              "    .colab-df-convert {\n",
              "      background-color: #E8F0FE;\n",
              "      border: none;\n",
              "      border-radius: 50%;\n",
              "      cursor: pointer;\n",
              "      display: none;\n",
              "      fill: #1967D2;\n",
              "      height: 32px;\n",
              "      padding: 0 0 0 0;\n",
              "      width: 32px;\n",
              "    }\n",
              "\n",
              "    .colab-df-convert:hover {\n",
              "      background-color: #E2EBFA;\n",
              "      box-shadow: 0px 1px 2px rgba(60, 64, 67, 0.3), 0px 1px 3px 1px rgba(60, 64, 67, 0.15);\n",
              "      fill: #174EA6;\n",
              "    }\n",
              "\n",
              "    .colab-df-buttons div {\n",
              "      margin-bottom: 4px;\n",
              "    }\n",
              "\n",
              "    [theme=dark] .colab-df-convert {\n",
              "      background-color: #3B4455;\n",
              "      fill: #D2E3FC;\n",
              "    }\n",
              "\n",
              "    [theme=dark] .colab-df-convert:hover {\n",
              "      background-color: #434B5C;\n",
              "      box-shadow: 0px 1px 3px 1px rgba(0, 0, 0, 0.15);\n",
              "      filter: drop-shadow(0px 1px 2px rgba(0, 0, 0, 0.3));\n",
              "      fill: #FFFFFF;\n",
              "    }\n",
              "  </style>\n",
              "\n",
              "    <script>\n",
              "      const buttonEl =\n",
              "        document.querySelector('#df-a7f3532d-b728-4082-9381-14179f9fcc66 button.colab-df-convert');\n",
              "      buttonEl.style.display =\n",
              "        google.colab.kernel.accessAllowed ? 'block' : 'none';\n",
              "\n",
              "      async function convertToInteractive(key) {\n",
              "        const element = document.querySelector('#df-a7f3532d-b728-4082-9381-14179f9fcc66');\n",
              "        const dataTable =\n",
              "          await google.colab.kernel.invokeFunction('convertToInteractive',\n",
              "                                                    [key], {});\n",
              "        if (!dataTable) return;\n",
              "\n",
              "        const docLinkHtml = 'Like what you see? Visit the ' +\n",
              "          '<a target=\"_blank\" href=https://colab.research.google.com/notebooks/data_table.ipynb>data table notebook</a>'\n",
              "          + ' to learn more about interactive tables.';\n",
              "        element.innerHTML = '';\n",
              "        dataTable['output_type'] = 'display_data';\n",
              "        await google.colab.output.renderOutput(dataTable, element);\n",
              "        const docLink = document.createElement('div');\n",
              "        docLink.innerHTML = docLinkHtml;\n",
              "        element.appendChild(docLink);\n",
              "      }\n",
              "    </script>\n",
              "  </div>\n",
              "\n",
              "\n",
              "<div id=\"df-48fecdac-1ddb-48fe-8d62-1a1234b694aa\">\n",
              "  <button class=\"colab-df-quickchart\" onclick=\"quickchart('df-48fecdac-1ddb-48fe-8d62-1a1234b694aa')\"\n",
              "            title=\"Suggest charts\"\n",
              "            style=\"display:none;\">\n",
              "\n",
              "<svg xmlns=\"http://www.w3.org/2000/svg\" height=\"24px\"viewBox=\"0 0 24 24\"\n",
              "     width=\"24px\">\n",
              "    <g>\n",
              "        <path d=\"M19 3H5c-1.1 0-2 .9-2 2v14c0 1.1.9 2 2 2h14c1.1 0 2-.9 2-2V5c0-1.1-.9-2-2-2zM9 17H7v-7h2v7zm4 0h-2V7h2v10zm4 0h-2v-4h2v4z\"/>\n",
              "    </g>\n",
              "</svg>\n",
              "  </button>\n",
              "\n",
              "<style>\n",
              "  .colab-df-quickchart {\n",
              "      --bg-color: #E8F0FE;\n",
              "      --fill-color: #1967D2;\n",
              "      --hover-bg-color: #E2EBFA;\n",
              "      --hover-fill-color: #174EA6;\n",
              "      --disabled-fill-color: #AAA;\n",
              "      --disabled-bg-color: #DDD;\n",
              "  }\n",
              "\n",
              "  [theme=dark] .colab-df-quickchart {\n",
              "      --bg-color: #3B4455;\n",
              "      --fill-color: #D2E3FC;\n",
              "      --hover-bg-color: #434B5C;\n",
              "      --hover-fill-color: #FFFFFF;\n",
              "      --disabled-bg-color: #3B4455;\n",
              "      --disabled-fill-color: #666;\n",
              "  }\n",
              "\n",
              "  .colab-df-quickchart {\n",
              "    background-color: var(--bg-color);\n",
              "    border: none;\n",
              "    border-radius: 50%;\n",
              "    cursor: pointer;\n",
              "    display: none;\n",
              "    fill: var(--fill-color);\n",
              "    height: 32px;\n",
              "    padding: 0;\n",
              "    width: 32px;\n",
              "  }\n",
              "\n",
              "  .colab-df-quickchart:hover {\n",
              "    background-color: var(--hover-bg-color);\n",
              "    box-shadow: 0 1px 2px rgba(60, 64, 67, 0.3), 0 1px 3px 1px rgba(60, 64, 67, 0.15);\n",
              "    fill: var(--button-hover-fill-color);\n",
              "  }\n",
              "\n",
              "  .colab-df-quickchart-complete:disabled,\n",
              "  .colab-df-quickchart-complete:disabled:hover {\n",
              "    background-color: var(--disabled-bg-color);\n",
              "    fill: var(--disabled-fill-color);\n",
              "    box-shadow: none;\n",
              "  }\n",
              "\n",
              "  .colab-df-spinner {\n",
              "    border: 2px solid var(--fill-color);\n",
              "    border-color: transparent;\n",
              "    border-bottom-color: var(--fill-color);\n",
              "    animation:\n",
              "      spin 1s steps(1) infinite;\n",
              "  }\n",
              "\n",
              "  @keyframes spin {\n",
              "    0% {\n",
              "      border-color: transparent;\n",
              "      border-bottom-color: var(--fill-color);\n",
              "      border-left-color: var(--fill-color);\n",
              "    }\n",
              "    20% {\n",
              "      border-color: transparent;\n",
              "      border-left-color: var(--fill-color);\n",
              "      border-top-color: var(--fill-color);\n",
              "    }\n",
              "    30% {\n",
              "      border-color: transparent;\n",
              "      border-left-color: var(--fill-color);\n",
              "      border-top-color: var(--fill-color);\n",
              "      border-right-color: var(--fill-color);\n",
              "    }\n",
              "    40% {\n",
              "      border-color: transparent;\n",
              "      border-right-color: var(--fill-color);\n",
              "      border-top-color: var(--fill-color);\n",
              "    }\n",
              "    60% {\n",
              "      border-color: transparent;\n",
              "      border-right-color: var(--fill-color);\n",
              "    }\n",
              "    80% {\n",
              "      border-color: transparent;\n",
              "      border-right-color: var(--fill-color);\n",
              "      border-bottom-color: var(--fill-color);\n",
              "    }\n",
              "    90% {\n",
              "      border-color: transparent;\n",
              "      border-bottom-color: var(--fill-color);\n",
              "    }\n",
              "  }\n",
              "</style>\n",
              "\n",
              "  <script>\n",
              "    async function quickchart(key) {\n",
              "      const quickchartButtonEl =\n",
              "        document.querySelector('#' + key + ' button');\n",
              "      quickchartButtonEl.disabled = true;  // To prevent multiple clicks.\n",
              "      quickchartButtonEl.classList.add('colab-df-spinner');\n",
              "      try {\n",
              "        const charts = await google.colab.kernel.invokeFunction(\n",
              "            'suggestCharts', [key], {});\n",
              "      } catch (error) {\n",
              "        console.error('Error during call to suggestCharts:', error);\n",
              "      }\n",
              "      quickchartButtonEl.classList.remove('colab-df-spinner');\n",
              "      quickchartButtonEl.classList.add('colab-df-quickchart-complete');\n",
              "    }\n",
              "    (() => {\n",
              "      let quickchartButtonEl =\n",
              "        document.querySelector('#df-48fecdac-1ddb-48fe-8d62-1a1234b694aa button');\n",
              "      quickchartButtonEl.style.display =\n",
              "        google.colab.kernel.accessAllowed ? 'block' : 'none';\n",
              "    })();\n",
              "  </script>\n",
              "</div>\n",
              "\n",
              "    </div>\n",
              "  </div>\n"
            ],
            "application/vnd.google.colaboratory.intrinsic+json": {
              "type": "dataframe",
              "summary": "{\n  \"name\": \"birds\",\n  \"rows\": 3,\n  \"fields\": [\n    {\n      \"column\": \"birds\",\n      \"properties\": {\n        \"dtype\": \"string\",\n        \"num_unique_values\": 3,\n        \"samples\": [\n          \"plovers\",\n          \"spoonbills\",\n          \"Cranes\"\n        ],\n        \"semantic_type\": \"\",\n        \"description\": \"\"\n      }\n    },\n    {\n      \"column\": \"age\",\n      \"properties\": {\n        \"dtype\": \"number\",\n        \"std\": null,\n        \"min\": 1.5,\n        \"max\": 1.5,\n        \"num_unique_values\": 1,\n        \"samples\": [\n          1.5\n        ],\n        \"semantic_type\": \"\",\n        \"description\": \"\"\n      }\n    },\n    {\n      \"column\": \"visits\",\n      \"properties\": {\n        \"dtype\": \"number\",\n        \"std\": 1,\n        \"min\": 2,\n        \"max\": 4,\n        \"num_unique_values\": 3,\n        \"samples\": [\n          3\n        ],\n        \"semantic_type\": \"\",\n        \"description\": \"\"\n      }\n    }\n  ]\n}"
            }
          },
          "metadata": {},
          "execution_count": 7
        }
      ]
    },
    {
      "cell_type": "code",
      "source": [
        "#6. select the rows where the number of visits is less than 4\n",
        "birds[birds['visits']<4]"
      ],
      "metadata": {
        "colab": {
          "base_uri": "https://localhost:8080/",
          "height": 269
        },
        "id": "UDLM-tTM7p3b",
        "outputId": "b18c6a71-1a71-471a-ac3e-2c96b12b1d65"
      },
      "execution_count": null,
      "outputs": [
        {
          "output_type": "execute_result",
          "data": {
            "text/plain": [
              "        birds  age  visits priority\n",
              "a      Cranes  3.5       2      yes\n",
              "c     plovers  1.5       3       no\n",
              "e  spoonbills  6.0       3       no\n",
              "g     plovers  5.5       2       no\n",
              "h      Cranes  NaN       2      yes\n",
              "i  spoonbills  8.0       3       no\n",
              "j  spoonbills  4.0       2       no"
            ],
            "text/html": [
              "\n",
              "  <div id=\"df-98760783-fec9-4492-92ae-213132ec62d4\" class=\"colab-df-container\">\n",
              "    <div>\n",
              "<style scoped>\n",
              "    .dataframe tbody tr th:only-of-type {\n",
              "        vertical-align: middle;\n",
              "    }\n",
              "\n",
              "    .dataframe tbody tr th {\n",
              "        vertical-align: top;\n",
              "    }\n",
              "\n",
              "    .dataframe thead th {\n",
              "        text-align: right;\n",
              "    }\n",
              "</style>\n",
              "<table border=\"1\" class=\"dataframe\">\n",
              "  <thead>\n",
              "    <tr style=\"text-align: right;\">\n",
              "      <th></th>\n",
              "      <th>birds</th>\n",
              "      <th>age</th>\n",
              "      <th>visits</th>\n",
              "      <th>priority</th>\n",
              "    </tr>\n",
              "  </thead>\n",
              "  <tbody>\n",
              "    <tr>\n",
              "      <th>a</th>\n",
              "      <td>Cranes</td>\n",
              "      <td>3.5</td>\n",
              "      <td>2</td>\n",
              "      <td>yes</td>\n",
              "    </tr>\n",
              "    <tr>\n",
              "      <th>c</th>\n",
              "      <td>plovers</td>\n",
              "      <td>1.5</td>\n",
              "      <td>3</td>\n",
              "      <td>no</td>\n",
              "    </tr>\n",
              "    <tr>\n",
              "      <th>e</th>\n",
              "      <td>spoonbills</td>\n",
              "      <td>6.0</td>\n",
              "      <td>3</td>\n",
              "      <td>no</td>\n",
              "    </tr>\n",
              "    <tr>\n",
              "      <th>g</th>\n",
              "      <td>plovers</td>\n",
              "      <td>5.5</td>\n",
              "      <td>2</td>\n",
              "      <td>no</td>\n",
              "    </tr>\n",
              "    <tr>\n",
              "      <th>h</th>\n",
              "      <td>Cranes</td>\n",
              "      <td>NaN</td>\n",
              "      <td>2</td>\n",
              "      <td>yes</td>\n",
              "    </tr>\n",
              "    <tr>\n",
              "      <th>i</th>\n",
              "      <td>spoonbills</td>\n",
              "      <td>8.0</td>\n",
              "      <td>3</td>\n",
              "      <td>no</td>\n",
              "    </tr>\n",
              "    <tr>\n",
              "      <th>j</th>\n",
              "      <td>spoonbills</td>\n",
              "      <td>4.0</td>\n",
              "      <td>2</td>\n",
              "      <td>no</td>\n",
              "    </tr>\n",
              "  </tbody>\n",
              "</table>\n",
              "</div>\n",
              "    <div class=\"colab-df-buttons\">\n",
              "\n",
              "  <div class=\"colab-df-container\">\n",
              "    <button class=\"colab-df-convert\" onclick=\"convertToInteractive('df-98760783-fec9-4492-92ae-213132ec62d4')\"\n",
              "            title=\"Convert this dataframe to an interactive table.\"\n",
              "            style=\"display:none;\">\n",
              "\n",
              "  <svg xmlns=\"http://www.w3.org/2000/svg\" height=\"24px\" viewBox=\"0 -960 960 960\">\n",
              "    <path d=\"M120-120v-720h720v720H120Zm60-500h600v-160H180v160Zm220 220h160v-160H400v160Zm0 220h160v-160H400v160ZM180-400h160v-160H180v160Zm440 0h160v-160H620v160ZM180-180h160v-160H180v160Zm440 0h160v-160H620v160Z\"/>\n",
              "  </svg>\n",
              "    </button>\n",
              "\n",
              "  <style>\n",
              "    .colab-df-container {\n",
              "      display:flex;\n",
              "      gap: 12px;\n",
              "    }\n",
              "\n",
              "    .colab-df-convert {\n",
              "      background-color: #E8F0FE;\n",
              "      border: none;\n",
              "      border-radius: 50%;\n",
              "      cursor: pointer;\n",
              "      display: none;\n",
              "      fill: #1967D2;\n",
              "      height: 32px;\n",
              "      padding: 0 0 0 0;\n",
              "      width: 32px;\n",
              "    }\n",
              "\n",
              "    .colab-df-convert:hover {\n",
              "      background-color: #E2EBFA;\n",
              "      box-shadow: 0px 1px 2px rgba(60, 64, 67, 0.3), 0px 1px 3px 1px rgba(60, 64, 67, 0.15);\n",
              "      fill: #174EA6;\n",
              "    }\n",
              "\n",
              "    .colab-df-buttons div {\n",
              "      margin-bottom: 4px;\n",
              "    }\n",
              "\n",
              "    [theme=dark] .colab-df-convert {\n",
              "      background-color: #3B4455;\n",
              "      fill: #D2E3FC;\n",
              "    }\n",
              "\n",
              "    [theme=dark] .colab-df-convert:hover {\n",
              "      background-color: #434B5C;\n",
              "      box-shadow: 0px 1px 3px 1px rgba(0, 0, 0, 0.15);\n",
              "      filter: drop-shadow(0px 1px 2px rgba(0, 0, 0, 0.3));\n",
              "      fill: #FFFFFF;\n",
              "    }\n",
              "  </style>\n",
              "\n",
              "    <script>\n",
              "      const buttonEl =\n",
              "        document.querySelector('#df-98760783-fec9-4492-92ae-213132ec62d4 button.colab-df-convert');\n",
              "      buttonEl.style.display =\n",
              "        google.colab.kernel.accessAllowed ? 'block' : 'none';\n",
              "\n",
              "      async function convertToInteractive(key) {\n",
              "        const element = document.querySelector('#df-98760783-fec9-4492-92ae-213132ec62d4');\n",
              "        const dataTable =\n",
              "          await google.colab.kernel.invokeFunction('convertToInteractive',\n",
              "                                                    [key], {});\n",
              "        if (!dataTable) return;\n",
              "\n",
              "        const docLinkHtml = 'Like what you see? Visit the ' +\n",
              "          '<a target=\"_blank\" href=https://colab.research.google.com/notebooks/data_table.ipynb>data table notebook</a>'\n",
              "          + ' to learn more about interactive tables.';\n",
              "        element.innerHTML = '';\n",
              "        dataTable['output_type'] = 'display_data';\n",
              "        await google.colab.output.renderOutput(dataTable, element);\n",
              "        const docLink = document.createElement('div');\n",
              "        docLink.innerHTML = docLinkHtml;\n",
              "        element.appendChild(docLink);\n",
              "      }\n",
              "    </script>\n",
              "  </div>\n",
              "\n",
              "\n",
              "<div id=\"df-079f9ba8-8769-4c65-a75f-484011f7ffe3\">\n",
              "  <button class=\"colab-df-quickchart\" onclick=\"quickchart('df-079f9ba8-8769-4c65-a75f-484011f7ffe3')\"\n",
              "            title=\"Suggest charts\"\n",
              "            style=\"display:none;\">\n",
              "\n",
              "<svg xmlns=\"http://www.w3.org/2000/svg\" height=\"24px\"viewBox=\"0 0 24 24\"\n",
              "     width=\"24px\">\n",
              "    <g>\n",
              "        <path d=\"M19 3H5c-1.1 0-2 .9-2 2v14c0 1.1.9 2 2 2h14c1.1 0 2-.9 2-2V5c0-1.1-.9-2-2-2zM9 17H7v-7h2v7zm4 0h-2V7h2v10zm4 0h-2v-4h2v4z\"/>\n",
              "    </g>\n",
              "</svg>\n",
              "  </button>\n",
              "\n",
              "<style>\n",
              "  .colab-df-quickchart {\n",
              "      --bg-color: #E8F0FE;\n",
              "      --fill-color: #1967D2;\n",
              "      --hover-bg-color: #E2EBFA;\n",
              "      --hover-fill-color: #174EA6;\n",
              "      --disabled-fill-color: #AAA;\n",
              "      --disabled-bg-color: #DDD;\n",
              "  }\n",
              "\n",
              "  [theme=dark] .colab-df-quickchart {\n",
              "      --bg-color: #3B4455;\n",
              "      --fill-color: #D2E3FC;\n",
              "      --hover-bg-color: #434B5C;\n",
              "      --hover-fill-color: #FFFFFF;\n",
              "      --disabled-bg-color: #3B4455;\n",
              "      --disabled-fill-color: #666;\n",
              "  }\n",
              "\n",
              "  .colab-df-quickchart {\n",
              "    background-color: var(--bg-color);\n",
              "    border: none;\n",
              "    border-radius: 50%;\n",
              "    cursor: pointer;\n",
              "    display: none;\n",
              "    fill: var(--fill-color);\n",
              "    height: 32px;\n",
              "    padding: 0;\n",
              "    width: 32px;\n",
              "  }\n",
              "\n",
              "  .colab-df-quickchart:hover {\n",
              "    background-color: var(--hover-bg-color);\n",
              "    box-shadow: 0 1px 2px rgba(60, 64, 67, 0.3), 0 1px 3px 1px rgba(60, 64, 67, 0.15);\n",
              "    fill: var(--button-hover-fill-color);\n",
              "  }\n",
              "\n",
              "  .colab-df-quickchart-complete:disabled,\n",
              "  .colab-df-quickchart-complete:disabled:hover {\n",
              "    background-color: var(--disabled-bg-color);\n",
              "    fill: var(--disabled-fill-color);\n",
              "    box-shadow: none;\n",
              "  }\n",
              "\n",
              "  .colab-df-spinner {\n",
              "    border: 2px solid var(--fill-color);\n",
              "    border-color: transparent;\n",
              "    border-bottom-color: var(--fill-color);\n",
              "    animation:\n",
              "      spin 1s steps(1) infinite;\n",
              "  }\n",
              "\n",
              "  @keyframes spin {\n",
              "    0% {\n",
              "      border-color: transparent;\n",
              "      border-bottom-color: var(--fill-color);\n",
              "      border-left-color: var(--fill-color);\n",
              "    }\n",
              "    20% {\n",
              "      border-color: transparent;\n",
              "      border-left-color: var(--fill-color);\n",
              "      border-top-color: var(--fill-color);\n",
              "    }\n",
              "    30% {\n",
              "      border-color: transparent;\n",
              "      border-left-color: var(--fill-color);\n",
              "      border-top-color: var(--fill-color);\n",
              "      border-right-color: var(--fill-color);\n",
              "    }\n",
              "    40% {\n",
              "      border-color: transparent;\n",
              "      border-right-color: var(--fill-color);\n",
              "      border-top-color: var(--fill-color);\n",
              "    }\n",
              "    60% {\n",
              "      border-color: transparent;\n",
              "      border-right-color: var(--fill-color);\n",
              "    }\n",
              "    80% {\n",
              "      border-color: transparent;\n",
              "      border-right-color: var(--fill-color);\n",
              "      border-bottom-color: var(--fill-color);\n",
              "    }\n",
              "    90% {\n",
              "      border-color: transparent;\n",
              "      border-bottom-color: var(--fill-color);\n",
              "    }\n",
              "  }\n",
              "</style>\n",
              "\n",
              "  <script>\n",
              "    async function quickchart(key) {\n",
              "      const quickchartButtonEl =\n",
              "        document.querySelector('#' + key + ' button');\n",
              "      quickchartButtonEl.disabled = true;  // To prevent multiple clicks.\n",
              "      quickchartButtonEl.classList.add('colab-df-spinner');\n",
              "      try {\n",
              "        const charts = await google.colab.kernel.invokeFunction(\n",
              "            'suggestCharts', [key], {});\n",
              "      } catch (error) {\n",
              "        console.error('Error during call to suggestCharts:', error);\n",
              "      }\n",
              "      quickchartButtonEl.classList.remove('colab-df-spinner');\n",
              "      quickchartButtonEl.classList.add('colab-df-quickchart-complete');\n",
              "    }\n",
              "    (() => {\n",
              "      let quickchartButtonEl =\n",
              "        document.querySelector('#df-079f9ba8-8769-4c65-a75f-484011f7ffe3 button');\n",
              "      quickchartButtonEl.style.display =\n",
              "        google.colab.kernel.accessAllowed ? 'block' : 'none';\n",
              "    })();\n",
              "  </script>\n",
              "</div>\n",
              "\n",
              "    </div>\n",
              "  </div>\n"
            ],
            "application/vnd.google.colaboratory.intrinsic+json": {
              "type": "dataframe",
              "summary": "{\n  \"name\": \"birds[birds['visits']<4]\",\n  \"rows\": 7,\n  \"fields\": [\n    {\n      \"column\": \"birds\",\n      \"properties\": {\n        \"dtype\": \"category\",\n        \"num_unique_values\": 3,\n        \"samples\": [\n          \"Cranes\",\n          \"plovers\",\n          \"spoonbills\"\n        ],\n        \"semantic_type\": \"\",\n        \"description\": \"\"\n      }\n    },\n    {\n      \"column\": \"age\",\n      \"properties\": {\n        \"dtype\": \"number\",\n        \"std\": 2.252776065213762,\n        \"min\": 1.5,\n        \"max\": 8.0,\n        \"num_unique_values\": 6,\n        \"samples\": [\n          3.5,\n          1.5,\n          4.0\n        ],\n        \"semantic_type\": \"\",\n        \"description\": \"\"\n      }\n    },\n    {\n      \"column\": \"visits\",\n      \"properties\": {\n        \"dtype\": \"number\",\n        \"std\": 0,\n        \"min\": 2,\n        \"max\": 3,\n        \"num_unique_values\": 2,\n        \"samples\": [\n          3,\n          2\n        ],\n        \"semantic_type\": \"\",\n        \"description\": \"\"\n      }\n    },\n    {\n      \"column\": \"priority\",\n      \"properties\": {\n        \"dtype\": \"category\",\n        \"num_unique_values\": 2,\n        \"samples\": [\n          \"no\",\n          \"yes\"\n        ],\n        \"semantic_type\": \"\",\n        \"description\": \"\"\n      }\n    }\n  ]\n}"
            }
          },
          "metadata": {},
          "execution_count": 8
        }
      ]
    },
    {
      "cell_type": "code",
      "source": [
        "#7. select the rows with columns ['birds', 'visits'] where the age is missing i.e NaN\n",
        "birds[birds['age'].isnull()][['birds','visits']]"
      ],
      "metadata": {
        "id": "wMDK33FFE8zp",
        "outputId": "41a11e33-9ea1-4b4a-db37-4b3f6dc76d3b",
        "colab": {
          "base_uri": "https://localhost:8080/",
          "height": 112
        }
      },
      "execution_count": null,
      "outputs": [
        {
          "output_type": "execute_result",
          "data": {
            "text/plain": [
              "        birds  visits\n",
              "d  spoonbills       4\n",
              "h  trumpeters       2"
            ],
            "text/html": [
              "\n",
              "  <div id=\"df-b659c0a7-02d6-4245-aa87-f99e14da957a\" class=\"colab-df-container\">\n",
              "    <div>\n",
              "<style scoped>\n",
              "    .dataframe tbody tr th:only-of-type {\n",
              "        vertical-align: middle;\n",
              "    }\n",
              "\n",
              "    .dataframe tbody tr th {\n",
              "        vertical-align: top;\n",
              "    }\n",
              "\n",
              "    .dataframe thead th {\n",
              "        text-align: right;\n",
              "    }\n",
              "</style>\n",
              "<table border=\"1\" class=\"dataframe\">\n",
              "  <thead>\n",
              "    <tr style=\"text-align: right;\">\n",
              "      <th></th>\n",
              "      <th>birds</th>\n",
              "      <th>visits</th>\n",
              "    </tr>\n",
              "  </thead>\n",
              "  <tbody>\n",
              "    <tr>\n",
              "      <th>d</th>\n",
              "      <td>spoonbills</td>\n",
              "      <td>4</td>\n",
              "    </tr>\n",
              "    <tr>\n",
              "      <th>h</th>\n",
              "      <td>trumpeters</td>\n",
              "      <td>2</td>\n",
              "    </tr>\n",
              "  </tbody>\n",
              "</table>\n",
              "</div>\n",
              "    <div class=\"colab-df-buttons\">\n",
              "\n",
              "  <div class=\"colab-df-container\">\n",
              "    <button class=\"colab-df-convert\" onclick=\"convertToInteractive('df-b659c0a7-02d6-4245-aa87-f99e14da957a')\"\n",
              "            title=\"Convert this dataframe to an interactive table.\"\n",
              "            style=\"display:none;\">\n",
              "\n",
              "  <svg xmlns=\"http://www.w3.org/2000/svg\" height=\"24px\" viewBox=\"0 -960 960 960\">\n",
              "    <path d=\"M120-120v-720h720v720H120Zm60-500h600v-160H180v160Zm220 220h160v-160H400v160Zm0 220h160v-160H400v160ZM180-400h160v-160H180v160Zm440 0h160v-160H620v160ZM180-180h160v-160H180v160Zm440 0h160v-160H620v160Z\"/>\n",
              "  </svg>\n",
              "    </button>\n",
              "\n",
              "  <style>\n",
              "    .colab-df-container {\n",
              "      display:flex;\n",
              "      gap: 12px;\n",
              "    }\n",
              "\n",
              "    .colab-df-convert {\n",
              "      background-color: #E8F0FE;\n",
              "      border: none;\n",
              "      border-radius: 50%;\n",
              "      cursor: pointer;\n",
              "      display: none;\n",
              "      fill: #1967D2;\n",
              "      height: 32px;\n",
              "      padding: 0 0 0 0;\n",
              "      width: 32px;\n",
              "    }\n",
              "\n",
              "    .colab-df-convert:hover {\n",
              "      background-color: #E2EBFA;\n",
              "      box-shadow: 0px 1px 2px rgba(60, 64, 67, 0.3), 0px 1px 3px 1px rgba(60, 64, 67, 0.15);\n",
              "      fill: #174EA6;\n",
              "    }\n",
              "\n",
              "    .colab-df-buttons div {\n",
              "      margin-bottom: 4px;\n",
              "    }\n",
              "\n",
              "    [theme=dark] .colab-df-convert {\n",
              "      background-color: #3B4455;\n",
              "      fill: #D2E3FC;\n",
              "    }\n",
              "\n",
              "    [theme=dark] .colab-df-convert:hover {\n",
              "      background-color: #434B5C;\n",
              "      box-shadow: 0px 1px 3px 1px rgba(0, 0, 0, 0.15);\n",
              "      filter: drop-shadow(0px 1px 2px rgba(0, 0, 0, 0.3));\n",
              "      fill: #FFFFFF;\n",
              "    }\n",
              "  </style>\n",
              "\n",
              "    <script>\n",
              "      const buttonEl =\n",
              "        document.querySelector('#df-b659c0a7-02d6-4245-aa87-f99e14da957a button.colab-df-convert');\n",
              "      buttonEl.style.display =\n",
              "        google.colab.kernel.accessAllowed ? 'block' : 'none';\n",
              "\n",
              "      async function convertToInteractive(key) {\n",
              "        const element = document.querySelector('#df-b659c0a7-02d6-4245-aa87-f99e14da957a');\n",
              "        const dataTable =\n",
              "          await google.colab.kernel.invokeFunction('convertToInteractive',\n",
              "                                                    [key], {});\n",
              "        if (!dataTable) return;\n",
              "\n",
              "        const docLinkHtml = 'Like what you see? Visit the ' +\n",
              "          '<a target=\"_blank\" href=https://colab.research.google.com/notebooks/data_table.ipynb>data table notebook</a>'\n",
              "          + ' to learn more about interactive tables.';\n",
              "        element.innerHTML = '';\n",
              "        dataTable['output_type'] = 'display_data';\n",
              "        await google.colab.output.renderOutput(dataTable, element);\n",
              "        const docLink = document.createElement('div');\n",
              "        docLink.innerHTML = docLinkHtml;\n",
              "        element.appendChild(docLink);\n",
              "      }\n",
              "    </script>\n",
              "  </div>\n",
              "\n",
              "\n",
              "<div id=\"df-35f16953-59d0-4f9f-854b-42a1587ad51e\">\n",
              "  <button class=\"colab-df-quickchart\" onclick=\"quickchart('df-35f16953-59d0-4f9f-854b-42a1587ad51e')\"\n",
              "            title=\"Suggest charts\"\n",
              "            style=\"display:none;\">\n",
              "\n",
              "<svg xmlns=\"http://www.w3.org/2000/svg\" height=\"24px\"viewBox=\"0 0 24 24\"\n",
              "     width=\"24px\">\n",
              "    <g>\n",
              "        <path d=\"M19 3H5c-1.1 0-2 .9-2 2v14c0 1.1.9 2 2 2h14c1.1 0 2-.9 2-2V5c0-1.1-.9-2-2-2zM9 17H7v-7h2v7zm4 0h-2V7h2v10zm4 0h-2v-4h2v4z\"/>\n",
              "    </g>\n",
              "</svg>\n",
              "  </button>\n",
              "\n",
              "<style>\n",
              "  .colab-df-quickchart {\n",
              "      --bg-color: #E8F0FE;\n",
              "      --fill-color: #1967D2;\n",
              "      --hover-bg-color: #E2EBFA;\n",
              "      --hover-fill-color: #174EA6;\n",
              "      --disabled-fill-color: #AAA;\n",
              "      --disabled-bg-color: #DDD;\n",
              "  }\n",
              "\n",
              "  [theme=dark] .colab-df-quickchart {\n",
              "      --bg-color: #3B4455;\n",
              "      --fill-color: #D2E3FC;\n",
              "      --hover-bg-color: #434B5C;\n",
              "      --hover-fill-color: #FFFFFF;\n",
              "      --disabled-bg-color: #3B4455;\n",
              "      --disabled-fill-color: #666;\n",
              "  }\n",
              "\n",
              "  .colab-df-quickchart {\n",
              "    background-color: var(--bg-color);\n",
              "    border: none;\n",
              "    border-radius: 50%;\n",
              "    cursor: pointer;\n",
              "    display: none;\n",
              "    fill: var(--fill-color);\n",
              "    height: 32px;\n",
              "    padding: 0;\n",
              "    width: 32px;\n",
              "  }\n",
              "\n",
              "  .colab-df-quickchart:hover {\n",
              "    background-color: var(--hover-bg-color);\n",
              "    box-shadow: 0 1px 2px rgba(60, 64, 67, 0.3), 0 1px 3px 1px rgba(60, 64, 67, 0.15);\n",
              "    fill: var(--button-hover-fill-color);\n",
              "  }\n",
              "\n",
              "  .colab-df-quickchart-complete:disabled,\n",
              "  .colab-df-quickchart-complete:disabled:hover {\n",
              "    background-color: var(--disabled-bg-color);\n",
              "    fill: var(--disabled-fill-color);\n",
              "    box-shadow: none;\n",
              "  }\n",
              "\n",
              "  .colab-df-spinner {\n",
              "    border: 2px solid var(--fill-color);\n",
              "    border-color: transparent;\n",
              "    border-bottom-color: var(--fill-color);\n",
              "    animation:\n",
              "      spin 1s steps(1) infinite;\n",
              "  }\n",
              "\n",
              "  @keyframes spin {\n",
              "    0% {\n",
              "      border-color: transparent;\n",
              "      border-bottom-color: var(--fill-color);\n",
              "      border-left-color: var(--fill-color);\n",
              "    }\n",
              "    20% {\n",
              "      border-color: transparent;\n",
              "      border-left-color: var(--fill-color);\n",
              "      border-top-color: var(--fill-color);\n",
              "    }\n",
              "    30% {\n",
              "      border-color: transparent;\n",
              "      border-left-color: var(--fill-color);\n",
              "      border-top-color: var(--fill-color);\n",
              "      border-right-color: var(--fill-color);\n",
              "    }\n",
              "    40% {\n",
              "      border-color: transparent;\n",
              "      border-right-color: var(--fill-color);\n",
              "      border-top-color: var(--fill-color);\n",
              "    }\n",
              "    60% {\n",
              "      border-color: transparent;\n",
              "      border-right-color: var(--fill-color);\n",
              "    }\n",
              "    80% {\n",
              "      border-color: transparent;\n",
              "      border-right-color: var(--fill-color);\n",
              "      border-bottom-color: var(--fill-color);\n",
              "    }\n",
              "    90% {\n",
              "      border-color: transparent;\n",
              "      border-bottom-color: var(--fill-color);\n",
              "    }\n",
              "  }\n",
              "</style>\n",
              "\n",
              "  <script>\n",
              "    async function quickchart(key) {\n",
              "      const quickchartButtonEl =\n",
              "        document.querySelector('#' + key + ' button');\n",
              "      quickchartButtonEl.disabled = true;  // To prevent multiple clicks.\n",
              "      quickchartButtonEl.classList.add('colab-df-spinner');\n",
              "      try {\n",
              "        const charts = await google.colab.kernel.invokeFunction(\n",
              "            'suggestCharts', [key], {});\n",
              "      } catch (error) {\n",
              "        console.error('Error during call to suggestCharts:', error);\n",
              "      }\n",
              "      quickchartButtonEl.classList.remove('colab-df-spinner');\n",
              "      quickchartButtonEl.classList.add('colab-df-quickchart-complete');\n",
              "    }\n",
              "    (() => {\n",
              "      let quickchartButtonEl =\n",
              "        document.querySelector('#df-35f16953-59d0-4f9f-854b-42a1587ad51e button');\n",
              "      quickchartButtonEl.style.display =\n",
              "        google.colab.kernel.accessAllowed ? 'block' : 'none';\n",
              "    })();\n",
              "  </script>\n",
              "</div>\n",
              "\n",
              "    </div>\n",
              "  </div>\n"
            ],
            "application/vnd.google.colaboratory.intrinsic+json": {
              "type": "dataframe",
              "summary": "{\n  \"name\": \"birds[birds['age']\",\n  \"rows\": 2,\n  \"fields\": [\n    {\n      \"column\": \"birds\",\n      \"properties\": {\n        \"dtype\": \"string\",\n        \"num_unique_values\": 2,\n        \"samples\": [\n          \"trumpeters\",\n          \"spoonbills\"\n        ],\n        \"semantic_type\": \"\",\n        \"description\": \"\"\n      }\n    },\n    {\n      \"column\": \"visits\",\n      \"properties\": {\n        \"dtype\": \"number\",\n        \"std\": 1,\n        \"min\": 2,\n        \"max\": 4,\n        \"num_unique_values\": 2,\n        \"samples\": [\n          2,\n          4\n        ],\n        \"semantic_type\": \"\",\n        \"description\": \"\"\n      }\n    }\n  ]\n}"
            }
          },
          "metadata": {},
          "execution_count": 30
        }
      ]
    },
    {
      "cell_type": "code",
      "source": [
        "#8. Select the rows where the birds is a Cranes and the age is less than 4\n",
        "birds[(birds['birds'] == 'Cranes') & (birds['age'] < 4)]"
      ],
      "metadata": {
        "colab": {
          "base_uri": "https://localhost:8080/",
          "height": 112
        },
        "id": "6NHYbLcJ75HA",
        "outputId": "fbe26634-6865-4c64-e347-7c5218feaf30"
      },
      "execution_count": null,
      "outputs": [
        {
          "output_type": "execute_result",
          "data": {
            "text/plain": [
              "    birds  age  visits priority\n",
              "a  Cranes  3.5       2      yes\n",
              "f  Cranes  3.0       4       no"
            ],
            "text/html": [
              "\n",
              "  <div id=\"df-77f6e1ed-7495-4d8f-a38b-8c8f8db726bf\" class=\"colab-df-container\">\n",
              "    <div>\n",
              "<style scoped>\n",
              "    .dataframe tbody tr th:only-of-type {\n",
              "        vertical-align: middle;\n",
              "    }\n",
              "\n",
              "    .dataframe tbody tr th {\n",
              "        vertical-align: top;\n",
              "    }\n",
              "\n",
              "    .dataframe thead th {\n",
              "        text-align: right;\n",
              "    }\n",
              "</style>\n",
              "<table border=\"1\" class=\"dataframe\">\n",
              "  <thead>\n",
              "    <tr style=\"text-align: right;\">\n",
              "      <th></th>\n",
              "      <th>birds</th>\n",
              "      <th>age</th>\n",
              "      <th>visits</th>\n",
              "      <th>priority</th>\n",
              "    </tr>\n",
              "  </thead>\n",
              "  <tbody>\n",
              "    <tr>\n",
              "      <th>a</th>\n",
              "      <td>Cranes</td>\n",
              "      <td>3.5</td>\n",
              "      <td>2</td>\n",
              "      <td>yes</td>\n",
              "    </tr>\n",
              "    <tr>\n",
              "      <th>f</th>\n",
              "      <td>Cranes</td>\n",
              "      <td>3.0</td>\n",
              "      <td>4</td>\n",
              "      <td>no</td>\n",
              "    </tr>\n",
              "  </tbody>\n",
              "</table>\n",
              "</div>\n",
              "    <div class=\"colab-df-buttons\">\n",
              "\n",
              "  <div class=\"colab-df-container\">\n",
              "    <button class=\"colab-df-convert\" onclick=\"convertToInteractive('df-77f6e1ed-7495-4d8f-a38b-8c8f8db726bf')\"\n",
              "            title=\"Convert this dataframe to an interactive table.\"\n",
              "            style=\"display:none;\">\n",
              "\n",
              "  <svg xmlns=\"http://www.w3.org/2000/svg\" height=\"24px\" viewBox=\"0 -960 960 960\">\n",
              "    <path d=\"M120-120v-720h720v720H120Zm60-500h600v-160H180v160Zm220 220h160v-160H400v160Zm0 220h160v-160H400v160ZM180-400h160v-160H180v160Zm440 0h160v-160H620v160ZM180-180h160v-160H180v160Zm440 0h160v-160H620v160Z\"/>\n",
              "  </svg>\n",
              "    </button>\n",
              "\n",
              "  <style>\n",
              "    .colab-df-container {\n",
              "      display:flex;\n",
              "      gap: 12px;\n",
              "    }\n",
              "\n",
              "    .colab-df-convert {\n",
              "      background-color: #E8F0FE;\n",
              "      border: none;\n",
              "      border-radius: 50%;\n",
              "      cursor: pointer;\n",
              "      display: none;\n",
              "      fill: #1967D2;\n",
              "      height: 32px;\n",
              "      padding: 0 0 0 0;\n",
              "      width: 32px;\n",
              "    }\n",
              "\n",
              "    .colab-df-convert:hover {\n",
              "      background-color: #E2EBFA;\n",
              "      box-shadow: 0px 1px 2px rgba(60, 64, 67, 0.3), 0px 1px 3px 1px rgba(60, 64, 67, 0.15);\n",
              "      fill: #174EA6;\n",
              "    }\n",
              "\n",
              "    .colab-df-buttons div {\n",
              "      margin-bottom: 4px;\n",
              "    }\n",
              "\n",
              "    [theme=dark] .colab-df-convert {\n",
              "      background-color: #3B4455;\n",
              "      fill: #D2E3FC;\n",
              "    }\n",
              "\n",
              "    [theme=dark] .colab-df-convert:hover {\n",
              "      background-color: #434B5C;\n",
              "      box-shadow: 0px 1px 3px 1px rgba(0, 0, 0, 0.15);\n",
              "      filter: drop-shadow(0px 1px 2px rgba(0, 0, 0, 0.3));\n",
              "      fill: #FFFFFF;\n",
              "    }\n",
              "  </style>\n",
              "\n",
              "    <script>\n",
              "      const buttonEl =\n",
              "        document.querySelector('#df-77f6e1ed-7495-4d8f-a38b-8c8f8db726bf button.colab-df-convert');\n",
              "      buttonEl.style.display =\n",
              "        google.colab.kernel.accessAllowed ? 'block' : 'none';\n",
              "\n",
              "      async function convertToInteractive(key) {\n",
              "        const element = document.querySelector('#df-77f6e1ed-7495-4d8f-a38b-8c8f8db726bf');\n",
              "        const dataTable =\n",
              "          await google.colab.kernel.invokeFunction('convertToInteractive',\n",
              "                                                    [key], {});\n",
              "        if (!dataTable) return;\n",
              "\n",
              "        const docLinkHtml = 'Like what you see? Visit the ' +\n",
              "          '<a target=\"_blank\" href=https://colab.research.google.com/notebooks/data_table.ipynb>data table notebook</a>'\n",
              "          + ' to learn more about interactive tables.';\n",
              "        element.innerHTML = '';\n",
              "        dataTable['output_type'] = 'display_data';\n",
              "        await google.colab.output.renderOutput(dataTable, element);\n",
              "        const docLink = document.createElement('div');\n",
              "        docLink.innerHTML = docLinkHtml;\n",
              "        element.appendChild(docLink);\n",
              "      }\n",
              "    </script>\n",
              "  </div>\n",
              "\n",
              "\n",
              "<div id=\"df-d23cdf24-157d-4236-a144-cb48c61f37b6\">\n",
              "  <button class=\"colab-df-quickchart\" onclick=\"quickchart('df-d23cdf24-157d-4236-a144-cb48c61f37b6')\"\n",
              "            title=\"Suggest charts\"\n",
              "            style=\"display:none;\">\n",
              "\n",
              "<svg xmlns=\"http://www.w3.org/2000/svg\" height=\"24px\"viewBox=\"0 0 24 24\"\n",
              "     width=\"24px\">\n",
              "    <g>\n",
              "        <path d=\"M19 3H5c-1.1 0-2 .9-2 2v14c0 1.1.9 2 2 2h14c1.1 0 2-.9 2-2V5c0-1.1-.9-2-2-2zM9 17H7v-7h2v7zm4 0h-2V7h2v10zm4 0h-2v-4h2v4z\"/>\n",
              "    </g>\n",
              "</svg>\n",
              "  </button>\n",
              "\n",
              "<style>\n",
              "  .colab-df-quickchart {\n",
              "      --bg-color: #E8F0FE;\n",
              "      --fill-color: #1967D2;\n",
              "      --hover-bg-color: #E2EBFA;\n",
              "      --hover-fill-color: #174EA6;\n",
              "      --disabled-fill-color: #AAA;\n",
              "      --disabled-bg-color: #DDD;\n",
              "  }\n",
              "\n",
              "  [theme=dark] .colab-df-quickchart {\n",
              "      --bg-color: #3B4455;\n",
              "      --fill-color: #D2E3FC;\n",
              "      --hover-bg-color: #434B5C;\n",
              "      --hover-fill-color: #FFFFFF;\n",
              "      --disabled-bg-color: #3B4455;\n",
              "      --disabled-fill-color: #666;\n",
              "  }\n",
              "\n",
              "  .colab-df-quickchart {\n",
              "    background-color: var(--bg-color);\n",
              "    border: none;\n",
              "    border-radius: 50%;\n",
              "    cursor: pointer;\n",
              "    display: none;\n",
              "    fill: var(--fill-color);\n",
              "    height: 32px;\n",
              "    padding: 0;\n",
              "    width: 32px;\n",
              "  }\n",
              "\n",
              "  .colab-df-quickchart:hover {\n",
              "    background-color: var(--hover-bg-color);\n",
              "    box-shadow: 0 1px 2px rgba(60, 64, 67, 0.3), 0 1px 3px 1px rgba(60, 64, 67, 0.15);\n",
              "    fill: var(--button-hover-fill-color);\n",
              "  }\n",
              "\n",
              "  .colab-df-quickchart-complete:disabled,\n",
              "  .colab-df-quickchart-complete:disabled:hover {\n",
              "    background-color: var(--disabled-bg-color);\n",
              "    fill: var(--disabled-fill-color);\n",
              "    box-shadow: none;\n",
              "  }\n",
              "\n",
              "  .colab-df-spinner {\n",
              "    border: 2px solid var(--fill-color);\n",
              "    border-color: transparent;\n",
              "    border-bottom-color: var(--fill-color);\n",
              "    animation:\n",
              "      spin 1s steps(1) infinite;\n",
              "  }\n",
              "\n",
              "  @keyframes spin {\n",
              "    0% {\n",
              "      border-color: transparent;\n",
              "      border-bottom-color: var(--fill-color);\n",
              "      border-left-color: var(--fill-color);\n",
              "    }\n",
              "    20% {\n",
              "      border-color: transparent;\n",
              "      border-left-color: var(--fill-color);\n",
              "      border-top-color: var(--fill-color);\n",
              "    }\n",
              "    30% {\n",
              "      border-color: transparent;\n",
              "      border-left-color: var(--fill-color);\n",
              "      border-top-color: var(--fill-color);\n",
              "      border-right-color: var(--fill-color);\n",
              "    }\n",
              "    40% {\n",
              "      border-color: transparent;\n",
              "      border-right-color: var(--fill-color);\n",
              "      border-top-color: var(--fill-color);\n",
              "    }\n",
              "    60% {\n",
              "      border-color: transparent;\n",
              "      border-right-color: var(--fill-color);\n",
              "    }\n",
              "    80% {\n",
              "      border-color: transparent;\n",
              "      border-right-color: var(--fill-color);\n",
              "      border-bottom-color: var(--fill-color);\n",
              "    }\n",
              "    90% {\n",
              "      border-color: transparent;\n",
              "      border-bottom-color: var(--fill-color);\n",
              "    }\n",
              "  }\n",
              "</style>\n",
              "\n",
              "  <script>\n",
              "    async function quickchart(key) {\n",
              "      const quickchartButtonEl =\n",
              "        document.querySelector('#' + key + ' button');\n",
              "      quickchartButtonEl.disabled = true;  // To prevent multiple clicks.\n",
              "      quickchartButtonEl.classList.add('colab-df-spinner');\n",
              "      try {\n",
              "        const charts = await google.colab.kernel.invokeFunction(\n",
              "            'suggestCharts', [key], {});\n",
              "      } catch (error) {\n",
              "        console.error('Error during call to suggestCharts:', error);\n",
              "      }\n",
              "      quickchartButtonEl.classList.remove('colab-df-spinner');\n",
              "      quickchartButtonEl.classList.add('colab-df-quickchart-complete');\n",
              "    }\n",
              "    (() => {\n",
              "      let quickchartButtonEl =\n",
              "        document.querySelector('#df-d23cdf24-157d-4236-a144-cb48c61f37b6 button');\n",
              "      quickchartButtonEl.style.display =\n",
              "        google.colab.kernel.accessAllowed ? 'block' : 'none';\n",
              "    })();\n",
              "  </script>\n",
              "</div>\n",
              "\n",
              "    </div>\n",
              "  </div>\n"
            ],
            "application/vnd.google.colaboratory.intrinsic+json": {
              "type": "dataframe",
              "summary": "{\n  \"name\": \"birds[(birds['birds'] == 'Cranes') & (birds['age'] < 4)]\",\n  \"rows\": 2,\n  \"fields\": [\n    {\n      \"column\": \"birds\",\n      \"properties\": {\n        \"dtype\": \"string\",\n        \"num_unique_values\": 1,\n        \"samples\": [\n          \"Cranes\"\n        ],\n        \"semantic_type\": \"\",\n        \"description\": \"\"\n      }\n    },\n    {\n      \"column\": \"age\",\n      \"properties\": {\n        \"dtype\": \"number\",\n        \"std\": 0.3535533905932738,\n        \"min\": 3.0,\n        \"max\": 3.5,\n        \"num_unique_values\": 2,\n        \"samples\": [\n          3.0\n        ],\n        \"semantic_type\": \"\",\n        \"description\": \"\"\n      }\n    },\n    {\n      \"column\": \"visits\",\n      \"properties\": {\n        \"dtype\": \"number\",\n        \"std\": 1,\n        \"min\": 2,\n        \"max\": 4,\n        \"num_unique_values\": 2,\n        \"samples\": [\n          4\n        ],\n        \"semantic_type\": \"\",\n        \"description\": \"\"\n      }\n    },\n    {\n      \"column\": \"priority\",\n      \"properties\": {\n        \"dtype\": \"string\",\n        \"num_unique_values\": 2,\n        \"samples\": [\n          \"no\"\n        ],\n        \"semantic_type\": \"\",\n        \"description\": \"\"\n      }\n    }\n  ]\n}"
            }
          },
          "metadata": {},
          "execution_count": 10
        }
      ]
    },
    {
      "cell_type": "code",
      "source": [
        "#9. Select the rows the age is between 2 and 4(inclusive)\n",
        "\n",
        "birds[(birds['age'] >= 2) & (birds['age'] <= 4)][['birds', 'age', 'visits', 'priority']]"
      ],
      "metadata": {
        "colab": {
          "base_uri": "https://localhost:8080/",
          "height": 174
        },
        "id": "ggP0lm4r8Ob3",
        "outputId": "e735cbac-322d-45b3-963b-d261dc86f801"
      },
      "execution_count": null,
      "outputs": [
        {
          "output_type": "execute_result",
          "data": {
            "text/plain": [
              "        birds  age  visits priority\n",
              "a      Cranes  3.5       2      yes\n",
              "b      Cranes  4.0       4      yes\n",
              "f      Cranes  3.0       4       no\n",
              "j  spoonbills  4.0       2       no"
            ],
            "text/html": [
              "\n",
              "  <div id=\"df-12e3e7be-0db0-4d41-a872-74f8b08f28c7\" class=\"colab-df-container\">\n",
              "    <div>\n",
              "<style scoped>\n",
              "    .dataframe tbody tr th:only-of-type {\n",
              "        vertical-align: middle;\n",
              "    }\n",
              "\n",
              "    .dataframe tbody tr th {\n",
              "        vertical-align: top;\n",
              "    }\n",
              "\n",
              "    .dataframe thead th {\n",
              "        text-align: right;\n",
              "    }\n",
              "</style>\n",
              "<table border=\"1\" class=\"dataframe\">\n",
              "  <thead>\n",
              "    <tr style=\"text-align: right;\">\n",
              "      <th></th>\n",
              "      <th>birds</th>\n",
              "      <th>age</th>\n",
              "      <th>visits</th>\n",
              "      <th>priority</th>\n",
              "    </tr>\n",
              "  </thead>\n",
              "  <tbody>\n",
              "    <tr>\n",
              "      <th>a</th>\n",
              "      <td>Cranes</td>\n",
              "      <td>3.5</td>\n",
              "      <td>2</td>\n",
              "      <td>yes</td>\n",
              "    </tr>\n",
              "    <tr>\n",
              "      <th>b</th>\n",
              "      <td>Cranes</td>\n",
              "      <td>4.0</td>\n",
              "      <td>4</td>\n",
              "      <td>yes</td>\n",
              "    </tr>\n",
              "    <tr>\n",
              "      <th>f</th>\n",
              "      <td>Cranes</td>\n",
              "      <td>3.0</td>\n",
              "      <td>4</td>\n",
              "      <td>no</td>\n",
              "    </tr>\n",
              "    <tr>\n",
              "      <th>j</th>\n",
              "      <td>spoonbills</td>\n",
              "      <td>4.0</td>\n",
              "      <td>2</td>\n",
              "      <td>no</td>\n",
              "    </tr>\n",
              "  </tbody>\n",
              "</table>\n",
              "</div>\n",
              "    <div class=\"colab-df-buttons\">\n",
              "\n",
              "  <div class=\"colab-df-container\">\n",
              "    <button class=\"colab-df-convert\" onclick=\"convertToInteractive('df-12e3e7be-0db0-4d41-a872-74f8b08f28c7')\"\n",
              "            title=\"Convert this dataframe to an interactive table.\"\n",
              "            style=\"display:none;\">\n",
              "\n",
              "  <svg xmlns=\"http://www.w3.org/2000/svg\" height=\"24px\" viewBox=\"0 -960 960 960\">\n",
              "    <path d=\"M120-120v-720h720v720H120Zm60-500h600v-160H180v160Zm220 220h160v-160H400v160Zm0 220h160v-160H400v160ZM180-400h160v-160H180v160Zm440 0h160v-160H620v160ZM180-180h160v-160H180v160Zm440 0h160v-160H620v160Z\"/>\n",
              "  </svg>\n",
              "    </button>\n",
              "\n",
              "  <style>\n",
              "    .colab-df-container {\n",
              "      display:flex;\n",
              "      gap: 12px;\n",
              "    }\n",
              "\n",
              "    .colab-df-convert {\n",
              "      background-color: #E8F0FE;\n",
              "      border: none;\n",
              "      border-radius: 50%;\n",
              "      cursor: pointer;\n",
              "      display: none;\n",
              "      fill: #1967D2;\n",
              "      height: 32px;\n",
              "      padding: 0 0 0 0;\n",
              "      width: 32px;\n",
              "    }\n",
              "\n",
              "    .colab-df-convert:hover {\n",
              "      background-color: #E2EBFA;\n",
              "      box-shadow: 0px 1px 2px rgba(60, 64, 67, 0.3), 0px 1px 3px 1px rgba(60, 64, 67, 0.15);\n",
              "      fill: #174EA6;\n",
              "    }\n",
              "\n",
              "    .colab-df-buttons div {\n",
              "      margin-bottom: 4px;\n",
              "    }\n",
              "\n",
              "    [theme=dark] .colab-df-convert {\n",
              "      background-color: #3B4455;\n",
              "      fill: #D2E3FC;\n",
              "    }\n",
              "\n",
              "    [theme=dark] .colab-df-convert:hover {\n",
              "      background-color: #434B5C;\n",
              "      box-shadow: 0px 1px 3px 1px rgba(0, 0, 0, 0.15);\n",
              "      filter: drop-shadow(0px 1px 2px rgba(0, 0, 0, 0.3));\n",
              "      fill: #FFFFFF;\n",
              "    }\n",
              "  </style>\n",
              "\n",
              "    <script>\n",
              "      const buttonEl =\n",
              "        document.querySelector('#df-12e3e7be-0db0-4d41-a872-74f8b08f28c7 button.colab-df-convert');\n",
              "      buttonEl.style.display =\n",
              "        google.colab.kernel.accessAllowed ? 'block' : 'none';\n",
              "\n",
              "      async function convertToInteractive(key) {\n",
              "        const element = document.querySelector('#df-12e3e7be-0db0-4d41-a872-74f8b08f28c7');\n",
              "        const dataTable =\n",
              "          await google.colab.kernel.invokeFunction('convertToInteractive',\n",
              "                                                    [key], {});\n",
              "        if (!dataTable) return;\n",
              "\n",
              "        const docLinkHtml = 'Like what you see? Visit the ' +\n",
              "          '<a target=\"_blank\" href=https://colab.research.google.com/notebooks/data_table.ipynb>data table notebook</a>'\n",
              "          + ' to learn more about interactive tables.';\n",
              "        element.innerHTML = '';\n",
              "        dataTable['output_type'] = 'display_data';\n",
              "        await google.colab.output.renderOutput(dataTable, element);\n",
              "        const docLink = document.createElement('div');\n",
              "        docLink.innerHTML = docLinkHtml;\n",
              "        element.appendChild(docLink);\n",
              "      }\n",
              "    </script>\n",
              "  </div>\n",
              "\n",
              "\n",
              "<div id=\"df-555d706f-35f7-4e1a-add1-e1a521bb6099\">\n",
              "  <button class=\"colab-df-quickchart\" onclick=\"quickchart('df-555d706f-35f7-4e1a-add1-e1a521bb6099')\"\n",
              "            title=\"Suggest charts\"\n",
              "            style=\"display:none;\">\n",
              "\n",
              "<svg xmlns=\"http://www.w3.org/2000/svg\" height=\"24px\"viewBox=\"0 0 24 24\"\n",
              "     width=\"24px\">\n",
              "    <g>\n",
              "        <path d=\"M19 3H5c-1.1 0-2 .9-2 2v14c0 1.1.9 2 2 2h14c1.1 0 2-.9 2-2V5c0-1.1-.9-2-2-2zM9 17H7v-7h2v7zm4 0h-2V7h2v10zm4 0h-2v-4h2v4z\"/>\n",
              "    </g>\n",
              "</svg>\n",
              "  </button>\n",
              "\n",
              "<style>\n",
              "  .colab-df-quickchart {\n",
              "      --bg-color: #E8F0FE;\n",
              "      --fill-color: #1967D2;\n",
              "      --hover-bg-color: #E2EBFA;\n",
              "      --hover-fill-color: #174EA6;\n",
              "      --disabled-fill-color: #AAA;\n",
              "      --disabled-bg-color: #DDD;\n",
              "  }\n",
              "\n",
              "  [theme=dark] .colab-df-quickchart {\n",
              "      --bg-color: #3B4455;\n",
              "      --fill-color: #D2E3FC;\n",
              "      --hover-bg-color: #434B5C;\n",
              "      --hover-fill-color: #FFFFFF;\n",
              "      --disabled-bg-color: #3B4455;\n",
              "      --disabled-fill-color: #666;\n",
              "  }\n",
              "\n",
              "  .colab-df-quickchart {\n",
              "    background-color: var(--bg-color);\n",
              "    border: none;\n",
              "    border-radius: 50%;\n",
              "    cursor: pointer;\n",
              "    display: none;\n",
              "    fill: var(--fill-color);\n",
              "    height: 32px;\n",
              "    padding: 0;\n",
              "    width: 32px;\n",
              "  }\n",
              "\n",
              "  .colab-df-quickchart:hover {\n",
              "    background-color: var(--hover-bg-color);\n",
              "    box-shadow: 0 1px 2px rgba(60, 64, 67, 0.3), 0 1px 3px 1px rgba(60, 64, 67, 0.15);\n",
              "    fill: var(--button-hover-fill-color);\n",
              "  }\n",
              "\n",
              "  .colab-df-quickchart-complete:disabled,\n",
              "  .colab-df-quickchart-complete:disabled:hover {\n",
              "    background-color: var(--disabled-bg-color);\n",
              "    fill: var(--disabled-fill-color);\n",
              "    box-shadow: none;\n",
              "  }\n",
              "\n",
              "  .colab-df-spinner {\n",
              "    border: 2px solid var(--fill-color);\n",
              "    border-color: transparent;\n",
              "    border-bottom-color: var(--fill-color);\n",
              "    animation:\n",
              "      spin 1s steps(1) infinite;\n",
              "  }\n",
              "\n",
              "  @keyframes spin {\n",
              "    0% {\n",
              "      border-color: transparent;\n",
              "      border-bottom-color: var(--fill-color);\n",
              "      border-left-color: var(--fill-color);\n",
              "    }\n",
              "    20% {\n",
              "      border-color: transparent;\n",
              "      border-left-color: var(--fill-color);\n",
              "      border-top-color: var(--fill-color);\n",
              "    }\n",
              "    30% {\n",
              "      border-color: transparent;\n",
              "      border-left-color: var(--fill-color);\n",
              "      border-top-color: var(--fill-color);\n",
              "      border-right-color: var(--fill-color);\n",
              "    }\n",
              "    40% {\n",
              "      border-color: transparent;\n",
              "      border-right-color: var(--fill-color);\n",
              "      border-top-color: var(--fill-color);\n",
              "    }\n",
              "    60% {\n",
              "      border-color: transparent;\n",
              "      border-right-color: var(--fill-color);\n",
              "    }\n",
              "    80% {\n",
              "      border-color: transparent;\n",
              "      border-right-color: var(--fill-color);\n",
              "      border-bottom-color: var(--fill-color);\n",
              "    }\n",
              "    90% {\n",
              "      border-color: transparent;\n",
              "      border-bottom-color: var(--fill-color);\n",
              "    }\n",
              "  }\n",
              "</style>\n",
              "\n",
              "  <script>\n",
              "    async function quickchart(key) {\n",
              "      const quickchartButtonEl =\n",
              "        document.querySelector('#' + key + ' button');\n",
              "      quickchartButtonEl.disabled = true;  // To prevent multiple clicks.\n",
              "      quickchartButtonEl.classList.add('colab-df-spinner');\n",
              "      try {\n",
              "        const charts = await google.colab.kernel.invokeFunction(\n",
              "            'suggestCharts', [key], {});\n",
              "      } catch (error) {\n",
              "        console.error('Error during call to suggestCharts:', error);\n",
              "      }\n",
              "      quickchartButtonEl.classList.remove('colab-df-spinner');\n",
              "      quickchartButtonEl.classList.add('colab-df-quickchart-complete');\n",
              "    }\n",
              "    (() => {\n",
              "      let quickchartButtonEl =\n",
              "        document.querySelector('#df-555d706f-35f7-4e1a-add1-e1a521bb6099 button');\n",
              "      quickchartButtonEl.style.display =\n",
              "        google.colab.kernel.accessAllowed ? 'block' : 'none';\n",
              "    })();\n",
              "  </script>\n",
              "</div>\n",
              "\n",
              "    </div>\n",
              "  </div>\n"
            ],
            "application/vnd.google.colaboratory.intrinsic+json": {
              "type": "dataframe",
              "summary": "{\n  \"name\": \"birds[(birds['age'] >= 2) & (birds['age'] <= 4)][['birds', 'age', 'visits', 'priority']]\",\n  \"rows\": 4,\n  \"fields\": [\n    {\n      \"column\": \"birds\",\n      \"properties\": {\n        \"dtype\": \"string\",\n        \"num_unique_values\": 2,\n        \"samples\": [\n          \"spoonbills\",\n          \"Cranes\"\n        ],\n        \"semantic_type\": \"\",\n        \"description\": \"\"\n      }\n    },\n    {\n      \"column\": \"age\",\n      \"properties\": {\n        \"dtype\": \"number\",\n        \"std\": 0.47871355387816905,\n        \"min\": 3.0,\n        \"max\": 4.0,\n        \"num_unique_values\": 3,\n        \"samples\": [\n          3.5,\n          4.0\n        ],\n        \"semantic_type\": \"\",\n        \"description\": \"\"\n      }\n    },\n    {\n      \"column\": \"visits\",\n      \"properties\": {\n        \"dtype\": \"number\",\n        \"std\": 1,\n        \"min\": 2,\n        \"max\": 4,\n        \"num_unique_values\": 2,\n        \"samples\": [\n          4,\n          2\n        ],\n        \"semantic_type\": \"\",\n        \"description\": \"\"\n      }\n    },\n    {\n      \"column\": \"priority\",\n      \"properties\": {\n        \"dtype\": \"string\",\n        \"num_unique_values\": 2,\n        \"samples\": [\n          \"no\",\n          \"yes\"\n        ],\n        \"semantic_type\": \"\",\n        \"description\": \"\"\n      }\n    }\n  ]\n}"
            }
          },
          "metadata": {},
          "execution_count": 13
        }
      ]
    },
    {
      "cell_type": "code",
      "source": [
        "#10. Find the total number of visits of the bird Cranes\n",
        "birds[birds['birds']=='Cranes']['visits'].sum()"
      ],
      "metadata": {
        "colab": {
          "base_uri": "https://localhost:8080/"
        },
        "id": "IrfqLYvT9pAi",
        "outputId": "3c64b86e-4374-4c1a-886e-525391765306"
      },
      "execution_count": null,
      "outputs": [
        {
          "output_type": "execute_result",
          "data": {
            "text/plain": [
              "12"
            ]
          },
          "metadata": {},
          "execution_count": 17
        }
      ]
    },
    {
      "cell_type": "code",
      "source": [
        "#11. Calculate the mean age for each different birds in dataframe.\n",
        "birds.groupby('birds')['age'].mean()"
      ],
      "metadata": {
        "colab": {
          "base_uri": "https://localhost:8080/",
          "height": 209
        },
        "id": "MGpdVkWT_M8X",
        "outputId": "1a68aa5e-fb51-4cf8-9e1d-dddb2b71afb5"
      },
      "execution_count": null,
      "outputs": [
        {
          "output_type": "execute_result",
          "data": {
            "text/plain": [
              "birds\n",
              "Cranes        3.5\n",
              "plovers       3.5\n",
              "spoonbills    6.0\n",
              "Name: age, dtype: float64"
            ],
            "text/html": [
              "<div>\n",
              "<style scoped>\n",
              "    .dataframe tbody tr th:only-of-type {\n",
              "        vertical-align: middle;\n",
              "    }\n",
              "\n",
              "    .dataframe tbody tr th {\n",
              "        vertical-align: top;\n",
              "    }\n",
              "\n",
              "    .dataframe thead th {\n",
              "        text-align: right;\n",
              "    }\n",
              "</style>\n",
              "<table border=\"1\" class=\"dataframe\">\n",
              "  <thead>\n",
              "    <tr style=\"text-align: right;\">\n",
              "      <th></th>\n",
              "      <th>age</th>\n",
              "    </tr>\n",
              "    <tr>\n",
              "      <th>birds</th>\n",
              "      <th></th>\n",
              "    </tr>\n",
              "  </thead>\n",
              "  <tbody>\n",
              "    <tr>\n",
              "      <th>Cranes</th>\n",
              "      <td>3.5</td>\n",
              "    </tr>\n",
              "    <tr>\n",
              "      <th>plovers</th>\n",
              "      <td>3.5</td>\n",
              "    </tr>\n",
              "    <tr>\n",
              "      <th>spoonbills</th>\n",
              "      <td>6.0</td>\n",
              "    </tr>\n",
              "  </tbody>\n",
              "</table>\n",
              "</div><br><label><b>dtype:</b> float64</label>"
            ]
          },
          "metadata": {},
          "execution_count": 20
        }
      ]
    },
    {
      "cell_type": "code",
      "source": [
        "#12. Append a new row 'k' to dataframe with your choice of values for each column. Then delete that row to return the original DataFrame.\n",
        "birds.loc['k'] = ['parrot', 5, 3, 'yes']\n",
        "birds"
      ],
      "metadata": {
        "colab": {
          "base_uri": "https://localhost:8080/",
          "height": 394
        },
        "id": "LYVqqwxwAEvx",
        "outputId": "e0996fc8-68b3-4852-c25c-5c9b805fc3c7"
      },
      "execution_count": null,
      "outputs": [
        {
          "output_type": "execute_result",
          "data": {
            "text/plain": [
              "        birds  age  visits priority\n",
              "a      Cranes  3.5       2      yes\n",
              "b      Cranes  4.0       4      yes\n",
              "c     plovers  1.5       3       no\n",
              "d  spoonbills  NaN       4      yes\n",
              "e  spoonbills  6.0       3       no\n",
              "f      Cranes  3.0       4       no\n",
              "g     plovers  5.5       2       no\n",
              "h      Cranes  NaN       2      yes\n",
              "i  spoonbills  8.0       3       no\n",
              "j  spoonbills  4.0       2       no\n",
              "k      parrot  5.0       3      yes"
            ],
            "text/html": [
              "\n",
              "  <div id=\"df-e403b396-0af1-4932-abb2-7c1fa9dfbe99\" class=\"colab-df-container\">\n",
              "    <div>\n",
              "<style scoped>\n",
              "    .dataframe tbody tr th:only-of-type {\n",
              "        vertical-align: middle;\n",
              "    }\n",
              "\n",
              "    .dataframe tbody tr th {\n",
              "        vertical-align: top;\n",
              "    }\n",
              "\n",
              "    .dataframe thead th {\n",
              "        text-align: right;\n",
              "    }\n",
              "</style>\n",
              "<table border=\"1\" class=\"dataframe\">\n",
              "  <thead>\n",
              "    <tr style=\"text-align: right;\">\n",
              "      <th></th>\n",
              "      <th>birds</th>\n",
              "      <th>age</th>\n",
              "      <th>visits</th>\n",
              "      <th>priority</th>\n",
              "    </tr>\n",
              "  </thead>\n",
              "  <tbody>\n",
              "    <tr>\n",
              "      <th>a</th>\n",
              "      <td>Cranes</td>\n",
              "      <td>3.5</td>\n",
              "      <td>2</td>\n",
              "      <td>yes</td>\n",
              "    </tr>\n",
              "    <tr>\n",
              "      <th>b</th>\n",
              "      <td>Cranes</td>\n",
              "      <td>4.0</td>\n",
              "      <td>4</td>\n",
              "      <td>yes</td>\n",
              "    </tr>\n",
              "    <tr>\n",
              "      <th>c</th>\n",
              "      <td>plovers</td>\n",
              "      <td>1.5</td>\n",
              "      <td>3</td>\n",
              "      <td>no</td>\n",
              "    </tr>\n",
              "    <tr>\n",
              "      <th>d</th>\n",
              "      <td>spoonbills</td>\n",
              "      <td>NaN</td>\n",
              "      <td>4</td>\n",
              "      <td>yes</td>\n",
              "    </tr>\n",
              "    <tr>\n",
              "      <th>e</th>\n",
              "      <td>spoonbills</td>\n",
              "      <td>6.0</td>\n",
              "      <td>3</td>\n",
              "      <td>no</td>\n",
              "    </tr>\n",
              "    <tr>\n",
              "      <th>f</th>\n",
              "      <td>Cranes</td>\n",
              "      <td>3.0</td>\n",
              "      <td>4</td>\n",
              "      <td>no</td>\n",
              "    </tr>\n",
              "    <tr>\n",
              "      <th>g</th>\n",
              "      <td>plovers</td>\n",
              "      <td>5.5</td>\n",
              "      <td>2</td>\n",
              "      <td>no</td>\n",
              "    </tr>\n",
              "    <tr>\n",
              "      <th>h</th>\n",
              "      <td>Cranes</td>\n",
              "      <td>NaN</td>\n",
              "      <td>2</td>\n",
              "      <td>yes</td>\n",
              "    </tr>\n",
              "    <tr>\n",
              "      <th>i</th>\n",
              "      <td>spoonbills</td>\n",
              "      <td>8.0</td>\n",
              "      <td>3</td>\n",
              "      <td>no</td>\n",
              "    </tr>\n",
              "    <tr>\n",
              "      <th>j</th>\n",
              "      <td>spoonbills</td>\n",
              "      <td>4.0</td>\n",
              "      <td>2</td>\n",
              "      <td>no</td>\n",
              "    </tr>\n",
              "    <tr>\n",
              "      <th>k</th>\n",
              "      <td>parrot</td>\n",
              "      <td>5.0</td>\n",
              "      <td>3</td>\n",
              "      <td>yes</td>\n",
              "    </tr>\n",
              "  </tbody>\n",
              "</table>\n",
              "</div>\n",
              "    <div class=\"colab-df-buttons\">\n",
              "\n",
              "  <div class=\"colab-df-container\">\n",
              "    <button class=\"colab-df-convert\" onclick=\"convertToInteractive('df-e403b396-0af1-4932-abb2-7c1fa9dfbe99')\"\n",
              "            title=\"Convert this dataframe to an interactive table.\"\n",
              "            style=\"display:none;\">\n",
              "\n",
              "  <svg xmlns=\"http://www.w3.org/2000/svg\" height=\"24px\" viewBox=\"0 -960 960 960\">\n",
              "    <path d=\"M120-120v-720h720v720H120Zm60-500h600v-160H180v160Zm220 220h160v-160H400v160Zm0 220h160v-160H400v160ZM180-400h160v-160H180v160Zm440 0h160v-160H620v160ZM180-180h160v-160H180v160Zm440 0h160v-160H620v160Z\"/>\n",
              "  </svg>\n",
              "    </button>\n",
              "\n",
              "  <style>\n",
              "    .colab-df-container {\n",
              "      display:flex;\n",
              "      gap: 12px;\n",
              "    }\n",
              "\n",
              "    .colab-df-convert {\n",
              "      background-color: #E8F0FE;\n",
              "      border: none;\n",
              "      border-radius: 50%;\n",
              "      cursor: pointer;\n",
              "      display: none;\n",
              "      fill: #1967D2;\n",
              "      height: 32px;\n",
              "      padding: 0 0 0 0;\n",
              "      width: 32px;\n",
              "    }\n",
              "\n",
              "    .colab-df-convert:hover {\n",
              "      background-color: #E2EBFA;\n",
              "      box-shadow: 0px 1px 2px rgba(60, 64, 67, 0.3), 0px 1px 3px 1px rgba(60, 64, 67, 0.15);\n",
              "      fill: #174EA6;\n",
              "    }\n",
              "\n",
              "    .colab-df-buttons div {\n",
              "      margin-bottom: 4px;\n",
              "    }\n",
              "\n",
              "    [theme=dark] .colab-df-convert {\n",
              "      background-color: #3B4455;\n",
              "      fill: #D2E3FC;\n",
              "    }\n",
              "\n",
              "    [theme=dark] .colab-df-convert:hover {\n",
              "      background-color: #434B5C;\n",
              "      box-shadow: 0px 1px 3px 1px rgba(0, 0, 0, 0.15);\n",
              "      filter: drop-shadow(0px 1px 2px rgba(0, 0, 0, 0.3));\n",
              "      fill: #FFFFFF;\n",
              "    }\n",
              "  </style>\n",
              "\n",
              "    <script>\n",
              "      const buttonEl =\n",
              "        document.querySelector('#df-e403b396-0af1-4932-abb2-7c1fa9dfbe99 button.colab-df-convert');\n",
              "      buttonEl.style.display =\n",
              "        google.colab.kernel.accessAllowed ? 'block' : 'none';\n",
              "\n",
              "      async function convertToInteractive(key) {\n",
              "        const element = document.querySelector('#df-e403b396-0af1-4932-abb2-7c1fa9dfbe99');\n",
              "        const dataTable =\n",
              "          await google.colab.kernel.invokeFunction('convertToInteractive',\n",
              "                                                    [key], {});\n",
              "        if (!dataTable) return;\n",
              "\n",
              "        const docLinkHtml = 'Like what you see? Visit the ' +\n",
              "          '<a target=\"_blank\" href=https://colab.research.google.com/notebooks/data_table.ipynb>data table notebook</a>'\n",
              "          + ' to learn more about interactive tables.';\n",
              "        element.innerHTML = '';\n",
              "        dataTable['output_type'] = 'display_data';\n",
              "        await google.colab.output.renderOutput(dataTable, element);\n",
              "        const docLink = document.createElement('div');\n",
              "        docLink.innerHTML = docLinkHtml;\n",
              "        element.appendChild(docLink);\n",
              "      }\n",
              "    </script>\n",
              "  </div>\n",
              "\n",
              "\n",
              "<div id=\"df-8f3cec61-c3bf-496f-88a5-83ad1e9b4433\">\n",
              "  <button class=\"colab-df-quickchart\" onclick=\"quickchart('df-8f3cec61-c3bf-496f-88a5-83ad1e9b4433')\"\n",
              "            title=\"Suggest charts\"\n",
              "            style=\"display:none;\">\n",
              "\n",
              "<svg xmlns=\"http://www.w3.org/2000/svg\" height=\"24px\"viewBox=\"0 0 24 24\"\n",
              "     width=\"24px\">\n",
              "    <g>\n",
              "        <path d=\"M19 3H5c-1.1 0-2 .9-2 2v14c0 1.1.9 2 2 2h14c1.1 0 2-.9 2-2V5c0-1.1-.9-2-2-2zM9 17H7v-7h2v7zm4 0h-2V7h2v10zm4 0h-2v-4h2v4z\"/>\n",
              "    </g>\n",
              "</svg>\n",
              "  </button>\n",
              "\n",
              "<style>\n",
              "  .colab-df-quickchart {\n",
              "      --bg-color: #E8F0FE;\n",
              "      --fill-color: #1967D2;\n",
              "      --hover-bg-color: #E2EBFA;\n",
              "      --hover-fill-color: #174EA6;\n",
              "      --disabled-fill-color: #AAA;\n",
              "      --disabled-bg-color: #DDD;\n",
              "  }\n",
              "\n",
              "  [theme=dark] .colab-df-quickchart {\n",
              "      --bg-color: #3B4455;\n",
              "      --fill-color: #D2E3FC;\n",
              "      --hover-bg-color: #434B5C;\n",
              "      --hover-fill-color: #FFFFFF;\n",
              "      --disabled-bg-color: #3B4455;\n",
              "      --disabled-fill-color: #666;\n",
              "  }\n",
              "\n",
              "  .colab-df-quickchart {\n",
              "    background-color: var(--bg-color);\n",
              "    border: none;\n",
              "    border-radius: 50%;\n",
              "    cursor: pointer;\n",
              "    display: none;\n",
              "    fill: var(--fill-color);\n",
              "    height: 32px;\n",
              "    padding: 0;\n",
              "    width: 32px;\n",
              "  }\n",
              "\n",
              "  .colab-df-quickchart:hover {\n",
              "    background-color: var(--hover-bg-color);\n",
              "    box-shadow: 0 1px 2px rgba(60, 64, 67, 0.3), 0 1px 3px 1px rgba(60, 64, 67, 0.15);\n",
              "    fill: var(--button-hover-fill-color);\n",
              "  }\n",
              "\n",
              "  .colab-df-quickchart-complete:disabled,\n",
              "  .colab-df-quickchart-complete:disabled:hover {\n",
              "    background-color: var(--disabled-bg-color);\n",
              "    fill: var(--disabled-fill-color);\n",
              "    box-shadow: none;\n",
              "  }\n",
              "\n",
              "  .colab-df-spinner {\n",
              "    border: 2px solid var(--fill-color);\n",
              "    border-color: transparent;\n",
              "    border-bottom-color: var(--fill-color);\n",
              "    animation:\n",
              "      spin 1s steps(1) infinite;\n",
              "  }\n",
              "\n",
              "  @keyframes spin {\n",
              "    0% {\n",
              "      border-color: transparent;\n",
              "      border-bottom-color: var(--fill-color);\n",
              "      border-left-color: var(--fill-color);\n",
              "    }\n",
              "    20% {\n",
              "      border-color: transparent;\n",
              "      border-left-color: var(--fill-color);\n",
              "      border-top-color: var(--fill-color);\n",
              "    }\n",
              "    30% {\n",
              "      border-color: transparent;\n",
              "      border-left-color: var(--fill-color);\n",
              "      border-top-color: var(--fill-color);\n",
              "      border-right-color: var(--fill-color);\n",
              "    }\n",
              "    40% {\n",
              "      border-color: transparent;\n",
              "      border-right-color: var(--fill-color);\n",
              "      border-top-color: var(--fill-color);\n",
              "    }\n",
              "    60% {\n",
              "      border-color: transparent;\n",
              "      border-right-color: var(--fill-color);\n",
              "    }\n",
              "    80% {\n",
              "      border-color: transparent;\n",
              "      border-right-color: var(--fill-color);\n",
              "      border-bottom-color: var(--fill-color);\n",
              "    }\n",
              "    90% {\n",
              "      border-color: transparent;\n",
              "      border-bottom-color: var(--fill-color);\n",
              "    }\n",
              "  }\n",
              "</style>\n",
              "\n",
              "  <script>\n",
              "    async function quickchart(key) {\n",
              "      const quickchartButtonEl =\n",
              "        document.querySelector('#' + key + ' button');\n",
              "      quickchartButtonEl.disabled = true;  // To prevent multiple clicks.\n",
              "      quickchartButtonEl.classList.add('colab-df-spinner');\n",
              "      try {\n",
              "        const charts = await google.colab.kernel.invokeFunction(\n",
              "            'suggestCharts', [key], {});\n",
              "      } catch (error) {\n",
              "        console.error('Error during call to suggestCharts:', error);\n",
              "      }\n",
              "      quickchartButtonEl.classList.remove('colab-df-spinner');\n",
              "      quickchartButtonEl.classList.add('colab-df-quickchart-complete');\n",
              "    }\n",
              "    (() => {\n",
              "      let quickchartButtonEl =\n",
              "        document.querySelector('#df-8f3cec61-c3bf-496f-88a5-83ad1e9b4433 button');\n",
              "      quickchartButtonEl.style.display =\n",
              "        google.colab.kernel.accessAllowed ? 'block' : 'none';\n",
              "    })();\n",
              "  </script>\n",
              "</div>\n",
              "\n",
              "  <div id=\"id_1a154a90-bad6-4610-8592-eed24b6b9322\">\n",
              "    <style>\n",
              "      .colab-df-generate {\n",
              "        background-color: #E8F0FE;\n",
              "        border: none;\n",
              "        border-radius: 50%;\n",
              "        cursor: pointer;\n",
              "        display: none;\n",
              "        fill: #1967D2;\n",
              "        height: 32px;\n",
              "        padding: 0 0 0 0;\n",
              "        width: 32px;\n",
              "      }\n",
              "\n",
              "      .colab-df-generate:hover {\n",
              "        background-color: #E2EBFA;\n",
              "        box-shadow: 0px 1px 2px rgba(60, 64, 67, 0.3), 0px 1px 3px 1px rgba(60, 64, 67, 0.15);\n",
              "        fill: #174EA6;\n",
              "      }\n",
              "\n",
              "      [theme=dark] .colab-df-generate {\n",
              "        background-color: #3B4455;\n",
              "        fill: #D2E3FC;\n",
              "      }\n",
              "\n",
              "      [theme=dark] .colab-df-generate:hover {\n",
              "        background-color: #434B5C;\n",
              "        box-shadow: 0px 1px 3px 1px rgba(0, 0, 0, 0.15);\n",
              "        filter: drop-shadow(0px 1px 2px rgba(0, 0, 0, 0.3));\n",
              "        fill: #FFFFFF;\n",
              "      }\n",
              "    </style>\n",
              "    <button class=\"colab-df-generate\" onclick=\"generateWithVariable('birds')\"\n",
              "            title=\"Generate code using this dataframe.\"\n",
              "            style=\"display:none;\">\n",
              "\n",
              "  <svg xmlns=\"http://www.w3.org/2000/svg\" height=\"24px\"viewBox=\"0 0 24 24\"\n",
              "       width=\"24px\">\n",
              "    <path d=\"M7,19H8.4L18.45,9,17,7.55,7,17.6ZM5,21V16.75L18.45,3.32a2,2,0,0,1,2.83,0l1.4,1.43a1.91,1.91,0,0,1,.58,1.4,1.91,1.91,0,0,1-.58,1.4L9.25,21ZM18.45,9,17,7.55Zm-12,3A5.31,5.31,0,0,0,4.9,8.1,5.31,5.31,0,0,0,1,6.5,5.31,5.31,0,0,0,4.9,4.9,5.31,5.31,0,0,0,6.5,1,5.31,5.31,0,0,0,8.1,4.9,5.31,5.31,0,0,0,12,6.5,5.46,5.46,0,0,0,6.5,12Z\"/>\n",
              "  </svg>\n",
              "    </button>\n",
              "    <script>\n",
              "      (() => {\n",
              "      const buttonEl =\n",
              "        document.querySelector('#id_1a154a90-bad6-4610-8592-eed24b6b9322 button.colab-df-generate');\n",
              "      buttonEl.style.display =\n",
              "        google.colab.kernel.accessAllowed ? 'block' : 'none';\n",
              "\n",
              "      buttonEl.onclick = () => {\n",
              "        google.colab.notebook.generateWithVariable('birds');\n",
              "      }\n",
              "      })();\n",
              "    </script>\n",
              "  </div>\n",
              "\n",
              "    </div>\n",
              "  </div>\n"
            ],
            "application/vnd.google.colaboratory.intrinsic+json": {
              "type": "dataframe",
              "variable_name": "birds",
              "summary": "{\n  \"name\": \"birds\",\n  \"rows\": 11,\n  \"fields\": [\n    {\n      \"column\": \"birds\",\n      \"properties\": {\n        \"dtype\": \"category\",\n        \"num_unique_values\": 4,\n        \"samples\": [\n          \"plovers\",\n          \"parrot\",\n          \"Cranes\"\n        ],\n        \"semantic_type\": \"\",\n        \"description\": \"\"\n      }\n    },\n    {\n      \"column\": \"age\",\n      \"properties\": {\n        \"dtype\": \"number\",\n        \"std\": 1.8874586088176875,\n        \"min\": 1.5,\n        \"max\": 8.0,\n        \"num_unique_values\": 8,\n        \"samples\": [\n          4.0,\n          5.5,\n          3.5\n        ],\n        \"semantic_type\": \"\",\n        \"description\": \"\"\n      }\n    },\n    {\n      \"column\": \"visits\",\n      \"properties\": {\n        \"dtype\": \"number\",\n        \"std\": 0,\n        \"min\": 2,\n        \"max\": 4,\n        \"num_unique_values\": 3,\n        \"samples\": [\n          2,\n          4,\n          3\n        ],\n        \"semantic_type\": \"\",\n        \"description\": \"\"\n      }\n    },\n    {\n      \"column\": \"priority\",\n      \"properties\": {\n        \"dtype\": \"category\",\n        \"num_unique_values\": 2,\n        \"samples\": [\n          \"no\",\n          \"yes\"\n        ],\n        \"semantic_type\": \"\",\n        \"description\": \"\"\n      }\n    }\n  ]\n}"
            }
          },
          "metadata": {},
          "execution_count": 21
        }
      ]
    },
    {
      "cell_type": "code",
      "source": [
        "birds = birds.drop(index='k')\n",
        "birds"
      ],
      "metadata": {
        "colab": {
          "base_uri": "https://localhost:8080/",
          "height": 363
        },
        "id": "s0NMV9bBBZPV",
        "outputId": "262c7126-3034-459e-9efe-a1ef7b46ffb0"
      },
      "execution_count": null,
      "outputs": [
        {
          "output_type": "execute_result",
          "data": {
            "text/plain": [
              "        birds  age  visits priority\n",
              "a      Cranes  3.5       2      yes\n",
              "b      Cranes  4.0       4      yes\n",
              "c     plovers  1.5       3       no\n",
              "d  spoonbills  NaN       4      yes\n",
              "e  spoonbills  6.0       3       no\n",
              "f      Cranes  3.0       4       no\n",
              "g     plovers  5.5       2       no\n",
              "h      Cranes  NaN       2      yes\n",
              "i  spoonbills  8.0       3       no\n",
              "j  spoonbills  4.0       2       no"
            ],
            "text/html": [
              "\n",
              "  <div id=\"df-5940f374-7075-42d7-8bdd-572986efd930\" class=\"colab-df-container\">\n",
              "    <div>\n",
              "<style scoped>\n",
              "    .dataframe tbody tr th:only-of-type {\n",
              "        vertical-align: middle;\n",
              "    }\n",
              "\n",
              "    .dataframe tbody tr th {\n",
              "        vertical-align: top;\n",
              "    }\n",
              "\n",
              "    .dataframe thead th {\n",
              "        text-align: right;\n",
              "    }\n",
              "</style>\n",
              "<table border=\"1\" class=\"dataframe\">\n",
              "  <thead>\n",
              "    <tr style=\"text-align: right;\">\n",
              "      <th></th>\n",
              "      <th>birds</th>\n",
              "      <th>age</th>\n",
              "      <th>visits</th>\n",
              "      <th>priority</th>\n",
              "    </tr>\n",
              "  </thead>\n",
              "  <tbody>\n",
              "    <tr>\n",
              "      <th>a</th>\n",
              "      <td>Cranes</td>\n",
              "      <td>3.5</td>\n",
              "      <td>2</td>\n",
              "      <td>yes</td>\n",
              "    </tr>\n",
              "    <tr>\n",
              "      <th>b</th>\n",
              "      <td>Cranes</td>\n",
              "      <td>4.0</td>\n",
              "      <td>4</td>\n",
              "      <td>yes</td>\n",
              "    </tr>\n",
              "    <tr>\n",
              "      <th>c</th>\n",
              "      <td>plovers</td>\n",
              "      <td>1.5</td>\n",
              "      <td>3</td>\n",
              "      <td>no</td>\n",
              "    </tr>\n",
              "    <tr>\n",
              "      <th>d</th>\n",
              "      <td>spoonbills</td>\n",
              "      <td>NaN</td>\n",
              "      <td>4</td>\n",
              "      <td>yes</td>\n",
              "    </tr>\n",
              "    <tr>\n",
              "      <th>e</th>\n",
              "      <td>spoonbills</td>\n",
              "      <td>6.0</td>\n",
              "      <td>3</td>\n",
              "      <td>no</td>\n",
              "    </tr>\n",
              "    <tr>\n",
              "      <th>f</th>\n",
              "      <td>Cranes</td>\n",
              "      <td>3.0</td>\n",
              "      <td>4</td>\n",
              "      <td>no</td>\n",
              "    </tr>\n",
              "    <tr>\n",
              "      <th>g</th>\n",
              "      <td>plovers</td>\n",
              "      <td>5.5</td>\n",
              "      <td>2</td>\n",
              "      <td>no</td>\n",
              "    </tr>\n",
              "    <tr>\n",
              "      <th>h</th>\n",
              "      <td>Cranes</td>\n",
              "      <td>NaN</td>\n",
              "      <td>2</td>\n",
              "      <td>yes</td>\n",
              "    </tr>\n",
              "    <tr>\n",
              "      <th>i</th>\n",
              "      <td>spoonbills</td>\n",
              "      <td>8.0</td>\n",
              "      <td>3</td>\n",
              "      <td>no</td>\n",
              "    </tr>\n",
              "    <tr>\n",
              "      <th>j</th>\n",
              "      <td>spoonbills</td>\n",
              "      <td>4.0</td>\n",
              "      <td>2</td>\n",
              "      <td>no</td>\n",
              "    </tr>\n",
              "  </tbody>\n",
              "</table>\n",
              "</div>\n",
              "    <div class=\"colab-df-buttons\">\n",
              "\n",
              "  <div class=\"colab-df-container\">\n",
              "    <button class=\"colab-df-convert\" onclick=\"convertToInteractive('df-5940f374-7075-42d7-8bdd-572986efd930')\"\n",
              "            title=\"Convert this dataframe to an interactive table.\"\n",
              "            style=\"display:none;\">\n",
              "\n",
              "  <svg xmlns=\"http://www.w3.org/2000/svg\" height=\"24px\" viewBox=\"0 -960 960 960\">\n",
              "    <path d=\"M120-120v-720h720v720H120Zm60-500h600v-160H180v160Zm220 220h160v-160H400v160Zm0 220h160v-160H400v160ZM180-400h160v-160H180v160Zm440 0h160v-160H620v160ZM180-180h160v-160H180v160Zm440 0h160v-160H620v160Z\"/>\n",
              "  </svg>\n",
              "    </button>\n",
              "\n",
              "  <style>\n",
              "    .colab-df-container {\n",
              "      display:flex;\n",
              "      gap: 12px;\n",
              "    }\n",
              "\n",
              "    .colab-df-convert {\n",
              "      background-color: #E8F0FE;\n",
              "      border: none;\n",
              "      border-radius: 50%;\n",
              "      cursor: pointer;\n",
              "      display: none;\n",
              "      fill: #1967D2;\n",
              "      height: 32px;\n",
              "      padding: 0 0 0 0;\n",
              "      width: 32px;\n",
              "    }\n",
              "\n",
              "    .colab-df-convert:hover {\n",
              "      background-color: #E2EBFA;\n",
              "      box-shadow: 0px 1px 2px rgba(60, 64, 67, 0.3), 0px 1px 3px 1px rgba(60, 64, 67, 0.15);\n",
              "      fill: #174EA6;\n",
              "    }\n",
              "\n",
              "    .colab-df-buttons div {\n",
              "      margin-bottom: 4px;\n",
              "    }\n",
              "\n",
              "    [theme=dark] .colab-df-convert {\n",
              "      background-color: #3B4455;\n",
              "      fill: #D2E3FC;\n",
              "    }\n",
              "\n",
              "    [theme=dark] .colab-df-convert:hover {\n",
              "      background-color: #434B5C;\n",
              "      box-shadow: 0px 1px 3px 1px rgba(0, 0, 0, 0.15);\n",
              "      filter: drop-shadow(0px 1px 2px rgba(0, 0, 0, 0.3));\n",
              "      fill: #FFFFFF;\n",
              "    }\n",
              "  </style>\n",
              "\n",
              "    <script>\n",
              "      const buttonEl =\n",
              "        document.querySelector('#df-5940f374-7075-42d7-8bdd-572986efd930 button.colab-df-convert');\n",
              "      buttonEl.style.display =\n",
              "        google.colab.kernel.accessAllowed ? 'block' : 'none';\n",
              "\n",
              "      async function convertToInteractive(key) {\n",
              "        const element = document.querySelector('#df-5940f374-7075-42d7-8bdd-572986efd930');\n",
              "        const dataTable =\n",
              "          await google.colab.kernel.invokeFunction('convertToInteractive',\n",
              "                                                    [key], {});\n",
              "        if (!dataTable) return;\n",
              "\n",
              "        const docLinkHtml = 'Like what you see? Visit the ' +\n",
              "          '<a target=\"_blank\" href=https://colab.research.google.com/notebooks/data_table.ipynb>data table notebook</a>'\n",
              "          + ' to learn more about interactive tables.';\n",
              "        element.innerHTML = '';\n",
              "        dataTable['output_type'] = 'display_data';\n",
              "        await google.colab.output.renderOutput(dataTable, element);\n",
              "        const docLink = document.createElement('div');\n",
              "        docLink.innerHTML = docLinkHtml;\n",
              "        element.appendChild(docLink);\n",
              "      }\n",
              "    </script>\n",
              "  </div>\n",
              "\n",
              "\n",
              "<div id=\"df-7153b84a-4fc7-4395-a055-b7027010aaa8\">\n",
              "  <button class=\"colab-df-quickchart\" onclick=\"quickchart('df-7153b84a-4fc7-4395-a055-b7027010aaa8')\"\n",
              "            title=\"Suggest charts\"\n",
              "            style=\"display:none;\">\n",
              "\n",
              "<svg xmlns=\"http://www.w3.org/2000/svg\" height=\"24px\"viewBox=\"0 0 24 24\"\n",
              "     width=\"24px\">\n",
              "    <g>\n",
              "        <path d=\"M19 3H5c-1.1 0-2 .9-2 2v14c0 1.1.9 2 2 2h14c1.1 0 2-.9 2-2V5c0-1.1-.9-2-2-2zM9 17H7v-7h2v7zm4 0h-2V7h2v10zm4 0h-2v-4h2v4z\"/>\n",
              "    </g>\n",
              "</svg>\n",
              "  </button>\n",
              "\n",
              "<style>\n",
              "  .colab-df-quickchart {\n",
              "      --bg-color: #E8F0FE;\n",
              "      --fill-color: #1967D2;\n",
              "      --hover-bg-color: #E2EBFA;\n",
              "      --hover-fill-color: #174EA6;\n",
              "      --disabled-fill-color: #AAA;\n",
              "      --disabled-bg-color: #DDD;\n",
              "  }\n",
              "\n",
              "  [theme=dark] .colab-df-quickchart {\n",
              "      --bg-color: #3B4455;\n",
              "      --fill-color: #D2E3FC;\n",
              "      --hover-bg-color: #434B5C;\n",
              "      --hover-fill-color: #FFFFFF;\n",
              "      --disabled-bg-color: #3B4455;\n",
              "      --disabled-fill-color: #666;\n",
              "  }\n",
              "\n",
              "  .colab-df-quickchart {\n",
              "    background-color: var(--bg-color);\n",
              "    border: none;\n",
              "    border-radius: 50%;\n",
              "    cursor: pointer;\n",
              "    display: none;\n",
              "    fill: var(--fill-color);\n",
              "    height: 32px;\n",
              "    padding: 0;\n",
              "    width: 32px;\n",
              "  }\n",
              "\n",
              "  .colab-df-quickchart:hover {\n",
              "    background-color: var(--hover-bg-color);\n",
              "    box-shadow: 0 1px 2px rgba(60, 64, 67, 0.3), 0 1px 3px 1px rgba(60, 64, 67, 0.15);\n",
              "    fill: var(--button-hover-fill-color);\n",
              "  }\n",
              "\n",
              "  .colab-df-quickchart-complete:disabled,\n",
              "  .colab-df-quickchart-complete:disabled:hover {\n",
              "    background-color: var(--disabled-bg-color);\n",
              "    fill: var(--disabled-fill-color);\n",
              "    box-shadow: none;\n",
              "  }\n",
              "\n",
              "  .colab-df-spinner {\n",
              "    border: 2px solid var(--fill-color);\n",
              "    border-color: transparent;\n",
              "    border-bottom-color: var(--fill-color);\n",
              "    animation:\n",
              "      spin 1s steps(1) infinite;\n",
              "  }\n",
              "\n",
              "  @keyframes spin {\n",
              "    0% {\n",
              "      border-color: transparent;\n",
              "      border-bottom-color: var(--fill-color);\n",
              "      border-left-color: var(--fill-color);\n",
              "    }\n",
              "    20% {\n",
              "      border-color: transparent;\n",
              "      border-left-color: var(--fill-color);\n",
              "      border-top-color: var(--fill-color);\n",
              "    }\n",
              "    30% {\n",
              "      border-color: transparent;\n",
              "      border-left-color: var(--fill-color);\n",
              "      border-top-color: var(--fill-color);\n",
              "      border-right-color: var(--fill-color);\n",
              "    }\n",
              "    40% {\n",
              "      border-color: transparent;\n",
              "      border-right-color: var(--fill-color);\n",
              "      border-top-color: var(--fill-color);\n",
              "    }\n",
              "    60% {\n",
              "      border-color: transparent;\n",
              "      border-right-color: var(--fill-color);\n",
              "    }\n",
              "    80% {\n",
              "      border-color: transparent;\n",
              "      border-right-color: var(--fill-color);\n",
              "      border-bottom-color: var(--fill-color);\n",
              "    }\n",
              "    90% {\n",
              "      border-color: transparent;\n",
              "      border-bottom-color: var(--fill-color);\n",
              "    }\n",
              "  }\n",
              "</style>\n",
              "\n",
              "  <script>\n",
              "    async function quickchart(key) {\n",
              "      const quickchartButtonEl =\n",
              "        document.querySelector('#' + key + ' button');\n",
              "      quickchartButtonEl.disabled = true;  // To prevent multiple clicks.\n",
              "      quickchartButtonEl.classList.add('colab-df-spinner');\n",
              "      try {\n",
              "        const charts = await google.colab.kernel.invokeFunction(\n",
              "            'suggestCharts', [key], {});\n",
              "      } catch (error) {\n",
              "        console.error('Error during call to suggestCharts:', error);\n",
              "      }\n",
              "      quickchartButtonEl.classList.remove('colab-df-spinner');\n",
              "      quickchartButtonEl.classList.add('colab-df-quickchart-complete');\n",
              "    }\n",
              "    (() => {\n",
              "      let quickchartButtonEl =\n",
              "        document.querySelector('#df-7153b84a-4fc7-4395-a055-b7027010aaa8 button');\n",
              "      quickchartButtonEl.style.display =\n",
              "        google.colab.kernel.accessAllowed ? 'block' : 'none';\n",
              "    })();\n",
              "  </script>\n",
              "</div>\n",
              "\n",
              "  <div id=\"id_f5881329-651f-4ce8-baab-32abd43238ec\">\n",
              "    <style>\n",
              "      .colab-df-generate {\n",
              "        background-color: #E8F0FE;\n",
              "        border: none;\n",
              "        border-radius: 50%;\n",
              "        cursor: pointer;\n",
              "        display: none;\n",
              "        fill: #1967D2;\n",
              "        height: 32px;\n",
              "        padding: 0 0 0 0;\n",
              "        width: 32px;\n",
              "      }\n",
              "\n",
              "      .colab-df-generate:hover {\n",
              "        background-color: #E2EBFA;\n",
              "        box-shadow: 0px 1px 2px rgba(60, 64, 67, 0.3), 0px 1px 3px 1px rgba(60, 64, 67, 0.15);\n",
              "        fill: #174EA6;\n",
              "      }\n",
              "\n",
              "      [theme=dark] .colab-df-generate {\n",
              "        background-color: #3B4455;\n",
              "        fill: #D2E3FC;\n",
              "      }\n",
              "\n",
              "      [theme=dark] .colab-df-generate:hover {\n",
              "        background-color: #434B5C;\n",
              "        box-shadow: 0px 1px 3px 1px rgba(0, 0, 0, 0.15);\n",
              "        filter: drop-shadow(0px 1px 2px rgba(0, 0, 0, 0.3));\n",
              "        fill: #FFFFFF;\n",
              "      }\n",
              "    </style>\n",
              "    <button class=\"colab-df-generate\" onclick=\"generateWithVariable('birds')\"\n",
              "            title=\"Generate code using this dataframe.\"\n",
              "            style=\"display:none;\">\n",
              "\n",
              "  <svg xmlns=\"http://www.w3.org/2000/svg\" height=\"24px\"viewBox=\"0 0 24 24\"\n",
              "       width=\"24px\">\n",
              "    <path d=\"M7,19H8.4L18.45,9,17,7.55,7,17.6ZM5,21V16.75L18.45,3.32a2,2,0,0,1,2.83,0l1.4,1.43a1.91,1.91,0,0,1,.58,1.4,1.91,1.91,0,0,1-.58,1.4L9.25,21ZM18.45,9,17,7.55Zm-12,3A5.31,5.31,0,0,0,4.9,8.1,5.31,5.31,0,0,0,1,6.5,5.31,5.31,0,0,0,4.9,4.9,5.31,5.31,0,0,0,6.5,1,5.31,5.31,0,0,0,8.1,4.9,5.31,5.31,0,0,0,12,6.5,5.46,5.46,0,0,0,6.5,12Z\"/>\n",
              "  </svg>\n",
              "    </button>\n",
              "    <script>\n",
              "      (() => {\n",
              "      const buttonEl =\n",
              "        document.querySelector('#id_f5881329-651f-4ce8-baab-32abd43238ec button.colab-df-generate');\n",
              "      buttonEl.style.display =\n",
              "        google.colab.kernel.accessAllowed ? 'block' : 'none';\n",
              "\n",
              "      buttonEl.onclick = () => {\n",
              "        google.colab.notebook.generateWithVariable('birds');\n",
              "      }\n",
              "      })();\n",
              "    </script>\n",
              "  </div>\n",
              "\n",
              "    </div>\n",
              "  </div>\n"
            ],
            "application/vnd.google.colaboratory.intrinsic+json": {
              "type": "dataframe",
              "variable_name": "birds",
              "summary": "{\n  \"name\": \"birds\",\n  \"rows\": 10,\n  \"fields\": [\n    {\n      \"column\": \"birds\",\n      \"properties\": {\n        \"dtype\": \"category\",\n        \"num_unique_values\": 3,\n        \"samples\": [\n          \"Cranes\",\n          \"plovers\",\n          \"spoonbills\"\n        ],\n        \"semantic_type\": \"\",\n        \"description\": \"\"\n      }\n    },\n    {\n      \"column\": \"age\",\n      \"properties\": {\n        \"dtype\": \"number\",\n        \"std\": 2.0077973005261263,\n        \"min\": 1.5,\n        \"max\": 8.0,\n        \"num_unique_values\": 7,\n        \"samples\": [\n          3.5,\n          4.0,\n          5.5\n        ],\n        \"semantic_type\": \"\",\n        \"description\": \"\"\n      }\n    },\n    {\n      \"column\": \"visits\",\n      \"properties\": {\n        \"dtype\": \"number\",\n        \"std\": 0,\n        \"min\": 2,\n        \"max\": 4,\n        \"num_unique_values\": 3,\n        \"samples\": [\n          2,\n          4,\n          3\n        ],\n        \"semantic_type\": \"\",\n        \"description\": \"\"\n      }\n    },\n    {\n      \"column\": \"priority\",\n      \"properties\": {\n        \"dtype\": \"category\",\n        \"num_unique_values\": 2,\n        \"samples\": [\n          \"no\",\n          \"yes\"\n        ],\n        \"semantic_type\": \"\",\n        \"description\": \"\"\n      }\n    }\n  ]\n}"
            }
          },
          "metadata": {},
          "execution_count": 25
        }
      ]
    },
    {
      "cell_type": "code",
      "source": [
        "#13. Find the number of each type of birds in dataframe (Counts)\n",
        "birds['birds'].value_counts()"
      ],
      "metadata": {
        "colab": {
          "base_uri": "https://localhost:8080/",
          "height": 209
        },
        "id": "_tNBXXSmBgLg",
        "outputId": "d25ba7aa-ce5d-48fb-caa8-068fc9df9fb7"
      },
      "execution_count": null,
      "outputs": [
        {
          "output_type": "execute_result",
          "data": {
            "text/plain": [
              "birds\n",
              "Cranes        4\n",
              "spoonbills    4\n",
              "plovers       2\n",
              "Name: count, dtype: int64"
            ],
            "text/html": [
              "<div>\n",
              "<style scoped>\n",
              "    .dataframe tbody tr th:only-of-type {\n",
              "        vertical-align: middle;\n",
              "    }\n",
              "\n",
              "    .dataframe tbody tr th {\n",
              "        vertical-align: top;\n",
              "    }\n",
              "\n",
              "    .dataframe thead th {\n",
              "        text-align: right;\n",
              "    }\n",
              "</style>\n",
              "<table border=\"1\" class=\"dataframe\">\n",
              "  <thead>\n",
              "    <tr style=\"text-align: right;\">\n",
              "      <th></th>\n",
              "      <th>count</th>\n",
              "    </tr>\n",
              "    <tr>\n",
              "      <th>birds</th>\n",
              "      <th></th>\n",
              "    </tr>\n",
              "  </thead>\n",
              "  <tbody>\n",
              "    <tr>\n",
              "      <th>Cranes</th>\n",
              "      <td>4</td>\n",
              "    </tr>\n",
              "    <tr>\n",
              "      <th>spoonbills</th>\n",
              "      <td>4</td>\n",
              "    </tr>\n",
              "    <tr>\n",
              "      <th>plovers</th>\n",
              "      <td>2</td>\n",
              "    </tr>\n",
              "  </tbody>\n",
              "</table>\n",
              "</div><br><label><b>dtype:</b> int64</label>"
            ]
          },
          "metadata": {},
          "execution_count": 26
        }
      ]
    },
    {
      "cell_type": "code",
      "source": [
        "#14. Sort dataframe (birds) first by the values in the 'age' in decending order, then by the value in the 'visits' column in ascending order.\n",
        "birds.sort_values(by=['age', 'visits'], ascending=[False, True])"
      ],
      "metadata": {
        "colab": {
          "base_uri": "https://localhost:8080/",
          "height": 363
        },
        "id": "LPauIwP3CMmU",
        "outputId": "fa139b7f-e7fd-4742-e8fa-707105dac747"
      },
      "execution_count": null,
      "outputs": [
        {
          "output_type": "execute_result",
          "data": {
            "text/plain": [
              "        birds  age  visits priority\n",
              "i  spoonbills  8.0       3       no\n",
              "e  spoonbills  6.0       3       no\n",
              "g     plovers  5.5       2       no\n",
              "j  spoonbills  4.0       2       no\n",
              "b      Cranes  4.0       4      yes\n",
              "a      Cranes  3.5       2      yes\n",
              "f      Cranes  3.0       4       no\n",
              "c     plovers  1.5       3       no\n",
              "h      Cranes  NaN       2      yes\n",
              "d  spoonbills  NaN       4      yes"
            ],
            "text/html": [
              "\n",
              "  <div id=\"df-d8320665-c7d3-4d97-b6f0-cfb67229d9ec\" class=\"colab-df-container\">\n",
              "    <div>\n",
              "<style scoped>\n",
              "    .dataframe tbody tr th:only-of-type {\n",
              "        vertical-align: middle;\n",
              "    }\n",
              "\n",
              "    .dataframe tbody tr th {\n",
              "        vertical-align: top;\n",
              "    }\n",
              "\n",
              "    .dataframe thead th {\n",
              "        text-align: right;\n",
              "    }\n",
              "</style>\n",
              "<table border=\"1\" class=\"dataframe\">\n",
              "  <thead>\n",
              "    <tr style=\"text-align: right;\">\n",
              "      <th></th>\n",
              "      <th>birds</th>\n",
              "      <th>age</th>\n",
              "      <th>visits</th>\n",
              "      <th>priority</th>\n",
              "    </tr>\n",
              "  </thead>\n",
              "  <tbody>\n",
              "    <tr>\n",
              "      <th>i</th>\n",
              "      <td>spoonbills</td>\n",
              "      <td>8.0</td>\n",
              "      <td>3</td>\n",
              "      <td>no</td>\n",
              "    </tr>\n",
              "    <tr>\n",
              "      <th>e</th>\n",
              "      <td>spoonbills</td>\n",
              "      <td>6.0</td>\n",
              "      <td>3</td>\n",
              "      <td>no</td>\n",
              "    </tr>\n",
              "    <tr>\n",
              "      <th>g</th>\n",
              "      <td>plovers</td>\n",
              "      <td>5.5</td>\n",
              "      <td>2</td>\n",
              "      <td>no</td>\n",
              "    </tr>\n",
              "    <tr>\n",
              "      <th>j</th>\n",
              "      <td>spoonbills</td>\n",
              "      <td>4.0</td>\n",
              "      <td>2</td>\n",
              "      <td>no</td>\n",
              "    </tr>\n",
              "    <tr>\n",
              "      <th>b</th>\n",
              "      <td>Cranes</td>\n",
              "      <td>4.0</td>\n",
              "      <td>4</td>\n",
              "      <td>yes</td>\n",
              "    </tr>\n",
              "    <tr>\n",
              "      <th>a</th>\n",
              "      <td>Cranes</td>\n",
              "      <td>3.5</td>\n",
              "      <td>2</td>\n",
              "      <td>yes</td>\n",
              "    </tr>\n",
              "    <tr>\n",
              "      <th>f</th>\n",
              "      <td>Cranes</td>\n",
              "      <td>3.0</td>\n",
              "      <td>4</td>\n",
              "      <td>no</td>\n",
              "    </tr>\n",
              "    <tr>\n",
              "      <th>c</th>\n",
              "      <td>plovers</td>\n",
              "      <td>1.5</td>\n",
              "      <td>3</td>\n",
              "      <td>no</td>\n",
              "    </tr>\n",
              "    <tr>\n",
              "      <th>h</th>\n",
              "      <td>Cranes</td>\n",
              "      <td>NaN</td>\n",
              "      <td>2</td>\n",
              "      <td>yes</td>\n",
              "    </tr>\n",
              "    <tr>\n",
              "      <th>d</th>\n",
              "      <td>spoonbills</td>\n",
              "      <td>NaN</td>\n",
              "      <td>4</td>\n",
              "      <td>yes</td>\n",
              "    </tr>\n",
              "  </tbody>\n",
              "</table>\n",
              "</div>\n",
              "    <div class=\"colab-df-buttons\">\n",
              "\n",
              "  <div class=\"colab-df-container\">\n",
              "    <button class=\"colab-df-convert\" onclick=\"convertToInteractive('df-d8320665-c7d3-4d97-b6f0-cfb67229d9ec')\"\n",
              "            title=\"Convert this dataframe to an interactive table.\"\n",
              "            style=\"display:none;\">\n",
              "\n",
              "  <svg xmlns=\"http://www.w3.org/2000/svg\" height=\"24px\" viewBox=\"0 -960 960 960\">\n",
              "    <path d=\"M120-120v-720h720v720H120Zm60-500h600v-160H180v160Zm220 220h160v-160H400v160Zm0 220h160v-160H400v160ZM180-400h160v-160H180v160Zm440 0h160v-160H620v160ZM180-180h160v-160H180v160Zm440 0h160v-160H620v160Z\"/>\n",
              "  </svg>\n",
              "    </button>\n",
              "\n",
              "  <style>\n",
              "    .colab-df-container {\n",
              "      display:flex;\n",
              "      gap: 12px;\n",
              "    }\n",
              "\n",
              "    .colab-df-convert {\n",
              "      background-color: #E8F0FE;\n",
              "      border: none;\n",
              "      border-radius: 50%;\n",
              "      cursor: pointer;\n",
              "      display: none;\n",
              "      fill: #1967D2;\n",
              "      height: 32px;\n",
              "      padding: 0 0 0 0;\n",
              "      width: 32px;\n",
              "    }\n",
              "\n",
              "    .colab-df-convert:hover {\n",
              "      background-color: #E2EBFA;\n",
              "      box-shadow: 0px 1px 2px rgba(60, 64, 67, 0.3), 0px 1px 3px 1px rgba(60, 64, 67, 0.15);\n",
              "      fill: #174EA6;\n",
              "    }\n",
              "\n",
              "    .colab-df-buttons div {\n",
              "      margin-bottom: 4px;\n",
              "    }\n",
              "\n",
              "    [theme=dark] .colab-df-convert {\n",
              "      background-color: #3B4455;\n",
              "      fill: #D2E3FC;\n",
              "    }\n",
              "\n",
              "    [theme=dark] .colab-df-convert:hover {\n",
              "      background-color: #434B5C;\n",
              "      box-shadow: 0px 1px 3px 1px rgba(0, 0, 0, 0.15);\n",
              "      filter: drop-shadow(0px 1px 2px rgba(0, 0, 0, 0.3));\n",
              "      fill: #FFFFFF;\n",
              "    }\n",
              "  </style>\n",
              "\n",
              "    <script>\n",
              "      const buttonEl =\n",
              "        document.querySelector('#df-d8320665-c7d3-4d97-b6f0-cfb67229d9ec button.colab-df-convert');\n",
              "      buttonEl.style.display =\n",
              "        google.colab.kernel.accessAllowed ? 'block' : 'none';\n",
              "\n",
              "      async function convertToInteractive(key) {\n",
              "        const element = document.querySelector('#df-d8320665-c7d3-4d97-b6f0-cfb67229d9ec');\n",
              "        const dataTable =\n",
              "          await google.colab.kernel.invokeFunction('convertToInteractive',\n",
              "                                                    [key], {});\n",
              "        if (!dataTable) return;\n",
              "\n",
              "        const docLinkHtml = 'Like what you see? Visit the ' +\n",
              "          '<a target=\"_blank\" href=https://colab.research.google.com/notebooks/data_table.ipynb>data table notebook</a>'\n",
              "          + ' to learn more about interactive tables.';\n",
              "        element.innerHTML = '';\n",
              "        dataTable['output_type'] = 'display_data';\n",
              "        await google.colab.output.renderOutput(dataTable, element);\n",
              "        const docLink = document.createElement('div');\n",
              "        docLink.innerHTML = docLinkHtml;\n",
              "        element.appendChild(docLink);\n",
              "      }\n",
              "    </script>\n",
              "  </div>\n",
              "\n",
              "\n",
              "<div id=\"df-20e9d2a3-e8ad-4788-bdda-2674b5b2efe2\">\n",
              "  <button class=\"colab-df-quickchart\" onclick=\"quickchart('df-20e9d2a3-e8ad-4788-bdda-2674b5b2efe2')\"\n",
              "            title=\"Suggest charts\"\n",
              "            style=\"display:none;\">\n",
              "\n",
              "<svg xmlns=\"http://www.w3.org/2000/svg\" height=\"24px\"viewBox=\"0 0 24 24\"\n",
              "     width=\"24px\">\n",
              "    <g>\n",
              "        <path d=\"M19 3H5c-1.1 0-2 .9-2 2v14c0 1.1.9 2 2 2h14c1.1 0 2-.9 2-2V5c0-1.1-.9-2-2-2zM9 17H7v-7h2v7zm4 0h-2V7h2v10zm4 0h-2v-4h2v4z\"/>\n",
              "    </g>\n",
              "</svg>\n",
              "  </button>\n",
              "\n",
              "<style>\n",
              "  .colab-df-quickchart {\n",
              "      --bg-color: #E8F0FE;\n",
              "      --fill-color: #1967D2;\n",
              "      --hover-bg-color: #E2EBFA;\n",
              "      --hover-fill-color: #174EA6;\n",
              "      --disabled-fill-color: #AAA;\n",
              "      --disabled-bg-color: #DDD;\n",
              "  }\n",
              "\n",
              "  [theme=dark] .colab-df-quickchart {\n",
              "      --bg-color: #3B4455;\n",
              "      --fill-color: #D2E3FC;\n",
              "      --hover-bg-color: #434B5C;\n",
              "      --hover-fill-color: #FFFFFF;\n",
              "      --disabled-bg-color: #3B4455;\n",
              "      --disabled-fill-color: #666;\n",
              "  }\n",
              "\n",
              "  .colab-df-quickchart {\n",
              "    background-color: var(--bg-color);\n",
              "    border: none;\n",
              "    border-radius: 50%;\n",
              "    cursor: pointer;\n",
              "    display: none;\n",
              "    fill: var(--fill-color);\n",
              "    height: 32px;\n",
              "    padding: 0;\n",
              "    width: 32px;\n",
              "  }\n",
              "\n",
              "  .colab-df-quickchart:hover {\n",
              "    background-color: var(--hover-bg-color);\n",
              "    box-shadow: 0 1px 2px rgba(60, 64, 67, 0.3), 0 1px 3px 1px rgba(60, 64, 67, 0.15);\n",
              "    fill: var(--button-hover-fill-color);\n",
              "  }\n",
              "\n",
              "  .colab-df-quickchart-complete:disabled,\n",
              "  .colab-df-quickchart-complete:disabled:hover {\n",
              "    background-color: var(--disabled-bg-color);\n",
              "    fill: var(--disabled-fill-color);\n",
              "    box-shadow: none;\n",
              "  }\n",
              "\n",
              "  .colab-df-spinner {\n",
              "    border: 2px solid var(--fill-color);\n",
              "    border-color: transparent;\n",
              "    border-bottom-color: var(--fill-color);\n",
              "    animation:\n",
              "      spin 1s steps(1) infinite;\n",
              "  }\n",
              "\n",
              "  @keyframes spin {\n",
              "    0% {\n",
              "      border-color: transparent;\n",
              "      border-bottom-color: var(--fill-color);\n",
              "      border-left-color: var(--fill-color);\n",
              "    }\n",
              "    20% {\n",
              "      border-color: transparent;\n",
              "      border-left-color: var(--fill-color);\n",
              "      border-top-color: var(--fill-color);\n",
              "    }\n",
              "    30% {\n",
              "      border-color: transparent;\n",
              "      border-left-color: var(--fill-color);\n",
              "      border-top-color: var(--fill-color);\n",
              "      border-right-color: var(--fill-color);\n",
              "    }\n",
              "    40% {\n",
              "      border-color: transparent;\n",
              "      border-right-color: var(--fill-color);\n",
              "      border-top-color: var(--fill-color);\n",
              "    }\n",
              "    60% {\n",
              "      border-color: transparent;\n",
              "      border-right-color: var(--fill-color);\n",
              "    }\n",
              "    80% {\n",
              "      border-color: transparent;\n",
              "      border-right-color: var(--fill-color);\n",
              "      border-bottom-color: var(--fill-color);\n",
              "    }\n",
              "    90% {\n",
              "      border-color: transparent;\n",
              "      border-bottom-color: var(--fill-color);\n",
              "    }\n",
              "  }\n",
              "</style>\n",
              "\n",
              "  <script>\n",
              "    async function quickchart(key) {\n",
              "      const quickchartButtonEl =\n",
              "        document.querySelector('#' + key + ' button');\n",
              "      quickchartButtonEl.disabled = true;  // To prevent multiple clicks.\n",
              "      quickchartButtonEl.classList.add('colab-df-spinner');\n",
              "      try {\n",
              "        const charts = await google.colab.kernel.invokeFunction(\n",
              "            'suggestCharts', [key], {});\n",
              "      } catch (error) {\n",
              "        console.error('Error during call to suggestCharts:', error);\n",
              "      }\n",
              "      quickchartButtonEl.classList.remove('colab-df-spinner');\n",
              "      quickchartButtonEl.classList.add('colab-df-quickchart-complete');\n",
              "    }\n",
              "    (() => {\n",
              "      let quickchartButtonEl =\n",
              "        document.querySelector('#df-20e9d2a3-e8ad-4788-bdda-2674b5b2efe2 button');\n",
              "      quickchartButtonEl.style.display =\n",
              "        google.colab.kernel.accessAllowed ? 'block' : 'none';\n",
              "    })();\n",
              "  </script>\n",
              "</div>\n",
              "\n",
              "    </div>\n",
              "  </div>\n"
            ],
            "application/vnd.google.colaboratory.intrinsic+json": {
              "type": "dataframe",
              "summary": "{\n  \"name\": \"birds\",\n  \"rows\": 10,\n  \"fields\": [\n    {\n      \"column\": \"birds\",\n      \"properties\": {\n        \"dtype\": \"category\",\n        \"num_unique_values\": 3,\n        \"samples\": [\n          \"spoonbills\",\n          \"plovers\",\n          \"Cranes\"\n        ],\n        \"semantic_type\": \"\",\n        \"description\": \"\"\n      }\n    },\n    {\n      \"column\": \"age\",\n      \"properties\": {\n        \"dtype\": \"number\",\n        \"std\": 2.0077973005261263,\n        \"min\": 1.5,\n        \"max\": 8.0,\n        \"num_unique_values\": 7,\n        \"samples\": [\n          8.0,\n          6.0,\n          3.0\n        ],\n        \"semantic_type\": \"\",\n        \"description\": \"\"\n      }\n    },\n    {\n      \"column\": \"visits\",\n      \"properties\": {\n        \"dtype\": \"number\",\n        \"std\": 0,\n        \"min\": 2,\n        \"max\": 4,\n        \"num_unique_values\": 3,\n        \"samples\": [\n          3,\n          2,\n          4\n        ],\n        \"semantic_type\": \"\",\n        \"description\": \"\"\n      }\n    },\n    {\n      \"column\": \"priority\",\n      \"properties\": {\n        \"dtype\": \"category\",\n        \"num_unique_values\": 2,\n        \"samples\": [\n          \"yes\",\n          \"no\"\n        ],\n        \"semantic_type\": \"\",\n        \"description\": \"\"\n      }\n    }\n  ]\n}"
            }
          },
          "metadata": {},
          "execution_count": 27
        }
      ]
    },
    {
      "cell_type": "code",
      "source": [
        "#16. In the 'birds' column, change the 'Cranes' entries to 'trumpeters'.\n",
        "birds['birds'] = birds['birds'].replace('Cranes', 'trumpeters')\n",
        "birds"
      ],
      "metadata": {
        "colab": {
          "base_uri": "https://localhost:8080/",
          "height": 363
        },
        "id": "wzf9tCdGC_H9",
        "outputId": "8f25e9da-4d90-4386-d780-cbced68c3998"
      },
      "execution_count": null,
      "outputs": [
        {
          "output_type": "execute_result",
          "data": {
            "text/plain": [
              "        birds  age  visits priority\n",
              "a  trumpeters  3.5       2      yes\n",
              "b  trumpeters  4.0       4      yes\n",
              "c     plovers  1.5       3       no\n",
              "d  spoonbills  NaN       4      yes\n",
              "e  spoonbills  6.0       3       no\n",
              "f  trumpeters  3.0       4       no\n",
              "g     plovers  5.5       2       no\n",
              "h  trumpeters  NaN       2      yes\n",
              "i  spoonbills  8.0       3       no\n",
              "j  spoonbills  4.0       2       no"
            ],
            "text/html": [
              "\n",
              "  <div id=\"df-334d0749-b08e-4b82-8145-887f9429dcae\" class=\"colab-df-container\">\n",
              "    <div>\n",
              "<style scoped>\n",
              "    .dataframe tbody tr th:only-of-type {\n",
              "        vertical-align: middle;\n",
              "    }\n",
              "\n",
              "    .dataframe tbody tr th {\n",
              "        vertical-align: top;\n",
              "    }\n",
              "\n",
              "    .dataframe thead th {\n",
              "        text-align: right;\n",
              "    }\n",
              "</style>\n",
              "<table border=\"1\" class=\"dataframe\">\n",
              "  <thead>\n",
              "    <tr style=\"text-align: right;\">\n",
              "      <th></th>\n",
              "      <th>birds</th>\n",
              "      <th>age</th>\n",
              "      <th>visits</th>\n",
              "      <th>priority</th>\n",
              "    </tr>\n",
              "  </thead>\n",
              "  <tbody>\n",
              "    <tr>\n",
              "      <th>a</th>\n",
              "      <td>trumpeters</td>\n",
              "      <td>3.5</td>\n",
              "      <td>2</td>\n",
              "      <td>yes</td>\n",
              "    </tr>\n",
              "    <tr>\n",
              "      <th>b</th>\n",
              "      <td>trumpeters</td>\n",
              "      <td>4.0</td>\n",
              "      <td>4</td>\n",
              "      <td>yes</td>\n",
              "    </tr>\n",
              "    <tr>\n",
              "      <th>c</th>\n",
              "      <td>plovers</td>\n",
              "      <td>1.5</td>\n",
              "      <td>3</td>\n",
              "      <td>no</td>\n",
              "    </tr>\n",
              "    <tr>\n",
              "      <th>d</th>\n",
              "      <td>spoonbills</td>\n",
              "      <td>NaN</td>\n",
              "      <td>4</td>\n",
              "      <td>yes</td>\n",
              "    </tr>\n",
              "    <tr>\n",
              "      <th>e</th>\n",
              "      <td>spoonbills</td>\n",
              "      <td>6.0</td>\n",
              "      <td>3</td>\n",
              "      <td>no</td>\n",
              "    </tr>\n",
              "    <tr>\n",
              "      <th>f</th>\n",
              "      <td>trumpeters</td>\n",
              "      <td>3.0</td>\n",
              "      <td>4</td>\n",
              "      <td>no</td>\n",
              "    </tr>\n",
              "    <tr>\n",
              "      <th>g</th>\n",
              "      <td>plovers</td>\n",
              "      <td>5.5</td>\n",
              "      <td>2</td>\n",
              "      <td>no</td>\n",
              "    </tr>\n",
              "    <tr>\n",
              "      <th>h</th>\n",
              "      <td>trumpeters</td>\n",
              "      <td>NaN</td>\n",
              "      <td>2</td>\n",
              "      <td>yes</td>\n",
              "    </tr>\n",
              "    <tr>\n",
              "      <th>i</th>\n",
              "      <td>spoonbills</td>\n",
              "      <td>8.0</td>\n",
              "      <td>3</td>\n",
              "      <td>no</td>\n",
              "    </tr>\n",
              "    <tr>\n",
              "      <th>j</th>\n",
              "      <td>spoonbills</td>\n",
              "      <td>4.0</td>\n",
              "      <td>2</td>\n",
              "      <td>no</td>\n",
              "    </tr>\n",
              "  </tbody>\n",
              "</table>\n",
              "</div>\n",
              "    <div class=\"colab-df-buttons\">\n",
              "\n",
              "  <div class=\"colab-df-container\">\n",
              "    <button class=\"colab-df-convert\" onclick=\"convertToInteractive('df-334d0749-b08e-4b82-8145-887f9429dcae')\"\n",
              "            title=\"Convert this dataframe to an interactive table.\"\n",
              "            style=\"display:none;\">\n",
              "\n",
              "  <svg xmlns=\"http://www.w3.org/2000/svg\" height=\"24px\" viewBox=\"0 -960 960 960\">\n",
              "    <path d=\"M120-120v-720h720v720H120Zm60-500h600v-160H180v160Zm220 220h160v-160H400v160Zm0 220h160v-160H400v160ZM180-400h160v-160H180v160Zm440 0h160v-160H620v160ZM180-180h160v-160H180v160Zm440 0h160v-160H620v160Z\"/>\n",
              "  </svg>\n",
              "    </button>\n",
              "\n",
              "  <style>\n",
              "    .colab-df-container {\n",
              "      display:flex;\n",
              "      gap: 12px;\n",
              "    }\n",
              "\n",
              "    .colab-df-convert {\n",
              "      background-color: #E8F0FE;\n",
              "      border: none;\n",
              "      border-radius: 50%;\n",
              "      cursor: pointer;\n",
              "      display: none;\n",
              "      fill: #1967D2;\n",
              "      height: 32px;\n",
              "      padding: 0 0 0 0;\n",
              "      width: 32px;\n",
              "    }\n",
              "\n",
              "    .colab-df-convert:hover {\n",
              "      background-color: #E2EBFA;\n",
              "      box-shadow: 0px 1px 2px rgba(60, 64, 67, 0.3), 0px 1px 3px 1px rgba(60, 64, 67, 0.15);\n",
              "      fill: #174EA6;\n",
              "    }\n",
              "\n",
              "    .colab-df-buttons div {\n",
              "      margin-bottom: 4px;\n",
              "    }\n",
              "\n",
              "    [theme=dark] .colab-df-convert {\n",
              "      background-color: #3B4455;\n",
              "      fill: #D2E3FC;\n",
              "    }\n",
              "\n",
              "    [theme=dark] .colab-df-convert:hover {\n",
              "      background-color: #434B5C;\n",
              "      box-shadow: 0px 1px 3px 1px rgba(0, 0, 0, 0.15);\n",
              "      filter: drop-shadow(0px 1px 2px rgba(0, 0, 0, 0.3));\n",
              "      fill: #FFFFFF;\n",
              "    }\n",
              "  </style>\n",
              "\n",
              "    <script>\n",
              "      const buttonEl =\n",
              "        document.querySelector('#df-334d0749-b08e-4b82-8145-887f9429dcae button.colab-df-convert');\n",
              "      buttonEl.style.display =\n",
              "        google.colab.kernel.accessAllowed ? 'block' : 'none';\n",
              "\n",
              "      async function convertToInteractive(key) {\n",
              "        const element = document.querySelector('#df-334d0749-b08e-4b82-8145-887f9429dcae');\n",
              "        const dataTable =\n",
              "          await google.colab.kernel.invokeFunction('convertToInteractive',\n",
              "                                                    [key], {});\n",
              "        if (!dataTable) return;\n",
              "\n",
              "        const docLinkHtml = 'Like what you see? Visit the ' +\n",
              "          '<a target=\"_blank\" href=https://colab.research.google.com/notebooks/data_table.ipynb>data table notebook</a>'\n",
              "          + ' to learn more about interactive tables.';\n",
              "        element.innerHTML = '';\n",
              "        dataTable['output_type'] = 'display_data';\n",
              "        await google.colab.output.renderOutput(dataTable, element);\n",
              "        const docLink = document.createElement('div');\n",
              "        docLink.innerHTML = docLinkHtml;\n",
              "        element.appendChild(docLink);\n",
              "      }\n",
              "    </script>\n",
              "  </div>\n",
              "\n",
              "\n",
              "<div id=\"df-6eaaf3a3-8a86-44bc-babb-b893c0b2dccc\">\n",
              "  <button class=\"colab-df-quickchart\" onclick=\"quickchart('df-6eaaf3a3-8a86-44bc-babb-b893c0b2dccc')\"\n",
              "            title=\"Suggest charts\"\n",
              "            style=\"display:none;\">\n",
              "\n",
              "<svg xmlns=\"http://www.w3.org/2000/svg\" height=\"24px\"viewBox=\"0 0 24 24\"\n",
              "     width=\"24px\">\n",
              "    <g>\n",
              "        <path d=\"M19 3H5c-1.1 0-2 .9-2 2v14c0 1.1.9 2 2 2h14c1.1 0 2-.9 2-2V5c0-1.1-.9-2-2-2zM9 17H7v-7h2v7zm4 0h-2V7h2v10zm4 0h-2v-4h2v4z\"/>\n",
              "    </g>\n",
              "</svg>\n",
              "  </button>\n",
              "\n",
              "<style>\n",
              "  .colab-df-quickchart {\n",
              "      --bg-color: #E8F0FE;\n",
              "      --fill-color: #1967D2;\n",
              "      --hover-bg-color: #E2EBFA;\n",
              "      --hover-fill-color: #174EA6;\n",
              "      --disabled-fill-color: #AAA;\n",
              "      --disabled-bg-color: #DDD;\n",
              "  }\n",
              "\n",
              "  [theme=dark] .colab-df-quickchart {\n",
              "      --bg-color: #3B4455;\n",
              "      --fill-color: #D2E3FC;\n",
              "      --hover-bg-color: #434B5C;\n",
              "      --hover-fill-color: #FFFFFF;\n",
              "      --disabled-bg-color: #3B4455;\n",
              "      --disabled-fill-color: #666;\n",
              "  }\n",
              "\n",
              "  .colab-df-quickchart {\n",
              "    background-color: var(--bg-color);\n",
              "    border: none;\n",
              "    border-radius: 50%;\n",
              "    cursor: pointer;\n",
              "    display: none;\n",
              "    fill: var(--fill-color);\n",
              "    height: 32px;\n",
              "    padding: 0;\n",
              "    width: 32px;\n",
              "  }\n",
              "\n",
              "  .colab-df-quickchart:hover {\n",
              "    background-color: var(--hover-bg-color);\n",
              "    box-shadow: 0 1px 2px rgba(60, 64, 67, 0.3), 0 1px 3px 1px rgba(60, 64, 67, 0.15);\n",
              "    fill: var(--button-hover-fill-color);\n",
              "  }\n",
              "\n",
              "  .colab-df-quickchart-complete:disabled,\n",
              "  .colab-df-quickchart-complete:disabled:hover {\n",
              "    background-color: var(--disabled-bg-color);\n",
              "    fill: var(--disabled-fill-color);\n",
              "    box-shadow: none;\n",
              "  }\n",
              "\n",
              "  .colab-df-spinner {\n",
              "    border: 2px solid var(--fill-color);\n",
              "    border-color: transparent;\n",
              "    border-bottom-color: var(--fill-color);\n",
              "    animation:\n",
              "      spin 1s steps(1) infinite;\n",
              "  }\n",
              "\n",
              "  @keyframes spin {\n",
              "    0% {\n",
              "      border-color: transparent;\n",
              "      border-bottom-color: var(--fill-color);\n",
              "      border-left-color: var(--fill-color);\n",
              "    }\n",
              "    20% {\n",
              "      border-color: transparent;\n",
              "      border-left-color: var(--fill-color);\n",
              "      border-top-color: var(--fill-color);\n",
              "    }\n",
              "    30% {\n",
              "      border-color: transparent;\n",
              "      border-left-color: var(--fill-color);\n",
              "      border-top-color: var(--fill-color);\n",
              "      border-right-color: var(--fill-color);\n",
              "    }\n",
              "    40% {\n",
              "      border-color: transparent;\n",
              "      border-right-color: var(--fill-color);\n",
              "      border-top-color: var(--fill-color);\n",
              "    }\n",
              "    60% {\n",
              "      border-color: transparent;\n",
              "      border-right-color: var(--fill-color);\n",
              "    }\n",
              "    80% {\n",
              "      border-color: transparent;\n",
              "      border-right-color: var(--fill-color);\n",
              "      border-bottom-color: var(--fill-color);\n",
              "    }\n",
              "    90% {\n",
              "      border-color: transparent;\n",
              "      border-bottom-color: var(--fill-color);\n",
              "    }\n",
              "  }\n",
              "</style>\n",
              "\n",
              "  <script>\n",
              "    async function quickchart(key) {\n",
              "      const quickchartButtonEl =\n",
              "        document.querySelector('#' + key + ' button');\n",
              "      quickchartButtonEl.disabled = true;  // To prevent multiple clicks.\n",
              "      quickchartButtonEl.classList.add('colab-df-spinner');\n",
              "      try {\n",
              "        const charts = await google.colab.kernel.invokeFunction(\n",
              "            'suggestCharts', [key], {});\n",
              "      } catch (error) {\n",
              "        console.error('Error during call to suggestCharts:', error);\n",
              "      }\n",
              "      quickchartButtonEl.classList.remove('colab-df-spinner');\n",
              "      quickchartButtonEl.classList.add('colab-df-quickchart-complete');\n",
              "    }\n",
              "    (() => {\n",
              "      let quickchartButtonEl =\n",
              "        document.querySelector('#df-6eaaf3a3-8a86-44bc-babb-b893c0b2dccc button');\n",
              "      quickchartButtonEl.style.display =\n",
              "        google.colab.kernel.accessAllowed ? 'block' : 'none';\n",
              "    })();\n",
              "  </script>\n",
              "</div>\n",
              "\n",
              "  <div id=\"id_794a6df6-1a23-498d-a2e8-59cb112205ce\">\n",
              "    <style>\n",
              "      .colab-df-generate {\n",
              "        background-color: #E8F0FE;\n",
              "        border: none;\n",
              "        border-radius: 50%;\n",
              "        cursor: pointer;\n",
              "        display: none;\n",
              "        fill: #1967D2;\n",
              "        height: 32px;\n",
              "        padding: 0 0 0 0;\n",
              "        width: 32px;\n",
              "      }\n",
              "\n",
              "      .colab-df-generate:hover {\n",
              "        background-color: #E2EBFA;\n",
              "        box-shadow: 0px 1px 2px rgba(60, 64, 67, 0.3), 0px 1px 3px 1px rgba(60, 64, 67, 0.15);\n",
              "        fill: #174EA6;\n",
              "      }\n",
              "\n",
              "      [theme=dark] .colab-df-generate {\n",
              "        background-color: #3B4455;\n",
              "        fill: #D2E3FC;\n",
              "      }\n",
              "\n",
              "      [theme=dark] .colab-df-generate:hover {\n",
              "        background-color: #434B5C;\n",
              "        box-shadow: 0px 1px 3px 1px rgba(0, 0, 0, 0.15);\n",
              "        filter: drop-shadow(0px 1px 2px rgba(0, 0, 0, 0.3));\n",
              "        fill: #FFFFFF;\n",
              "      }\n",
              "    </style>\n",
              "    <button class=\"colab-df-generate\" onclick=\"generateWithVariable('birds')\"\n",
              "            title=\"Generate code using this dataframe.\"\n",
              "            style=\"display:none;\">\n",
              "\n",
              "  <svg xmlns=\"http://www.w3.org/2000/svg\" height=\"24px\"viewBox=\"0 0 24 24\"\n",
              "       width=\"24px\">\n",
              "    <path d=\"M7,19H8.4L18.45,9,17,7.55,7,17.6ZM5,21V16.75L18.45,3.32a2,2,0,0,1,2.83,0l1.4,1.43a1.91,1.91,0,0,1,.58,1.4,1.91,1.91,0,0,1-.58,1.4L9.25,21ZM18.45,9,17,7.55Zm-12,3A5.31,5.31,0,0,0,4.9,8.1,5.31,5.31,0,0,0,1,6.5,5.31,5.31,0,0,0,4.9,4.9,5.31,5.31,0,0,0,6.5,1,5.31,5.31,0,0,0,8.1,4.9,5.31,5.31,0,0,0,12,6.5,5.46,5.46,0,0,0,6.5,12Z\"/>\n",
              "  </svg>\n",
              "    </button>\n",
              "    <script>\n",
              "      (() => {\n",
              "      const buttonEl =\n",
              "        document.querySelector('#id_794a6df6-1a23-498d-a2e8-59cb112205ce button.colab-df-generate');\n",
              "      buttonEl.style.display =\n",
              "        google.colab.kernel.accessAllowed ? 'block' : 'none';\n",
              "\n",
              "      buttonEl.onclick = () => {\n",
              "        google.colab.notebook.generateWithVariable('birds');\n",
              "      }\n",
              "      })();\n",
              "    </script>\n",
              "  </div>\n",
              "\n",
              "    </div>\n",
              "  </div>\n"
            ],
            "application/vnd.google.colaboratory.intrinsic+json": {
              "type": "dataframe",
              "variable_name": "birds",
              "summary": "{\n  \"name\": \"birds\",\n  \"rows\": 10,\n  \"fields\": [\n    {\n      \"column\": \"birds\",\n      \"properties\": {\n        \"dtype\": \"category\",\n        \"num_unique_values\": 3,\n        \"samples\": [\n          \"trumpeters\",\n          \"plovers\",\n          \"spoonbills\"\n        ],\n        \"semantic_type\": \"\",\n        \"description\": \"\"\n      }\n    },\n    {\n      \"column\": \"age\",\n      \"properties\": {\n        \"dtype\": \"number\",\n        \"std\": 2.0077973005261263,\n        \"min\": 1.5,\n        \"max\": 8.0,\n        \"num_unique_values\": 7,\n        \"samples\": [\n          3.5,\n          4.0,\n          5.5\n        ],\n        \"semantic_type\": \"\",\n        \"description\": \"\"\n      }\n    },\n    {\n      \"column\": \"visits\",\n      \"properties\": {\n        \"dtype\": \"number\",\n        \"std\": 0,\n        \"min\": 2,\n        \"max\": 4,\n        \"num_unique_values\": 3,\n        \"samples\": [\n          2,\n          4,\n          3\n        ],\n        \"semantic_type\": \"\",\n        \"description\": \"\"\n      }\n    },\n    {\n      \"column\": \"priority\",\n      \"properties\": {\n        \"dtype\": \"category\",\n        \"num_unique_values\": 2,\n        \"samples\": [\n          \"no\",\n          \"yes\"\n        ],\n        \"semantic_type\": \"\",\n        \"description\": \"\"\n      }\n    }\n  ]\n}"
            }
          },
          "metadata": {},
          "execution_count": 28
        }
      ]
    },
    {
      "cell_type": "code",
      "source": [
        "#15. Replace the priority column values with'yes' should be 1 and 'no' should be 0\n",
        "birds['priority'] = birds['priority'].replace({'yes': 1, 'no': 0})\n",
        "birds"
      ],
      "metadata": {
        "colab": {
          "base_uri": "https://localhost:8080/",
          "height": 363
        },
        "id": "qm7X5i5cDSq1",
        "outputId": "56077313-58ea-497a-b4c5-93bdb30dd34a"
      },
      "execution_count": null,
      "outputs": [
        {
          "output_type": "execute_result",
          "data": {
            "text/plain": [
              "        birds  age  visits  priority\n",
              "a  trumpeters  3.5       2         1\n",
              "b  trumpeters  4.0       4         1\n",
              "c     plovers  1.5       3         0\n",
              "d  spoonbills  NaN       4         1\n",
              "e  spoonbills  6.0       3         0\n",
              "f  trumpeters  3.0       4         0\n",
              "g     plovers  5.5       2         0\n",
              "h  trumpeters  NaN       2         1\n",
              "i  spoonbills  8.0       3         0\n",
              "j  spoonbills  4.0       2         0"
            ],
            "text/html": [
              "\n",
              "  <div id=\"df-e6197e40-62a7-413a-9b20-98c307446de1\" class=\"colab-df-container\">\n",
              "    <div>\n",
              "<style scoped>\n",
              "    .dataframe tbody tr th:only-of-type {\n",
              "        vertical-align: middle;\n",
              "    }\n",
              "\n",
              "    .dataframe tbody tr th {\n",
              "        vertical-align: top;\n",
              "    }\n",
              "\n",
              "    .dataframe thead th {\n",
              "        text-align: right;\n",
              "    }\n",
              "</style>\n",
              "<table border=\"1\" class=\"dataframe\">\n",
              "  <thead>\n",
              "    <tr style=\"text-align: right;\">\n",
              "      <th></th>\n",
              "      <th>birds</th>\n",
              "      <th>age</th>\n",
              "      <th>visits</th>\n",
              "      <th>priority</th>\n",
              "    </tr>\n",
              "  </thead>\n",
              "  <tbody>\n",
              "    <tr>\n",
              "      <th>a</th>\n",
              "      <td>trumpeters</td>\n",
              "      <td>3.5</td>\n",
              "      <td>2</td>\n",
              "      <td>1</td>\n",
              "    </tr>\n",
              "    <tr>\n",
              "      <th>b</th>\n",
              "      <td>trumpeters</td>\n",
              "      <td>4.0</td>\n",
              "      <td>4</td>\n",
              "      <td>1</td>\n",
              "    </tr>\n",
              "    <tr>\n",
              "      <th>c</th>\n",
              "      <td>plovers</td>\n",
              "      <td>1.5</td>\n",
              "      <td>3</td>\n",
              "      <td>0</td>\n",
              "    </tr>\n",
              "    <tr>\n",
              "      <th>d</th>\n",
              "      <td>spoonbills</td>\n",
              "      <td>NaN</td>\n",
              "      <td>4</td>\n",
              "      <td>1</td>\n",
              "    </tr>\n",
              "    <tr>\n",
              "      <th>e</th>\n",
              "      <td>spoonbills</td>\n",
              "      <td>6.0</td>\n",
              "      <td>3</td>\n",
              "      <td>0</td>\n",
              "    </tr>\n",
              "    <tr>\n",
              "      <th>f</th>\n",
              "      <td>trumpeters</td>\n",
              "      <td>3.0</td>\n",
              "      <td>4</td>\n",
              "      <td>0</td>\n",
              "    </tr>\n",
              "    <tr>\n",
              "      <th>g</th>\n",
              "      <td>plovers</td>\n",
              "      <td>5.5</td>\n",
              "      <td>2</td>\n",
              "      <td>0</td>\n",
              "    </tr>\n",
              "    <tr>\n",
              "      <th>h</th>\n",
              "      <td>trumpeters</td>\n",
              "      <td>NaN</td>\n",
              "      <td>2</td>\n",
              "      <td>1</td>\n",
              "    </tr>\n",
              "    <tr>\n",
              "      <th>i</th>\n",
              "      <td>spoonbills</td>\n",
              "      <td>8.0</td>\n",
              "      <td>3</td>\n",
              "      <td>0</td>\n",
              "    </tr>\n",
              "    <tr>\n",
              "      <th>j</th>\n",
              "      <td>spoonbills</td>\n",
              "      <td>4.0</td>\n",
              "      <td>2</td>\n",
              "      <td>0</td>\n",
              "    </tr>\n",
              "  </tbody>\n",
              "</table>\n",
              "</div>\n",
              "    <div class=\"colab-df-buttons\">\n",
              "\n",
              "  <div class=\"colab-df-container\">\n",
              "    <button class=\"colab-df-convert\" onclick=\"convertToInteractive('df-e6197e40-62a7-413a-9b20-98c307446de1')\"\n",
              "            title=\"Convert this dataframe to an interactive table.\"\n",
              "            style=\"display:none;\">\n",
              "\n",
              "  <svg xmlns=\"http://www.w3.org/2000/svg\" height=\"24px\" viewBox=\"0 -960 960 960\">\n",
              "    <path d=\"M120-120v-720h720v720H120Zm60-500h600v-160H180v160Zm220 220h160v-160H400v160Zm0 220h160v-160H400v160ZM180-400h160v-160H180v160Zm440 0h160v-160H620v160ZM180-180h160v-160H180v160Zm440 0h160v-160H620v160Z\"/>\n",
              "  </svg>\n",
              "    </button>\n",
              "\n",
              "  <style>\n",
              "    .colab-df-container {\n",
              "      display:flex;\n",
              "      gap: 12px;\n",
              "    }\n",
              "\n",
              "    .colab-df-convert {\n",
              "      background-color: #E8F0FE;\n",
              "      border: none;\n",
              "      border-radius: 50%;\n",
              "      cursor: pointer;\n",
              "      display: none;\n",
              "      fill: #1967D2;\n",
              "      height: 32px;\n",
              "      padding: 0 0 0 0;\n",
              "      width: 32px;\n",
              "    }\n",
              "\n",
              "    .colab-df-convert:hover {\n",
              "      background-color: #E2EBFA;\n",
              "      box-shadow: 0px 1px 2px rgba(60, 64, 67, 0.3), 0px 1px 3px 1px rgba(60, 64, 67, 0.15);\n",
              "      fill: #174EA6;\n",
              "    }\n",
              "\n",
              "    .colab-df-buttons div {\n",
              "      margin-bottom: 4px;\n",
              "    }\n",
              "\n",
              "    [theme=dark] .colab-df-convert {\n",
              "      background-color: #3B4455;\n",
              "      fill: #D2E3FC;\n",
              "    }\n",
              "\n",
              "    [theme=dark] .colab-df-convert:hover {\n",
              "      background-color: #434B5C;\n",
              "      box-shadow: 0px 1px 3px 1px rgba(0, 0, 0, 0.15);\n",
              "      filter: drop-shadow(0px 1px 2px rgba(0, 0, 0, 0.3));\n",
              "      fill: #FFFFFF;\n",
              "    }\n",
              "  </style>\n",
              "\n",
              "    <script>\n",
              "      const buttonEl =\n",
              "        document.querySelector('#df-e6197e40-62a7-413a-9b20-98c307446de1 button.colab-df-convert');\n",
              "      buttonEl.style.display =\n",
              "        google.colab.kernel.accessAllowed ? 'block' : 'none';\n",
              "\n",
              "      async function convertToInteractive(key) {\n",
              "        const element = document.querySelector('#df-e6197e40-62a7-413a-9b20-98c307446de1');\n",
              "        const dataTable =\n",
              "          await google.colab.kernel.invokeFunction('convertToInteractive',\n",
              "                                                    [key], {});\n",
              "        if (!dataTable) return;\n",
              "\n",
              "        const docLinkHtml = 'Like what you see? Visit the ' +\n",
              "          '<a target=\"_blank\" href=https://colab.research.google.com/notebooks/data_table.ipynb>data table notebook</a>'\n",
              "          + ' to learn more about interactive tables.';\n",
              "        element.innerHTML = '';\n",
              "        dataTable['output_type'] = 'display_data';\n",
              "        await google.colab.output.renderOutput(dataTable, element);\n",
              "        const docLink = document.createElement('div');\n",
              "        docLink.innerHTML = docLinkHtml;\n",
              "        element.appendChild(docLink);\n",
              "      }\n",
              "    </script>\n",
              "  </div>\n",
              "\n",
              "\n",
              "<div id=\"df-9f955a2f-6de5-4a0b-a36e-a7b8806b8af5\">\n",
              "  <button class=\"colab-df-quickchart\" onclick=\"quickchart('df-9f955a2f-6de5-4a0b-a36e-a7b8806b8af5')\"\n",
              "            title=\"Suggest charts\"\n",
              "            style=\"display:none;\">\n",
              "\n",
              "<svg xmlns=\"http://www.w3.org/2000/svg\" height=\"24px\"viewBox=\"0 0 24 24\"\n",
              "     width=\"24px\">\n",
              "    <g>\n",
              "        <path d=\"M19 3H5c-1.1 0-2 .9-2 2v14c0 1.1.9 2 2 2h14c1.1 0 2-.9 2-2V5c0-1.1-.9-2-2-2zM9 17H7v-7h2v7zm4 0h-2V7h2v10zm4 0h-2v-4h2v4z\"/>\n",
              "    </g>\n",
              "</svg>\n",
              "  </button>\n",
              "\n",
              "<style>\n",
              "  .colab-df-quickchart {\n",
              "      --bg-color: #E8F0FE;\n",
              "      --fill-color: #1967D2;\n",
              "      --hover-bg-color: #E2EBFA;\n",
              "      --hover-fill-color: #174EA6;\n",
              "      --disabled-fill-color: #AAA;\n",
              "      --disabled-bg-color: #DDD;\n",
              "  }\n",
              "\n",
              "  [theme=dark] .colab-df-quickchart {\n",
              "      --bg-color: #3B4455;\n",
              "      --fill-color: #D2E3FC;\n",
              "      --hover-bg-color: #434B5C;\n",
              "      --hover-fill-color: #FFFFFF;\n",
              "      --disabled-bg-color: #3B4455;\n",
              "      --disabled-fill-color: #666;\n",
              "  }\n",
              "\n",
              "  .colab-df-quickchart {\n",
              "    background-color: var(--bg-color);\n",
              "    border: none;\n",
              "    border-radius: 50%;\n",
              "    cursor: pointer;\n",
              "    display: none;\n",
              "    fill: var(--fill-color);\n",
              "    height: 32px;\n",
              "    padding: 0;\n",
              "    width: 32px;\n",
              "  }\n",
              "\n",
              "  .colab-df-quickchart:hover {\n",
              "    background-color: var(--hover-bg-color);\n",
              "    box-shadow: 0 1px 2px rgba(60, 64, 67, 0.3), 0 1px 3px 1px rgba(60, 64, 67, 0.15);\n",
              "    fill: var(--button-hover-fill-color);\n",
              "  }\n",
              "\n",
              "  .colab-df-quickchart-complete:disabled,\n",
              "  .colab-df-quickchart-complete:disabled:hover {\n",
              "    background-color: var(--disabled-bg-color);\n",
              "    fill: var(--disabled-fill-color);\n",
              "    box-shadow: none;\n",
              "  }\n",
              "\n",
              "  .colab-df-spinner {\n",
              "    border: 2px solid var(--fill-color);\n",
              "    border-color: transparent;\n",
              "    border-bottom-color: var(--fill-color);\n",
              "    animation:\n",
              "      spin 1s steps(1) infinite;\n",
              "  }\n",
              "\n",
              "  @keyframes spin {\n",
              "    0% {\n",
              "      border-color: transparent;\n",
              "      border-bottom-color: var(--fill-color);\n",
              "      border-left-color: var(--fill-color);\n",
              "    }\n",
              "    20% {\n",
              "      border-color: transparent;\n",
              "      border-left-color: var(--fill-color);\n",
              "      border-top-color: var(--fill-color);\n",
              "    }\n",
              "    30% {\n",
              "      border-color: transparent;\n",
              "      border-left-color: var(--fill-color);\n",
              "      border-top-color: var(--fill-color);\n",
              "      border-right-color: var(--fill-color);\n",
              "    }\n",
              "    40% {\n",
              "      border-color: transparent;\n",
              "      border-right-color: var(--fill-color);\n",
              "      border-top-color: var(--fill-color);\n",
              "    }\n",
              "    60% {\n",
              "      border-color: transparent;\n",
              "      border-right-color: var(--fill-color);\n",
              "    }\n",
              "    80% {\n",
              "      border-color: transparent;\n",
              "      border-right-color: var(--fill-color);\n",
              "      border-bottom-color: var(--fill-color);\n",
              "    }\n",
              "    90% {\n",
              "      border-color: transparent;\n",
              "      border-bottom-color: var(--fill-color);\n",
              "    }\n",
              "  }\n",
              "</style>\n",
              "\n",
              "  <script>\n",
              "    async function quickchart(key) {\n",
              "      const quickchartButtonEl =\n",
              "        document.querySelector('#' + key + ' button');\n",
              "      quickchartButtonEl.disabled = true;  // To prevent multiple clicks.\n",
              "      quickchartButtonEl.classList.add('colab-df-spinner');\n",
              "      try {\n",
              "        const charts = await google.colab.kernel.invokeFunction(\n",
              "            'suggestCharts', [key], {});\n",
              "      } catch (error) {\n",
              "        console.error('Error during call to suggestCharts:', error);\n",
              "      }\n",
              "      quickchartButtonEl.classList.remove('colab-df-spinner');\n",
              "      quickchartButtonEl.classList.add('colab-df-quickchart-complete');\n",
              "    }\n",
              "    (() => {\n",
              "      let quickchartButtonEl =\n",
              "        document.querySelector('#df-9f955a2f-6de5-4a0b-a36e-a7b8806b8af5 button');\n",
              "      quickchartButtonEl.style.display =\n",
              "        google.colab.kernel.accessAllowed ? 'block' : 'none';\n",
              "    })();\n",
              "  </script>\n",
              "</div>\n",
              "\n",
              "  <div id=\"id_12b23b01-ad5b-4a6d-9147-8c77fa9ae582\">\n",
              "    <style>\n",
              "      .colab-df-generate {\n",
              "        background-color: #E8F0FE;\n",
              "        border: none;\n",
              "        border-radius: 50%;\n",
              "        cursor: pointer;\n",
              "        display: none;\n",
              "        fill: #1967D2;\n",
              "        height: 32px;\n",
              "        padding: 0 0 0 0;\n",
              "        width: 32px;\n",
              "      }\n",
              "\n",
              "      .colab-df-generate:hover {\n",
              "        background-color: #E2EBFA;\n",
              "        box-shadow: 0px 1px 2px rgba(60, 64, 67, 0.3), 0px 1px 3px 1px rgba(60, 64, 67, 0.15);\n",
              "        fill: #174EA6;\n",
              "      }\n",
              "\n",
              "      [theme=dark] .colab-df-generate {\n",
              "        background-color: #3B4455;\n",
              "        fill: #D2E3FC;\n",
              "      }\n",
              "\n",
              "      [theme=dark] .colab-df-generate:hover {\n",
              "        background-color: #434B5C;\n",
              "        box-shadow: 0px 1px 3px 1px rgba(0, 0, 0, 0.15);\n",
              "        filter: drop-shadow(0px 1px 2px rgba(0, 0, 0, 0.3));\n",
              "        fill: #FFFFFF;\n",
              "      }\n",
              "    </style>\n",
              "    <button class=\"colab-df-generate\" onclick=\"generateWithVariable('birds')\"\n",
              "            title=\"Generate code using this dataframe.\"\n",
              "            style=\"display:none;\">\n",
              "\n",
              "  <svg xmlns=\"http://www.w3.org/2000/svg\" height=\"24px\"viewBox=\"0 0 24 24\"\n",
              "       width=\"24px\">\n",
              "    <path d=\"M7,19H8.4L18.45,9,17,7.55,7,17.6ZM5,21V16.75L18.45,3.32a2,2,0,0,1,2.83,0l1.4,1.43a1.91,1.91,0,0,1,.58,1.4,1.91,1.91,0,0,1-.58,1.4L9.25,21ZM18.45,9,17,7.55Zm-12,3A5.31,5.31,0,0,0,4.9,8.1,5.31,5.31,0,0,0,1,6.5,5.31,5.31,0,0,0,4.9,4.9,5.31,5.31,0,0,0,6.5,1,5.31,5.31,0,0,0,8.1,4.9,5.31,5.31,0,0,0,12,6.5,5.46,5.46,0,0,0,6.5,12Z\"/>\n",
              "  </svg>\n",
              "    </button>\n",
              "    <script>\n",
              "      (() => {\n",
              "      const buttonEl =\n",
              "        document.querySelector('#id_12b23b01-ad5b-4a6d-9147-8c77fa9ae582 button.colab-df-generate');\n",
              "      buttonEl.style.display =\n",
              "        google.colab.kernel.accessAllowed ? 'block' : 'none';\n",
              "\n",
              "      buttonEl.onclick = () => {\n",
              "        google.colab.notebook.generateWithVariable('birds');\n",
              "      }\n",
              "      })();\n",
              "    </script>\n",
              "  </div>\n",
              "\n",
              "    </div>\n",
              "  </div>\n"
            ],
            "application/vnd.google.colaboratory.intrinsic+json": {
              "type": "dataframe",
              "variable_name": "birds",
              "summary": "{\n  \"name\": \"birds\",\n  \"rows\": 10,\n  \"fields\": [\n    {\n      \"column\": \"birds\",\n      \"properties\": {\n        \"dtype\": \"category\",\n        \"num_unique_values\": 3,\n        \"samples\": [\n          \"trumpeters\",\n          \"plovers\",\n          \"spoonbills\"\n        ],\n        \"semantic_type\": \"\",\n        \"description\": \"\"\n      }\n    },\n    {\n      \"column\": \"age\",\n      \"properties\": {\n        \"dtype\": \"number\",\n        \"std\": 2.0077973005261263,\n        \"min\": 1.5,\n        \"max\": 8.0,\n        \"num_unique_values\": 7,\n        \"samples\": [\n          3.5,\n          4.0,\n          5.5\n        ],\n        \"semantic_type\": \"\",\n        \"description\": \"\"\n      }\n    },\n    {\n      \"column\": \"visits\",\n      \"properties\": {\n        \"dtype\": \"number\",\n        \"std\": 0,\n        \"min\": 2,\n        \"max\": 4,\n        \"num_unique_values\": 3,\n        \"samples\": [\n          2,\n          4,\n          3\n        ],\n        \"semantic_type\": \"\",\n        \"description\": \"\"\n      }\n    },\n    {\n      \"column\": \"priority\",\n      \"properties\": {\n        \"dtype\": \"number\",\n        \"std\": 0,\n        \"min\": 0,\n        \"max\": 1,\n        \"num_unique_values\": 2,\n        \"samples\": [\n          0,\n          1\n        ],\n        \"semantic_type\": \"\",\n        \"description\": \"\"\n      }\n    }\n  ]\n}"
            }
          },
          "metadata": {},
          "execution_count": 29
        }
      ]
    },
    {
      "cell_type": "code",
      "source": [],
      "metadata": {
        "id": "hs49wuTPDZWJ"
      },
      "execution_count": null,
      "outputs": []
    }
  ],
  "metadata": {
    "colab": {
      "provenance": []
    },
    "kernelspec": {
      "display_name": "Python 3",
      "name": "python3"
    },
    "language_info": {
      "name": "python"
    }
  },
  "nbformat": 4,
  "nbformat_minor": 0
}